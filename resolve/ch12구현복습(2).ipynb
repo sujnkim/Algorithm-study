{
  "nbformat": 4,
  "nbformat_minor": 0,
  "metadata": {
    "colab": {
      "name": "ch12구현복습(2).ipynb",
      "provenance": [],
      "collapsed_sections": [],
      "authorship_tag": "ABX9TyOIu9Azs69ovgT1lNmUxrZV",
      "include_colab_link": true
    },
    "kernelspec": {
      "name": "python3",
      "display_name": "Python 3"
    },
    "language_info": {
      "name": "python"
    }
  },
  "cells": [
    {
      "cell_type": "markdown",
      "metadata": {
        "id": "view-in-github",
        "colab_type": "text"
      },
      "source": [
        "<a href=\"https://colab.research.google.com/github/sujnkim/Algorithm-study/blob/main/resolve/ch12%EA%B5%AC%ED%98%84%EB%B3%B5%EC%8A%B5(2).ipynb\" target=\"_parent\"><img src=\"https://colab.research.google.com/assets/colab-badge.svg\" alt=\"Open In Colab\"/></a>"
      ]
    },
    {
      "cell_type": "markdown",
      "source": [
        "### 12-11: 뱀\n",
        "문제 링크: https://www.acmicpc.net/problem/3190\n",
        "\n",
        "**INPUT:**\n",
        "* 첫째 줄에 보드의 크기 n (2<=n<=100)\n",
        "* 둘째 줄에 사과의 개수 k (0<=k<=100)\n",
        "* 다음 k개의 줄에 사과의 위치 행, 열\n",
        "* 다음 줄에 뱀의 방향 변환 횟수 l (1<=l<=100)\n",
        "* 다음 l개의 줄에 방향 변환 정보 정수 x, d\n",
        "    * 시작 후 x초 뒤에 왼쪽(L), 오른쪽(D)로 90도 회전\n",
        "\n",
        "**OUTPUT:**\n",
        "* 게임이 몇 초에 끝나는지 출력\n",
        "\n",
        "**요구사항:**\n",
        "* 시작 위치는 (1,1), 뱀의 길이는 1, 처음에는 오른쪽을 향함\n",
        "* 이동 규칙\n",
        "    * 몸길이를 늘려 머리를 다음 칸에 위치\n",
        "    * 이동한 칸에 사과가 있다면, 사과는 없어지고 꼬리는 움직이지 않음(몸 길이 1 증가)\n",
        "    * 이동한 칸에 사과가 없다면, 꼬리가 위치한 칸을 비워줌(몸길이 변화 없음)\n",
        "* 벽 또는 자기 자신의 몸과 부딪히면 게임이 종료"
      ],
      "metadata": {
        "id": "bCqHN9dAI7_h"
      }
    },
    {
      "cell_type": "code",
      "execution_count": null,
      "metadata": {
        "id": "Ox4v8CUa4k5Z"
      },
      "outputs": [],
      "source": [
        "# 예시1 => 9\n",
        "\n",
        "n = 6\n",
        "k = 3\n",
        "data = [ (3,4), (2,5), (5,3) ]\n",
        "l = 3\n",
        "move = [ (3,'D'), (15,'L'), (17,'D') ]\n"
      ]
    },
    {
      "cell_type": "code",
      "source": [
        "# 예시2 => 21\n",
        "\n",
        "n = 10\n",
        "k = 4\n",
        "data = [ (1,2), (1,3), (1,4), (1,5) ]\n",
        "l = 4\n",
        "move = [ (8,'D'), (10,'D'), (11,'D'), (13,'L')]"
      ],
      "metadata": {
        "id": "cQr-rL1JhoZV"
      },
      "execution_count": null,
      "outputs": []
    },
    {
      "cell_type": "code",
      "source": [
        "# 예시3 => 13\n",
        "\n",
        "n = 10\n",
        "k = 5\n",
        "data = [ (1,5), (1,3), (1,2), (1,6), (1,7) ]\n",
        "l = 4\n",
        "move = [ (8,'D'), (10,'D'), (11,'D'), (13,'L')]"
      ],
      "metadata": {
        "id": "jCYtTKYCiVly"
      },
      "execution_count": null,
      "outputs": []
    },
    {
      "cell_type": "code",
      "source": [
        "from collections import deque\n",
        "\n",
        "def solution():\n",
        "\n",
        "    #사과 위치를 저장할 이차원 리스트\n",
        "    apple = [ [0]*(n+1) for _ in range(n+1) ]    \n",
        "\n",
        "    # 사과 위치 표시\n",
        "    for d in data:\n",
        "        x, y = d\n",
        "        apple[x][y] = 1\n",
        "\n",
        "    # 방향전환 시간 정보 저장\n",
        "    change = []\n",
        "    for i in range(l):\n",
        "        change.append(move[i][0])\n",
        "\n",
        "    # 북, 동, 남, 서 (오른쪽 회전)\n",
        "    dx = [-1, 0, 1, 0]\n",
        "    dy = [0, 1, 0, -1]\n",
        "\n",
        "    #시작 위치\n",
        "    x, y = 1, 1\n",
        "    snake = deque([(x,y)])\n",
        "    dir = 1\n",
        "    time = 0\n",
        "\n",
        "\n",
        "    while True:\n",
        "\n",
        "        # 방향 전환\n",
        "        if time in change:\n",
        "            ndir = move[change.index(time)][1]\n",
        "            #print(time, ndir)\n",
        "            if ndir == 'L':\n",
        "                dir = (dir+4-1) % 4\n",
        "            elif ndir == 'D':\n",
        "                dir = (dir+4+1) % 4\n",
        "            #print(dir)\n",
        "\n",
        "        # 다음 칸 위치\n",
        "        nx = x + dx[dir]\n",
        "        ny = y + dy[dir]\n",
        "        time += 1\n",
        "\n",
        "        # 종료 조건 확인\n",
        "        if nx<=0 or ny<=0 or nx>n or ny>n:\n",
        "            break\n",
        "        if (nx,ny) in snake:\n",
        "            break\n",
        "\n",
        "        snake.append((nx,ny))\n",
        "\n",
        "        if apple[nx][ny] == 1:    #사과가 있다면->사과제거\n",
        "            apple[nx][ny] = 0\n",
        "        else:                   #사과가 없다면->꼬리제거\n",
        "            snake.popleft()\n",
        "\n",
        "        #print(snake)\n",
        "        x, y = nx, ny\n",
        "            \n",
        "    return time\n",
        "\n",
        "solution()"
      ],
      "metadata": {
        "colab": {
          "base_uri": "https://localhost:8080/"
        },
        "id": "HqReywXi6dHj",
        "outputId": "aebf01da-4331-4dbb-97da-bd33d3f03a9e"
      },
      "execution_count": null,
      "outputs": [
        {
          "output_type": "execute_result",
          "data": {
            "text/plain": [
              "13"
            ]
          },
          "metadata": {},
          "execution_count": 21
        }
      ]
    },
    {
      "cell_type": "markdown",
      "source": [
        "### 12-12: 기둥과 보 설치\n",
        "문제 링크: https://programmers.co.kr/learn/courses/30/lessons/60061\n",
        "\n",
        "**INPUT:**\n",
        "* 벽면의 크기n (5<=n<=100)\n",
        "* 기둥과 보를 설치/삭제하는 작업이 순서대로 담긴 2차원 배열 build_frame\n",
        "* [x,y,a,b] 형식\n",
        "* a는 구조물 종류(0:기둥, 1:보)\n",
        "* b는 작업 종류 (0:삭제, 1:설치)\n",
        "\n",
        "**OUTPUT:**\n",
        "* 명령어를 수행한 후 구조물의 상태를 return하는 solution 함수\n",
        "* [x,y,a] 형식\n",
        "* a는 구조물의 종류 (0:기둥, 1:보)\n",
        "* x 좌표 기준으로 오름차순 정렬, x좌표가 같을 경우 y좌표 기준 오름차순 정렬\n",
        "\n",
        "**요구사항:**\n",
        "* 기둥은 바닥 위에 있거나, 보의 한쪽 끝부분 위에 있거나, 다른 기둥 위에 위치\n",
        "* 보는 한쪽 끝부분이 기둥 위에 있거나, 양쪽 끝부분이 다른 보와 동시에 연결\n",
        "* 기둥과 보를 설치/삭제하는 과정에서 항상 위의 규칙을 만족시켜야 함\n",
        "* 만족시키지 않을 경우 해당 작업을 무시\n",
        "\n",
        "\n",
        "**해결방법:**\n",
        "* 일단 설치/삭제를 수행 후 확인 작업을 수행\n",
        "    * 규칙을 만족시킨 상태인지 확인하는 함수 따로 구현\n",
        "    * 규칙 만족 -> 진행 / 규칙 불만족 -> 원상복구\n"
      ],
      "metadata": {
        "id": "GTNzUuXf5E53"
      }
    },
    {
      "cell_type": "code",
      "source": [
        "# 현재 상태가 규칙을 만족하는지 확인하는 함수\n",
        "# 만족하면 True, 만족하지 않으면 False 반환\n",
        "\n",
        "def check(answer):\n",
        "\n",
        "    for x, y, struct in answer:\n",
        "\n",
        "        if struct == 0:     #기둥\n",
        "            # 바닥 or 다른 기둥 위 or 한쪽 보 위(2방향)\n",
        "            if y==0 or [x,y-1,0] in answer \\\n",
        "                    or [x-1,y,1] in answer or [x,y,1] in answer:\n",
        "                continue\n",
        "            else:\n",
        "                return False\n",
        "\n",
        "\n",
        "        if struct == 1:     #보\n",
        "            #한쪽 끝이 기둥 위(2가지) or 양쪽이 다른 보와 연결(양쪽비교)\n",
        "            if [x,y-1,0] in answer or [x+1,y-1,0] in answer \\\n",
        "                or ([x-1,y,1] in answer and [x+1,y,1] in answer):\n",
        "                continue\n",
        "            else:\n",
        "                return False\n",
        "\n",
        "    return True"
      ],
      "metadata": {
        "id": "VLqlSPSk1_n6"
      },
      "execution_count": null,
      "outputs": []
    },
    {
      "cell_type": "code",
      "source": [
        "def solution(n, build_frame):\n",
        "    answer = []\n",
        "\n",
        "\n",
        "    for build in build_frame:\n",
        "        x, y, struct, do = build\n",
        "        \n",
        "        if do ==1:     #설치명령\n",
        "            answer.append([x,y,struct])     #일단 설치\n",
        "\n",
        "            if check(answer) == False:\n",
        "                answer.remove([x,y,struct]) # 규칙위반->삭제\n",
        "\n",
        "\n",
        "        if do == 0:     #삭제명령\n",
        "            answer.remove([x,y,struct])     #일단 삭제\n",
        "\n",
        "            if check(answer) == False:\n",
        "                answer.append([x,y,struct]) #규칙위반->재설치\n",
        "\n",
        "    #결과 정렬\n",
        "    answer.sort()\n",
        "\n",
        "    return answer"
      ],
      "metadata": {
        "id": "18QDPhf-zVR4"
      },
      "execution_count": null,
      "outputs": []
    },
    {
      "cell_type": "code",
      "source": [
        "#예시1\n",
        "\n",
        "n = 5\n",
        "build_frame = [\n",
        "    [1,0,0,1], [1,1,1,1], [2,1,0,1],\n",
        "    [2,2,1,1], [5,0,0,1], [5,1,0,1],\n",
        "    [4,2,1,1], [3,2,1,1]\n",
        "]\n",
        "\n",
        "print(solution(n, build_frame))"
      ],
      "metadata": {
        "id": "ZFpodG5V5F7b",
        "colab": {
          "base_uri": "https://localhost:8080/"
        },
        "outputId": "69f1418b-375a-43e6-fb66-b4d003bec5e0"
      },
      "execution_count": null,
      "outputs": [
        {
          "output_type": "stream",
          "name": "stdout",
          "text": [
            "[[1, 0, 0], [1, 1, 1], [2, 1, 0], [2, 2, 1], [3, 2, 1], [4, 2, 1], [5, 0, 0], [5, 1, 0]]\n"
          ]
        }
      ]
    },
    {
      "cell_type": "code",
      "source": [
        "#예시2\n",
        "\n",
        "n = 5\n",
        "build_frame = [\n",
        "    [0,0,0,1], [2,0,0,1], [4,0,0,1],\n",
        "    [0,1,1,1], [1,1,1,1], [2,1,1,1], [3,1,1,1],\n",
        "    [2,0,0,0], [1,1,1,0], [2,2,0,1]\n",
        "]\n",
        "\n",
        "print(solution(n, build_frame))"
      ],
      "metadata": {
        "id": "F2OM3UptAfyR",
        "colab": {
          "base_uri": "https://localhost:8080/"
        },
        "outputId": "f63fb7e5-0f83-496b-9cb9-82c11004e67a"
      },
      "execution_count": null,
      "outputs": [
        {
          "output_type": "stream",
          "name": "stdout",
          "text": [
            "[[0, 0, 0], [0, 1, 1], [1, 1, 1], [2, 1, 1], [3, 1, 1], [4, 0, 0]]\n"
          ]
        }
      ]
    },
    {
      "cell_type": "markdown",
      "source": [
        "### 12-13: 치킨 배달\n",
        "문제 링크: https://www.acmicpc.net/problem/15686\n",
        "\n",
        "**INPUT:**\n",
        "* 첫째 줄에 도시 크기 n(2<=n<=50), 선택할 치킨집 개수 m(1<=m<=13)\n",
        "* 둘째 줄부터 n개의 줄에 도시의 정보\n",
        "    * 0: 빈칸, 1: 집, 2: 치킨집\n",
        "    * 1<= 치킨집 개수<=2n\n",
        "\n",
        "**OUTPUT:**\n",
        "* 폐업시키지 않을 치킨집을 최대 m개 골랐을 때, 도시의 치킨 거리 최솟값 출력\n",
        "\n",
        "**요구사항:**\n",
        "* 도시의 칸은 (r,c)로 표현\n",
        "* r, c는 1부터 시작\n",
        "* 치킨거리 = 집과 가장 가까운 치킨집 사이의 거리\n",
        "* 도시의 치킨 거리 = 모든 집의 치킨 거리의 합\n",
        "* 거리는 각 좌표 차이의 절대값의 합\n",
        "    * (r1, c1)과 (r2,c2)의 거리 = |r1-r2| + |c1-c2|\n",
        "\n",
        "\n",
        "\n",
        "**해결방법:**\n",
        "* 전체 치킨집 중 m개를 골라 도시의 치킨 거리를 계산해야 함\n",
        "* 전체 중 m개를 고르는 경우의 수 => combination\n"
      ],
      "metadata": {
        "id": "tkX_bjOKVA4E"
      }
    },
    {
      "cell_type": "code",
      "source": [
        "from itertools import combinations\n",
        "\n",
        "def solution(n, m, data):\n",
        "    \n",
        "    chicken = []\n",
        "    house = []\n",
        "\n",
        "    # 집, 치킨집 좌표 저장 리스트\n",
        "    for i in range(n):\n",
        "        for j in range(n):\n",
        "            if data[i][j] == 2:\n",
        "                chicken.append((i,j))\n",
        "            if data[i][j] == 1:\n",
        "                house.append((i,j))\n",
        "    \n",
        "    #solve\n",
        "    result = 1e9    # 도시 치킨 거리의 최소값\n",
        "\n",
        "\n",
        "    # m개의 치킨집 조합에 대해 도시 치킨 거리 계산\n",
        "    for selected in combinations(chicken, m):\n",
        "\n",
        "        city_dist = 0\n",
        "\n",
        "        # 각 집에 대하여 치킨 거리 계산\n",
        "        for r1, c1 in house:\n",
        "            chicken_dist = 2*n\n",
        "            for r2, c2 in selected:     #각 집의 치킨 거리 계산\n",
        "                chicken_dist = min(chicken_dist, abs(r1-r2)+abs(c1-c2) )\n",
        "        \n",
        "            city_dist += chicken_dist\n",
        "\n",
        "\n",
        "        result = min(result, city_dist)\n",
        "\n",
        "    \n",
        "    return result"
      ],
      "metadata": {
        "id": "MQXWBJM4VAf5"
      },
      "execution_count": null,
      "outputs": []
    },
    {
      "cell_type": "code",
      "source": [
        "#예시1\n",
        "\n",
        "n, m = 5, 3\n",
        "data = [\n",
        "    [0,0,1,0,0],\n",
        "    [0,0,2,0,1],\n",
        "    [0,1,2,0,0],\n",
        "    [0,0,1,0,0],\n",
        "    [0,0,0,0,2]\n",
        "]\n",
        "\n",
        "print(solution(n,m,data))"
      ],
      "metadata": {
        "colab": {
          "base_uri": "https://localhost:8080/"
        },
        "id": "nTrB7-QSWhYL",
        "outputId": "b001d5bb-415d-4250-e32c-72abb4774208"
      },
      "execution_count": null,
      "outputs": [
        {
          "output_type": "stream",
          "name": "stdout",
          "text": [
            "5\n"
          ]
        }
      ]
    },
    {
      "cell_type": "code",
      "source": [
        "#예시2\n",
        "\n",
        "n, m = 5, 2\n",
        "data = [\n",
        "    [0,2,0,1,0],\n",
        "    [1,0,1,0,0],\n",
        "    [0,0,0,0,0],\n",
        "    [2,0,0,1,1],\n",
        "    [2,2,0,1,2]\n",
        "]\n",
        "\n",
        "print(solution(n,m,data))"
      ],
      "metadata": {
        "colab": {
          "base_uri": "https://localhost:8080/"
        },
        "id": "cPVMNkOMWv3O",
        "outputId": "f87ff281-a099-4774-d65f-d547f22f948a"
      },
      "execution_count": null,
      "outputs": [
        {
          "output_type": "stream",
          "name": "stdout",
          "text": [
            "10\n"
          ]
        }
      ]
    },
    {
      "cell_type": "code",
      "source": [
        "#예시3\n",
        "\n",
        "n, m = 5, 1\n",
        "data = [\n",
        "    [1,2,0,0,0],\n",
        "    [1,2,0,0,0],\n",
        "    [1,2,0,0,0],\n",
        "    [1,2,0,0,0],\n",
        "    [1,2,0,0,0]\n",
        "]\n",
        "\n",
        "print(solution(n,m,data))"
      ],
      "metadata": {
        "colab": {
          "base_uri": "https://localhost:8080/"
        },
        "id": "6nsYaNTMW7wT",
        "outputId": "543c3789-b8ab-4b03-f64b-21411135e692"
      },
      "execution_count": null,
      "outputs": [
        {
          "output_type": "stream",
          "name": "stdout",
          "text": [
            "11\n"
          ]
        }
      ]
    },
    {
      "cell_type": "markdown",
      "source": [
        "### 12-14: 외벽 점검\n",
        "문제 링크: https://programmers.co.kr/learn/courses/30/lessons/60062\n",
        "\n",
        "\n",
        "**INPUT:**\n",
        "* 외벽의 길이 n (1<=n<=200)\n",
        "* 취약 지점 위치가 담긴 배열 weak (1<=weak의 길이<=15)\n",
        "    * 서로 다른 두 취약점의 위치는 같지 않음\n",
        "    * 취약 지점 위치는 오름차순으로 정렬되어 있음\n",
        "    * weak의 원소는 0이상 n-1이하 정수\n",
        "* 각 친구가 1시간 동안 이동할 수 있는 거리가 담긴 배열 dist\n",
        "    * 1 <= dist길이 <= 8\n",
        "    * dist의 원소는 1이상 100이하 정수\n",
        "\n",
        "\n",
        "**OUTPUT:**\n",
        "* 취약 지점을 점검하기 위해 보내야하는 친구 수의 최솟값을 return하는 solution함수 완성\n",
        "* 친구를 모두 투입해도 취약 지점을 전부 점검할 수 없는 경우 -1 return\n",
        "\n",
        "**요구사항:**\n",
        "* 레스토랑 구조는 원형\n",
        "* 정북 방향을 0으로 설정\n",
        "* 취약 지점 위치는 정북 방향을 기준으로 시계방향으로 떨어진 거리를 의미\n",
        "* 친구들은 출발 지점에서 시계 or 반시계 방향으로 외벽을 따라 이동"
      ],
      "metadata": {
        "id": "PXk8YLFyX23m"
      }
    },
    {
      "cell_type": "code",
      "source": [
        "from itertools import permutations\n",
        "\n",
        "def solution(n, weak, dist):\n",
        "    \n",
        "    # 길이를 2배로 늘려 원형을 일자로 표현\n",
        "    length = len(weak)\n",
        "    for i in range(length):\n",
        "        weak.append(weak[i]+n)\n",
        "\n",
        "\n",
        "    result = len(dist) + 1      # 최대 인원수 + 1로 초기화\n",
        "\n",
        "    # 각 weak 지점을 시작점으로 설정\n",
        "    for start in range(length):\n",
        "\n",
        "        #친구를 나열하는 모든 경우에 수에 대해 확인\n",
        "        for friends in list(permutations(dist, len(dist))):\n",
        "            count = 1\n",
        "\n",
        "            #해당 친구가 점검할 수 있는 마지막 위치\n",
        "            position = weak[start] + friends[count-1]\n",
        "\n",
        "            #시작점부터 모든 취약점 확인\n",
        "            for index in range(start, start+length):\n",
        "                #점검 위치를 벗어나는 경우\n",
        "                if position < weak[index]:\n",
        "                    #친구 추가\n",
        "                    count += 1\n",
        "                    \n",
        "                    if count > len(dist):   #투입이 불가능한 경우, 종료\n",
        "                        break\n",
        "\n",
        "                    position = weak[index] + friends[count-1]\n",
        "\n",
        "            result = min(result, count)\n",
        "\n",
        "    if result > len(dist):\n",
        "        return -1\n",
        "\n",
        "    return result"
      ],
      "metadata": {
        "id": "Dqflw3_Fi3cC"
      },
      "execution_count": 2,
      "outputs": []
    },
    {
      "cell_type": "code",
      "source": [
        "#예시1\n",
        "\n",
        "n=12\n",
        "weak = [1,5,6,10]\n",
        "dist = [1,2,3,4]\n",
        "\n",
        "print(solution(n, weak, dist))"
      ],
      "metadata": {
        "colab": {
          "base_uri": "https://localhost:8080/"
        },
        "id": "R08toixUXzx2",
        "outputId": "d0f03b3b-1f4b-45ef-d964-34fda5b5863e"
      },
      "execution_count": 3,
      "outputs": [
        {
          "output_type": "stream",
          "name": "stdout",
          "text": [
            "2\n"
          ]
        }
      ]
    },
    {
      "cell_type": "code",
      "source": [
        "#예시2\n",
        "\n",
        "n=12\n",
        "weak = [1,3,4,9,10]\n",
        "dist = [3,5,7]\n",
        "\n",
        "print(solution(n, weak, dist))"
      ],
      "metadata": {
        "colab": {
          "base_uri": "https://localhost:8080/"
        },
        "id": "hz8DLLenikS-",
        "outputId": "9822d78b-ea58-47bf-ecff-6390d93f5a3e"
      },
      "execution_count": 4,
      "outputs": [
        {
          "output_type": "stream",
          "name": "stdout",
          "text": [
            "1\n"
          ]
        }
      ]
    }
  ]
}