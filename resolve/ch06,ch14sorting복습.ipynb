{
  "nbformat": 4,
  "nbformat_minor": 0,
  "metadata": {
    "colab": {
      "name": "ch06,ch14sorting복습.ipynb",
      "provenance": [],
      "authorship_tag": "ABX9TyM1wG7HfVfyMUhmjtTb00Yr",
      "include_colab_link": true
    },
    "kernelspec": {
      "name": "python3",
      "display_name": "Python 3"
    },
    "language_info": {
      "name": "python"
    }
  },
  "cells": [
    {
      "cell_type": "markdown",
      "metadata": {
        "id": "view-in-github",
        "colab_type": "text"
      },
      "source": [
        "<a href=\"https://colab.research.google.com/github/sujnkim/Algorithm-study/blob/main/resolve/ch06%2Cch14sorting%EB%B3%B5%EC%8A%B5.ipynb\" target=\"_parent\"><img src=\"https://colab.research.google.com/assets/colab-badge.svg\" alt=\"Open In Colab\"/></a>"
      ]
    },
    {
      "cell_type": "markdown",
      "source": [
        "### 6-10: 위에서 아래로\n",
        "\n",
        "수열을 내림차순으로 정렬하는 프로그램"
      ],
      "metadata": {
        "id": "vV5Ul2k7FF2z"
      }
    },
    {
      "cell_type": "code",
      "execution_count": 3,
      "metadata": {
        "id": "EXXwp6ErE9bA"
      },
      "outputs": [],
      "source": [
        "n = 3\n",
        "array = [15, 27, 12]"
      ]
    },
    {
      "cell_type": "code",
      "source": [
        "array = sorted(array, reverse=True)\n",
        "\n",
        "print(*array)"
      ],
      "metadata": {
        "colab": {
          "base_uri": "https://localhost:8080/"
        },
        "id": "ga7AVueOFVKG",
        "outputId": "60575067-81e0-40cd-b80d-3530207642ee"
      },
      "execution_count": 6,
      "outputs": [
        {
          "output_type": "stream",
          "name": "stdout",
          "text": [
            "27 15 12\n"
          ]
        }
      ]
    },
    {
      "cell_type": "markdown",
      "source": [
        "### 6-11: 성적이 낮은 순서로 학생 출력\n",
        "\n",
        "학생 이름과 성적 정보가 주어졌을 때 성적이 낮은 순서로 학생 이름 출력하기"
      ],
      "metadata": {
        "id": "_y5knlyyFvKH"
      }
    },
    {
      "cell_type": "code",
      "source": [
        "n = 2\n",
        "array = [('홍길동', 95), ('이순신', 77)]"
      ],
      "metadata": {
        "id": "UX7VMoWkF7_J"
      },
      "execution_count": 7,
      "outputs": []
    },
    {
      "cell_type": "code",
      "source": [
        "array = sorted(array, key=lambda student: student[1])\n",
        "\n",
        "for student in array:\n",
        "    print(student[0], end=' ')"
      ],
      "metadata": {
        "colab": {
          "base_uri": "https://localhost:8080/"
        },
        "id": "M-k9af4xGCpz",
        "outputId": "6c2ffe1c-4299-48d9-9ff3-c955e410207f"
      },
      "execution_count": 11,
      "outputs": [
        {
          "output_type": "stream",
          "name": "stdout",
          "text": [
            "이순신 홍길동 "
          ]
        }
      ]
    },
    {
      "cell_type": "markdown",
      "source": [
        "### 6-12: 두 배열의 원소 교체\n",
        "\n",
        "k번 바꿔치기를 수행하여 배열 a의 모든 원소 합이 최대가 되도록 만들기\n",
        "=> a의 작은 것과 b의 큰 것을 교환"
      ],
      "metadata": {
        "id": "EOdBCbzYG1xb"
      }
    },
    {
      "cell_type": "code",
      "source": [
        "n = 5   #원소 개수\n",
        "k = 3   #최대 바뀌치기 횟수\n",
        "\n",
        "a = [1,2,5,4,3]\n",
        "b = [5,5,6,6,5]"
      ],
      "metadata": {
        "id": "J4hd5zgsXHrR"
      },
      "execution_count": 12,
      "outputs": []
    },
    {
      "cell_type": "code",
      "source": [
        "a.sort()\n",
        "b.sort(reverse=True)\n",
        "\n",
        "for i in range(k):\n",
        "    if a[i] < b[i]:\n",
        "        a[i], b[i] = b[i], a[i]\n",
        "    else:\n",
        "        break\n",
        "\n",
        "print(sum(a))"
      ],
      "metadata": {
        "colab": {
          "base_uri": "https://localhost:8080/"
        },
        "id": "QBUta7mrXUmt",
        "outputId": "a809832c-ac72-4281-8c8d-dcd3310b1fcd"
      },
      "execution_count": 13,
      "outputs": [
        {
          "output_type": "stream",
          "name": "stdout",
          "text": [
            "26\n"
          ]
        }
      ]
    },
    {
      "cell_type": "markdown",
      "source": [
        "### 14-26: 국영수\n",
        "\n",
        "n명의 이름과 국어, 영어, 수학 점수가 주어질 때 학생의 성적을 정렬하는 프로그램.\n",
        "* 국어 점수 내림차순\n",
        "* 국어점수가 같으면, 영어 점수 오름차순\n",
        "* 국어, 영어가 모두 같으면 수학 점수 내림차순\n",
        "* 모든 점수가 같으면 이름 사전순 증가"
      ],
      "metadata": {
        "id": "96YbUyiIYWZ5"
      }
    },
    {
      "cell_type": "code",
      "source": [
        "n = 12\n",
        "\n",
        "array=[\n",
        "    ('Junkyu', 50, 60, 100),\n",
        "    ('Sangkeun', 80, 60, 50),\n",
        "    ('Sunyoung', 80, 70, 100),\n",
        "    ('Soong', 50, 60, 90),\n",
        "    ('Haebin', 50, 60, 100),\n",
        "    ('Kangsoo', 60, 80, 100),\n",
        "    ('Donghyuk', 80, 60, 100),\n",
        "    ('Sei', 70, 70, 70),\n",
        "    ('Wonseob', 70, 70, 90),\n",
        "    ('Sanghyun', 70, 70, 80),\n",
        "    ('nsj', 80, 80, 80),\n",
        "    ('Taewhan', 50, 60, 90)\n",
        "]"
      ],
      "metadata": {
        "id": "30nMRNQhYp6i"
      },
      "execution_count": 15,
      "outputs": []
    },
    {
      "cell_type": "code",
      "source": [
        "array.sort(key= lambda x: (-x[1], x[2], -x[3], x[0]) )\n",
        "\n",
        "for student in array:\n",
        "    print(student[0])"
      ],
      "metadata": {
        "colab": {
          "base_uri": "https://localhost:8080/"
        },
        "id": "9QWYjy5QZWUE",
        "outputId": "fb43a2d1-e147-451f-bc8e-35c2ae968365"
      },
      "execution_count": 16,
      "outputs": [
        {
          "output_type": "stream",
          "name": "stdout",
          "text": [
            "Donghyuk\n",
            "Sangkeun\n",
            "Sunyoung\n",
            "nsj\n",
            "Wonseob\n",
            "Sanghyun\n",
            "Sei\n",
            "Kangsoo\n",
            "Haebin\n",
            "Junkyu\n",
            "Soong\n",
            "Taewhan\n"
          ]
        }
      ]
    },
    {
      "cell_type": "markdown",
      "source": [
        "### 14-24: 안테나\n",
        "\n",
        "안테나로부터 모든 집까지의 거리의 총합이 최소가 되도록 설치"
      ],
      "metadata": {
        "id": "1NJgJim3aY2H"
      }
    },
    {
      "cell_type": "code",
      "source": [
        "n = 4\n",
        "houses = [5, 1, 7, 9]"
      ],
      "metadata": {
        "id": "nWKX4JJSehlM"
      },
      "execution_count": 17,
      "outputs": []
    },
    {
      "cell_type": "code",
      "source": [
        "houses.sort()\n",
        "\n",
        "print(houses[(n-1)//2])"
      ],
      "metadata": {
        "colab": {
          "base_uri": "https://localhost:8080/"
        },
        "id": "4vBf1f-Zeldb",
        "outputId": "239cdbe3-b68c-4fba-dd64-4a75110561e7"
      },
      "execution_count": 19,
      "outputs": [
        {
          "output_type": "stream",
          "name": "stdout",
          "text": [
            "5\n"
          ]
        }
      ]
    },
    {
      "cell_type": "markdown",
      "source": [
        "### 14-25: 실패율\n",
        "\n",
        "실패율을 구하는 코드 작성\n",
        "* 스테이지에 도달했으나 아직 클리어하지 못한 플레이어 수 / 스테이지에 도달한 플레이어 수"
      ],
      "metadata": {
        "id": "R3mvOaBmfp8y"
      }
    },
    {
      "cell_type": "code",
      "source": [
        "def solution(n, stages):\n",
        "\n",
        "    stage_cnt = [0] * (n+2)\n",
        "    calc_result = []\n",
        "    total = len(stages)\n",
        "\n",
        "    for i in stages:\n",
        "        stage_cnt[i] += 1\n",
        "\n",
        "    for i in range(1, n+1):\n",
        "        calc = stage_cnt[i] / total\n",
        "\n",
        "        calc_result.append((calc, i))\n",
        "        total -= stage_cnt[i]\n",
        "\n",
        "    calc_result.sort(key = lambda x: (-x[0], x[1]))\n",
        "\n",
        "\n",
        "    result = []\n",
        "    for t in calc_result:\n",
        "        result.append(t[1])\n",
        "\n",
        "    return result"
      ],
      "metadata": {
        "id": "9XCaLU6SgBlQ"
      },
      "execution_count": 29,
      "outputs": []
    },
    {
      "cell_type": "code",
      "source": [
        "# 책 답안 코드\n",
        "\n",
        "def solution(n, stages):\n",
        "    result = []\n",
        "    total = len(stages)\n",
        "\n",
        "    for i in range(1, n+1):\n",
        "        count = stages.count(i)\n",
        "\n",
        "        if total == 0:\n",
        "            fail = 0\n",
        "        else:\n",
        "            fail = count / total\n",
        "\n",
        "        result.append((i, fail))\n",
        "        total -= count\n",
        "\n",
        "    result.sort(key=lambda t: t[1], reverse=True)\n",
        "\n",
        "    result = [i[0] for i in result]\n",
        "    return result"
      ],
      "metadata": {
        "id": "OzaKbTJT6sHr"
      },
      "execution_count": 32,
      "outputs": []
    },
    {
      "cell_type": "code",
      "source": [
        "n = 5\n",
        "stages = [2,1,2,6,2,4,3,3]\n",
        "\n",
        "print(solution(n, stages))"
      ],
      "metadata": {
        "colab": {
          "base_uri": "https://localhost:8080/"
        },
        "id": "piYai-3Qf3l3",
        "outputId": "db89c49d-f3e3-4099-935f-30a6d76bb89e"
      },
      "execution_count": 33,
      "outputs": [
        {
          "output_type": "stream",
          "name": "stdout",
          "text": [
            "[3, 4, 2, 1, 5]\n"
          ]
        }
      ]
    },
    {
      "cell_type": "code",
      "source": [
        "n=4\n",
        "stages = [4,4,4,4,4]\n",
        "\n",
        "print(solution(n, stages))"
      ],
      "metadata": {
        "colab": {
          "base_uri": "https://localhost:8080/"
        },
        "id": "AHMo_rgNf_Hd",
        "outputId": "99304634-9363-4812-b843-2dd470c764dd"
      },
      "execution_count": 34,
      "outputs": [
        {
          "output_type": "stream",
          "name": "stdout",
          "text": [
            "[4, 1, 2, 3]\n"
          ]
        }
      ]
    },
    {
      "cell_type": "markdown",
      "source": [
        "### 14-26: 카드 정렬하기\n",
        "\n",
        "카드 묶음 a, b를 합칠 때 최소 몇 번을 비교해야 하는지 계산\n",
        "=> 항상 가장 작은 두 개를 뽑으면 됨"
      ],
      "metadata": {
        "id": "21wvf9t-71ue"
      }
    },
    {
      "cell_type": "code",
      "source": [
        "n = 3\n",
        "array = [10, 20, 40]"
      ],
      "metadata": {
        "id": "UlaB40rW8GAi"
      },
      "execution_count": 1,
      "outputs": []
    },
    {
      "cell_type": "code",
      "source": [
        "import heapq\n",
        "\n",
        "heap = []\n",
        "for i in range(n):\n",
        "    heapq.heappush(heap, array[i])\n",
        "\n",
        "result = 0\n",
        "while len(heap)!=1:\n",
        "    one = heapq.heappop(heap)\n",
        "    two = heapq.heappop(heap)\n",
        "    calc = one + two\n",
        "    heapq.heappush(heap, calc)\n",
        "\n",
        "    result += calc\n",
        "\n",
        "print(result)"
      ],
      "metadata": {
        "colab": {
          "base_uri": "https://localhost:8080/"
        },
        "id": "jvhOKe298KE8",
        "outputId": "dde5993c-f4b0-4c76-84b6-09e378b52fc1"
      },
      "execution_count": 2,
      "outputs": [
        {
          "output_type": "stream",
          "name": "stdout",
          "text": [
            "100\n"
          ]
        }
      ]
    },
    {
      "cell_type": "markdown",
      "source": [
        "### 백준 2750: 수 정렬하기\n",
        "\n",
        "N개의 수가 주어졌을 때, 이를 오름차순으로 정렬하는 프로그램을 작성하시오"
      ],
      "metadata": {
        "id": "h64RFFIS8hOb"
      }
    },
    {
      "cell_type": "code",
      "source": [
        "n = 5\n",
        "array = [5,2,3,4,1]\n",
        "\n",
        "array.sort()\n",
        "\n",
        "for i in range(5):\n",
        "    print(array[i])"
      ],
      "metadata": {
        "colab": {
          "base_uri": "https://localhost:8080/"
        },
        "id": "2ZX8yxJm9CPS",
        "outputId": "a43a13e2-a40c-4986-f88b-8dd4f2cf9e9c"
      },
      "execution_count": 37,
      "outputs": [
        {
          "output_type": "stream",
          "name": "stdout",
          "text": [
            "1\n",
            "2\n",
            "3\n",
            "4\n",
            "5\n"
          ]
        }
      ]
    }
  ]
}