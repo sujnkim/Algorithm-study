{
  "nbformat": 4,
  "nbformat_minor": 0,
  "metadata": {
    "colab": {
      "name": "ch05DFS/BFS복습.ipynb",
      "provenance": [],
      "collapsed_sections": [],
      "authorship_tag": "ABX9TyNWyh08P2xuZ+1mb+GYYQHW",
      "include_colab_link": true
    },
    "kernelspec": {
      "name": "python3",
      "display_name": "Python 3"
    },
    "language_info": {
      "name": "python"
    }
  },
  "cells": [
    {
      "cell_type": "markdown",
      "metadata": {
        "id": "view-in-github",
        "colab_type": "text"
      },
      "source": [
        "<a href=\"https://colab.research.google.com/github/sujnkim/Algorithm-study/blob/main/resolve/ch05DFS_BFS%EB%B3%B5%EC%8A%B5.ipynb\" target=\"_parent\"><img src=\"https://colab.research.google.com/assets/colab-badge.svg\" alt=\"Open In Colab\"/></a>"
      ]
    },
    {
      "cell_type": "code",
      "execution_count": 4,
      "metadata": {
        "colab": {
          "base_uri": "https://localhost:8080/"
        },
        "id": "ZiHr1kC_Ehkf",
        "outputId": "aa1fd2bd-ad3d-4279-9f5b-edbeec3b2eeb"
      },
      "outputs": [
        {
          "output_type": "stream",
          "name": "stdout",
          "text": [
            "1 2 7 6 8 3 4 5 "
          ]
        }
      ],
      "source": [
        "# 깊이우선탐색DFS: Depth-First Search\n",
        "\n",
        "def dfs(graph, v, visited):\n",
        "    visited[v] = True\n",
        "    print(v, end = ' ')\n",
        "\n",
        "    for i in graph[v]:\n",
        "        if not visited[i]:\n",
        "            dfs(graph, i, visited)\n",
        "\n",
        "\n",
        "# 인접 리스트 방식\n",
        "graph = [\n",
        "    [],\n",
        "    [2,3,8],\n",
        "    [1,7],\n",
        "    [1,4,5],\n",
        "    [3,5],\n",
        "    [3,4],\n",
        "    [7],\n",
        "    [2,6,8],\n",
        "    [1,7]\n",
        "]\n",
        "\n",
        "visited = [False] * 9\n",
        "\n",
        "dfs(graph, 1, visited)"
      ]
    },
    {
      "cell_type": "code",
      "source": [
        "# 너비우선탐색BFS: Breadth-First Search\n",
        "\n",
        "from collections import deque\n",
        "\n",
        "def bfs(graph, start, visited):\n",
        "    que = deque()\n",
        "    que.append(start)\n",
        "    visited[start] = True\n",
        "\n",
        "    while que:\n",
        "        v = que.popleft()\n",
        "        print(v, end=' ')\n",
        "\n",
        "        for i in graph[v]:\n",
        "            if not visited[i]:\n",
        "                que.append(i)\n",
        "                visited[i] = True\n",
        "\n",
        "# 인접 리스트 방식\n",
        "graph = [\n",
        "    [],\n",
        "    [2,3,8],\n",
        "    [1,7],\n",
        "    [1,4,5],\n",
        "    [3,5],\n",
        "    [3,4],\n",
        "    [7],\n",
        "    [2,6,8],\n",
        "    [1,7]\n",
        "]\n",
        "\n",
        "visited = [False] * 9\n",
        "\n",
        "bfs(graph, 1, visited)"
      ],
      "metadata": {
        "colab": {
          "base_uri": "https://localhost:8080/"
        },
        "id": "jJjgJ4ALPnSM",
        "outputId": "d851ac39-1a7a-4a24-ca85-15d4b2dccefe"
      },
      "execution_count": 2,
      "outputs": [
        {
          "output_type": "stream",
          "name": "stdout",
          "text": [
            "1 2 3 8 7 4 5 6 "
          ]
        }
      ]
    },
    {
      "cell_type": "markdown",
      "source": [
        "---\n",
        "### 5-10: 음료수 얼려먹기\n",
        "\n",
        "INPUT:\n",
        "* 첫째 줄에 얼음의 틀 세로길이N, 가로길이M (1<=N,M<=1000)\n",
        "* 두번째 줄부터 N+1번째 줄까지 얼음틀 형태\n",
        "    * 구멍이 뚫린 부분은 0, 아닌 부분은 1\n",
        "\n",
        "OUTPUT:\n",
        "* 한 번에 만들 수 있는 아이스크림 개수 출력"
      ],
      "metadata": {
        "id": "DIopUoZkhrMF"
      }
    },
    {
      "cell_type": "code",
      "source": [
        "n, m = 4, 5\n",
        "data = [\n",
        "    [0,0,1,1,0],\n",
        "    [0,0,0,1,1],\n",
        "    [1,1,1,1,1],\n",
        "    [0,0,0,0,0]\n",
        "]"
      ],
      "metadata": {
        "id": "gSVcrfv_hnaf"
      },
      "execution_count": 25,
      "outputs": []
    },
    {
      "cell_type": "code",
      "source": [
        "#BFS로 풀기\n",
        "\n",
        "from collections import deque\n",
        "\n",
        "dx = [-1, 0, 1, 0]\n",
        "dy = [0, 1, 0, -1]\n",
        "\n",
        "def bfs(x, y, visited):\n",
        "    que = deque()\n",
        "    que.append((x, y))\n",
        "    visited[x][y] = 1\n",
        "\n",
        "    while que:\n",
        "        x, y = que.popleft()\n",
        "\n",
        "        for i in range(4):\n",
        "            nx = x + dx[i]\n",
        "            ny = y + dy[i]\n",
        "\n",
        "            if 0<=nx<n and 0<=ny<m \\\n",
        "                and visited[nx][ny]==0 and data[nx][ny]==0:\n",
        "                visited[nx][ny] = 1\n",
        "                que.append((nx, ny))\n",
        "\n",
        "\n",
        "visited = [ [0]*m for _ in range(n) ]\n",
        "\n",
        "result = 0\n",
        "for i in range(n):\n",
        "    for j in range(m):\n",
        "        if data[i][j]==0 and visited[i][j]==0:\n",
        "            bfs(i, j, visited)\n",
        "            result += 1\n",
        "\n",
        "print(result)"
      ],
      "metadata": {
        "colab": {
          "base_uri": "https://localhost:8080/"
        },
        "id": "R0SYYEZUl6Ej",
        "outputId": "3dc7f2fb-a0fe-449c-f998-547920093755"
      },
      "execution_count": 10,
      "outputs": [
        {
          "output_type": "stream",
          "name": "stdout",
          "text": [
            "3\n"
          ]
        }
      ]
    },
    {
      "cell_type": "code",
      "source": [
        "#DFS로 풀기\n",
        "\n",
        "dx = [-1, 0, 1, 0]\n",
        "dy = [0, 1, 0, -1]\n",
        "\n",
        "def dfs(x, y):\n",
        "\n",
        "    if x<=-1 or x>=n or y<=-1 or y>=m:\n",
        "        return False\n",
        "\n",
        "    if data[x][y] == 0:\n",
        "        data[x][y] = 1\n",
        "        \n",
        "        \"\"\"\n",
        "        dfs(x-1, y)\n",
        "        dfs(x, y-1)\n",
        "        dfs(x+1, y)\n",
        "        dfs(x, y+1)\n",
        "        \"\"\"\n",
        "\n",
        "        for i in range(4):\n",
        "            nx = x + dx[i]\n",
        "            ny = y + dy[i]\n",
        "            dfs(nx, ny)\n",
        "        \n",
        "        return True\n",
        "\n",
        "    return False\n",
        "\n",
        "result = 0\n",
        "for i in range(n):\n",
        "    for j in range(m):\n",
        "        if dfs(i, j)==True:\n",
        "            result += 1\n",
        "\n",
        "print(result)"
      ],
      "metadata": {
        "colab": {
          "base_uri": "https://localhost:8080/"
        },
        "id": "bUrd9hhZmFma",
        "outputId": "028a2aee-87f1-4c99-b29a-ce0803292f1f"
      },
      "execution_count": 26,
      "outputs": [
        {
          "output_type": "stream",
          "name": "stdout",
          "text": [
            "3\n"
          ]
        }
      ]
    },
    {
      "cell_type": "markdown",
      "source": [
        "---\n",
        "### 5-11: 미로 탈출\n",
        "\n",
        "INPUT:\n",
        "* 첫째 줄에 두 정수 n, m (4<=n,m<=200)\n",
        "* 다음 n개의 줄에 미로의 정보\n",
        "    * 각각 m개의 정수(0 혹은 1)\n",
        "    * 시작과 끝 칸은 항상 1\n",
        "\n",
        "OUTPUT:\n",
        "* 첫째 줄에 최소 이동 칸의 개수 출력\n",
        "\n",
        "추가 정보\n",
        "* 시작 위치는 항상 (1,1)\n",
        "* 미로의 출구는 (n,m)\n",
        "* 한 번에 한 칸씩 이동 가능\n",
        "* 괴물이 있는 부분은 0, 없는 부분은 1"
      ],
      "metadata": {
        "id": "VjLR-A-RowKM"
      }
    },
    {
      "cell_type": "code",
      "source": [
        "n, m = 5, 6\n",
        "data = [\n",
        "    [1,0,1,0,1,0],\n",
        "    [1,1,1,1,1,1],\n",
        "    [0,0,0,0,0,1],\n",
        "    [1,1,1,1,1,1],\n",
        "    [1,1,1,1,1,1]\n",
        "]"
      ],
      "metadata": {
        "id": "-Euf-wiBpEkx"
      },
      "execution_count": 42,
      "outputs": []
    },
    {
      "cell_type": "code",
      "source": [
        "from collections import deque\n",
        "\n",
        "\n",
        "dx = [-1, 0, 1, 0]\n",
        "dy = [0, 1, 0, -1]\n",
        "\n",
        "def bfs(x, y):\n",
        "    que = deque()\n",
        "    que.append((x, y))\n",
        "\n",
        "    while que:\n",
        "        x, y = que.popleft()\n",
        "\n",
        "        for i in range(4):\n",
        "            nx = x + dx[i]\n",
        "            ny = y + dy[i]\n",
        "\n",
        "            if 0<=nx<n and 0<=ny<m and data[nx][ny]==1:\n",
        "                data[nx][ny] = data[x][y] + 1\n",
        "                bfs(nx, ny)\n",
        "\n",
        "    return data[n-1][m-1]\n",
        "\n",
        "print(bfs(0, 0))"
      ],
      "metadata": {
        "colab": {
          "base_uri": "https://localhost:8080/"
        },
        "id": "0fGYhQYIpP9a",
        "outputId": "8b3c5a84-a165-4295-a35e-1cde1237b27d"
      },
      "execution_count": 41,
      "outputs": [
        {
          "output_type": "stream",
          "name": "stdout",
          "text": [
            "10\n"
          ]
        }
      ]
    }
  ]
}