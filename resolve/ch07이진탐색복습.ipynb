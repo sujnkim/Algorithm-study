{
  "nbformat": 4,
  "nbformat_minor": 0,
  "metadata": {
    "colab": {
      "name": "ch07이진탐색복습.ipynb",
      "provenance": [],
      "authorship_tag": "ABX9TyNcedem5LSURZP6CDlOk5a/",
      "include_colab_link": true
    },
    "kernelspec": {
      "name": "python3",
      "display_name": "Python 3"
    },
    "language_info": {
      "name": "python"
    }
  },
  "cells": [
    {
      "cell_type": "markdown",
      "metadata": {
        "id": "view-in-github",
        "colab_type": "text"
      },
      "source": [
        "<a href=\"https://colab.research.google.com/github/sujnkim/Algorithm-study/blob/main/resolve/ch07%EC%9D%B4%EC%A7%84%ED%83%90%EC%83%89%EB%B3%B5%EC%8A%B5.ipynb\" target=\"_parent\"><img src=\"https://colab.research.google.com/assets/colab-badge.svg\" alt=\"Open In Colab\"/></a>"
      ]
    },
    {
      "cell_type": "code",
      "execution_count": 8,
      "metadata": {
        "colab": {
          "base_uri": "https://localhost:8080/"
        },
        "id": "HcJfLKzs0xRj",
        "outputId": "0afc27b1-2e9c-4e97-93a4-9856c9997f02"
      },
      "outputs": [
        {
          "output_type": "stream",
          "name": "stdout",
          "text": [
            "Dongbin is  3 th name\n"
          ]
        }
      ],
      "source": [
        "#순차탐색 소스코드\n",
        "\n",
        "def sequential_search(n, target, array):\n",
        "    for i in range(n):\n",
        "        if array[i] == target:\n",
        "            return i+1\n",
        "\n",
        "array = ['Hanul', 'Jonggu', 'Dongbin', 'Taeil', 'Sangwook']\n",
        "print('Dongbin is ', sequential_search(len(array), 'Dongbin', array), 'th name')"
      ]
    },
    {
      "cell_type": "markdown",
      "source": [
        "### 이진탐색 소스코드\n",
        "* 데이터가 이미 정렬되어 있을 때 사용 가능\n",
        "* 탐색 범위를 절반씩 좁혀가며 데이터를 탐색"
      ],
      "metadata": {
        "id": "L2Bml2FA-_HL"
      }
    },
    {
      "cell_type": "code",
      "source": [
        "# 재귀 함수로 구현한 이진탐색 소스코드\n",
        "\n",
        "def binary_search(array, target, start, end):\n",
        "    if start>end:\n",
        "        return None\n",
        "    \n",
        "    mid = (start+end) // 2\n",
        "    if array[mid] == target:\n",
        "        return mid\n",
        "    elif array[mid] < target:\n",
        "        return binary_search(array, target, mid+1, end)\n",
        "    else:\n",
        "        return binary_search(array, target, start, mid-1)"
      ],
      "metadata": {
        "id": "teypeQai94Zm"
      },
      "execution_count": 29,
      "outputs": []
    },
    {
      "cell_type": "code",
      "source": [
        "#test 1\n",
        "\n",
        "array= [1, 3, 5, 6, 9, 11, 13, 17, 19]\n",
        "result = binary_search(array, 7, 0, len(array)-1)\n",
        "if result == None:\n",
        "    print('존재하지 않음')\n",
        "else:\n",
        "    print(result+1)"
      ],
      "metadata": {
        "colab": {
          "base_uri": "https://localhost:8080/"
        },
        "id": "FlOJLw7pAFn1",
        "outputId": "a97169d8-62ea-4944-8144-87203632c226"
      },
      "execution_count": 32,
      "outputs": [
        {
          "output_type": "stream",
          "name": "stdout",
          "text": [
            "존재하지 않음\n"
          ]
        }
      ]
    },
    {
      "cell_type": "code",
      "source": [
        "#test2\n",
        "\n",
        "array= [1, 3, 5, 7, 9, 11, 13, 17, 19]\n",
        "result = binary_search(array, 7, 0, len(array)-1)\n",
        "if result == None:\n",
        "    print('존재하지 않음')\n",
        "else:\n",
        "    print(result+1)"
      ],
      "metadata": {
        "colab": {
          "base_uri": "https://localhost:8080/"
        },
        "id": "vUWMoFSGAESL",
        "outputId": "8e8fd06e-3577-4b87-86f9-e2547da4de4f"
      },
      "execution_count": 33,
      "outputs": [
        {
          "output_type": "stream",
          "name": "stdout",
          "text": [
            "4\n"
          ]
        }
      ]
    },
    {
      "cell_type": "markdown",
      "source": [
        "### 7-5: 부품 찾기\n",
        "\n",
        "* 손님이 요청한 부품이 모두 있는 지 확인하는 프로그램\n",
        "* 순서대로 부품을 확인하여 있으면 yes, 없으면 no를 출력"
      ],
      "metadata": {
        "id": "asgYeMHETEEh"
      }
    },
    {
      "cell_type": "code",
      "source": [
        "n = 5\n",
        "store = [8,3,7,9,2]\n",
        "\n",
        "m = 3\n",
        "request = [5,7,9]\n"
      ],
      "metadata": {
        "id": "YWe0fbIMAyt5"
      },
      "execution_count": 36,
      "outputs": []
    },
    {
      "cell_type": "code",
      "source": [
        "#이진 탐색으로 해결하기\n",
        "\n",
        "def binary_search(target, array, start, end):\n",
        "    if start > end:\n",
        "        return None\n",
        "\n",
        "    mid = (start+end) // 2\n",
        "\n",
        "    if target == array[mid]:\n",
        "        return mid\n",
        "    elif target > array[mid]:\n",
        "        return binary_search(target, array, mid+1, end)\n",
        "    else:\n",
        "        return binary_search(target, array, start, mid-1)\n",
        "\n",
        "\n",
        "store.sort()    #이진 탐색을 수행하기 위해\n",
        "\n",
        "result = []\n",
        "for req in request:\n",
        "    if binary_search(req, store, 0, n-1)==None:\n",
        "        print('no', end=' ')\n",
        "    else:\n",
        "        print('yes', end=' ')"
      ],
      "metadata": {
        "colab": {
          "base_uri": "https://localhost:8080/"
        },
        "id": "6jX-lDNFUD-c",
        "outputId": "fe1e1b22-38d0-4737-dcb6-f980df94f99e"
      },
      "execution_count": 45,
      "outputs": [
        {
          "output_type": "stream",
          "name": "stdout",
          "text": [
            "no yes yes "
          ]
        }
      ]
    },
    {
      "cell_type": "code",
      "source": [
        "#계수 정렬을 이용하여 해결\n",
        "\n",
        "array = [0] * 1000001\n",
        "\n",
        "for st in store:\n",
        "    array[st] = 1\n",
        "\n",
        "for req in request:\n",
        "    if array[req]==1:\n",
        "        print('yes', end=' ')\n",
        "    else:\n",
        "        print('no', end=' ')"
      ],
      "metadata": {
        "colab": {
          "base_uri": "https://localhost:8080/"
        },
        "id": "WqyZIJQIa22-",
        "outputId": "d6d8fea3-d64b-4eb7-ef57-3b3a8db3e35d"
      },
      "execution_count": 46,
      "outputs": [
        {
          "output_type": "stream",
          "name": "stdout",
          "text": [
            "no yes yes "
          ]
        }
      ]
    },
    {
      "cell_type": "markdown",
      "source": [
        "### 7-8: 떡볶이 떡 만들기\n",
        "\n",
        "손님이 총 m길이의 떡을 요청했을 때, 적어도 m만큼의 떡을 얻기 위해 설정할 수 있는 높이의 최대값"
      ],
      "metadata": {
        "id": "HBuj0FzHbOAN"
      }
    },
    {
      "cell_type": "code",
      "source": [
        "n, m = 4, 6\n",
        "length = [19, 15, 10, 17]"
      ],
      "metadata": {
        "id": "aktVJM4mbMNK"
      },
      "execution_count": 48,
      "outputs": []
    },
    {
      "cell_type": "code",
      "source": [
        "start = 0\n",
        "end = max(length)\n",
        "\n",
        "result = 0\n",
        "\n",
        "while(start<=end):\n",
        "    mid = (start+end) // 2\n",
        "\n",
        "    # 떡 길이 계산\n",
        "    total = 0\n",
        "    for dd in length:\n",
        "        if dd > mid:\n",
        "            total += (dd-mid)\n",
        "\n",
        "    # 원하는 길이보다 작을 경우: 자르는 길이를 더 작게 만들어서\n",
        "    if total < m:\n",
        "        end = mid - 1\n",
        "    # 원하는 길이보다 클 경우: 자르는 길이를 더 크게 만들어서 더 확인해보기\n",
        "    # 최대 높이를 구하기 위해\n",
        "    else:\n",
        "        result = mid\n",
        "        start = mid + 1\n",
        "\n",
        "print(result)"
      ],
      "metadata": {
        "colab": {
          "base_uri": "https://localhost:8080/"
        },
        "id": "OzUy_rWfbiuJ",
        "outputId": "3868ef5b-142c-4426-d506-3f0965b0ffba"
      },
      "execution_count": 50,
      "outputs": [
        {
          "output_type": "stream",
          "name": "stdout",
          "text": [
            "15\n"
          ]
        }
      ]
    }
  ]
}