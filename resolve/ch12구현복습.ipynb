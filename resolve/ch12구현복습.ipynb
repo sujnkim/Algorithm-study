{
  "nbformat": 4,
  "nbformat_minor": 0,
  "metadata": {
    "colab": {
      "name": "ch12구현복습.ipynb",
      "provenance": [],
      "collapsed_sections": [],
      "authorship_tag": "ABX9TyPMqKze8e5h5ew9IM/z8DP9",
      "include_colab_link": true
    },
    "kernelspec": {
      "name": "python3",
      "display_name": "Python 3"
    },
    "language_info": {
      "name": "python"
    }
  },
  "cells": [
    {
      "cell_type": "markdown",
      "metadata": {
        "id": "view-in-github",
        "colab_type": "text"
      },
      "source": [
        "<a href=\"https://colab.research.google.com/github/sujnkim/Algorithm-study/blob/main/resolve/ch12%EA%B5%AC%ED%98%84%EB%B3%B5%EC%8A%B5.ipynb\" target=\"_parent\"><img src=\"https://colab.research.google.com/assets/colab-badge.svg\" alt=\"Open In Colab\"/></a>"
      ]
    },
    {
      "cell_type": "markdown",
      "source": [
        "### 12-7: 럭키스트레이트\n",
        "\n",
        "**INPUT:**\n",
        "* 점수n (1<=n<=99,999,999)\n",
        "* n의 자릿수는 항상 짝수\n",
        "\n",
        "**OUTPUT:**\n",
        "* 럭키스트레이트를 사용할 수 있다면 \"LUCKY\"\n",
        "* 사용할 수 없다면 \"READY\" 출력\n",
        "\n",
        "**요구사항:**\n",
        "* 자릿수를 기준으로 점수N을 반으로 나누어 왼쪽, 오른쪽 자릿수 합이 같으면 럭키스트레이트"
      ],
      "metadata": {
        "id": "bCqHN9dAI7_h"
      }
    },
    {
      "cell_type": "code",
      "execution_count": null,
      "metadata": {
        "id": "LkGKXpS0n-_d"
      },
      "outputs": [],
      "source": [
        "def solution(data):\n",
        "    check_len = len(data) // 2\n",
        "\n",
        "    score_sum = 0\n",
        "    for i in range(check_len):\n",
        "        score_sum += int(data[i])               #왼쪽: +\n",
        "        score_sum -= int(data[i+check_len])     #오른쪽: -\n",
        "\n",
        "    if score_sum == 0:\n",
        "        return \"LUCKY\"\n",
        "    else:\n",
        "        return \"READY\""
      ]
    },
    {
      "cell_type": "code",
      "source": [
        "n = \"123402\"\n",
        "print(solution(n))\n",
        "\n",
        "n = \"7755\"\n",
        "print(solution(n))"
      ],
      "metadata": {
        "colab": {
          "base_uri": "https://localhost:8080/"
        },
        "id": "tiPUrel961LP",
        "outputId": "fef5ed5a-878d-448e-e690-d79846b93387"
      },
      "execution_count": null,
      "outputs": [
        {
          "output_type": "stream",
          "name": "stdout",
          "text": [
            "LUCKY\n",
            "READY\n"
          ]
        }
      ]
    },
    {
      "cell_type": "markdown",
      "source": [
        "### 12-8: 문자열 재정렬\n",
        "\n",
        "**INPUT:**\n",
        "* 첫째 줄에 하나의 문자열 s (1<=len(s)<=10,000)\n",
        "* 문자열은 알파벳 대문자, 숫자(0~9)로만 구성됨\n",
        "\n",
        "**OUTPUT:**\n",
        "* 문제에서 요구하는 정답 출력\n",
        "\n",
        "**요구사항:**\n",
        "* 모든 알파벳을 오름차순으로 정렬\n",
        "* 이어서 모든 숫자를 더한 값을 출력"
      ],
      "metadata": {
        "id": "7IDIHxCAFKGO"
      }
    },
    {
      "cell_type": "code",
      "source": [
        "def solution(data):\n",
        "\n",
        "    result = []\n",
        "    numsum = 0\n",
        "\n",
        "    for d in data:\n",
        "        # 알파벳 -> 리스트 추가\n",
        "        if d.isalpha():     \n",
        "            result.append(d)\n",
        "            \n",
        "        # 숫자 -> 합계\n",
        "        else:\n",
        "            numsum += int(d)\n",
        "\n",
        "    #알파벳 정렬\n",
        "    result.sort()\n",
        "\n",
        "    #숫자 합계 추가\n",
        "    result.append(str(numsum))\n",
        "    \n",
        "    # 리스트를 문자열로 변환\n",
        "    result = ''.join(result)\n",
        "\n",
        "    return result"
      ],
      "metadata": {
        "id": "F61CU9pS7A5V"
      },
      "execution_count": null,
      "outputs": []
    },
    {
      "cell_type": "code",
      "source": [
        "s = \"K1KA5CB7\"\n",
        "print(solution(s))\n",
        "\n",
        "s = \"AJKDLSI412K4JSJ9D\"\n",
        "print(solution(s))"
      ],
      "metadata": {
        "colab": {
          "base_uri": "https://localhost:8080/"
        },
        "id": "KkXnvBbpF1RI",
        "outputId": "2e10faa9-8fc9-44bc-f29a-e9be528e5aed"
      },
      "execution_count": null,
      "outputs": [
        {
          "output_type": "stream",
          "name": "stdout",
          "text": [
            "ABCKK13\n",
            "ADDIJJJKKLSS20\n"
          ]
        }
      ]
    },
    {
      "cell_type": "markdown",
      "source": [
        "### 12-9: 문자열 압축\n",
        "\n",
        "**INPUT:**\n",
        "* s의 길이는 1 이상 1000이하\n",
        "* s는 알파벳 소문자로만 구성\n",
        "\n",
        "**OUTPUT:**\n",
        "* 1개 이상 단위로 문자열을 잘라 압축하여 표현\n",
        "* 그 중 가장 짧은 것의 길이를 return하는 solution함수 작성\n",
        "\n",
        "**요구사항:**\n",
        "* 같은 값이 연속해서 나타나는 것을 그 문자의 개수와 반복되는 값으로 표현"
      ],
      "metadata": {
        "id": "KFAdPDDKSQ4N"
      }
    },
    {
      "cell_type": "code",
      "source": [
        "def solution(data):\n",
        "\n",
        "    result = len(data)\n",
        "\n",
        "    for step in range(1, len(data)//2+1):\n",
        "        compressed = \"\"\n",
        "        prev = data[0:step]\n",
        "        count = 1\n",
        "\n",
        "        for j in range(step, len(data), step):\n",
        "            if prev == data[j: j+step]:\n",
        "                count += 1\n",
        "            else:\n",
        "                \n",
        "                if count >= 2:\n",
        "                    compressed += str(count) + prev\n",
        "                else:\n",
        "                    compressed += prev\n",
        "                \n",
        "                #초기화\n",
        "                prev = data[j: j+step]\n",
        "                count = 1\n",
        "\n",
        "        compressed += str(count) + prev if count>=2 else prev\n",
        "        result = min(result, len(compressed))\n",
        "\n",
        "    return result"
      ],
      "metadata": {
        "id": "s1VTyuC5SO3X"
      },
      "execution_count": null,
      "outputs": []
    },
    {
      "cell_type": "code",
      "source": [
        "s = \"aabbaccc\"\n",
        "print(solution(s))\n",
        "\n",
        "s = \"ababcdcdababcdcd\"\n",
        "print(solution(s))\n",
        "\n",
        "s = \"abcabcdede\"\n",
        "print(solution(s))\n",
        "\n",
        "s = \"abcabcabcabcdededededede\"\n",
        "print(solution(s))\n",
        "\n",
        "s = \"xababcdcdababcdcd\"\n",
        "print(solution(s))"
      ],
      "metadata": {
        "colab": {
          "base_uri": "https://localhost:8080/"
        },
        "id": "ORU8ndojTKiE",
        "outputId": "adc15205-3fce-4c7a-f0eb-c3c4a755fee8"
      },
      "execution_count": null,
      "outputs": [
        {
          "output_type": "stream",
          "name": "stdout",
          "text": [
            "7\n",
            "9\n",
            "8\n",
            "14\n",
            "17\n"
          ]
        }
      ]
    },
    {
      "cell_type": "markdown",
      "source": [
        "### 12-10: 자물쇠와 열쇠\n",
        "\n",
        "**INPUT:**\n",
        "* key는 mxm(3<=m<=20) 크기의 2차원 배열\n",
        "* lock은 nxn(3<=n<=20) 크기의 2차원 배열\n",
        "* m은 항상 n이하(m<=n)\n",
        "* key와 lock의 원소는 0, 1로 이루어져 있음(0:홈, 1:돌기)\n",
        "\n",
        "**OUTPUT:**\n",
        "* 열쇠로 자물쇠를 열 수 있다면 true\n",
        "* 열 수 없다면 false를 반환하는 solution 함수 작성\n",
        "\n",
        "**요구사항:**\n",
        "* 열쇠는 회전, 이동이 가능\n",
        "* 자물쇠 영역을 벗어난 부분의 열쇠는 영향을 주지 않음\n",
        "* 자물쇠의 모든 홈이 채워져야 함"
      ],
      "metadata": {
        "id": "xTl3locCTd8c"
      }
    },
    {
      "cell_type": "code",
      "source": [
        "# 열쇠를 시계방향으로 90도 회전시키는 함수\n",
        "\n",
        "def rotate(key):\n",
        "    m = len(key)\n",
        "\n",
        "    result = [ [0]*m for _ in range(m) ]\n",
        "\n",
        "    for i in range(m):\n",
        "        for j in range(m):\n",
        "            result[j][m-(i+1)] = key[i][j]\n",
        "\n",
        "    return result"
      ],
      "metadata": {
        "id": "p7H-z8fkyFlx"
      },
      "execution_count": 1,
      "outputs": []
    },
    {
      "cell_type": "code",
      "source": [
        "# key가 맞는지 확인하는 함수\n",
        "\n",
        "def check(new_lock):\n",
        "    n = len(new_lock) // 3\n",
        "\n",
        "    for i in range(n, n*2):\n",
        "        for j in range(n, n*2):\n",
        "            if new_lock[i][j] != 1:\n",
        "                return False\n",
        "\n",
        "    return  True"
      ],
      "metadata": {
        "id": "BIBTY1PFzZR4"
      },
      "execution_count": 2,
      "outputs": []
    },
    {
      "cell_type": "code",
      "source": [
        "def solution(key, lock):\n",
        "\n",
        "    m = len(key)        #key size\n",
        "    n = len(lock)       #lock size\n",
        "\n",
        "    # 크기를 3배로 증가시킨 빈 리스트의 중앙에 자물쇠 배치\n",
        "    new_lock = [ [0]*(n*3) for _ in range(n*3) ]    \n",
        "    for i in range(n):\n",
        "        for j in range(n):\n",
        "            new_lock[i+n][j+n] = lock[i][j]\n",
        "\n",
        "    \n",
        "    # key를 회전시키며 확인\n",
        "    for ratation in range(4):\n",
        "        key = rotate(key)\n",
        "\n",
        "        for x in range(n*2):\n",
        "            for y in range(n*2):\n",
        "\n",
        "                #key 넣기\n",
        "                for i in range(m):\n",
        "                    for j in range(m):\n",
        "                        new_lock[x+i][y+j] += key[i][j]\n",
        "\n",
        "                #확인\n",
        "                if check(new_lock) == True:\n",
        "                    return True\n",
        "\n",
        "                #key 빼기\n",
        "                for i in range(m):\n",
        "                    for j in range(m):\n",
        "                        new_lock[x+i][y+j] -= key[i][j]\n",
        "\n",
        "        return False\n"
      ],
      "metadata": {
        "id": "9fuUhbsNTfmz"
      },
      "execution_count": 3,
      "outputs": []
    },
    {
      "cell_type": "code",
      "source": [
        "key = [\n",
        "    [0,0,0],\n",
        "    [1,0,0],\n",
        "    [0,1,1]\n",
        "]\n",
        "\n",
        "lock = [\n",
        "    [1,1,1],\n",
        "    [1,1,0],\n",
        "    [1,0,1]\n",
        "]\n",
        "\n",
        "print(solution(key, lock))"
      ],
      "metadata": {
        "colab": {
          "base_uri": "https://localhost:8080/"
        },
        "id": "vj-PJtjQGElb",
        "outputId": "f5f664e5-4bef-4fef-db7d-cbfcc322cedf"
      },
      "execution_count": 4,
      "outputs": [
        {
          "output_type": "stream",
          "name": "stdout",
          "text": [
            "True\n"
          ]
        }
      ]
    }
  ]
}