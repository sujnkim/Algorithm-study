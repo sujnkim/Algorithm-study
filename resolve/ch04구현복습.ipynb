{
  "nbformat": 4,
  "nbformat_minor": 0,
  "metadata": {
    "colab": {
      "name": "ch04구현복습.ipynb",
      "provenance": [],
      "collapsed_sections": [],
      "authorship_tag": "ABX9TyPk+RPT2jhgnEtHgdvJTGMr",
      "include_colab_link": true
    },
    "kernelspec": {
      "name": "python3",
      "display_name": "Python 3"
    },
    "language_info": {
      "name": "python"
    }
  },
  "cells": [
    {
      "cell_type": "markdown",
      "metadata": {
        "id": "view-in-github",
        "colab_type": "text"
      },
      "source": [
        "<a href=\"https://colab.research.google.com/github/sujnkim/Algorithm-study/blob/main/resolve/ch04%EA%B5%AC%ED%98%84%EB%B3%B5%EC%8A%B5.ipynb\" target=\"_parent\"><img src=\"https://colab.research.google.com/assets/colab-badge.svg\" alt=\"Open In Colab\"/></a>"
      ]
    },
    {
      "cell_type": "markdown",
      "source": [
        "### 4-1: 상하좌우\n",
        "\n",
        "**INPUT:**\n",
        "* 첫째 줄에 공간의 크기를 나타내는 n (1<=n<=100)\n",
        "* 둘째 줄에 여행가가 이동할 계획서 내용 (1<=이동횟수<=100)\n",
        "\n",
        "**OUTPUT:**\n",
        "* 첫째 줄에 여행가가 최종적으로 도착할 지점의 좌표 (X,Y)를 공백으로 구분하여 출력"
      ],
      "metadata": {
        "id": "bCqHN9dAI7_h"
      }
    },
    {
      "cell_type": "code",
      "execution_count": 15,
      "metadata": {
        "id": "le9YVvz_Iyue"
      },
      "outputs": [],
      "source": [
        "def solution(n, data):\n",
        "    \n",
        "    x, y = 1, 1     # 시작 포인트: (1,1)\n",
        "    \n",
        "    # L R U D 방향 설정\n",
        "    dx = [0, 0, -1, 1]\n",
        "    dy = [-1, 1, 0, 0]\n",
        "    move_types = ['L', 'R', 'U', 'D']\n",
        "\n",
        "    for next in data:\n",
        "        dir = move_types.index(next)\n",
        "        nx = x + dx[dir]\n",
        "        ny = y + dy[dir]\n",
        "        #print(next, dir, nx, ny)\n",
        "\n",
        "        # 정사각형 공간을 벗어나는 움직임은 무시\n",
        "        if nx<1 or ny<1 or nx>n or ny>n:\n",
        "            continue\n",
        "\n",
        "        x, y = nx, ny\n",
        "\n",
        "    return x, y\n"
      ]
    },
    {
      "cell_type": "code",
      "source": [
        "n = 5\n",
        "data = ['R', 'R','R', 'U', 'D', 'D']\n",
        "\n",
        "x, y = solution(n, data)\n",
        "print(x, y)"
      ],
      "metadata": {
        "colab": {
          "base_uri": "https://localhost:8080/"
        },
        "id": "CKXkqiJDJb5x",
        "outputId": "fe030be5-d77b-4f2a-965e-9c2c608f71db"
      },
      "execution_count": 16,
      "outputs": [
        {
          "output_type": "stream",
          "name": "stdout",
          "text": [
            "3 4\n"
          ]
        }
      ]
    },
    {
      "cell_type": "markdown",
      "source": [
        "* 일련의 명령에 따라 개체를 차례대로 이동 => 시뮬레이션Simulation 유형\n",
        "* 연산 횟수는 이동 횟수에 비례 => 이동 횟수가 N인 경우, 시간 복잡도=O(N)\n"
      ],
      "metadata": {
        "id": "zx9Y4K5vcJGT"
      }
    },
    {
      "cell_type": "markdown",
      "source": [
        "---\n",
        "### 4-2: 시각\n",
        "\n",
        "**INPUT:**\n",
        "* 첫째 줄에 정수n (0<=n<=23)\n",
        "\n",
        "**OUTPUT:**\n",
        "* 00시 00분 00초부터 n시 59분 59초까지 모든 시각 중 3이 하나라도 포함되는 모든 경우의 수 출력"
      ],
      "metadata": {
        "id": "80Q3_8ZNb9pR"
      }
    },
    {
      "cell_type": "code",
      "source": [
        "# 총 경우의 수 = 24*60*60 = 86400\n",
        "# solve1: 1씩 증가시키며 확인해도 해결 가능\n",
        "\n",
        "def solution(n):\n",
        "    result = 0\n",
        "\n",
        "    for i in range(n+1):\n",
        "        for j in range(60):\n",
        "            for k in range(60):\n",
        "                if '3' in str(i)+str(j)+str(k):\n",
        "                    result += 1\n",
        "                    \n",
        "    return result"
      ],
      "metadata": {
        "id": "uatQEPEVcMu6"
      },
      "execution_count": 17,
      "outputs": []
    },
    {
      "cell_type": "code",
      "source": [
        "n = 5\n",
        "print(solution(n))"
      ],
      "metadata": {
        "colab": {
          "base_uri": "https://localhost:8080/"
        },
        "id": "Zzq5ofsThaRU",
        "outputId": "b245bde5-4ca6-47b4-9f91-6869f0de1a4d"
      },
      "execution_count": 18,
      "outputs": [
        {
          "output_type": "stream",
          "name": "stdout",
          "text": [
            "11475\n"
          ]
        }
      ]
    },
    {
      "cell_type": "markdown",
      "source": [
        "---\n",
        "### 4-3: 왕실의 나이트\n",
        "\n",
        "**INPUT:**\n",
        "* 첫째 줄에 8x8 좌표 평면상에서 현재 나이트가 위치한 곳의 좌표를 나타내는 두 문자로 구성된 문자열\n",
        "* ex: a1 (a열 1행)\n",
        "\n",
        "**OUTPUT:**\n",
        "* 첫째 줄에 나이트가 이동할 수 있는 경우의 수 출력\n",
        "\n",
        "**문제 조건**\n",
        "* 수평으로 두 칸 이동한 뒤  수직으로 한 칸 이동\n",
        "* 수직으로 두 칸 이동한 뒤 수평으로 한 칸 이동"
      ],
      "metadata": {
        "id": "JV9nwRFAjIjK"
      }
    },
    {
      "cell_type": "code",
      "source": [
        "def solution(x, y):\n",
        "    \n",
        "    result = 0\n",
        "    move_types = [ (-1,-2), (1,-2), (-1,2), (1,2), (2,-1), (2,1), (-2,-1), (-2,1) ]\n",
        "\n",
        "    for i in range(len(move_types)):\n",
        "        dx, dy = move_types[i]\n",
        "\n",
        "        nx = x + dx\n",
        "        ny = y + dy\n",
        "\n",
        "        if nx<1 or ny<1 or nx>8 or ny>8:\n",
        "            continue\n",
        "        \n",
        "        result += 1\n",
        "\n",
        "    return result"
      ],
      "metadata": {
        "id": "Zkl_i8mDjM_5"
      },
      "execution_count": 32,
      "outputs": []
    },
    {
      "cell_type": "code",
      "source": [
        "data = 'a1'\n",
        "col = int(ord(data[0])) - int(ord('a')) + 1\n",
        "row = int(data[1])\n",
        "\n",
        "print(solution(row, col))"
      ],
      "metadata": {
        "colab": {
          "base_uri": "https://localhost:8080/"
        },
        "id": "hleGiwclkgiy",
        "outputId": "6627c2fb-9dca-4b5e-873a-84e0a0f9bdef"
      },
      "execution_count": 36,
      "outputs": [
        {
          "output_type": "stream",
          "name": "stdout",
          "text": [
            "2\n"
          ]
        }
      ]
    },
    {
      "cell_type": "markdown",
      "source": [
        "---\n",
        "### 4-4: 게임 개발\n",
        "\n",
        "**INPUT:**\n",
        "* 첫째 줄에 세로 크기n, 가로 크기m (3<=n,m<=50)\n",
        "* 둘째 줄에 현재 칸의 좌표 (A,B)와 바라보는 방향d\n",
        "    * 0:북쪽, 1:동쪽, 2:남쪽, 3:서쪽\n",
        "* 셋째 줄부터 맵에 대한 정보\n",
        "    * 0:육지, 1:바다\n",
        "    * 맵의 외곽은 항상 바다(1)\n",
        "* 처음 위치한 칸의 상태는 항상 육지임(0)\n",
        "\n",
        "**OUTPUT:**\n",
        "* 이동을 마친 후 캐릭터가 방문한 칸의 수 출력\n",
        "\n",
        "**문제 조건**\n",
        "1. 현재 위치에서 현재 방향을 기준으로 왼쪽 방향부터 갈 곳을 정함\n",
        "2. 왼쪽 방향에 아직 가보지 않은 칸 존재 => 왼쪽으로 회전 후 한 칸 전진\n",
        "\n",
        "    왼쪽 방향에 아직 가보지 않은 칸이 없다면 => 왼쪽 방향으로 회전만 수행\n",
        "3. 네 방향 모두 이미 가본 칸이거나 or 바다인 칸인 경우 => 바라보는 방향 유지, 한 칸 뒤로 간 후 1단계로 돌아감\n",
        "\n",
        "    단, 뒤쪽 방향이 바다라 뒤로 갈 수 없는 경우 움직임 정지"
      ],
      "metadata": {
        "id": "eqPEA6boojkF"
      }
    },
    {
      "cell_type": "code",
      "source": [
        "#input\n",
        "n, m = 4, 4\n",
        "x, y, dir = 1, 1, 0\n",
        "\n",
        "map = [\n",
        "    [1,1,1,1],\n",
        "    [1,0,0,1],\n",
        "    [1,1,0,1],\n",
        "    [1,1,1,1]\n",
        "]\n",
        "\n",
        "#solve\n",
        "\n",
        "#이미 지나간 자리를 표시하는 이차원 리스트 come\n",
        "come = [ [0] * m for _ in range(n) ]\n",
        "come[x][y] = 1\n",
        "\n",
        "# 방향: 북, 동, 남, 서(왼쪽으로)\n",
        "dx = [-1, 0, 1, 0]\n",
        "dy = [0, 1, 0, -1]"
      ],
      "metadata": {
        "id": "7tqTikJhrCZ4"
      },
      "execution_count": 11,
      "outputs": []
    },
    {
      "cell_type": "code",
      "source": [
        "def turn_left():\n",
        "    global dir\n",
        "    dir -= 1\n",
        "    if dir == -1:\n",
        "        dir = 3"
      ],
      "metadata": {
        "id": "TXcvfU3OttjI"
      },
      "execution_count": 9,
      "outputs": []
    },
    {
      "cell_type": "code",
      "source": [
        "result = 1\n",
        "turn_time = 0\n",
        "\n",
        "while True:\n",
        "\n",
        "    # 왼쪽으로 회전\n",
        "    turn_left()\n",
        "\n",
        "    nx = x + dx[dir]\n",
        "    ny = y + dy[dir]\n",
        "\n",
        "    # 가보지 않은 칸 존재 => 한 칸 전진\n",
        "    if come[nx][ny]==0 and map[nx][ny]==0:\n",
        "        come[nx][ny] = 1\n",
        "        result += 1\n",
        "        turn_time = 0\n",
        "        x, y = nx, ny\n",
        "        continue\n",
        "\n",
        "    # 이미 가본 칸이라면 => 다음 과정 수행\n",
        "    else:\n",
        "        turn_time += 1\n",
        "\n",
        "    # 4방향 모두 이미 가본 칸 => 한 칸 뒤로\n",
        "    if turn_time == 4:\n",
        "        nx = x - dx[dir]\n",
        "        ny = y - dy[dir]\n",
        "\n",
        "        # 뒤로 갈 수 있다면\n",
        "        if map[nx][ny] == 0:\n",
        "            x, y = nx, ny\n",
        "\n",
        "        # 만약 바다라면 => 정지\n",
        "        else:\n",
        "            break\n",
        "\n",
        "        turn_time = 0\n",
        "\n",
        "\n",
        "#output\n",
        "print(result)"
      ],
      "metadata": {
        "colab": {
          "base_uri": "https://localhost:8080/"
        },
        "id": "uu32BtwHFlp6",
        "outputId": "0752a29a-9a4a-40e3-d067-02514344a45f"
      },
      "execution_count": 10,
      "outputs": [
        {
          "output_type": "stream",
          "name": "stdout",
          "text": [
            "3\n"
          ]
        }
      ]
    }
  ]
}