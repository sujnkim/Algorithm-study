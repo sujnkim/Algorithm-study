{
  "nbformat": 4,
  "nbformat_minor": 0,
  "metadata": {
    "colab": {
      "name": "ch04구현복습.ipynb",
      "provenance": [],
      "collapsed_sections": [],
      "authorship_tag": "ABX9TyPLYxmaDZ/iVdWdTo/h7yzB",
      "include_colab_link": true
    },
    "kernelspec": {
      "name": "python3",
      "display_name": "Python 3"
    },
    "language_info": {
      "name": "python"
    }
  },
  "cells": [
    {
      "cell_type": "markdown",
      "metadata": {
        "id": "view-in-github",
        "colab_type": "text"
      },
      "source": [
        "<a href=\"https://colab.research.google.com/github/sujnkim/Algorithm-study/blob/main/resolve/ch04%EA%B5%AC%ED%98%84%EB%B3%B5%EC%8A%B5.ipynb\" target=\"_parent\"><img src=\"https://colab.research.google.com/assets/colab-badge.svg\" alt=\"Open In Colab\"/></a>"
      ]
    },
    {
      "cell_type": "markdown",
      "source": [
        "### 4-1: 상하좌우\n",
        "\n",
        "**INPUT:**\n",
        "* 첫째 줄에 공간의 크기를 나타내는 n (1<=n<=100)\n",
        "* 둘째 줄에 여행가가 이동할 계획서 내용 (1<=이동횟수<=100)\n",
        "\n",
        "**OUTPUT:**\n",
        "* 첫째 줄에 여행가가 최종적으로 도착할 지점의 좌표 (X,Y)를 공백으로 구분하여 출력"
      ],
      "metadata": {
        "id": "bCqHN9dAI7_h"
      }
    },
    {
      "cell_type": "code",
      "execution_count": 15,
      "metadata": {
        "id": "le9YVvz_Iyue"
      },
      "outputs": [],
      "source": [
        "def solution(n, data):\n",
        "    \n",
        "    x, y = 1, 1     # 시작 포인트: (1,1)\n",
        "    \n",
        "    # L R U D 방향 설정\n",
        "    dx = [0, 0, -1, 1]\n",
        "    dy = [-1, 1, 0, 0]\n",
        "    move_types = ['L', 'R', 'U', 'D']\n",
        "\n",
        "    for next in data:\n",
        "        dir = move_types.index(next)\n",
        "        nx = x + dx[dir]\n",
        "        ny = y + dy[dir]\n",
        "        #print(next, dir, nx, ny)\n",
        "\n",
        "        # 정사각형 공간을 벗어나는 움직임은 무시\n",
        "        if nx<1 or ny<1 or nx>n or ny>n:\n",
        "            continue\n",
        "\n",
        "        x, y = nx, ny\n",
        "\n",
        "    return x, y\n"
      ]
    },
    {
      "cell_type": "code",
      "source": [
        "n = 5\n",
        "data = ['R', 'R','R', 'U', 'D', 'D']\n",
        "\n",
        "x, y = solution(n, data)\n",
        "print(x, y)"
      ],
      "metadata": {
        "colab": {
          "base_uri": "https://localhost:8080/"
        },
        "id": "CKXkqiJDJb5x",
        "outputId": "fe030be5-d77b-4f2a-965e-9c2c608f71db"
      },
      "execution_count": 16,
      "outputs": [
        {
          "output_type": "stream",
          "name": "stdout",
          "text": [
            "3 4\n"
          ]
        }
      ]
    },
    {
      "cell_type": "markdown",
      "source": [
        "* 일련의 명령에 따라 개체를 차례대로 이동 => 시뮬레이션Simulation 유형\n",
        "* 연산 횟수는 이동 횟수에 비례 => 이동 횟수가 N인 경우, 시간 복잡도=O(N)\n"
      ],
      "metadata": {
        "id": "zx9Y4K5vcJGT"
      }
    },
    {
      "cell_type": "markdown",
      "source": [
        "---\n",
        "### 4-2: 시각\n",
        "\n",
        "**INPUT:**\n",
        "* 첫째 줄에 정수n (0<=n<=23)\n",
        "\n",
        "**OUTPUT:**\n",
        "* 00시 00분 00초부터 n시 59분 59초까지 모든 시각 중 3이 하나라도 포함되는 모든 경우의 수 출력"
      ],
      "metadata": {
        "id": "80Q3_8ZNb9pR"
      }
    },
    {
      "cell_type": "code",
      "source": [
        "# 총 경우의 수 = 24*60*60 = 86400\n",
        "# solve1: 1씩 증가시키며 확인해도 해결 가능\n",
        "\n",
        "def solution(n):\n",
        "    result = 0\n",
        "\n",
        "    for i in range(n+1):\n",
        "        for j in range(60):\n",
        "            for k in range(60):\n",
        "                if '3' in str(i)+str(j)+str(k):\n",
        "                    result += 1\n",
        "                    \n",
        "    return result"
      ],
      "metadata": {
        "id": "uatQEPEVcMu6"
      },
      "execution_count": 17,
      "outputs": []
    },
    {
      "cell_type": "code",
      "source": [
        "n = 5\n",
        "print(solution(n))"
      ],
      "metadata": {
        "colab": {
          "base_uri": "https://localhost:8080/"
        },
        "id": "Zzq5ofsThaRU",
        "outputId": "b245bde5-4ca6-47b4-9f91-6869f0de1a4d"
      },
      "execution_count": 18,
      "outputs": [
        {
          "output_type": "stream",
          "name": "stdout",
          "text": [
            "11475\n"
          ]
        }
      ]
    },
    {
      "cell_type": "markdown",
      "source": [
        "---\n",
        "### 4-3: 왕실의 나이트\n",
        "\n",
        "**INPUT:**\n",
        "* 첫째 줄에 8x8 좌표 평면상에서 현재 나이트가 위치한 곳의 좌표를 나타내는 두 문자로 구성된 문자열\n",
        "* ex: a1 (a열 1행)\n",
        "\n",
        "**OUTPUT:**\n",
        "* 첫째 줄에 나이트가 이동할 수 있는 경우의 수 출력\n",
        "\n",
        "**문제 조건**\n",
        "* 수평으로 두 칸 이동한 뒤  수직으로 한 칸 이동\n",
        "* 수직으로 두 칸 이동한 뒤 수평으로 한 칸 이동"
      ],
      "metadata": {
        "id": "JV9nwRFAjIjK"
      }
    },
    {
      "cell_type": "code",
      "source": [
        "def solution(x, y):\n",
        "    \n",
        "    result = 0\n",
        "    move_types = [ (-1,-2), (1,-2), (-1,2), (1,2), (2,-1), (2,1), (-2,-1), (-2,1) ]\n",
        "\n",
        "    for i in range(len(move_types)):\n",
        "        dx, dy = move_types[i]\n",
        "\n",
        "        nx = x + dx\n",
        "        ny = y + dy\n",
        "\n",
        "        if nx<1 or ny<1 or nx>8 or ny>8:\n",
        "            continue\n",
        "        \n",
        "        result += 1\n",
        "\n",
        "    return result"
      ],
      "metadata": {
        "id": "Zkl_i8mDjM_5"
      },
      "execution_count": 32,
      "outputs": []
    },
    {
      "cell_type": "code",
      "source": [
        "data = 'a1'\n",
        "col = int(ord(data[0])) - int(ord('a')) + 1\n",
        "row = int(data[1])\n",
        "\n",
        "print(solution(row, col))"
      ],
      "metadata": {
        "colab": {
          "base_uri": "https://localhost:8080/"
        },
        "id": "hleGiwclkgiy",
        "outputId": "6627c2fb-9dca-4b5e-873a-84e0a0f9bdef"
      },
      "execution_count": 36,
      "outputs": [
        {
          "output_type": "stream",
          "name": "stdout",
          "text": [
            "2\n"
          ]
        }
      ]
    },
    {
      "cell_type": "markdown",
      "source": [
        ""
      ],
      "metadata": {
        "id": "JOCWAVL8i49r"
      }
    }
  ]
}