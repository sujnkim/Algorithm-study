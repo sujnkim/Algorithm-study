{
  "nbformat": 4,
  "nbformat_minor": 0,
  "metadata": {
    "colab": {
      "name": "ch15이진탐색복습.ipynb",
      "provenance": [],
      "authorship_tag": "ABX9TyOeFpDxkQq05+KzTk6AXGZe",
      "include_colab_link": true
    },
    "kernelspec": {
      "name": "python3",
      "display_name": "Python 3"
    },
    "language_info": {
      "name": "python"
    }
  },
  "cells": [
    {
      "cell_type": "markdown",
      "metadata": {
        "id": "view-in-github",
        "colab_type": "text"
      },
      "source": [
        "<a href=\"https://colab.research.google.com/github/sujnkim/Algorithm-study/blob/main/resolve/ch15%EC%9D%B4%EC%A7%84%ED%83%90%EC%83%89%EB%B3%B5%EC%8A%B5.ipynb\" target=\"_parent\"><img src=\"https://colab.research.google.com/assets/colab-badge.svg\" alt=\"Open In Colab\"/></a>"
      ]
    },
    {
      "cell_type": "markdown",
      "source": [
        "### 15-27: 정렬된 배열에서 특정 수의 개수 구하기\n",
        "\n",
        "* n개의 원소를 포함하고 있는 수열이 오름차순으로 정렬되어 있음\n",
        "* 이때 수열에서 x가 등장하는 횟수를 계산하기\n",
        "* 시간복잡도 O(NlogN)"
      ],
      "metadata": {
        "id": "sAuK25hkJPYc"
      }
    },
    {
      "cell_type": "code",
      "source": [
        "# test case 1\n",
        "n, x = 7, 2\n",
        "ary = [1, 1, 2, 2, 2, 2, 3]"
      ],
      "metadata": {
        "id": "E1KYafadJPCf"
      },
      "execution_count": 2,
      "outputs": []
    },
    {
      "cell_type": "code",
      "execution_count": null,
      "metadata": {
        "id": "7G-U23H0JMr4"
      },
      "outputs": [],
      "source": [
        "# test case 2\n",
        "n, x = 7, 4\n",
        "ary = [1, 1, 2, 2, 2, 2, 3]"
      ]
    },
    {
      "cell_type": "code",
      "source": [
        "#처음 위치를 찾는 이진 탐색 메서드\n",
        "def first(array, target, start, end):\n",
        "\n",
        "    if start > end:\n",
        "        return None\n",
        "\n",
        "    mid = (start + end) // 2\n",
        "\n",
        "    # target값을 가지는 원소 중 가장 왼쪽 것의 인덱스를 반환\n",
        "    if array[mid] == target and (mid==0 or target>array[mid-1]):\n",
        "        return mid\n",
        "    elif array[mid] >= target:\n",
        "        return first(array, target, start, mid-1)   #왼쪽 확인\n",
        "    else: \n",
        "        return first(array, target, mid+1, end)    #오른쪽 확인\n",
        "            "
      ],
      "metadata": {
        "id": "BYfHN-ZdjBsA"
      },
      "execution_count": 1,
      "outputs": []
    },
    {
      "cell_type": "code",
      "source": [
        "#마지막 위치를 찾는 이진 탐색 메서드\n",
        "def last(array, target, start, end):\n",
        "\n",
        "    if start > end:\n",
        "        return None\n",
        "\n",
        "    mid = (start + end) // 2\n",
        "\n",
        "    #target값을 가진 것 중 가장 오른쪽 것의 인덱스를 반환\n",
        "    if array[mid]==target and (mid==n-1 or array[mid+1] > target):\n",
        "        return mid\n",
        "    elif array[mid] > target:\n",
        "        return last(array, target, start, mid-1)\n",
        "    else:\n",
        "        return last(array, target, mid+1, end)\n"
      ],
      "metadata": {
        "id": "1X8Oa8kzjGul"
      },
      "execution_count": 6,
      "outputs": []
    },
    {
      "cell_type": "code",
      "source": [
        "#정렬된 수열에서 값이 x인 원소의 개수를 세는 메서드\n",
        "def count_by_value(array, x):\n",
        "    n = len(array)\n",
        "\n",
        "    # x가 처음 등장한 인덱스\n",
        "    a = first(array, x, 0, n-1)\n",
        "    if a == None:\n",
        "        return 0\n",
        "\n",
        "    # x가 마지막으로 등장한 인덱스\n",
        "    b = last(array, x, 0, n-1)\n",
        "\n",
        "    return b - a + 1"
      ],
      "metadata": {
        "id": "oNj0UeipJrbs"
      },
      "execution_count": 7,
      "outputs": []
    },
    {
      "cell_type": "code",
      "source": [
        "print(count_by_value(ary, x))"
      ],
      "metadata": {
        "colab": {
          "base_uri": "https://localhost:8080/"
        },
        "id": "E9F40y8TjNS6",
        "outputId": "01a16313-2b91-4eb2-a767-3e8a76ab8b22"
      },
      "execution_count": 8,
      "outputs": [
        {
          "output_type": "stream",
          "name": "stdout",
          "text": [
            "4\n"
          ]
        }
      ]
    },
    {
      "cell_type": "markdown",
      "source": [
        "### 15-28: 고정점 찾기\n",
        "\n",
        "고정점 = 수열의 원소 중에서 그 값이 인덱스와 동일한 원소\n",
        "* 하나의 수열이 n개의 서로 다른 원소를 포함, 오름차순 정렬\n",
        "* 고정점이 있다면 출력하는 프로그램 작성\n",
        "    * 없다면 -1 출력\n",
        "* 시간복잡도 O(NlogN)"
      ],
      "metadata": {
        "id": "5ApwOO1N8l1z"
      }
    },
    {
      "cell_type": "code",
      "source": [
        "def solution(n, array):\n",
        "    start = 0\n",
        "    end = n-1\n",
        "\n",
        "    while start <= end:\n",
        "        mid = (start + end) // 2\n",
        "\n",
        "        if array[mid] == mid:\n",
        "            return mid\n",
        "        elif array[mid] > mid:\n",
        "            end = mid - 1\n",
        "        else:\n",
        "            start = mid + 1\n",
        "    return -1"
      ],
      "metadata": {
        "id": "69C320gdIj_A"
      },
      "execution_count": 9,
      "outputs": []
    },
    {
      "cell_type": "code",
      "source": [
        "#test case 1\n",
        "n = 5\n",
        "ary = [-15, -6, 1, 3, 7]\n",
        "\n",
        "print(solution(n, ary))"
      ],
      "metadata": {
        "colab": {
          "base_uri": "https://localhost:8080/"
        },
        "id": "VpuDgPXq8oWa",
        "outputId": "d2adf5eb-7131-4b24-b4aa-af4898f57c1b"
      },
      "execution_count": 10,
      "outputs": [
        {
          "output_type": "stream",
          "name": "stdout",
          "text": [
            "3\n"
          ]
        }
      ]
    },
    {
      "cell_type": "code",
      "source": [
        "#test case 2\n",
        "n = 7\n",
        "ary = [-15, -4, 2, 8, 9, 13, 15]\n",
        "\n",
        "print(solution(n, ary))"
      ],
      "metadata": {
        "colab": {
          "base_uri": "https://localhost:8080/"
        },
        "id": "t_NXBtt39lvs",
        "outputId": "71e0a561-f167-40a3-d2ff-5b2f7ddb9f56"
      },
      "execution_count": 11,
      "outputs": [
        {
          "output_type": "stream",
          "name": "stdout",
          "text": [
            "2\n"
          ]
        }
      ]
    },
    {
      "cell_type": "code",
      "source": [
        "#test case 3\n",
        "n = 7\n",
        "ary = [-15, -4, 3, 8, 9, 13, 15]\n",
        "\n",
        "print(solution(n, ary))"
      ],
      "metadata": {
        "colab": {
          "base_uri": "https://localhost:8080/"
        },
        "id": "gBkL2HAEIfeu",
        "outputId": "8f372569-ffb7-41c3-a8f0-075a812ed9dd"
      },
      "execution_count": 12,
      "outputs": [
        {
          "output_type": "stream",
          "name": "stdout",
          "text": [
            "-1\n"
          ]
        }
      ]
    },
    {
      "cell_type": "markdown",
      "source": [
        "### 15-29: 공유기 설치\n",
        "\n",
        "c개의 공유기를 n개의 집에 적당히 설치하여, 가장 인접한 두 공유기 사이의 거리를 최대로하는 프로그램 작성하기\n",
        "\n",
        "* 공유기 사이 거리를 조절하며 확인"
      ],
      "metadata": {
        "id": "t4-eOsNUJYLC"
      }
    },
    {
      "cell_type": "code",
      "source": [
        "# test case\n",
        "n, c = 5, 3\n",
        "houses = [1, 2, 8, 4, 9]"
      ],
      "metadata": {
        "id": "glbSNEYAJnBb"
      },
      "execution_count": 7,
      "outputs": []
    },
    {
      "cell_type": "code",
      "source": [
        "houses.sort()\n",
        "\n",
        "start = 1\n",
        "end = houses[n-1] - houses[0]\n",
        "result = 0\n",
        "\n",
        "while start <= end:\n",
        "    mid = (start + end) // 2\n",
        "\n",
        "    #설치 공유기 개수 체크\n",
        "    cnt = 1\n",
        "    check = houses[0]\n",
        "    for h in houses:\n",
        "        if h >= check+mid:\n",
        "            cnt += 1\n",
        "            check = h\n",
        "\n",
        "    if cnt >= c:\n",
        "        result = mid\n",
        "        start = mid + 1     #사이 거리 증가=>개수 감소\n",
        "\n",
        "    else:\n",
        "        end = mid - 1       #사이 거리 감소=>개수 증가\n",
        "    \n",
        "print(result)"
      ],
      "metadata": {
        "colab": {
          "base_uri": "https://localhost:8080/"
        },
        "id": "yUHynqOtJ3Qn",
        "outputId": "61fefbff-a04d-494d-aa1a-ab4856d6b9de"
      },
      "execution_count": 12,
      "outputs": [
        {
          "output_type": "stream",
          "name": "stdout",
          "text": [
            "3\n"
          ]
        }
      ]
    },
    {
      "cell_type": "markdown",
      "source": [
        "### 15-30: 가사 검색\n",
        "\n",
        "* 가사에 사용된 모든 단어가 담긴 배열 words\n",
        "* 찾고자 하는 키워드가 담긴 배열 queries\n",
        "* 각 키워드별로 매치된 단어가 몇 개인지 순서대로 배열에 담아 반환하는 solution함수를 완성해라"
      ],
      "metadata": {
        "id": "Z-n-kPpwriKB"
      }
    },
    {
      "cell_type": "code",
      "source": [
        "#test case\n",
        "words = ['frodo', 'front', 'frost', 'frozen', 'frame', 'kakao']\n",
        "queries = ['fro??', '????o', 'fr???', 'fro???', 'pro?']"
      ],
      "metadata": {
        "id": "ApVjS1Lvr3C8"
      },
      "execution_count": 3,
      "outputs": []
    },
    {
      "cell_type": "code",
      "source": [
        "from bisect import bisect_left, bisect_right\n",
        "\n",
        "def count_by_range(a, left, right):\n",
        "    right_idx = bisect_right(a, right)\n",
        "    left_idx = bisect_left(a, left)\n",
        "\n",
        "    return right_idx - left_idx"
      ],
      "metadata": {
        "id": "vYsxgH5TxkBr"
      },
      "execution_count": 2,
      "outputs": []
    },
    {
      "cell_type": "code",
      "source": [
        "def solution(words, queries):\n",
        "    result = []\n",
        "\n",
        "    array = [ [] for _ in range(10001) ]\n",
        "    rev_array = [ [] for _ in range(10001) ]\n",
        "\n",
        "    #길이별 단어 저장\n",
        "    for word in words:\n",
        "        array[len(word)].append(word)\n",
        "        rev_array[len(word)].append(word[::-1]) #뒤집어서 저장\n",
        "\n",
        "    #정렬\n",
        "    for i in range(10001):\n",
        "        array[i].sort()\n",
        "        rev_array[i].sort()\n",
        "\n",
        "    for q in queries:\n",
        "        if q[0] != '?': #와일드카드가 앞에\n",
        "            res = count_by_range(array[len(q)], q.replace('?','a'), q.replace('?','z'))\n",
        "        else:   #와일드카드가 뒤에\n",
        "            res = count_by_range(rev_array[len(q)], q[::-1].replace('?','a'), q[::-1].replace('?','z'))\n",
        "        \n",
        "        result.append(res)\n",
        "\n",
        "    return result"
      ],
      "metadata": {
        "id": "iKvPJiFhsG_P"
      },
      "execution_count": 6,
      "outputs": []
    },
    {
      "cell_type": "code",
      "source": [
        "print(solution(words, queries))"
      ],
      "metadata": {
        "colab": {
          "base_uri": "https://localhost:8080/"
        },
        "id": "flQT4DSzsMEm",
        "outputId": "4a498dec-8e6d-46d2-ea32-7e711c0b2e8a"
      },
      "execution_count": 7,
      "outputs": [
        {
          "output_type": "stream",
          "name": "stdout",
          "text": [
            "[3, 2, 4, 1, 0]\n"
          ]
        }
      ]
    }
  ]
}