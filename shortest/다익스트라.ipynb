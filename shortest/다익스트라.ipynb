{
  "nbformat": 4,
  "nbformat_minor": 0,
  "metadata": {
    "colab": {
      "name": "다익스트라.ipynb",
      "provenance": [],
      "collapsed_sections": [],
      "authorship_tag": "ABX9TyNtEFUJ+pPNBl6J98No8mtb",
      "include_colab_link": true
    },
    "kernelspec": {
      "name": "python3",
      "display_name": "Python 3"
    },
    "language_info": {
      "name": "python"
    }
  },
  "cells": [
    {
      "cell_type": "markdown",
      "metadata": {
        "id": "view-in-github",
        "colab_type": "text"
      },
      "source": [
        "<a href=\"https://colab.research.google.com/github/sujnkim/Algorithm-study/blob/main/shortest/%EB%8B%A4%EC%9D%B5%EC%8A%A4%ED%8A%B8%EB%9D%BC.ipynb\" target=\"_parent\"><img src=\"https://colab.research.google.com/assets/colab-badge.svg\" alt=\"Open In Colab\"/></a>"
      ]
    },
    {
      "cell_type": "markdown",
      "source": [
        "### **다익스트라Dijkstra 최단 경로 알고리즘**\n",
        "\n",
        "그래프에서 여러 개의 노드가 있을 때, **특정한 노드에서 출발하여 다른 노드로 가는 각각의 최단 경로**를 구해주는 알고리즘\n",
        "- 음의 간선(0보다 작은 값을 가지는 간선)이 없을 때 정상적으로 동작\n",
        "- **그리디 알고리즘**으로 분류\n",
        "    - 매번 가장 비용이 작은 노드를 선택하기 때문\n",
        "- 각 노드에 대한 현재까지의 최단 거리 정보를 1차원 리스트(최단 거리 테이블)에 저장 및 갱신\n",
        "- 매번 현재 처리 중인 노드를 기준으로 주변 간선 확인\n",
        "- 한 단계당 하나의 노드에 대한 최단 거리를 확실히 찾음\n",
        "    - 이미 선택된 노드는 최단 거리가 완전히 선택되었기 때문\n",
        "    - 한 번 선택된 노드는 최단 거리가 감소하지 않음"
      ],
      "metadata": {
        "id": "QMiZscYOov23"
      }
    },
    {
      "cell_type": "markdown",
      "source": [
        "---\n",
        "1. 출발 노드 설정\n",
        "2. 최단 거리 테이블 초기화\n",
        "3. **방문하지 않은 노드 중 최단거리가 가장 짧은 노드 선택**\n",
        "4. 해당 노드를 거쳐 다른 노드로 가는 비용을 계산하여 최단 거리 테이블 갱신\n",
        "5. 위 과정에서 3, 4를 반복 "
      ],
      "metadata": {
        "id": "KhXJfV-EtQRR"
      }
    },
    {
      "cell_type": "markdown",
      "source": [
        "---\n",
        "**방법1. 간단한 다익스트라 알고리즘**\n",
        "\n",
        "- 초기 상태의 최단 거리 테이블은 무한으로 초기화\n",
        "    - 지수 표기법 1e9 활용 (약10억)\n",
        "    - 모든 간선은 정수형으로 표현되므로 int(1e9)\n",
        "- 매 단계마다 1차원 리스트의 모든 원소를 순차 탐색\n",
        "    - '방문하지 않은 노드 중에서 최단 거리가 가장 짧은 노드를 선택'하기 위해"
      ],
      "metadata": {
        "id": "EjW6lV8XwmmM"
      }
    },
    {
      "cell_type": "code",
      "execution_count": 9,
      "metadata": {
        "colab": {
          "base_uri": "https://localhost:8080/"
        },
        "id": "ZhVnqHhQnq0g",
        "outputId": "403c8e5b-63a3-4105-ce77-0d3caab7e4fa"
      },
      "outputs": [
        {
          "output_type": "stream",
          "name": "stdout",
          "text": [
            "0\n",
            "2\n",
            "3\n",
            "1\n",
            "2\n",
            "4\n"
          ]
        }
      ],
      "source": [
        "import sys\n",
        "\n",
        "#input = sys.stdin.readline\n",
        "\n",
        "# 무한을 의미하는 값으로 10억을 설정\n",
        "INF = int(1e9)   \n",
        "\n",
        "# 노드 개수, 간선 개수 입력\n",
        "#n, m = map(int, input().split())\n",
        "n, m = 6, 11\n",
        "\n",
        "#시작 노드 입력\n",
        "#start = int(input())\n",
        "start = 1\n",
        "\n",
        "# 각 노드와 연결되어 있는 노드에 대한 정보를 담는 리스트\n",
        "graph = [ [] for i in range(n+1) ]\n",
        "\n",
        "#방문한 노드인지 확인하는 목적의 리스트\n",
        "visited = [False] * (n+1)\n",
        "\n",
        "# 최단 거리 테이블 무한으로 초기화\n",
        "distance = [INF] * (n+1)\n",
        "\n",
        "# 모든 간선 정보 입력\n",
        "data = [\n",
        "        [1,2,2],\n",
        "        [1,3,5],\n",
        "        [1,4,1],\n",
        "        [2,3,3],\n",
        "        [2,4,2],\n",
        "        [3,2,3],\n",
        "        [3,6,5],\n",
        "        [4,3,3],\n",
        "        [4,5,1],\n",
        "        [5,3,1],\n",
        "        [5,6,2]\n",
        "]\n",
        "\n",
        "for d in data:\n",
        "    a, b, c = d\n",
        "\n",
        "    # a->b일때, 비용이 c\n",
        "    graph[a].append((b,c))\n",
        "\n",
        "# 방문하지 않은 노드 중, 가장 최단거리가 짧은 노드의 번호를 반환\n",
        "def get_smallest_node():\n",
        "    min_val = INF\n",
        "    index = 0\n",
        "\n",
        "    # 최단거리 테이블 순차 탐색\n",
        "    for i in range(1, n+1):\n",
        "        if distance[i] < min_val and not visited[i]:\n",
        "            min_val = distance[i]\n",
        "            index = i\n",
        "\n",
        "    return index\n",
        "\n",
        "def dijkstra(start):\n",
        "\n",
        "    #시작 노드에 대해 초기화\n",
        "    distance[start] = 0\n",
        "    visited[start] = True\n",
        "    for j in graph[start]:\n",
        "        distance[j[0]] = j[1]\n",
        "    \n",
        "    #시작 노드를 제외한 전체 n-1개 노드에 대해 반복\n",
        "    for i in range(n-1):\n",
        "\n",
        "        #현재 최단 거리가 제일 짧은 노드\n",
        "        now = get_smallest_node()\n",
        "        visited[now] = True\n",
        "\n",
        "        #현재 노드와 연결된 다른 노드 확인 및 갱신\n",
        "        for j in graph[now]:\n",
        "            cost = distance[now] + j[1]\n",
        "            if cost < distance[j[0]]:\n",
        "                distance[j[0]] = cost\n",
        "\n",
        "\n",
        "# 알고리즘 수행\n",
        "dijkstra(start)\n",
        "\n",
        "# 모든 노드로 가기 위한 최단거리 출력\n",
        "for i in range(1, n+1):\n",
        "    if distance[i] == INF:\n",
        "        print(\"Infinity\")\n",
        "    else:\n",
        "        print(distance[i])"
      ]
    },
    {
      "cell_type": "markdown",
      "source": [
        "- **시간복잡도: O(V^2)**, V=노드의 개수\n",
        "    - 총 O(V)번에 걸쳐\n",
        "    - 최단 거리가 짧은 노드를 매번 선형 탐색\n",
        "    - 현재 노드와 연결된 노드를 일일이 확인\n",
        "\n",
        "전체 노드의 개수 V가 10000개를 넘어가는 문제라면 이 코드로 문제를 해결하기 힘들 것\n",
        "\n",
        "따라서, 개선된 다익스트라 알고리즘을 이용해야 함"
      ],
      "metadata": {
        "id": "MRhKuRBRJJaV"
      }
    },
    {
      "cell_type": "markdown",
      "source": [
        "---\n",
        "**방법2. 개선된 다익스트라 알고리즘**\n",
        "\n",
        "- 최악의 경우에도 **시간복잡도 O(ElogV)**를 보장\n",
        "    - O(ElogE) <= O(ElogV^2)=O(2ElogV) => O(ElogV)\n",
        "- **Heap 자료 구조**를 사용하여 최단 거리에 대한 정보를 저장\n",
        "    - 간단한 방법처럼 최단 거리가 가장 짧은 노드를 찾기 위해 매번 최단 거리 테이블을 선형적으로 찾지 않아도 됨\n",
        "    - **heapq 라이브러리**를 사용해서 구현\n",
        "- 다익스트라 알고리즘은 비용이 적은 노드를 우선 방문하므로 최소 힙 구조를 기반으로 하는 우선순위 큐 라이브러리를 그대로 사용하면 됨\n",
        "    - 우선순위 큐를 이용하여 시작 노드부터 거리가 짧은 노드 순서대로 큐에서 나올 수 있도록 만들기\n",
        "\n",
        "\n",
        "\n"
      ],
      "metadata": {
        "id": "ibC4T9xfJYyV"
      }
    },
    {
      "cell_type": "code",
      "source": [
        "import sys\n",
        "import heapq\n",
        "\n",
        "#input = sys.stdin.readline\n",
        "\n",
        "# 무한을 의미하는 값으로 10억을 설정\n",
        "INF = int(1e9)   \n",
        "\n",
        "# 노드 개수, 간선 개수 입력\n",
        "#n, m = map(int, input().split())\n",
        "n, m = 6, 11\n",
        "\n",
        "#시작 노드 입력\n",
        "#start = int(input())\n",
        "start = 1\n",
        "\n",
        "# 각 노드와 연결되어 있는 노드에 대한 정보를 담는 리스트\n",
        "graph = [ [] for i in range(n+1) ]\n",
        "\n",
        "#방문한 노드인지 확인하는 목적의 리스트 => 불요\n",
        "#visited = [False] * (n+1)\n",
        "\n",
        "# 최단 거리 테이블 무한으로 초기화\n",
        "distance = [INF] * (n+1)\n",
        "\n",
        "# 모든 간선 정보 입력\n",
        "data = [\n",
        "        [1,2,2],\n",
        "        [1,3,5],\n",
        "        [1,4,1],\n",
        "        [2,3,3],\n",
        "        [2,4,2],\n",
        "        [3,2,3],\n",
        "        [3,6,5],\n",
        "        [4,3,3],\n",
        "        [4,5,1],\n",
        "        [5,3,1],\n",
        "        [5,6,2]\n",
        "]\n",
        "for d in data:\n",
        "    a, b, c = d\n",
        "\n",
        "    # a->b일때, 비용이 c\n",
        "    graph[a].append((b,c))\n",
        "\n",
        "\n",
        "def dijkstra(start):\n",
        "\n",
        "    q = []\n",
        "\n",
        "    # 시작 노드에 대해 초기화\n",
        "    heapq.heappush(q, (0,start))\n",
        "    distance[start] = 0\n",
        "\n",
        "    # 큐가 비어있지 않다면\n",
        "    while q:\n",
        "        #최단거리가 가장 짧은 노드 꺼내기\n",
        "        dist, now = heapq.heappop(q)\n",
        "\n",
        "        # 이미 처리된 적 있다면, 무시\n",
        "        if distance[now] < dist:\n",
        "            continue\n",
        "\n",
        "        # 현재 노드와 연결된 인접 노드 확인 및 갱신\n",
        "        for i in graph[now]:\n",
        "            cost = dist + i[1]\n",
        "            if cost < distance[i[0]]:\n",
        "                distance[i[0]] = cost\n",
        "                heapq.heappush(q, (cost, i[0]))\n",
        "\n",
        "\n",
        "# 알고리즘 수행\n",
        "dijkstra(start)\n",
        "\n",
        "# 모든 노드로 가기 위한 최단거리 출력\n",
        "for i in range(1, n+1):\n",
        "    if distance[i] == INF:\n",
        "        print(\"Infinity\")\n",
        "    else:\n",
        "        print(distance[i])"
      ],
      "metadata": {
        "colab": {
          "base_uri": "https://localhost:8080/"
        },
        "id": "2MaPxZdVyhSs",
        "outputId": "880a6013-e3a7-4d09-a2ff-c71a585efc17"
      },
      "execution_count": 12,
      "outputs": [
        {
          "output_type": "stream",
          "name": "stdout",
          "text": [
            "0\n",
            "2\n",
            "3\n",
            "1\n",
            "2\n",
            "4\n"
          ]
        }
      ]
    }
  ]
}