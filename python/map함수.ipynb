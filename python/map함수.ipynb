{
  "nbformat": 4,
  "nbformat_minor": 0,
  "metadata": {
    "colab": {
      "name": "map함수.ipynb",
      "provenance": [],
      "collapsed_sections": [],
      "authorship_tag": "ABX9TyNpH/6RDIuBUT0UL2s4GxUH",
      "include_colab_link": true
    },
    "kernelspec": {
      "name": "python3",
      "display_name": "Python 3"
    },
    "language_info": {
      "name": "python"
    }
  },
  "cells": [
    {
      "cell_type": "markdown",
      "metadata": {
        "id": "view-in-github",
        "colab_type": "text"
      },
      "source": [
        "<a href=\"https://colab.research.google.com/github/sujnkim/Algorithm-study/blob/main/python/map%ED%95%A8%EC%88%98.ipynb\" target=\"_parent\"><img src=\"https://colab.research.google.com/assets/colab-badge.svg\" alt=\"Open In Colab\"/></a>"
      ]
    },
    {
      "cell_type": "markdown",
      "source": [
        "### **map함수**\n",
        "```\n",
        "map(function, iterable, ...)\n",
        "```\n",
        "\n",
        "참고한 내용\n",
        "1. https://docs.python.org/ko/3/library/functions.html#map\n",
        "2. https://wikidocs.net/32#map \n",
        "\n",
        "---\n",
        "* **여러 데이터를 한 번에 다른 형태로** 변환시키기 위해 사용함\n",
        "* 반복가능한 자료형 iterable: 리스트, 튜플 등\n",
        "* 입력받은 자료형 **iterable의 각 요소에 대해 함수 function이 수행한 결과를 묶어서** 반환\n",
        "    * 원본 iterable 객체를 변화시키지 않고 새로운 map타입 객체를 생성하여 반환\n",
        "    * map타입으로 결과를 반환하므로, **리스트/튜플 등으로 변환하여 저장**"
      ],
      "metadata": {
        "id": "M1F1XJ_Dppjm"
      }
    },
    {
      "cell_type": "code",
      "execution_count": 1,
      "metadata": {
        "colab": {
          "base_uri": "https://localhost:8080/"
        },
        "id": "ho1Dd3eApnTU",
        "outputId": "5e01db45-aea7-4150-b2bc-e59ca74498d9"
      },
      "outputs": [
        {
          "output_type": "stream",
          "name": "stdout",
          "text": [
            "['1', '2', '3']\n",
            "[1, 2, 3]\n"
          ]
        }
      ],
      "source": [
        "# 문자열로 저장된 각 요소를 전부 정수로 변환\n",
        "\n",
        "ary = ['1','2','3']\n",
        "a = list(map(int,ary))      # list로 결과 변환 후 저장\n",
        "print(ary)\n",
        "print(a)"
      ]
    },
    {
      "cell_type": "code",
      "source": [
        "def two_times(n):\n",
        "    return n*2\n",
        "\n",
        "ary = [1,2,3,4,5]\n",
        "list(map(two_times,ary))"
      ],
      "metadata": {
        "colab": {
          "base_uri": "https://localhost:8080/"
        },
        "id": "FaD-luf5uaP8",
        "outputId": "c47e7124-20a7-4fa7-f085-dfd6ab3b59c7"
      },
      "execution_count": 5,
      "outputs": [
        {
          "output_type": "execute_result",
          "data": {
            "text/plain": [
              "[2, 4, 6, 8, 10]"
            ]
          },
          "metadata": {},
          "execution_count": 5
        }
      ]
    },
    {
      "cell_type": "code",
      "source": [
        "# plusone함수를 만들지 않고\n",
        "# 람다식을 활용하면 간단해진다\n",
        "\n",
        "list(map(lambda n:n*2,ary))"
      ],
      "metadata": {
        "colab": {
          "base_uri": "https://localhost:8080/"
        },
        "id": "PhZANQrUPXVV",
        "outputId": "e9a3c069-b15f-4864-bb4f-5a9c550de116"
      },
      "execution_count": 6,
      "outputs": [
        {
          "output_type": "execute_result",
          "data": {
            "text/plain": [
              "[2, 4, 6, 8, 10]"
            ]
          },
          "metadata": {},
          "execution_count": 6
        }
      ]
    }
  ]
}