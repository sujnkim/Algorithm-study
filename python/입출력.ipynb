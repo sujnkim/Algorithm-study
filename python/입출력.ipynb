{
  "nbformat": 4,
  "nbformat_minor": 0,
  "metadata": {
    "colab": {
      "name": "입출력.ipynb",
      "provenance": [],
      "authorship_tag": "ABX9TyNcqFA33Ibvv2JoKUoub3+N",
      "include_colab_link": true
    },
    "kernelspec": {
      "name": "python3",
      "display_name": "Python 3"
    },
    "language_info": {
      "name": "python"
    }
  },
  "cells": [
    {
      "cell_type": "markdown",
      "metadata": {
        "id": "view-in-github",
        "colab_type": "text"
      },
      "source": [
        "<a href=\"https://colab.research.google.com/github/sujnkim/Algorithm-study/blob/main/python/%EC%9E%85%EC%B6%9C%EB%A0%A5.ipynb\" target=\"_parent\"><img src=\"https://colab.research.google.com/assets/colab-badge.svg\" alt=\"Open In Colab\"/></a>"
      ]
    },
    {
      "cell_type": "markdown",
      "source": [
        "## **입출력 참고 및 실습**\n",
        "<이것이 취업을 위한 코딩테스트다> Appendix A\n",
        "\n",
        "ch5. 입출력: p.444~448"
      ],
      "metadata": {
        "id": "86b5kir7TBSt"
      }
    },
    {
      "cell_type": "markdown",
      "source": [
        "### **입력**\n"
      ],
      "metadata": {
        "id": "YPUgcuDA8mb6"
      }
    },
    {
      "cell_type": "markdown",
      "source": [
        "---\n",
        "#### **여러 개의 데이터를 한 번에 받기**\n",
        "```\n",
        "data = list(map(int,input().split()))\n",
        "n, m = map(int,input().split())\n",
        "```\n",
        "\n",
        "* input 함수: 사용자 입력을 받음\n",
        "    * https://github.com/sujnkim/Algorithm-study/blob/main/python/input%ED%95%A8%EC%88%98.ipynb\n",
        "* split 함수: 한 번에 입력 받은 여러 데이터를 구분\n",
        "* map 함수: 여러 데이터를 한 번에 다른 형태로 변환 \n",
        "    * https://github.com/sujnkim/Algorithm-study/blob/main/python/map%ED%95%A8%EC%88%98.ipynb\n"
      ],
      "metadata": {
        "id": "aWuzpzb7rEiq"
      }
    },
    {
      "cell_type": "code",
      "execution_count": 1,
      "metadata": {
        "colab": {
          "base_uri": "https://localhost:8080/"
        },
        "id": "wGYc3_jy8ipF",
        "outputId": "c7cbd71b-02f5-4655-c694-3ebe0c60629c"
      },
      "outputs": [
        {
          "output_type": "stream",
          "name": "stdout",
          "text": [
            "4\n",
            "5 8 3 5\n",
            "[8, 5, 5, 3]\n"
          ]
        }
      ],
      "source": [
        "# 입력을 위한 전형적인 소스코드\n",
        "#-------------------------------\n",
        "\n",
        "#데이터 개수 입력\n",
        "n = int(input())\n",
        "\n",
        "#각 데이터를 공백으로 구분하여 입력\n",
        "data = list(map(int,input().split()))\n",
        "\n",
        "data.sort(reverse=True)\n",
        "print(data)"
      ]
    },
    {
      "cell_type": "code",
      "source": [
        "#공백을 기준으로 하여 적은 수의 데이터 입력\n",
        "#------------------------------------------\n",
        "\n",
        "# n, m, k를 공백으로 구분하여 입력\n",
        "n, m, k = map(int,input().split())\n",
        "\n",
        "print(n, m, k)"
      ],
      "metadata": {
        "colab": {
          "base_uri": "https://localhost:8080/"
        },
        "id": "GC9LaPhF-IUI",
        "outputId": "458dc6ff-f577-4024-b8f8-07b67447b87e"
      },
      "execution_count": 2,
      "outputs": [
        {
          "output_type": "stream",
          "name": "stdout",
          "text": [
            "8 5 3\n",
            "8 5 3\n"
          ]
        }
      ]
    },
    {
      "cell_type": "markdown",
      "source": [
        "---\n",
        "#### **sys.stdin.readline()**\n",
        "```\n",
        "import sys\n",
        "sys.stdin.readline().rstrip()\n",
        "```\n",
        "* input 함수는 동작 속도가 느림\n",
        "    * **입력 개수가 많을 경우**, 시간초과 오답 판정\n",
        "* sys 라이브러리의 **sys.stdin.readline()함수** 사용\n",
        "* rstrip() : sys라이브러리 사용 할 때 한 줄 입력 받은 후 꼭 호출해야함. readline()으로 입력받으면 엔터가 줄바꿈 기호로 남아있는데, 이것을 제거하기 위함."
      ],
      "metadata": {
        "id": "VOeG1-GWrZum"
      }
    },
    {
      "cell_type": "code",
      "source": [
        "# readline() 사용 소스코드 예시\n",
        "#------------------------------\n",
        "import sys\n",
        "\n",
        "# 문자열 입력받기\n",
        "data = sys.stdin.readline().rstrip()\n",
        "print(data)"
      ],
      "metadata": {
        "id": "nrJpSAAE-ZVy"
      },
      "execution_count": null,
      "outputs": []
    },
    {
      "cell_type": "markdown",
      "source": [
        "---\n",
        "---\n",
        "\n",
        "### **출력**"
      ],
      "metadata": {
        "id": "wIxvQYL_TLhX"
      }
    },
    {
      "cell_type": "markdown",
      "source": [
        "#### **print 함수**\n",
        "* 변수, 상수를 매개변수로 입력받아 표준 출력\n",
        "* 각 변수를 콤마(,)로 구분하여 매개변수로 넣을 수 있음\n",
        "    * 띄어쓰기로 구분되어 표준 출력\n",
        "* 표준 출력 이후 줄 바꿈 수행"
      ],
      "metadata": {
        "id": "npEh-Y--TwID"
      }
    },
    {
      "cell_type": "code",
      "source": [
        "# 변수 출력 예시\n",
        "#----------------\n",
        "\n",
        "# 출력할 변수들\n",
        "a = 30\n",
        "b = 40\n",
        "print(a, b)"
      ],
      "metadata": {
        "colab": {
          "base_uri": "https://localhost:8080/"
        },
        "id": "un81ZQpuTNOI",
        "outputId": "399d1b9c-95a1-4b38-85ea-c02f883b7376"
      },
      "execution_count": 4,
      "outputs": [
        {
          "output_type": "stream",
          "name": "stdout",
          "text": [
            "70\n"
          ]
        }
      ]
    },
    {
      "cell_type": "code",
      "source": [
        "# 출력 줄 바꿈 예시\n",
        "#------------------\n",
        "\n",
        "a = 30\n",
        "b = 40\n",
        "print(a)\n",
        "print(b)"
      ],
      "metadata": {
        "colab": {
          "base_uri": "https://localhost:8080/"
        },
        "id": "g-QjQ8n6UMKt",
        "outputId": "abd74414-f623-4f2d-b804-c1fdd76b3153"
      },
      "execution_count": 5,
      "outputs": [
        {
          "output_type": "stream",
          "name": "stdout",
          "text": [
            "30\n",
            "40\n"
          ]
        }
      ]
    },
    {
      "cell_type": "markdown",
      "source": [
        "---\n",
        "* 문자열, 수를 단순히 '+'로 연결하면 오류 발생\n",
        "    * **문자열 자료형끼리만 '+'로 연결** 가능\n",
        "    * 자바에서는 문자열과 수를 더하면 자동으로 수가 문자열로 변환되지만, 파이썬은 그렇지 않음\n",
        "    * 해결1: **str()**을 써서 문자열로 바꾼 후 +\n",
        "    * 해결2: **콤마(,)**로 연결(공백 삽입됨)\n",
        "    * 해결3: **f-string** 방식"
      ],
      "metadata": {
        "id": "VawtTQ38kTs3"
      }
    },
    {
      "cell_type": "code",
      "source": [
        "# 출력 시 오류가 발생하는 소스코드\n",
        "#---------------------------------\n",
        "answer = 10\n",
        "print(\"정답은 \"+ answer+ \"입니다.\")"
      ],
      "metadata": {
        "colab": {
          "base_uri": "https://localhost:8080/",
          "height": 209
        },
        "id": "S3jN44aOhvjh",
        "outputId": "8fac7340-82f9-44b5-841d-38c0934496d6"
      },
      "execution_count": 9,
      "outputs": [
        {
          "output_type": "error",
          "ename": "TypeError",
          "evalue": "ignored",
          "traceback": [
            "\u001b[0;31m---------------------------------------------------------------------------\u001b[0m",
            "\u001b[0;31mTypeError\u001b[0m                                 Traceback (most recent call last)",
            "\u001b[0;32m<ipython-input-9-3131ae1a2d15>\u001b[0m in \u001b[0;36m<module>\u001b[0;34m()\u001b[0m\n\u001b[1;32m      2\u001b[0m \u001b[0;31m#---------------------------------\u001b[0m\u001b[0;34m\u001b[0m\u001b[0;34m\u001b[0m\u001b[0;34m\u001b[0m\u001b[0m\n\u001b[1;32m      3\u001b[0m \u001b[0manswer\u001b[0m \u001b[0;34m=\u001b[0m \u001b[0;36m10\u001b[0m\u001b[0;34m\u001b[0m\u001b[0;34m\u001b[0m\u001b[0m\n\u001b[0;32m----> 4\u001b[0;31m \u001b[0mprint\u001b[0m\u001b[0;34m(\u001b[0m\u001b[0;34m\"정답은 \"\u001b[0m\u001b[0;34m+\u001b[0m \u001b[0manswer\u001b[0m\u001b[0;34m+\u001b[0m \u001b[0;34m\"입니다.\"\u001b[0m\u001b[0;34m)\u001b[0m\u001b[0;34m\u001b[0m\u001b[0;34m\u001b[0m\u001b[0m\n\u001b[0m",
            "\u001b[0;31mTypeError\u001b[0m: can only concatenate str (not \"int\") to str"
          ]
        }
      ]
    },
    {
      "cell_type": "code",
      "source": [
        "# 해결1: 변수를 문자열로 바꾸어 출력\n",
        "#------------------------------------\n",
        "answer = 10\n",
        "print(\"정답은 \"+str(answer)+\"입니다.\")"
      ],
      "metadata": {
        "colab": {
          "base_uri": "https://localhost:8080/"
        },
        "id": "MybpdCa4iF2-",
        "outputId": "fa4a0f58-c9f5-4a0e-a00f-3e773a466a1d"
      },
      "execution_count": 10,
      "outputs": [
        {
          "output_type": "stream",
          "name": "stdout",
          "text": [
            "정답은 10입니다.\n"
          ]
        }
      ]
    },
    {
      "cell_type": "code",
      "source": [
        "# 해결2: 각 변수를 콤마(,)로 구분하여 출력\n",
        "#------------------------------------------\n",
        "answer = 10\n",
        "print(\"정답은\",answer,\"입니다.\")"
      ],
      "metadata": {
        "colab": {
          "base_uri": "https://localhost:8080/"
        },
        "id": "yscUDMafiNbS",
        "outputId": "a6eb1231-1d5d-40cc-fed5-a1a0dd7aaaa8"
      },
      "execution_count": 11,
      "outputs": [
        {
          "output_type": "stream",
          "name": "stdout",
          "text": [
            "정답은 10 입니다.\n"
          ]
        }
      ]
    },
    {
      "cell_type": "code",
      "source": [
        "# 해결3: f-string\n",
        "#-----------------\n",
        "answer = 10\n",
        "print(f\"정답은 {answer}입니다.\")"
      ],
      "metadata": {
        "colab": {
          "base_uri": "https://localhost:8080/"
        },
        "id": "uyAOh91Ojai0",
        "outputId": "382cdd3d-1d95-43a5-bc66-c74f3d15cfba"
      },
      "execution_count": 12,
      "outputs": [
        {
          "output_type": "stream",
          "name": "stdout",
          "text": [
            "정답은 10입니다.\n"
          ]
        }
      ]
    }
  ]
}