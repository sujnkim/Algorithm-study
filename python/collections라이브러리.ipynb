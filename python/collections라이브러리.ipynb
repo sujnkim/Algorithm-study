{
  "nbformat": 4,
  "nbformat_minor": 0,
  "metadata": {
    "colab": {
      "name": "collections라이브러리.ipynb",
      "provenance": [],
      "collapsed_sections": [],
      "authorship_tag": "ABX9TyM3p4h7HIJdKxcdRCfqDsUs",
      "include_colab_link": true
    },
    "kernelspec": {
      "name": "python3",
      "display_name": "Python 3"
    },
    "language_info": {
      "name": "python"
    }
  },
  "cells": [
    {
      "cell_type": "markdown",
      "metadata": {
        "id": "view-in-github",
        "colab_type": "text"
      },
      "source": [
        "<a href=\"https://colab.research.google.com/github/sujnkim/Algorithm-study/blob/main/python/collections%EB%9D%BC%EC%9D%B4%EB%B8%8C%EB%9F%AC%EB%A6%AC.ipynb\" target=\"_parent\"><img src=\"https://colab.research.google.com/assets/colab-badge.svg\" alt=\"Open In Colab\"/></a>"
      ]
    },
    {
      "cell_type": "markdown",
      "source": [
        "### **collections 라이브러리**\n",
        "\n",
        "참고자료:\n",
        "\n",
        "1) <이것이 취업을 위한 코딩 테스트다> Appendix A, p.457-459\n",
        "\n",
        "2) 파이썬 문서 https://docs.python.org/ko/3/library/collections.html\n"
      ],
      "metadata": {
        "id": "0-8ntPvBAVFx"
      }
    },
    {
      "cell_type": "markdown",
      "source": [
        "---\n",
        "유용한 자료구조를 제공하는 **표준 라이브러리 collections**\n",
        "* **deque: 큐를 구현**할 때 사용\n",
        "* **Counter: 등장 횟수를 세는 기능** 제공"
      ],
      "metadata": {
        "id": "N85ZJBzvA8ZU"
      }
    },
    {
      "cell_type": "markdown",
      "source": [
        "---\n",
        "####**deque**\n",
        "\n",
        "* double-end queue\n",
        "* **양방향에서 자료를 추가, 삭제**할 수 있는 자료구조\n",
        "* 스택처럼, 큐 처럼 사용할 수 있음\n",
        "* **양 끝에서** 자료를 추가, 삭제하는 데 매우 효과적임\n",
        "    * deque 객체의 양 끝에 **자료 추가, 삭제 시간 복잡도: O(1)**\n",
        "    * 리스트의 가장 앞쪽에 자료를 추가, 삭제할 경우 시간 복잡도: O(N)\n",
        "    * 리스트의 가장 뒤쪽에 자료를 추가, 삭제할 경우 시간 복잡도: O(1)\n",
        "    * 리스트의 앞쪽에 데이터 변경이 발생할 경우, 변경한 데이터의 뒤쪽에 위치한 데이터들을 전부 당기거나 밀어줘야 하기 때문임"
      ],
      "metadata": {
        "id": "DQK2hXWhCSpS"
      }
    },
    {
      "cell_type": "markdown",
      "source": [
        "---\n",
        "**deque 객체 생성**\n",
        "```\n",
        "from collections import deque\n",
        "dq = deque(넣을자료)\n",
        "```\n",
        "* 넣을 자료에 문자열을 이용할 경우, 각 문자가 요소로 된 리스트 형태의 deque가 생성"
      ],
      "metadata": {
        "id": "Z1jgQTV1HHUu"
      }
    },
    {
      "cell_type": "code",
      "source": [
        "from collections import deque\n",
        "dq = deque([2,3,4])\n",
        "print(dq)"
      ],
      "metadata": {
        "colab": {
          "base_uri": "https://localhost:8080/"
        },
        "id": "jUQ7TNXZHZFv",
        "outputId": "1862997d-370d-4ece-a922-d6b80fa72b99"
      },
      "execution_count": 1,
      "outputs": [
        {
          "output_type": "stream",
          "name": "stdout",
          "text": [
            "deque([2, 3, 4])\n"
          ]
        }
      ]
    },
    {
      "cell_type": "code",
      "source": [
        "dq = deque('hello')\n",
        "print(dq)"
      ],
      "metadata": {
        "colab": {
          "base_uri": "https://localhost:8080/"
        },
        "id": "XlwZjDx9HrR2",
        "outputId": "9dc0a870-40a4-42e7-80c1-0c2dd0812fb0"
      },
      "execution_count": 2,
      "outputs": [
        {
          "output_type": "stream",
          "name": "stdout",
          "text": [
            "deque(['h', 'e', 'l', 'l', 'o'])\n"
          ]
        }
      ]
    },
    {
      "cell_type": "markdown",
      "source": [
        "---\n",
        "**collections.deque의 메소드**\n",
        "\n",
        "* append(item) : deque의 오른쪽에 item 삽입\n",
        "* pop() : deque의 오른쪽에 있는 자료를 반환 후 삭제\n",
        "* appendleft(item) : deque의 왼쪽에 item 삽입\n",
        "* popleft() : deque의 왼쪽에 있는 자료를 반환 후 삭제\n",
        "* extend(iterable) : iterable의 요소를 추가하여 deque의 오른쪽을 확장\n",
        "* extendleft(iterable) : iterable의 요소를 추가하여 deque의 왼쪽을 \n",
        "* rotate(n=1) : deque를 n단계 오른쪽으로 회전( n이 음수일 경우, 왼쪽으로 회전함 )"
      ],
      "metadata": {
        "id": "H3MFrCysGjhE"
      }
    },
    {
      "cell_type": "code",
      "source": [
        "from collections import deque\n",
        "\n",
        "deq = deque([3,4,5])\n",
        "\n",
        "# Add element to the start\n",
        "deq.appendleft(10)\n",
        "print(deq)\n",
        "\n",
        "# Add element to the end\n",
        "deq.append(1)\n",
        "print(deq)\n",
        "\n",
        "# Pop element from the start\n",
        "print(deq.popleft())\n",
        "\n",
        "# Pop element from the end\n",
        "print(deq.pop())"
      ],
      "metadata": {
        "colab": {
          "base_uri": "https://localhost:8080/"
        },
        "id": "1zOaLimpH1pO",
        "outputId": "983628b1-671c-4b25-c280-95093779da15"
      },
      "execution_count": 4,
      "outputs": [
        {
          "output_type": "stream",
          "name": "stdout",
          "text": [
            "deque([10, 3, 4, 5])\n",
            "deque([10, 3, 4, 5, 1])\n",
            "10\n",
            "1\n"
          ]
        }
      ]
    },
    {
      "cell_type": "markdown",
      "source": [
        "---\n",
        "deque로 스택 구현_ 오른쪽에서 추가, 삭제\n",
        "* push: append() \n",
        "* pop: pop()\n",
        "\n",
        "deque로 큐 구현_ 오른쪽에서 추가, 왼쪽에서 삭제\n",
        "* push: append()\n",
        "* pop: popleft()"
      ],
      "metadata": {
        "id": "HQ21hsFJL-Ei"
      }
    },
    {
      "cell_type": "markdown",
      "source": [
        "#### **Counter**"
      ],
      "metadata": {
        "id": "dhxN6T6EL2um"
      }
    },
    {
      "cell_type": "code",
      "source": [
        "from collections import Counter\n",
        "\n",
        "counter = Counter(['red','blue','red','green','blue','blue'])\n",
        "\n",
        "print(counter['blue'])\n",
        "print(counter['green'])\n",
        "print(dict(counter))"
      ],
      "metadata": {
        "colab": {
          "base_uri": "https://localhost:8080/"
        },
        "id": "35pi0XjEL5o-",
        "outputId": "4a064826-3630-458e-d809-ec6f1971415b"
      },
      "execution_count": 1,
      "outputs": [
        {
          "output_type": "stream",
          "name": "stdout",
          "text": [
            "3\n",
            "1\n",
            "{'red': 2, 'blue': 3, 'green': 1}\n"
          ]
        }
      ]
    }
  ]
}