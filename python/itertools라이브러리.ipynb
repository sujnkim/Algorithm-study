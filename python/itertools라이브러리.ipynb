{
  "nbformat": 4,
  "nbformat_minor": 0,
  "metadata": {
    "colab": {
      "name": "itertools라이브러리.ipynb",
      "provenance": [],
      "authorship_tag": "ABX9TyOQ93gcUjrWM6HmEw6K3xGu",
      "include_colab_link": true
    },
    "kernelspec": {
      "name": "python3",
      "display_name": "Python 3"
    },
    "language_info": {
      "name": "python"
    }
  },
  "cells": [
    {
      "cell_type": "markdown",
      "metadata": {
        "id": "view-in-github",
        "colab_type": "text"
      },
      "source": [
        "<a href=\"https://colab.research.google.com/github/sujnkim/Algorithm-study/blob/main/python/itertools%EB%9D%BC%EC%9D%B4%EB%B8%8C%EB%9F%AC%EB%A6%AC.ipynb\" target=\"_parent\"><img src=\"https://colab.research.google.com/assets/colab-badge.svg\" alt=\"Open In Colab\"/></a>"
      ]
    },
    {
      "cell_type": "markdown",
      "source": [
        "### **itertools 라이브러리**\n",
        "* **반복되는 형태의 데이터**를 처리하는 기능 제공\n",
        "* **순열, 조합** 라이브러리 제공\n",
        "\n",
        "* 참고 자료\n",
        "\n",
        "    1) <이것이 취업을 위한 코딩 테스트다> Appendix A, p.452~454\n"
      ],
      "metadata": {
        "id": "MRtdnSdk_rX4"
      }
    },
    {
      "cell_type": "markdown",
      "source": [
        "---\n",
        "**permutations**\n",
        "* 순열 계산\n",
        "* iterable 객체에서 **r개의 데이터를 뽑아 \n",
        "나열**하는 모든 경우"
      ],
      "metadata": {
        "id": "AfCP_h9LJuPm"
      }
    },
    {
      "cell_type": "code",
      "execution_count": 3,
      "metadata": {
        "colab": {
          "base_uri": "https://localhost:8080/"
        },
        "id": "jVT6wYpy_of3",
        "outputId": "0152fd9e-4777-4769-cd78-d16ac779a802"
      },
      "outputs": [
        {
          "output_type": "stream",
          "name": "stdout",
          "text": [
            "[('A', 'B'), ('A', 'C'), ('B', 'A'), ('B', 'C'), ('C', 'A'), ('C', 'B')]\n"
          ]
        }
      ],
      "source": [
        "from itertools import permutations\n",
        "\n",
        "data = ['A','B','C']\n",
        "\n",
        "result = list(permutations(data, 2))    # 2개를 뽑는 모든 순열\n",
        "print(result)"
      ]
    },
    {
      "cell_type": "code",
      "source": [
        "result = list(permutations(data))   # 모든 데이터를 뽑는 순열\n",
        "print(result)"
      ],
      "metadata": {
        "colab": {
          "base_uri": "https://localhost:8080/"
        },
        "id": "gHjopamqJof4",
        "outputId": "701bdbeb-8d07-4f38-9664-abec5eb49dd0"
      },
      "execution_count": 5,
      "outputs": [
        {
          "output_type": "stream",
          "name": "stdout",
          "text": [
            "[('A', 'B', 'C'), ('A', 'C', 'B'), ('B', 'A', 'C'), ('B', 'C', 'A'), ('C', 'A', 'B'), ('C', 'B', 'A')]\n"
          ]
        }
      ]
    },
    {
      "cell_type": "markdown",
      "source": [
        "---\n",
        "**combinations**\n",
        "* 조합 계산\n",
        "* iterable 객체에서 **r개의 데이터를 뽑아 '순서를 고려하지 않고' 나열**하는 모든 경우"
      ],
      "metadata": {
        "id": "KAg3GGPxJ4vP"
      }
    },
    {
      "cell_type": "code",
      "source": [
        "from itertools import combinations\n",
        "\n",
        "data = ['A','B','C']\n",
        "\n",
        "result = list(combinations(data, 2))    # 2개를 뽑는 모든 조합\n",
        "print(result)"
      ],
      "metadata": {
        "colab": {
          "base_uri": "https://localhost:8080/"
        },
        "id": "duOyjRN-KKvF",
        "outputId": "8419447b-4eba-4ca6-cfd9-1de89f42cd53"
      },
      "execution_count": 7,
      "outputs": [
        {
          "output_type": "stream",
          "name": "stdout",
          "text": [
            "[('A', 'B'), ('A', 'C'), ('B', 'C')]\n"
          ]
        }
      ]
    },
    {
      "cell_type": "markdown",
      "source": [
        "---\n",
        "**product**\n",
        "* permutation과 같이 r개의 데이터를 뽑아 나열하는 모든 경우\n",
        "* 단, **데이터를 중복**해서 뽑음\n",
        "* **뽑고자 하는 데이터 개수를 repeat 속성값**에 넣어줌"
      ],
      "metadata": {
        "id": "cIZodkc1LyeP"
      }
    },
    {
      "cell_type": "code",
      "source": [
        "from itertools import product\n",
        "\n",
        "data = ['A','B','C']\n",
        "\n",
        "result = list(product(data, repeat=2))      # 중복 가능하게 2개를 뽑는 모든 순열\n",
        "print(result)"
      ],
      "metadata": {
        "colab": {
          "base_uri": "https://localhost:8080/"
        },
        "id": "UbWS0PLjKmQ7",
        "outputId": "553e24aa-759f-41f8-9a1b-139e4b32b7e6"
      },
      "execution_count": 9,
      "outputs": [
        {
          "output_type": "stream",
          "name": "stdout",
          "text": [
            "[('A', 'A'), ('A', 'B'), ('A', 'C'), ('B', 'A'), ('B', 'B'), ('B', 'C'), ('C', 'A'), ('C', 'B'), ('C', 'C')]\n"
          ]
        }
      ]
    },
    {
      "cell_type": "markdown",
      "source": [
        "---\n",
        "**combinations_with_replacement**\n",
        "* combinations와 같이 iterabe 객체에서 r개의 데이터를 뽑아 순서를 고려하지 않고 나열\n",
        "* **데이터를 중복**해서 뽑음"
      ],
      "metadata": {
        "id": "tSGYpIGiL9iW"
      }
    },
    {
      "cell_type": "code",
      "source": [
        "from itertools import combinations_with_replacement\n",
        "\n",
        "data = ['A','B','C']\n",
        "\n",
        "result = list(combinations_with_replacement(data, 2))   # 중복 가능하게 2개를 뽑는 모든 조합\n",
        "print(result) "
      ],
      "metadata": {
        "colab": {
          "base_uri": "https://localhost:8080/"
        },
        "id": "bENDDF9rMvWm",
        "outputId": "2459dccd-03e6-400a-9502-85eb96c93b2e"
      },
      "execution_count": 10,
      "outputs": [
        {
          "output_type": "stream",
          "name": "stdout",
          "text": [
            "[('A', 'A'), ('A', 'B'), ('A', 'C'), ('B', 'B'), ('B', 'C'), ('C', 'C')]\n"
          ]
        }
      ]
    }
  ]
}