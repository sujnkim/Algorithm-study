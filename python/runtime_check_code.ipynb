{
  "nbformat": 4,
  "nbformat_minor": 0,
  "metadata": {
    "colab": {
      "name": "runtime_check_code.ipynb",
      "provenance": [],
      "collapsed_sections": [],
      "authorship_tag": "ABX9TyO9VGcwC/kQfiYRUAGM0LXJ",
      "include_colab_link": true
    },
    "kernelspec": {
      "name": "python3",
      "display_name": "Python 3"
    },
    "language_info": {
      "name": "python"
    }
  },
  "cells": [
    {
      "cell_type": "markdown",
      "metadata": {
        "id": "view-in-github",
        "colab_type": "text"
      },
      "source": [
        "<a href=\"https://colab.research.google.com/github/sujnkim/Algorithm-study/blob/main/python/runtime_check_code.ipynb\" target=\"_parent\"><img src=\"https://colab.research.google.com/assets/colab-badge.svg\" alt=\"Open In Colab\"/></a>"
      ]
    },
    {
      "cell_type": "markdown",
      "source": [
        "###**파이썬 시간 측정**\n",
        "<이것이 취업을 위한 코딩 테스트다> p.51\n",
        "* **수행 시간 측정 소스코드**\n",
        "* 선택 정렬과 기본 정렬 라이브러리 수행 시간 비교"
      ],
      "metadata": {
        "id": "3Vp1uKFHayOr"
      }
    },
    {
      "cell_type": "markdown",
      "source": [
        "* time.time()을 이용하여 현재 시각을 측정\n",
        "* 측정 종료 시간에서 측정 시작 시간을 빼서 실행 시간을 도출\n",
        "* end_time - start_time "
      ],
      "metadata": {
        "id": "6atHOLWpgp4Y"
      }
    },
    {
      "cell_type": "code",
      "execution_count": null,
      "metadata": {
        "colab": {
          "base_uri": "https://localhost:8080/"
        },
        "id": "2jeKZr1vaqSm",
        "outputId": "541a0b93-5356-4ab2-94d7-b2a1ea4745b1"
      },
      "outputs": [
        {
          "output_type": "stream",
          "name": "stdout",
          "text": [
            "time:  3.0040740966796875e-05\n"
          ]
        }
      ],
      "source": [
        "# 수행시간 측정 소스코드\n",
        "import time\n",
        "start_time = time.time()    #측정 시작\n",
        "\n",
        "#프로그램 소스코드\n",
        "##### 측정할 소스코드를 채울 부분\n",
        "\n",
        "end_time = time.time()  #측정 종료\n",
        "\n",
        "print(\"time: \",end_time-start_time)     #수행 시간 출력"
      ]
    },
    {
      "cell_type": "code",
      "source": [
        "# 소수점 자리 조절 출력\n",
        "print(f\"{end_time - start_time:.5f} sec\")"
      ],
      "metadata": {
        "colab": {
          "base_uri": "https://localhost:8080/"
        },
        "id": "a9lavca8H1BT",
        "outputId": "5bcecd75-efa8-4681-d54b-ff73432e70d6"
      },
      "execution_count": null,
      "outputs": [
        {
          "output_type": "stream",
          "name": "stdout",
          "text": [
            "0.00003 sec\n"
          ]
        }
      ]
    },
    {
      "cell_type": "markdown",
      "source": [
        "#### 사용 예시\n",
        "선택정렬과 기본 라이브러리 수행 시간 비교"
      ],
      "metadata": {
        "id": "bdA79NNyJ6og"
      }
    },
    {
      "cell_type": "code",
      "source": [
        "from random import randint\n",
        "import time\n",
        "\n",
        "# 배열에 10,000개 정수 삽입\n",
        "array=[]\n",
        "for _ in range(10000):\n",
        "    array.append(randint(1,100))    # 1~100 사이 랜덤 정수\n",
        "\n",
        "# 선택정렬 프로그램 성능 측정\n",
        "start_time=time.time()\n",
        "\n",
        "# 선택정렬 프로그램 소스코드\n",
        "for i in range(len(array)):\n",
        "    min_index=i     # 가장 작은 원소 인덱스\n",
        "    for j in range(i+1,len(array)):\n",
        "        if array[min_index]>array[j]:\n",
        "            min_index=j\n",
        "        array[i],array[min_index]=array[min_index],array[i]    #swap\n",
        "\n",
        "end_time=time.time()\n",
        "print(\"선택정렬 성능 측정: \",end_time-start_time)\n",
        "\n",
        "# 배열을 다시 무작위 데이터로 초기화\n",
        "array=[]\n",
        "for _ in range(10000):\n",
        "    array.append(randint(1,100))\n",
        "\n",
        "# 기본 정렬 라이브러리 성능 측정\n",
        "start_time=time.time()\n",
        "\n",
        "array.sort()\n",
        "\n",
        "end_time = time.time()\n",
        "print(\"기본 정렬 라이브러리 성능 측정: \",end_time-start_time)"
      ],
      "metadata": {
        "colab": {
          "base_uri": "https://localhost:8080/"
        },
        "id": "AHaeDwLTbQ-Z",
        "outputId": "655abd23-40d2-4800-9ad0-6c22cf710b8c"
      },
      "execution_count": null,
      "outputs": [
        {
          "output_type": "stream",
          "name": "stdout",
          "text": [
            "선택정렬 성능 측정:  18.662317037582397\n",
            "기본 정렬 라이브러리 성능 측정:  0.0012252330780029297\n"
          ]
        }
      ]
    }
  ]
}