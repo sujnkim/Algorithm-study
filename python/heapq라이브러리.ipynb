{
  "nbformat": 4,
  "nbformat_minor": 0,
  "metadata": {
    "colab": {
      "name": "heapq라이브러리.ipynb",
      "provenance": [],
      "collapsed_sections": [],
      "authorship_tag": "ABX9TyNQNlre2z70tTOZBzh9lCX2",
      "include_colab_link": true
    },
    "kernelspec": {
      "name": "python3",
      "display_name": "Python 3"
    },
    "language_info": {
      "name": "python"
    }
  },
  "cells": [
    {
      "cell_type": "markdown",
      "metadata": {
        "id": "view-in-github",
        "colab_type": "text"
      },
      "source": [
        "<a href=\"https://colab.research.google.com/github/sujnkim/Algorithm-study/blob/main/python/heapq%EB%9D%BC%EC%9D%B4%EB%B8%8C%EB%9F%AC%EB%A6%AC.ipynb\" target=\"_parent\"><img src=\"https://colab.research.google.com/assets/colab-badge.svg\" alt=\"Open In Colab\"/></a>"
      ]
    },
    {
      "cell_type": "markdown",
      "source": [
        "### **Heapq**\n",
        "\n",
        "참고자료:\n",
        "\n",
        "1) <이것이 취업을 위한 코딩 테스트다> \n",
        "* Appendix A ch6: p.454-455 \n",
        "\n",
        "2) https://docs.python.org/ko/3/library/heapq.html\n"
      ],
      "metadata": {
        "id": "-w5oLq13XZll"
      }
    },
    {
      "cell_type": "markdown",
      "source": [
        "---\n",
        "* **heapq** : 내장모듈, 리스트를 최소 힙처럼 다룰 수 있게 도와줌\n",
        "* **우선순위 큐** 기능 구현 시 heapq 라이브러리를 사용\n",
        "    * 우선순위큐: 우선순위가 가장 높은 것이 먼저 꺼내짐\n",
        "    * PriorityQueue 라이브러리도 있으나, 일반적으로 heapq가 더 빠른 편\n",
        "* 파이썬의 힙은 **최소힙Min Heap**으로 구성\n",
        "    * 힙: 특정한 규칙을 만족하도록 구성된 이진 트리\n",
        "    * 최소힙 자료구조: 최상단(root)에 항상 가장 작은 원소가 위치\n",
        "    * 부모 노드가 자식보다 작거나 같은 값을 가짐\n",
        "    * 모든 k에 대해 ```heap[k] <= heap[2*k+1]과 heap[k] <= heap[2*k+2]```인 배열을 사용\n",
        "    * 힙에 넣었다 빼는 것만으로도 시간복잡도가 O(NlogN)인 오름차순 정렬 가능\n",
        "* element 조작법\n",
        "    * 삽입: **heapq.heappush()**\n",
        "    * 꺼내기: **heapq.heappop()**\n",
        "---"
      ],
      "metadata": {
        "id": "VHYFp-r2YOOJ"
      }
    },
    {
      "cell_type": "markdown",
      "source": [
        "**모듈 임포트**\n",
        "* 내장모듈이므로 간단하게 사용 가능"
      ],
      "metadata": {
        "id": "aBUtBBvW5ZpK"
      }
    },
    {
      "cell_type": "code",
      "source": [
        "#모듈 임포트\n",
        "\n",
        "import heapq"
      ],
      "metadata": {
        "id": "Vi5mjeeifyCS"
      },
      "execution_count": null,
      "outputs": []
    },
    {
      "cell_type": "markdown",
      "source": [
        "**최소 힙 생성**\n",
        "* 빈 리스트를 생성\n",
        "* heapq 모듈의 함수를 사용할 때마다 리스트로 인자를 전달해야 함"
      ],
      "metadata": {
        "id": "TrUivytGgE54"
      }
    },
    {
      "cell_type": "code",
      "source": [
        "heap = []"
      ],
      "metadata": {
        "id": "i7_Q9kyef3YS"
      },
      "execution_count": null,
      "outputs": []
    },
    {
      "cell_type": "markdown",
      "source": [
        "**힙에 원소 추가(삽입)**\n",
        "```\n",
        "heapq.heappush(heap, item)\n",
        "```\n",
        "* heap: 원소를 추가할 리스트 / item: 추가할 원소\n",
        "* 힙 불변성을 유지하면서 item값을 heap에 push\n",
        "* 가장 작은 원소가 리스트의 0번째에 들어가게 된다"
      ],
      "metadata": {
        "id": "dfodoS475G-Y"
      }
    },
    {
      "cell_type": "code",
      "source": [
        "heapq.heappush(heap,3)\n",
        "heapq.heappush(heap,1)\n",
        "heapq.heappush(heap,5)\n",
        "print(heap)"
      ],
      "metadata": {
        "colab": {
          "base_uri": "https://localhost:8080/"
        },
        "id": "YqtgBRsf5iAV",
        "outputId": "0bc9f9ea-00c8-4823-a1c4-c96707f8c62c"
      },
      "execution_count": null,
      "outputs": [
        {
          "output_type": "stream",
          "name": "stdout",
          "text": [
            "[1, 3, 5]\n"
          ]
        }
      ]
    },
    {
      "cell_type": "markdown",
      "source": [
        "**힙에서 원소 꺼내기**\n",
        "```\n",
        "heapq.heappop(heap)\n",
        "```\n",
        "* heap: 원소를 꺼내올 리스트\n",
        "* 힙 불변성을 유지하면서 가장 작은 값을 pop하여 반환\n",
        "* 힙이 비어있을 경우 IndexError 발생\n",
        "* pop하지 않고 접근만 하려면 heap[0]사용"
      ],
      "metadata": {
        "id": "48hnhlaT2kaE"
      }
    },
    {
      "cell_type": "code",
      "source": [
        "print(heapq.heappop(heap))\n",
        "print(heap)"
      ],
      "metadata": {
        "colab": {
          "base_uri": "https://localhost:8080/"
        },
        "id": "dVLhBB6O62W-",
        "outputId": "f67074ed-8487-4244-b73c-7b37395a285a"
      },
      "execution_count": null,
      "outputs": [
        {
          "output_type": "stream",
          "name": "stdout",
          "text": [
            "1\n",
            "[3, 5]\n"
          ]
        }
      ]
    },
    {
      "cell_type": "code",
      "source": [
        "print(heap[0])"
      ],
      "metadata": {
        "colab": {
          "base_uri": "https://localhost:8080/"
        },
        "id": "ExMm4Kpl5wsY",
        "outputId": "ead371ae-c2a3-404b-b270-7d86a77e8e50"
      },
      "execution_count": null,
      "outputs": [
        {
          "output_type": "stream",
          "name": "stdout",
          "text": [
            "3\n"
          ]
        }
      ]
    },
    {
      "cell_type": "markdown",
      "source": [
        "* **주의) heap[0]에 가장 작은 원소가 있다고 해서 heap[1]에 두 번째로 작은 원소가 있는 것은 아님!!**\n",
        "    * 힙의 대소관계 규칙은 **부모-자식 사이에만** 적용\n",
        "    * 왼쪽 자식과 오른쪽 자식이 갖는 원소의 대소관계는 존재하지 않음\n",
        "    * 두 번째로 작은 원소를 찾고 싶으면 heappop()으로 가장 작은 원소를 삭제해야 함"
      ],
      "metadata": {
        "id": "t_qPRkL176nW"
      }
    },
    {
      "cell_type": "code",
      "source": [
        "# heap[1]보다 heap[2]가 더 작다는 것을 알 수 있는 예시\n",
        "\n",
        "heapq.heappush(heap,4)\n",
        "heapq.heappush(heap,6)\n",
        "print(heap)"
      ],
      "metadata": {
        "colab": {
          "base_uri": "https://localhost:8080/"
        },
        "id": "QGffXmwJ785_",
        "outputId": "a3ecd4de-a089-47d4-d6da-9244721e1e06"
      },
      "execution_count": null,
      "outputs": [
        {
          "output_type": "stream",
          "name": "stdout",
          "text": [
            "[3, 5, 4, 6]\n"
          ]
        }
      ]
    },
    {
      "cell_type": "markdown",
      "source": [
        "**리스트를 heap으로 변환하기**\n",
        "```\n",
        "heapq.heapify(x)\n",
        "```\n",
        "* 리스트 x를 선형시간 O(N) 으로 제자리에서 힙으로 변환"
      ],
      "metadata": {
        "id": "4vjicn008e-Z"
      }
    },
    {
      "cell_type": "code",
      "source": [
        "heap = [6,3,5,2,1,4]\n",
        "heapq.heapify(heap)\n",
        "print(heap)"
      ],
      "metadata": {
        "colab": {
          "base_uri": "https://localhost:8080/"
        },
        "id": "4ua80nS_8sa5",
        "outputId": "7a3704a9-6baf-4c16-ab7e-b4d38dcdaf46"
      },
      "execution_count": null,
      "outputs": [
        {
          "output_type": "stream",
          "name": "stdout",
          "text": [
            "[1, 2, 4, 6, 3, 5]\n"
          ]
        }
      ]
    },
    {
      "cell_type": "markdown",
      "source": [
        "**push와 pop을 한번에 수행**\n",
        "```\n",
        "heapq.heappushpop(heap, item)\n",
        "```\n",
        "* 힙에 item을 push한 다음, 가장 작은 항목을 pop하여 반환\n",
        "* heappush(), heappop()을 별도로 호출하는 것보다 효율적으로 실행"
      ],
      "metadata": {
        "id": "A_YcMekH6o8Y"
      }
    },
    {
      "cell_type": "markdown",
      "source": [
        "---\n",
        "**힙 정렬Heap sort**"
      ],
      "metadata": {
        "id": "pDPwkPFu9LWs"
      }
    },
    {
      "cell_type": "code",
      "source": [
        "import heapq\n",
        "\n",
        "def heapsort(iterable):\n",
        "    h = []\n",
        "    result = []\n",
        "\n",
        "    #원소를 차례대로 힙에 삽입\n",
        "    for value in iterable:\n",
        "        heapq.heappush(h, value)\n",
        "    \n",
        "    # 원소를 차례대로 꺼내서 result에 담기\n",
        "    for _ in range(len(h)):\n",
        "        result.append(heapq.heappop(h))\n",
        "    \n",
        "    return result\n",
        "\n",
        "result = heapsort([1,3,5,7,9,2,4,6,8,0])\n",
        "print(result)"
      ],
      "metadata": {
        "colab": {
          "base_uri": "https://localhost:8080/"
        },
        "id": "LRmsqqFaYB6J",
        "outputId": "32fcb64e-0d35-46d2-d925-5fdb40713f9e"
      },
      "execution_count": null,
      "outputs": [
        {
          "output_type": "stream",
          "name": "stdout",
          "text": [
            "[0, 1, 2, 3, 4, 5, 6, 7, 8, 9]\n"
          ]
        }
      ]
    },
    {
      "cell_type": "markdown",
      "source": [
        "---\n",
        "* 파이썬에서는 **최대힙Max Heap을 제공하지 않음** \n",
        "    * 임시로 **부호를 변경하는 방식** 사용\n",
        "    * 힙에 넣기 전에 부호를 변경(1차) -> 힙에서 꺼내면서 부호를 변경(2차, 원상복귀)\n",
        "    * 내림차순 힙 정렬 가능\n"
      ],
      "metadata": {
        "id": "grkpeDm91lhM"
      }
    },
    {
      "cell_type": "code",
      "source": [
        "import heapq\n",
        "\n",
        "def heapsort(iterable):\n",
        "    h = []\n",
        "    result = []\n",
        "\n",
        "    for value in iterable:\n",
        "        heapq.heappush(h, -value)\n",
        "\n",
        "    for _ in range(len(h)):\n",
        "        result.append(-heapq.heappop(h))\n",
        "    \n",
        "    return result\n",
        "\n",
        "result = heapsort([1,3,5,7,9,2,4,6,8,0])\n",
        "print(result)"
      ],
      "metadata": {
        "colab": {
          "base_uri": "https://localhost:8080/"
        },
        "id": "zrbTppwG1it4",
        "outputId": "5aacdbc6-279c-4889-e79b-cd3170a0ae4e"
      },
      "execution_count": null,
      "outputs": [
        {
          "output_type": "stream",
          "name": "stdout",
          "text": [
            "[9, 8, 7, 6, 5, 4, 3, 2, 1, 0]\n"
          ]
        }
      ]
    }
  ]
}