{
  "nbformat": 4,
  "nbformat_minor": 0,
  "metadata": {
    "colab": {
      "name": "Python_practice.ipynb",
      "provenance": [],
      "collapsed_sections": [
        "zyeee93rwWT9",
        "XaEqlBoVPY6z",
        "j0Jk_jVe7W-2",
        "lky_q_pJRb6E",
        "m85P9TotEK99",
        "1zfZZJlbET70",
        "zAvn1xHmFCXG",
        "qa2Ku7XeGzKe",
        "4mVuhPK_-W4t",
        "sHY23_3OEOhE",
        "yA_Y6mPxNGEY",
        "WtkdKo5eOcpc",
        "PeRkWLPlTIpm",
        "6O0G8d2WTN5M",
        "JqjpodfeZjeq",
        "ZlI_GxUwcMLN",
        "LN4hSvWJeDPa",
        "1oTkwffFi3ds",
        "1jEKqJc9q7ok",
        "_rBOTPHkrgBE",
        "3Xp77NQit_d1",
        "MdsN7Duivs3a",
        "chWxWraP3n4b",
        "eJjg5ufmIwr9",
        "HKhcSY-OI9vU",
        "qsqoBX_3L9Ye",
        "Fx_I4hnCQqUD",
        "XrDYLuLdSBMQ",
        "o--fe79gTTNJ",
        "VUJQqgyDVzov",
        "Zi8y88OXX5kp",
        "yciT3flPPirn",
        "OGwsWSyhbPMj",
        "4eTNrgWHcjkV",
        "W-ziCoUAsStq",
        "a99wQvuYtH_W",
        "HFLSfP5EtX8C",
        "24xsOLy9CfM2",
        "iDLgabh1tbuP",
        "wTxhAPENtzf2",
        "OQ3-u-O76vU6",
        "3q0DQv8v_7hG",
        "z0rAzqxKIVtM",
        "PqH69br9Iht4",
        "xGjViF3DO6do",
        "k70JASN9LvZ8",
        "zDrRgW7aQtpL",
        "tCbZmtUuVeVy",
        "veE87NGGW_wx",
        "fN5sQA0_XuMV",
        "NLoDp3SxOYIN",
        "hRXTQOf7PmwZ",
        "9dXoZHemRUgV",
        "5HQLXMwPRsBP",
        "DetZbzT7Vlpv",
        "9MvnOgxoW__H",
        "k0cYy230Ytwo",
        "yn_tqfB_abUw",
        "a_yXaerfcJKh",
        "69u1nzptd357",
        "shfAShMweplX",
        "CB4lxCidfHB3",
        "FmAOJeBJHIgs",
        "XAKGdxB2HLbw",
        "KCmwYWvjJwtF",
        "h26W1vbBZ8cg",
        "8xPAV62XaUnS",
        "h-uQUqpPa7-X",
        "qSnyF3NScuXr",
        "dOh_hl4qy2j5"
      ],
      "authorship_tag": "ABX9TyNQjtD0Yd/HP4NVALFzPDSt",
      "include_colab_link": true
    },
    "kernelspec": {
      "name": "python3",
      "display_name": "Python 3"
    },
    "language_info": {
      "name": "python"
    }
  },
  "cells": [
    {
      "cell_type": "markdown",
      "metadata": {
        "id": "view-in-github",
        "colab_type": "text"
      },
      "source": [
        "<a href=\"https://colab.research.google.com/github/sujnkim/Algorithm-study/blob/main/python/Python_practice.ipynb\" target=\"_parent\"><img src=\"https://colab.research.google.com/assets/colab-badge.svg\" alt=\"Open In Colab\"/></a>"
      ]
    },
    {
      "cell_type": "markdown",
      "source": [
        "### **[Python practice]**\n",
        "\n",
        "until 2022.02.07\n",
        "\n",
        "**참고자료:**\n",
        "https://docs.python.org/ko/3/tutorial/index.html"
      ],
      "metadata": {
        "id": "u_zgrju8wOb4"
      }
    },
    {
      "cell_type": "markdown",
      "source": [
        "### ch3. 파이썬의 간략한 소개"
      ],
      "metadata": {
        "id": "zyeee93rwWT9"
      }
    },
    {
      "cell_type": "markdown",
      "source": [
        "#### 3.1.1 숫자"
      ],
      "metadata": {
        "id": "XaEqlBoVPY6z"
      }
    },
    {
      "cell_type": "code",
      "source": [
        "#division always returns afloating point number(classic division)\n",
        "17/3"
      ],
      "metadata": {
        "id": "h_qFP8pdwQ1z",
        "colab": {
          "base_uri": "https://localhost:8080/"
        },
        "outputId": "360316f7-4d99-4322-9ba1-69f3299e9452"
      },
      "execution_count": 5,
      "outputs": [
        {
          "output_type": "execute_result",
          "data": {
            "text/plain": [
              "5.666666666666667"
            ]
          },
          "metadata": {},
          "execution_count": 5
        }
      ]
    },
    {
      "cell_type": "code",
      "source": [
        "# floor division discards the fractional part\n",
        "17//3"
      ],
      "metadata": {
        "colab": {
          "base_uri": "https://localhost:8080/"
        },
        "id": "F5jNqTHbPFDo",
        "outputId": "a2bce1ab-d942-4287-ee5b-8e5d0f4a9dcf"
      },
      "execution_count": 6,
      "outputs": [
        {
          "output_type": "execute_result",
          "data": {
            "text/plain": [
              "5"
            ]
          },
          "metadata": {},
          "execution_count": 6
        }
      ]
    },
    {
      "cell_type": "code",
      "source": [
        "#the % operator returns the remainder of the division\n",
        "17%3"
      ],
      "metadata": {
        "colab": {
          "base_uri": "https://localhost:8080/"
        },
        "id": "uFNpH7f2PW9p",
        "outputId": "7c7e7a3e-0a71-4741-eda0-efd6f34f35aa"
      },
      "execution_count": 7,
      "outputs": [
        {
          "output_type": "execute_result",
          "data": {
            "text/plain": [
              "2"
            ]
          },
          "metadata": {},
          "execution_count": 7
        }
      ]
    },
    {
      "cell_type": "code",
      "source": [
        "# square calculation\n",
        "5**3"
      ],
      "metadata": {
        "colab": {
          "base_uri": "https://localhost:8080/"
        },
        "id": "5XtEPTfYP43W",
        "outputId": "93c033ca-9111-4501-e25c-11c9a0f2dafe"
      },
      "execution_count": 8,
      "outputs": [
        {
          "output_type": "execute_result",
          "data": {
            "text/plain": [
              "125"
            ]
          },
          "metadata": {},
          "execution_count": 8
        }
      ]
    },
    {
      "cell_type": "code",
      "source": [
        "# 파이썬은 복소수에 대한 지원도 내장하고 있음\n",
        "(3+5j)*(3-5j)"
      ],
      "metadata": {
        "colab": {
          "base_uri": "https://localhost:8080/"
        },
        "id": "oeTehOFAP9Wj",
        "outputId": "2842f910-cf51-47bb-c93c-ba512f5adb72"
      },
      "execution_count": 4,
      "outputs": [
        {
          "output_type": "execute_result",
          "data": {
            "text/plain": [
              "(34+0j)"
            ]
          },
          "metadata": {},
          "execution_count": 4
        }
      ]
    },
    {
      "cell_type": "markdown",
      "source": [
        "#### 3.1.2. 문자열"
      ],
      "metadata": {
        "id": "j0Jk_jVe7W-2"
      }
    },
    {
      "cell_type": "code",
      "source": [
        "# 작은따옴표, 큰따옴표로 둘러쌀 수 있음\n",
        "# 따옴표를 이스케이핑 할 때에는 \\를 앞에 붙여줌\n",
        "\n",
        "'doesn\\'t have any eggs'"
      ],
      "metadata": {
        "colab": {
          "base_uri": "https://localhost:8080/",
          "height": 0
        },
        "id": "FmIwTgkk7Ysg",
        "outputId": "d33b0b58-a207-4186-aeda-10340450e841"
      },
      "execution_count": 7,
      "outputs": [
        {
          "output_type": "execute_result",
          "data": {
            "application/vnd.google.colaboratory.intrinsic+json": {
              "type": "string"
            },
            "text/plain": [
              "\"doesn't have any eggs\""
            ]
          },
          "metadata": {},
          "execution_count": 7
        }
      ]
    },
    {
      "cell_type": "code",
      "source": [
        "# \\n:new line\n",
        "# without print(), \\n is included in the output\n",
        "# print() : 따옴표를 생략하고, 이스케이핑 된 특수문자를 출력\n",
        "str = 'First line.\\nSecond line.'\n",
        "print('print',str)\n",
        "str"
      ],
      "metadata": {
        "colab": {
          "base_uri": "https://localhost:8080/",
          "height": 0
        },
        "id": "iGJutyxK8Z9K",
        "outputId": "90f1e6e7-bbbb-4c9e-9dee-2e43dcc30ec9"
      },
      "execution_count": 9,
      "outputs": [
        {
          "output_type": "stream",
          "name": "stdout",
          "text": [
            "print First line.\n",
            "Second line.\n"
          ]
        },
        {
          "output_type": "execute_result",
          "data": {
            "application/vnd.google.colaboratory.intrinsic+json": {
              "type": "string"
            },
            "text/plain": [
              "'First line.\\nSecond line.'"
            ]
          },
          "metadata": {},
          "execution_count": 9
        }
      ]
    },
    {
      "cell_type": "code",
      "source": [
        "# \\뒤의 문자를 특수문자로 취급되지 않게 하는 방법\n",
        "# 첫 따옴표 앞에 r을 붙여 raw string으로 만들기\n",
        "print('C:\\some\\name')\n",
        "print(r'C:\\some\\name')"
      ],
      "metadata": {
        "colab": {
          "base_uri": "https://localhost:8080/"
        },
        "id": "mkMcHyz0FG23",
        "outputId": "bc47636c-ba56-430d-be4c-d07b498b9d1f"
      },
      "execution_count": 10,
      "outputs": [
        {
          "output_type": "stream",
          "name": "stdout",
          "text": [
            "C:\\some\n",
            "ame\n",
            "C:\\some\\name\n"
          ]
        }
      ]
    },
    {
      "cell_type": "code",
      "source": [
        "# 문자열 확장\n",
        "# 줄넘김 문자가 자동으로 문자열에 포함되는 것을 \\로 막음\n",
        "print(\"\"\"\\\n",
        "Usage: thingy [OPTIONS]\n",
        "    -h              Display this usage message\n",
        "    -H hostname     Hostname to connect to\n",
        "\"\"\")"
      ],
      "metadata": {
        "colab": {
          "base_uri": "https://localhost:8080/"
        },
        "id": "lWpY-IrYFlay",
        "outputId": "960d8c3a-20ea-402c-c446-e777f5589847"
      },
      "execution_count": 11,
      "outputs": [
        {
          "output_type": "stream",
          "name": "stdout",
          "text": [
            "Usage: thingy [OPTIONS]\n",
            "    -h              Display this usage message\n",
            "    -H hostname     Hostname to connect to\n",
            "\n"
          ]
        }
      ]
    },
    {
      "cell_type": "code",
      "source": [
        "# 문자열 연결 : +\n",
        "# 문자열 반복 : *\n",
        "\n",
        "3*'un'+'ium'"
      ],
      "metadata": {
        "colab": {
          "base_uri": "https://localhost:8080/",
          "height": 0
        },
        "id": "lai48vK5HB44",
        "outputId": "6b8e7552-ef3e-4e9a-bb3f-c88c2bd30f4d"
      },
      "execution_count": 13,
      "outputs": [
        {
          "output_type": "execute_result",
          "data": {
            "application/vnd.google.colaboratory.intrinsic+json": {
              "type": "string"
            },
            "text/plain": [
              "'unununium'"
            ]
          },
          "metadata": {},
          "execution_count": 13
        }
      ]
    },
    {
      "cell_type": "code",
      "source": [
        "# 두 개 이상의 문자열이 연속 -> 자동으로 연결됨\n",
        "# 오직 두 개의 문자열에만 적용(변수, 표현식 불가)\n",
        "str = ('Put several strings within parentheses '\n",
        "        'to have them joined together.')\n",
        "str"
      ],
      "metadata": {
        "colab": {
          "base_uri": "https://localhost:8080/",
          "height": 0
        },
        "id": "9e9gmDR7N3fn",
        "outputId": "8115abba-5d93-441c-924c-ee1bd696707d"
      },
      "execution_count": 15,
      "outputs": [
        {
          "output_type": "execute_result",
          "data": {
            "application/vnd.google.colaboratory.intrinsic+json": {
              "type": "string"
            },
            "text/plain": [
              "'Put several strings within parentheses to have them joined together.'"
            ]
          },
          "metadata": {},
          "execution_count": 15
        }
      ]
    },
    {
      "cell_type": "code",
      "source": [
        "# 변수끼리 혹은 변수와 문자열 연결 : +\n",
        "prefix = 'Py'\n",
        "prefix+'thon'"
      ],
      "metadata": {
        "colab": {
          "base_uri": "https://localhost:8080/",
          "height": 0
        },
        "id": "EMlLiWBWOGWi",
        "outputId": "1c940f4f-ac2f-47f6-97fd-48b9000d007a"
      },
      "execution_count": 17,
      "outputs": [
        {
          "output_type": "execute_result",
          "data": {
            "application/vnd.google.colaboratory.intrinsic+json": {
              "type": "string"
            },
            "text/plain": [
              "'Python'"
            ]
          },
          "metadata": {},
          "execution_count": 17
        }
      ]
    },
    {
      "cell_type": "code",
      "source": [
        "# position starting from 0\n",
        "# minus position starting from -1\n",
        "word = 'Python'\n",
        "print(word[0]) # character in position 0 : P\n",
        "print(word[5]) # char in position 5 : n\n",
        "print(word[-1]) #last char : n\n",
        "print(word[-2]) #second-last char : o\n",
        "print(word[-6]) # P "
      ],
      "metadata": {
        "colab": {
          "base_uri": "https://localhost:8080/"
        },
        "id": "zy1poGB-OW9Z",
        "outputId": "3c4b0d78-9f11-44a8-acc6-2dfe7d02a1e9"
      },
      "execution_count": 20,
      "outputs": [
        {
          "output_type": "stream",
          "name": "stdout",
          "text": [
            "P\n",
            "n\n",
            "n\n",
            "o\n",
            "P\n"
          ]
        }
      ]
    },
    {
      "cell_type": "code",
      "source": [
        "# slice index\n",
        "# always include starting point / exclude end point\n",
        "# word = 'Python'\n",
        "print(word[:2])     # char from begin to position 2(excluded) : Py\n",
        "print(word[4:])     # char from position 4 to the end : on\n",
        "print(word[-2:])    # char from position -2 to the end : on\n",
        "\n",
        "print(word[:2]+word[2:])\n",
        "print(word[:4]+word[4:])"
      ],
      "metadata": {
        "colab": {
          "base_uri": "https://localhost:8080/"
        },
        "id": "WL81d6nWO_tF",
        "outputId": "0c054786-8864-43e6-96c9-bd569be27093"
      },
      "execution_count": 22,
      "outputs": [
        {
          "output_type": "stream",
          "name": "stdout",
          "text": [
            "Py\n",
            "on\n",
            "on\n",
            "Python\n",
            "Python\n"
          ]
        }
      ]
    },
    {
      "cell_type": "code",
      "source": [
        "# cannot change python string\n",
        "# If need other str, have to make new one\n",
        "\n",
        "# word[0]='J' // this is wrong\n",
        "str = 'J'+word[1:]\n",
        "print(str)"
      ],
      "metadata": {
        "colab": {
          "base_uri": "https://localhost:8080/"
        },
        "id": "riENLK2IP9VK",
        "outputId": "d1e3ea6d-9dd6-4984-cc88-713832a99262"
      },
      "execution_count": 25,
      "outputs": [
        {
          "output_type": "stream",
          "name": "stdout",
          "text": [
            "Jython\n"
          ]
        }
      ]
    },
    {
      "cell_type": "code",
      "source": [
        "# function  len([string]) : return length of string\n",
        "len(str)"
      ],
      "metadata": {
        "colab": {
          "base_uri": "https://localhost:8080/"
        },
        "id": "o00IOL8iQ-bu",
        "outputId": "36732de6-ad6f-4ee1-c4fa-e425bbd47f87"
      },
      "execution_count": 26,
      "outputs": [
        {
          "output_type": "execute_result",
          "data": {
            "text/plain": [
              "6"
            ]
          },
          "metadata": {},
          "execution_count": 26
        }
      ]
    },
    {
      "cell_type": "markdown",
      "source": [
        "#### 3.1.3 리스트\n",
        "다른 값들을 덩어리로 묶을 때 사용, \n",
        "서로 다른 형의 항목을 포함가능"
      ],
      "metadata": {
        "id": "lky_q_pJRb6E"
      }
    },
    {
      "cell_type": "code",
      "source": [
        "squares = [1,4,9,16,25]\n",
        "squares"
      ],
      "metadata": {
        "colab": {
          "base_uri": "https://localhost:8080/"
        },
        "id": "6ZZIcKjeReSv",
        "outputId": "e6230359-c566-4a79-ed31-dbe9e6cb8dcb"
      },
      "execution_count": 27,
      "outputs": [
        {
          "output_type": "execute_result",
          "data": {
            "text/plain": [
              "[1, 4, 9, 16, 25]"
            ]
          },
          "metadata": {},
          "execution_count": 27
        }
      ]
    },
    {
      "cell_type": "code",
      "source": [
        "# 문자열처럼 인덱싱, 슬라이싱 가능\n",
        "# 모든 슬라이스 연산은 요청 항목을 포함하는 새 리스트를 전달\n",
        "print(squares[0])\n",
        "print(squares[3])\n",
        "print(squares[-3:])"
      ],
      "metadata": {
        "colab": {
          "base_uri": "https://localhost:8080/"
        },
        "id": "A6uU6R-5Rty_",
        "outputId": "d242c140-9c7d-4d54-9cae-598ad07ff243"
      },
      "execution_count": 28,
      "outputs": [
        {
          "output_type": "stream",
          "name": "stdout",
          "text": [
            "1\n",
            "16\n",
            "[9, 16, 25]\n"
          ]
        }
      ]
    },
    {
      "cell_type": "code",
      "source": [
        "# 이어붙이기 연산 가능\n",
        "squares+[36,49,64,81,100]"
      ],
      "metadata": {
        "colab": {
          "base_uri": "https://localhost:8080/"
        },
        "id": "bSpalTXjR40F",
        "outputId": "52cf9e8d-dfa7-4ac9-f367-3e373d491b3e"
      },
      "execution_count": 30,
      "outputs": [
        {
          "output_type": "execute_result",
          "data": {
            "text/plain": [
              "[1, 4, 9, 16, 25, 36, 49, 64, 81, 100]"
            ]
          },
          "metadata": {},
          "execution_count": 30
        }
      ]
    },
    {
      "cell_type": "code",
      "source": [
        "# 리스트는 가변이므로 내용변경 가능 (참고:문자열은 불변)\n",
        "cubes = [1,8,27,65,125]\n",
        "cubes[3]=64\n",
        "cubes"
      ],
      "metadata": {
        "colab": {
          "base_uri": "https://localhost:8080/"
        },
        "id": "LFDjMZlTSIkx",
        "outputId": "ccb9b001-a399-4251-a299-bee062104370"
      },
      "execution_count": 31,
      "outputs": [
        {
          "output_type": "execute_result",
          "data": {
            "text/plain": [
              "[1, 8, 27, 64, 125]"
            ]
          },
          "metadata": {},
          "execution_count": 31
        }
      ]
    },
    {
      "cell_type": "code",
      "source": [
        "# append() method : 리스트의 끝에 새 항목 추가\n",
        "cubes.append(216)\n",
        "cubes"
      ],
      "metadata": {
        "colab": {
          "base_uri": "https://localhost:8080/"
        },
        "id": "q6AdBZ7ESVUu",
        "outputId": "3d7921c2-c5f0-4b24-f3a6-a23079911b14"
      },
      "execution_count": 32,
      "outputs": [
        {
          "output_type": "execute_result",
          "data": {
            "text/plain": [
              "[1, 8, 27, 64, 125, 216]"
            ]
          },
          "metadata": {},
          "execution_count": 32
        }
      ]
    },
    {
      "cell_type": "code",
      "source": [
        "#슬라이스에 대입\n",
        "letters = ['a','b','c','d','e','f','g']\n",
        "print(letters)\n",
        "\n",
        "#replace some values\n",
        "letters[2:5]=['C','D','E']\n",
        "print(letters)\n",
        "\n",
        "#now remove them\n",
        "letters[2:5]=[]\n",
        "print(letters)\n",
        "\n",
        "#clear the list by replacing all the elements with an empty list\n",
        "letters[:]=[]\n",
        "letters"
      ],
      "metadata": {
        "colab": {
          "base_uri": "https://localhost:8080/"
        },
        "id": "JkJHrw4sSdMF",
        "outputId": "a0caf7f3-5ef3-4560-96d9-585851c7b296"
      },
      "execution_count": 3,
      "outputs": [
        {
          "output_type": "stream",
          "name": "stdout",
          "text": [
            "['a', 'b', 'c', 'd', 'e', 'f', 'g']\n",
            "['a', 'b', 'C', 'D', 'E', 'f', 'g']\n",
            "['a', 'b', 'f', 'g']\n"
          ]
        },
        {
          "output_type": "execute_result",
          "data": {
            "text/plain": [
              "[]"
            ]
          },
          "metadata": {},
          "execution_count": 3
        }
      ]
    },
    {
      "cell_type": "code",
      "source": [
        "# len()은 리스트에도 적용\n",
        "letters=['a','b','c','d']\n",
        "len(letters)"
      ],
      "metadata": {
        "colab": {
          "base_uri": "https://localhost:8080/"
        },
        "id": "i5eD3xyQDScL",
        "outputId": "3eb23bfa-114f-4e36-ea55-bfa2d656472b"
      },
      "execution_count": 4,
      "outputs": [
        {
          "output_type": "execute_result",
          "data": {
            "text/plain": [
              "4"
            ]
          },
          "metadata": {},
          "execution_count": 4
        }
      ]
    },
    {
      "cell_type": "code",
      "source": [
        "#리스트 중첩(리스트를 포함하는 리스트)\n",
        "a=['a','b','c','d']\n",
        "n=[1,2,3]\n",
        "x=[a,n]\n",
        "print(x)\n",
        "print(x[0])\n",
        "print(x[1])"
      ],
      "metadata": {
        "colab": {
          "base_uri": "https://localhost:8080/"
        },
        "id": "aaf2xUtVDYk-",
        "outputId": "e4eb5bad-f048-49c6-d3ea-c5ec35e0a02c"
      },
      "execution_count": 5,
      "outputs": [
        {
          "output_type": "stream",
          "name": "stdout",
          "text": [
            "[['a', 'b', 'c', 'd'], [1, 2, 3]]\n",
            "['a', 'b', 'c', 'd']\n",
            "[1, 2, 3]\n"
          ]
        }
      ]
    },
    {
      "cell_type": "code",
      "source": [
        "#Fibonacci series:the sum of elements deines the next\n",
        "a,b=0,1\n",
        "while a<10:\n",
        "    print(a)\n",
        "    a,b=b,a+b"
      ],
      "metadata": {
        "colab": {
          "base_uri": "https://localhost:8080/"
        },
        "id": "l3CR6egvDjKH",
        "outputId": "364df99e-b718-43ed-c7c2-b35006e65f74"
      },
      "execution_count": 6,
      "outputs": [
        {
          "output_type": "stream",
          "name": "stdout",
          "text": [
            "0\n",
            "1\n",
            "1\n",
            "2\n",
            "3\n",
            "5\n",
            "8\n"
          ]
        }
      ]
    },
    {
      "cell_type": "markdown",
      "source": [
        "### ch4. 기타 제어 흐름 도구"
      ],
      "metadata": {
        "id": "m85P9TotEK99"
      }
    },
    {
      "cell_type": "markdown",
      "source": [
        "##### 4.1 if문"
      ],
      "metadata": {
        "id": "1zfZZJlbET70"
      }
    },
    {
      "cell_type": "code",
      "source": [
        "x = int(input(\"please enter an integer: \"))\n",
        "if x<0:\n",
        "    x=0\n",
        "    print('Negative changed to zero')\n",
        "elif x==0:\n",
        "    print('Zero')\n",
        "elif x==1:\n",
        "    print('Single')\n",
        "else:\n",
        "    print('More')"
      ],
      "metadata": {
        "colab": {
          "base_uri": "https://localhost:8080/"
        },
        "id": "vOW8aFcUEPPi",
        "outputId": "76ba3f13-6c28-4886-e286-d0f08e819422"
      },
      "execution_count": 7,
      "outputs": [
        {
          "output_type": "stream",
          "name": "stdout",
          "text": [
            "please enter an integer: 42\n",
            "More\n"
          ]
        }
      ]
    },
    {
      "cell_type": "markdown",
      "source": [
        "##### 4.2 for문"
      ],
      "metadata": {
        "id": "zAvn1xHmFCXG"
      }
    },
    {
      "cell_type": "code",
      "source": [
        "#Measure some stirngs:\n",
        "words = ['cat','window','defenestrate']\n",
        "for w in words:\n",
        "    print(w,len(w))"
      ],
      "metadata": {
        "colab": {
          "base_uri": "https://localhost:8080/"
        },
        "id": "wvsmKBklE8YI",
        "outputId": "788abd33-be48-4ffc-a37e-aac96c85b790"
      },
      "execution_count": 8,
      "outputs": [
        {
          "output_type": "stream",
          "name": "stdout",
          "text": [
            "cat 3\n",
            "window 6\n",
            "defenestrate 12\n"
          ]
        }
      ]
    },
    {
      "cell_type": "code",
      "source": [
        "# 컬렉션을 반복하면서 수정하는 코드는 올바르게 동작하도록 만들기 힘들다\n",
        "# 컬렉션을 copy해서 쓰거나, 새로운 컬렉션을 만드는 것이 간단.\n",
        "\n",
        "#Create a sample collection\n",
        "users={'Hans':'active','Elenore':'inactive','Jotaro':'active'}\n",
        "#Strategy: Iterate over a copy\n",
        "for user,status in users.copy().items():\n",
        "    if status == 'inactive':\n",
        "        del users[user]\n",
        "print(users)\n",
        "\n",
        "users={'Hans':'active','Elenore':'inactive','Jotaro':'active'}\n",
        "#Strategy: Create a new collection\n",
        "active_users={}\n",
        "for user,status in users.items():\n",
        "    if status=='active':\n",
        "        active_users[user]=status\n",
        "print(active_users)"
      ],
      "metadata": {
        "colab": {
          "base_uri": "https://localhost:8080/"
        },
        "id": "PNH0HMr3FX9R",
        "outputId": "13e9397d-3c99-4273-afd5-74d343f1d2d4"
      },
      "execution_count": 11,
      "outputs": [
        {
          "output_type": "stream",
          "name": "stdout",
          "text": [
            "{'Hans': 'active', 'Jotaro': 'active'}\n",
            "{'Hans': 'active', 'Jotaro': 'active'}\n"
          ]
        }
      ]
    },
    {
      "cell_type": "markdown",
      "source": [
        "##### 4.3 range() 함수\n",
        "숫자들의 시퀀스로 반복할 때 편리"
      ],
      "metadata": {
        "id": "qa2Ku7XeGzKe"
      }
    },
    {
      "cell_type": "markdown",
      "source": [
        "시퀀스 자료형 : 각 요소들이 연속적으로 이어진 자료형\n",
        "ex) list, str, tuple\n",
        "\n",
        "비 시퀀스 자료형 : dict"
      ],
      "metadata": {
        "id": "B4Wipk1e9uxq"
      }
    },
    {
      "cell_type": "markdown",
      "source": [
        "range()가 돌려준 객체는 리스트인 것 처럼 동작하지만 리스트가 아님. 반복할 때 원하는 항목을 순서대로 돌려주는 객체이지만, 실제로 리스트를 만들지 않아 공간을 절약... 이터러블 객체"
      ],
      "metadata": {
        "id": "UfjvJlZ1-Lz5"
      }
    },
    {
      "cell_type": "code",
      "source": [
        "# 끝의 값은 수열에 포함되지 않음\n",
        "# 길이가 5(포함되는 값의 개수가 5개)인 수열을 생성\n",
        "for i in range(5):\n",
        "    print(i)"
      ],
      "metadata": {
        "colab": {
          "base_uri": "https://localhost:8080/"
        },
        "id": "0rn7qjCMGx45",
        "outputId": "650c6b3c-d86c-4f60-9c2c-bf520dacf224"
      },
      "execution_count": 12,
      "outputs": [
        {
          "output_type": "stream",
          "name": "stdout",
          "text": [
            "0\n",
            "1\n",
            "2\n",
            "3\n",
            "4\n"
          ]
        }
      ]
    },
    {
      "cell_type": "code",
      "source": [
        "list(range(5,10))"
      ],
      "metadata": {
        "colab": {
          "base_uri": "https://localhost:8080/"
        },
        "id": "zPkEAqPJHaQ6",
        "outputId": "f35bafc0-a6e6-44ee-f460-448121b564b0"
      },
      "execution_count": 13,
      "outputs": [
        {
          "output_type": "execute_result",
          "data": {
            "text/plain": [
              "[5, 6, 7, 8, 9]"
            ]
          },
          "metadata": {},
          "execution_count": 13
        }
      ]
    },
    {
      "cell_type": "code",
      "source": [
        "list(range(0,10,3))"
      ],
      "metadata": {
        "colab": {
          "base_uri": "https://localhost:8080/"
        },
        "id": "nr-C6TITHxUQ",
        "outputId": "a29f7c03-127f-4d0e-a27f-2c43967738a9"
      },
      "execution_count": 14,
      "outputs": [
        {
          "output_type": "execute_result",
          "data": {
            "text/plain": [
              "[0, 3, 6, 9]"
            ]
          },
          "metadata": {},
          "execution_count": 14
        }
      ]
    },
    {
      "cell_type": "code",
      "source": [
        "list(range(-10,-100,-30))"
      ],
      "metadata": {
        "colab": {
          "base_uri": "https://localhost:8080/"
        },
        "id": "gF48emrbH0BW",
        "outputId": "8bcdb72b-33a1-4439-ad10-940ccdba30f5"
      },
      "execution_count": 15,
      "outputs": [
        {
          "output_type": "execute_result",
          "data": {
            "text/plain": [
              "[-10, -40, -70]"
            ]
          },
          "metadata": {},
          "execution_count": 15
        }
      ]
    },
    {
      "cell_type": "code",
      "source": [
        "# 시퀀스의 인덱스로 반복\n",
        "a = ['Mary','had','a','little','apple']\n",
        "for i in range(len(a)):\n",
        "    print(i,a[i])\n",
        "print()\n",
        "# enumerate 내장함수 사용\n",
        "for i, v in enumerate(a):\n",
        "    print(i,v)"
      ],
      "metadata": {
        "colab": {
          "base_uri": "https://localhost:8080/"
        },
        "id": "oeHMpZTSH7C9",
        "outputId": "d676f01c-d467-47a9-a74e-ce2a8018608e"
      },
      "execution_count": 9,
      "outputs": [
        {
          "output_type": "stream",
          "name": "stdout",
          "text": [
            "0 Mary\n",
            "1 had\n",
            "2 a\n",
            "3 little\n",
            "4 apple\n",
            "\n",
            "0 Mary\n",
            "1 had\n",
            "2 a\n",
            "3 little\n",
            "4 apple\n"
          ]
        }
      ]
    },
    {
      "cell_type": "markdown",
      "source": [
        "enumerate() 내장함수"
      ],
      "metadata": {
        "id": "ueqiF_VY-jlG"
      }
    },
    {
      "cell_type": "code",
      "source": [
        "# enumerate(iterable, start=0)\n",
        "# iterable : 이터레이션을 지원하는 객체\n",
        "# return : 이터레이션으로 얻어지는 값을 포함하는 튜플\n",
        "\n",
        "seasons = ['Spring','Summer','Fall','Winter']\n",
        "print(list(enumerate(seasons)))\n",
        "print(list(enumerate(seasons,1)))"
      ],
      "metadata": {
        "colab": {
          "base_uri": "https://localhost:8080/"
        },
        "id": "Dnw6GBtA2Aw7",
        "outputId": "9afea354-a646-484d-c42d-80084ba69fe6"
      },
      "execution_count": 10,
      "outputs": [
        {
          "output_type": "stream",
          "name": "stdout",
          "text": [
            "[(0, 'Spring'), (1, 'Summer'), (2, 'Fall'), (3, 'Winter')]\n",
            "[(1, 'Spring'), (2, 'Summer'), (3, 'Fall'), (4, 'Winter')]\n"
          ]
        }
      ]
    },
    {
      "cell_type": "markdown",
      "source": [
        "##### 4.4 루프의 break, continue, else"
      ],
      "metadata": {
        "id": "4mVuhPK_-W4t"
      }
    },
    {
      "cell_type": "code",
      "source": [
        "# loop의 else절은 break가 발생하지 않을 때 실행\n",
        "# else절은 if문이 아니라 for루프에 속함\n",
        "for n in range(2,10):\n",
        "    for x in range(2,n):\n",
        "        if n%x==0:\n",
        "            print(n,'equals',x,'*',n//x)\n",
        "            break\n",
        "    else:\n",
        "        print(n,'is prime number')"
      ],
      "metadata": {
        "colab": {
          "base_uri": "https://localhost:8080/"
        },
        "id": "kEZYWC8q-WYN",
        "outputId": "da944871-afde-40c9-df77-2072674adcb6"
      },
      "execution_count": 11,
      "outputs": [
        {
          "output_type": "stream",
          "name": "stdout",
          "text": [
            "2 is prime number\n",
            "3 is prime number\n",
            "4 equals 2 * 2\n",
            "5 is prime number\n",
            "6 equals 2 * 3\n",
            "7 is prime number\n",
            "8 equals 2 * 4\n",
            "9 equals 3 * 3\n"
          ]
        }
      ]
    },
    {
      "cell_type": "code",
      "source": [
        "for num in range(2,10):\n",
        "    if num%2==0:\n",
        "        print(\"Found an even number\",num)\n",
        "        continue\n",
        "    print(\"Found an odd number\",num)"
      ],
      "metadata": {
        "colab": {
          "base_uri": "https://localhost:8080/"
        },
        "id": "-RZPN1jiCzaj",
        "outputId": "d86f758c-5a90-4c69-9d67-631bfc758f4b"
      },
      "execution_count": 15,
      "outputs": [
        {
          "output_type": "stream",
          "name": "stdout",
          "text": [
            "Found an even number 2\n",
            "Found an odd number 3\n",
            "Found an even number 4\n",
            "Found an odd number 5\n",
            "Found an even number 6\n",
            "Found an odd number 7\n",
            "Found an even number 8\n",
            "Found an odd number 9\n"
          ]
        }
      ]
    },
    {
      "cell_type": "markdown",
      "source": [
        "##### 4.5 pass문\n",
        "아무것도 하지 않음\n",
        "문법적으로 필요하지만 할 일이 없을 때 사용\n",
        "\n",
        "최소한의 클래스를 만들 때 흔히 사용"
      ],
      "metadata": {
        "id": "sHY23_3OEOhE"
      }
    },
    {
      "cell_type": "code",
      "source": [
        "class MyEmptyClass:\n",
        "    pass"
      ],
      "metadata": {
        "id": "qTwQQmpPEQjU"
      },
      "execution_count": 17,
      "outputs": []
    },
    {
      "cell_type": "code",
      "source": [
        "def initlog(*args):\n",
        "    pass"
      ],
      "metadata": {
        "id": "dkxuqgN-M8Xb"
      },
      "execution_count": 18,
      "outputs": []
    },
    {
      "cell_type": "markdown",
      "source": [
        "##### 4.6 match\n",
        "python 3.10 이상 필요"
      ],
      "metadata": {
        "id": "yA_Y6mPxNGEY"
      }
    },
    {
      "cell_type": "code",
      "source": [
        "!python --version"
      ],
      "metadata": {
        "colab": {
          "base_uri": "https://localhost:8080/"
        },
        "id": "GMT_6ZfVNW1Z",
        "outputId": "11e4a325-9d9b-47cb-949b-ec08a0235a12"
      },
      "execution_count": 21,
      "outputs": [
        {
          "output_type": "stream",
          "name": "stdout",
          "text": [
            "Python 3.7.12\n"
          ]
        }
      ]
    },
    {
      "cell_type": "code",
      "source": [
        "\n"
      ],
      "metadata": {
        "id": "b_-9ZYDJNFiA"
      },
      "execution_count": null,
      "outputs": []
    },
    {
      "cell_type": "markdown",
      "source": [
        "##### 4.7 함수 정의"
      ],
      "metadata": {
        "id": "WtkdKo5eOcpc"
      }
    },
    {
      "cell_type": "markdown",
      "source": [
        "함수 실행 : 지역 변수를 위한 새 심볼 테이블 생성(모든 변수대입 값은 지역 심볼 테이블에 저장됨)\n",
        "\n",
        "함수 호출로 전달되는 매개변수(인자)는 호출될 때 호출되는 함수의 지역심볼 테이블에 생성 > 인자들은 값에 의한 호출(call by value)로 전달"
      ],
      "metadata": {
        "id": "vqzkIVjmSG4d"
      }
    },
    {
      "cell_type": "code",
      "source": [
        "def fib(n):\n",
        "    \"\"\"Print a Fibonacci series up to n\"\"\"  #docstring\n",
        "    a,b=0,1\n",
        "    while a<n:\n",
        "        print(a,end=' ')\n",
        "        a,b=b,a+b\n",
        "    print()\n",
        "\n",
        "fib(200)"
      ],
      "metadata": {
        "colab": {
          "base_uri": "https://localhost:8080/"
        },
        "id": "v5V6ebRMOgi1",
        "outputId": "70d3409e-7bc8-4d49-e624-110d3efbb258"
      },
      "execution_count": 23,
      "outputs": [
        {
          "output_type": "stream",
          "name": "stdout",
          "text": [
            "0 1 1 2 3 5 8 13 21 34 55 89 144 \n"
          ]
        }
      ]
    },
    {
      "cell_type": "code",
      "source": [
        "# 함수 정의는 함수 이름과 심볼테이블의 함수객체를 연결함\n",
        "fib"
      ],
      "metadata": {
        "colab": {
          "base_uri": "https://localhost:8080/"
        },
        "id": "5p2gpDtSOpMS",
        "outputId": "0401307a-4674-4491-e4b3-f28454d2ac0f"
      },
      "execution_count": 24,
      "outputs": [
        {
          "output_type": "execute_result",
          "data": {
            "text/plain": [
              "<function __main__.fib>"
            ]
          },
          "metadata": {},
          "execution_count": 24
        }
      ]
    },
    {
      "cell_type": "code",
      "source": [
        "# return값이 없는 함수도 값을 돌려줌 : None(내장이름)\n",
        "# 인터프리터는 None값 출력을 억제함 -> print로 출력 가능\n",
        "fib(0)\n",
        "print(fib(0))"
      ],
      "metadata": {
        "colab": {
          "base_uri": "https://localhost:8080/"
        },
        "id": "QY-_zixlW8lj",
        "outputId": "b1bcc2b7-0d1f-43f2-a88f-3168416f9687"
      },
      "execution_count": 27,
      "outputs": [
        {
          "output_type": "stream",
          "name": "stdout",
          "text": [
            "\n",
            "\n",
            "None\n"
          ]
        }
      ]
    },
    {
      "cell_type": "code",
      "source": [
        "def fib2(n):\n",
        "    \"\"\"Return a list containing the  Fibonacci series up n.\"\"\"\n",
        "    result=[]\n",
        "    a,b=0,1\n",
        "    while a<n:\n",
        "        result.append(a)    #리스트객체 result의 메서드(객체에 속하는 함수) 호출\n",
        "        a,b=b,a+b\n",
        "    return result   #함수값을 가진 채로 복귀하게 만든다\n",
        "\n",
        "f100=fib2(100)\n",
        "f100"
      ],
      "metadata": {
        "colab": {
          "base_uri": "https://localhost:8080/"
        },
        "id": "o1YStS1sXYk-",
        "outputId": "812b1c84-1279-404b-d2b2-e13ff65789ed"
      },
      "execution_count": 28,
      "outputs": [
        {
          "output_type": "execute_result",
          "data": {
            "text/plain": [
              "[0, 1, 1, 2, 3, 5, 8, 13, 21, 34, 55, 89]"
            ]
          },
          "metadata": {},
          "execution_count": 28
        }
      ]
    },
    {
      "cell_type": "markdown",
      "source": [
        "##### 4.8 함수 정의 더 보기\n",
        "정해지지 않은 개수의 인자로 함수 정의하기"
      ],
      "metadata": {
        "id": "_jMQ8H-7a6If"
      }
    },
    {
      "cell_type": "markdown",
      "source": [
        "4.8.1 기본 인자 값"
      ],
      "metadata": {
        "id": "u9KK6cGgb3Hl"
      }
    },
    {
      "cell_type": "code",
      "source": [
        "def ask_ok(prompt, retries=4, reminder='Please try again!'):\n",
        "    while True:\n",
        "        ok=input(prompt)\n",
        "        if ok in ('y','ye','yes'):\n",
        "            return True\n",
        "        if ok in ('n','no','nop'):\n",
        "            return False\n",
        "        retries = retries-1\n",
        "        if retries<0:\n",
        "            raise ValueError('invalid user respponse')\n",
        "        print(reminder)"
      ],
      "metadata": {
        "id": "6x8HFzdga88D"
      },
      "execution_count": 29,
      "outputs": []
    },
    {
      "cell_type": "code",
      "source": [
        "i=5\n",
        "def f(arg=i):\n",
        "    print(arg)\n",
        "\n",
        "i=6\n",
        "f()"
      ],
      "metadata": {
        "colab": {
          "base_uri": "https://localhost:8080/"
        },
        "id": "VC2tt7YAcrk1",
        "outputId": "d5103aa9-99d2-4cf8-d6d5-4b31007ffceb"
      },
      "execution_count": 30,
      "outputs": [
        {
          "output_type": "stream",
          "name": "stdout",
          "text": [
            "5\n"
          ]
        }
      ]
    },
    {
      "cell_type": "code",
      "source": [
        "# 기본값은 한 번만 적용\n",
        "# 연속된 호출로 전달된 인자들이 누적\n",
        "def f(a,L=[]):\n",
        "    L.append(a)\n",
        "    return L\n",
        "\n",
        "print(f(1))\n",
        "print(f(2))\n",
        "print(f(3))"
      ],
      "metadata": {
        "colab": {
          "base_uri": "https://localhost:8080/"
        },
        "id": "QLAo91xXdxjp",
        "outputId": "badb8e8d-e12c-4276-c2d2-6bd4b70fd077"
      },
      "execution_count": 31,
      "outputs": [
        {
          "output_type": "stream",
          "name": "stdout",
          "text": [
            "[1]\n",
            "[1, 2]\n",
            "[1, 2, 3]\n"
          ]
        }
      ]
    },
    {
      "cell_type": "code",
      "source": [
        "# 기본값이 공유되지 않게 하려면\n",
        "def f(a,L=None):\n",
        "    if L is None:\n",
        "        L=[]\n",
        "    L.append(a)\n",
        "    return L\n",
        "\n",
        "print(f(1))\n",
        "print(f(2))\n",
        "print(f(3))"
      ],
      "metadata": {
        "colab": {
          "base_uri": "https://localhost:8080/"
        },
        "id": "cESxYi5_eK4W",
        "outputId": "df887e11-f010-4025-bfa4-d0713a7d6367"
      },
      "execution_count": 38,
      "outputs": [
        {
          "output_type": "stream",
          "name": "stdout",
          "text": [
            "[1]\n",
            "[2]\n",
            "[3]\n"
          ]
        }
      ]
    },
    {
      "cell_type": "markdown",
      "source": [
        "4.8.2 키워드 인자"
      ],
      "metadata": {
        "id": "ru_ARrMYeoMt"
      }
    },
    {
      "cell_type": "markdown",
      "source": [
        "kwarg=value 형식의 키워드 인자를 사용해 호출가능. 키워드 인자는 위치 인자 뒤에 와야 함. 전달된 모든 키워드 인자는 함수가 받아들이는 인자 중 하나와 맞아야 함(순서는 중요하지 않음)"
      ],
      "metadata": {
        "id": "XsloDVykfzKI"
      }
    },
    {
      "cell_type": "code",
      "source": [
        "# 필수인자(voltage)\n",
        "# 선택적인자(state, action,type)\n",
        "def parrot(voltage, state='a stiff', action='voom', type='Norwegian Blue'):\n",
        "    print(\"-- This parrot wouldn't\", action, end=' ')\n",
        "    print(\"if you put\", voltage, \"volts through it.\")\n",
        "    print(\"-- Lovely plumage, the\", type)\n",
        "    print(\"-- It's\", state, \"!\")\n",
        "\n",
        "parrot(1000)                                          # 1 positional argument\n",
        "parrot(voltage=1000)                                  # 1 keyword argument\n",
        "parrot(voltage=1000000, action='VOOOOOM')             # 2 keyword arguments\n",
        "parrot(action='VOOOOOM', voltage=1000000)             # 2 keyword arguments\n",
        "parrot('a million', 'bereft of life', 'jump')         # 3 positional arguments\n",
        "parrot('a thousand', state='pushing up the daisies')  # 1 positional, 1 keyword"
      ],
      "metadata": {
        "colab": {
          "base_uri": "https://localhost:8080/"
        },
        "id": "XOQfYh75eptH",
        "outputId": "c19bce21-339a-49f5-c9a3-bbb2a8e2919e"
      },
      "execution_count": 39,
      "outputs": [
        {
          "output_type": "stream",
          "name": "stdout",
          "text": [
            "-- This parrot wouldn't voom if you put 1000 volts through it.\n",
            "-- Lovely plumage, the Norwegian Blue\n",
            "-- It's a stiff !\n",
            "-- This parrot wouldn't voom if you put 1000 volts through it.\n",
            "-- Lovely plumage, the Norwegian Blue\n",
            "-- It's a stiff !\n",
            "-- This parrot wouldn't VOOOOOM if you put 1000000 volts through it.\n",
            "-- Lovely plumage, the Norwegian Blue\n",
            "-- It's a stiff !\n",
            "-- This parrot wouldn't VOOOOOM if you put 1000000 volts through it.\n",
            "-- Lovely plumage, the Norwegian Blue\n",
            "-- It's a stiff !\n",
            "-- This parrot wouldn't jump if you put a million volts through it.\n",
            "-- Lovely plumage, the Norwegian Blue\n",
            "-- It's bereft of life !\n",
            "-- This parrot wouldn't voom if you put a thousand volts through it.\n",
            "-- Lovely plumage, the Norwegian Blue\n",
            "-- It's pushing up the daisies !\n"
          ]
        }
      ]
    },
    {
      "cell_type": "code",
      "source": [
        "# *name은 **name 앞에 와야 한다.\n",
        "\n",
        "def cheeseshop(kind, *arguments, **keywords):\n",
        "    print(\"-- Do you have any\",kind,\"?\")\n",
        "    print(\"-- I'm sorry, we're all out of\",kind)\n",
        "    for arg in arguments:\n",
        "        print(arg)\n",
        "    print(\"-\"*40)\n",
        "    for kw in keywords:\n",
        "        print(kw,\":\",keywords[kw])\n",
        "\n",
        "cheeseshop(\"Limburger\", \"It's very runny, sir.\",\n",
        "           \"It's really very, VERY runny, sir.\",\n",
        "           shopkeeper=\"Michael Palin\",\n",
        "           client=\"John Cleese\",\n",
        "           sketch=\"Cheese Shop Sketch\")"
      ],
      "metadata": {
        "colab": {
          "base_uri": "https://localhost:8080/"
        },
        "id": "7aSd5XlOhz9T",
        "outputId": "2fbf65e1-5944-4683-9269-d75f70e2592b"
      },
      "execution_count": 40,
      "outputs": [
        {
          "output_type": "stream",
          "name": "stdout",
          "text": [
            "-- Do you have any Limburger ?\n",
            "-- I'm sorry, we're all out of Limburger\n",
            "It's very runny, sir.\n",
            "It's really very, VERY runny, sir.\n",
            "----------------------------------------\n",
            "shopkeeper : Michael Palin\n",
            "client : John Cleese\n",
            "sketch : Cheese Shop Sketch\n"
          ]
        }
      ]
    },
    {
      "cell_type": "markdown",
      "source": [
        "4.8.3 특수 매개 변수"
      ],
      "metadata": {
        "id": "03V4DKn0i9tQ"
      }
    },
    {
      "cell_type": "markdown",
      "source": [
        "4.8.3.1 위치-키워드 인자\n",
        "\n",
        "함수 정의에 /,*가 없을 경우, 인자를 위치, 키워드로 함수에 전달할 수 있음\n",
        "\n",
        "4.8.3.2 위치전용 매개 변수\n",
        "\n",
        "매개변수의 순서 중요, 키워드로 매개변수를 전달할 수 없음. /(슬래시,위치전용 매개변수를 나머지 변수들로부터 분리하는 데 사용. 함수 정의에 없으면 위치전용 매개변수가 없는 것) 앞의 변수는 위치전용 매개 변수\n",
        "\n",
        "4.8.3.3 키워드 전용 인자\n",
        "인자 목록에 *를 넣음"
      ],
      "metadata": {
        "id": "cMOLjstsjuZG"
      }
    },
    {
      "cell_type": "code",
      "source": [
        "# 4.8.3.4 함수 예제\n",
        "\n",
        "def standard_arg(arg):\n",
        "    print(arg)\n",
        "\n",
        "def pos_only_arg(arg,/):\n",
        "    print(arg)\n",
        "\n",
        "def kwd_only_arg(*,arg):\n",
        "    print(arg)\n",
        "\n",
        "def conbined_example(pos_only,/,standard,*,kwd_only):\n",
        "    print(pos_only,standard,kwd_only)"
      ],
      "metadata": {
        "id": "gkuy8yhei_hZ"
      },
      "execution_count": null,
      "outputs": []
    },
    {
      "cell_type": "code",
      "source": [
        "standard_arg(2)\n",
        "standard_arg(arg=2)"
      ],
      "metadata": {
        "id": "KnyIcQyBku4Y"
      },
      "execution_count": null,
      "outputs": []
    },
    {
      "cell_type": "code",
      "source": [
        "def foo(name,/,**kwds):\n",
        "    return 'name' in kwds\n",
        "\n",
        "foo(1,**{'name':2})"
      ],
      "metadata": {
        "id": "xcxffXf8l5mq"
      },
      "execution_count": null,
      "outputs": []
    },
    {
      "cell_type": "markdown",
      "source": [
        "4.8.4. 임의의 인자 목록\n",
        "\n",
        "인자들이 튜플로 묶임\n",
        "*args 매개변수 뒤에 등장하는 형식 매개변수는 모두 키워드 전용인자로만 사용될 수 있음."
      ],
      "metadata": {
        "id": "R-CGZQCbqUI9"
      }
    },
    {
      "cell_type": "code",
      "source": [
        "def concat(*args,sep=\"/\"):\n",
        "    return sep.join(args)\n",
        "\n",
        "print(concat(\"earthh\",\"mars\",\"venus\"))\n",
        "print(concat(\"earth\",\"mars\",\"venus\",sep='.'))"
      ],
      "metadata": {
        "colab": {
          "base_uri": "https://localhost:8080/"
        },
        "id": "YA3pHXP_qCea",
        "outputId": "f01b5887-5a4f-432e-bad6-e8df72270121"
      },
      "execution_count": 45,
      "outputs": [
        {
          "output_type": "stream",
          "name": "stdout",
          "text": [
            "earthh/mars/venus\n",
            "earth.mars.venus\n"
          ]
        }
      ]
    },
    {
      "cell_type": "markdown",
      "source": [
        "4.8.5. 인자 목록 언패킹\n",
        "\n",
        "인자가 이미 리스트,튜플에 있지만 분리된 위치의 인자를 요구하는 함수 호출을 위해 언패킹 해야 하는 경우"
      ],
      "metadata": {
        "id": "4LClFcULrScN"
      }
    },
    {
      "cell_type": "code",
      "source": [
        "# normal call with separate arguments\n",
        "list(range(3,6))"
      ],
      "metadata": {
        "colab": {
          "base_uri": "https://localhost:8080/"
        },
        "id": "3CTdMiYbrpvB",
        "outputId": "66803986-fe55-499d-e11c-e549377bb38c"
      },
      "execution_count": 47,
      "outputs": [
        {
          "output_type": "execute_result",
          "data": {
            "text/plain": [
              "[3, 4, 5]"
            ]
          },
          "metadata": {},
          "execution_count": 47
        }
      ]
    },
    {
      "cell_type": "code",
      "source": [
        "# call with arguments unpacked from a list\n",
        "args=[3,6]\n",
        "list(range(*args))"
      ],
      "metadata": {
        "colab": {
          "base_uri": "https://localhost:8080/"
        },
        "id": "y2ynzclQq-xT",
        "outputId": "f6dfdcd7-dd80-4eac-fc0e-22793e29fc0e"
      },
      "execution_count": 48,
      "outputs": [
        {
          "output_type": "execute_result",
          "data": {
            "text/plain": [
              "[3, 4, 5]"
            ]
          },
          "metadata": {},
          "execution_count": 48
        }
      ]
    },
    {
      "cell_type": "code",
      "source": [
        "# 딕셔너리를 키워드 인자로 전달할 때 : **연산자 사용\n",
        "\n",
        "def parrot(voltage, state='a stiff',action='voom'):\n",
        "     print(\"-- This parrot wouldn't\", action, end=' ')\n",
        "     print(\"if you put\", voltage, \"volts through it.\", end=' ')\n",
        "     print(\"E's\", state, \"!\")\n",
        "\n",
        "d = {\"voltage\":\"four million\",\"state\":\"bleedin' demised\",\"action\":\"VOOM\"}\n",
        "parrot(**d)"
      ],
      "metadata": {
        "colab": {
          "base_uri": "https://localhost:8080/"
        },
        "id": "FEoaGi5Yrw6v",
        "outputId": "28f9152f-5a36-4734-a19f-e90fa05b4734"
      },
      "execution_count": 49,
      "outputs": [
        {
          "output_type": "stream",
          "name": "stdout",
          "text": [
            "-- This parrot wouldn't VOOM if you put four million volts through it. E's bleedin' demised !\n"
          ]
        }
      ]
    },
    {
      "cell_type": "markdown",
      "source": [
        "4.8.6. 람다 표현식\n",
        "\n",
        "런타임에 생성해서 사용할 수 있는 익명함수.\n",
        "쓰고 버리는 일시적인 함수."
      ],
      "metadata": {
        "id": "XLBBBwb_te3u"
      }
    },
    {
      "cell_type": "code",
      "source": [
        "def sum():\n",
        "    return lambda a,b:a+b\n",
        "\n",
        "f=sum()     # f = (lambda a,b:a+b)\n",
        "f(10,11)"
      ],
      "metadata": {
        "colab": {
          "base_uri": "https://localhost:8080/"
        },
        "id": "yDvWMD__yAuQ",
        "outputId": "7520c4d2-fc34-4869-c645-a60f69fa3184"
      },
      "execution_count": 62,
      "outputs": [
        {
          "output_type": "execute_result",
          "data": {
            "text/plain": [
              "21"
            ]
          },
          "metadata": {},
          "execution_count": 62
        }
      ]
    },
    {
      "cell_type": "code",
      "source": [
        "def make_incrementor(n):\n",
        "    return lambda x: x+n\n",
        "\n",
        "f = make_incrementor(42)       # f = (lambda x:x+42)\n",
        "f(2)"
      ],
      "metadata": {
        "colab": {
          "base_uri": "https://localhost:8080/"
        },
        "id": "aRQG7APetkFV",
        "outputId": "baaa7f93-4ffb-454d-82ce-ee2e2e01fed1"
      },
      "execution_count": 61,
      "outputs": [
        {
          "output_type": "execute_result",
          "data": {
            "text/plain": [
              "44"
            ]
          },
          "metadata": {},
          "execution_count": 61
        }
      ]
    },
    {
      "cell_type": "code",
      "source": [
        "# key = lambda pair:pair[1]\n",
        "# one, two, three, four를 오름차순 정렬\n",
        "\n",
        "pairs = [(1,'one'),(2,'two'),(3,'three'),(4,'four')]\n",
        "pairs.sort(key=lambda pair:pair[1])\n",
        "pairs"
      ],
      "metadata": {
        "colab": {
          "base_uri": "https://localhost:8080/"
        },
        "id": "S-8r2OMWtxjM",
        "outputId": "aa5e9982-d761-4ea1-ccb5-8dfac36349a9"
      },
      "execution_count": 56,
      "outputs": [
        {
          "output_type": "execute_result",
          "data": {
            "text/plain": [
              "[(4, 'four'), (1, 'one'), (3, 'three'), (2, 'two')]"
            ]
          },
          "metadata": {},
          "execution_count": 56
        }
      ]
    },
    {
      "cell_type": "markdown",
      "source": [
        "4.8.7. 도큐멘테이션 문자열\n",
        "\n",
        "첫 줄 : 객체의 목적을 간결히. 대문자로 시작, 마침표로 끝\n",
        "\n",
        "여러 줄이 있을 경우 : 두 번째 줄은 시각적으로 요약, 나머지 설명 분리 / 이외의 줄 : 객체 호출규약, 부작용 설명"
      ],
      "metadata": {
        "id": "qpFA2a_nQhQR"
      }
    },
    {
      "cell_type": "code",
      "source": [
        "def my_function():\n",
        "    \"\"\"Do nothing, but document it.\n",
        "\n",
        "    No, really, it doesn't do anything.\n",
        "    \"\"\"\n",
        "    pass\n",
        "\n",
        "print(my_function.__doc__)"
      ],
      "metadata": {
        "colab": {
          "base_uri": "https://localhost:8080/"
        },
        "id": "bxbhlpMyuqfg",
        "outputId": "4fa57ac3-7e78-448c-d439-6a1d41c7bf59"
      },
      "execution_count": 1,
      "outputs": [
        {
          "output_type": "stream",
          "name": "stdout",
          "text": [
            "Do nothing, but document it.\n",
            "\n",
            "    No, really, it doesn't do anything.\n",
            "    \n"
          ]
        }
      ]
    },
    {
      "cell_type": "markdown",
      "source": [
        "### ch5. 자료구조"
      ],
      "metadata": {
        "id": "PeRkWLPlTIpm"
      }
    },
    {
      "cell_type": "markdown",
      "source": [
        "#### 5.1 리스트 더 보기\n",
        "\n",
        "리스트 자료형이 가진 메서드"
      ],
      "metadata": {
        "id": "6O0G8d2WTN5M"
      }
    },
    {
      "cell_type": "markdown",
      "source": [
        "append : 끝에 항목 추가\n",
        "\n",
        "insert : 주어진 위치에 항목 추가\n",
        "\n",
        "pop : 주어진 위치의 항목 삭제 후 반환\n",
        "\n",
        "remove : 주어진 항목과 같은 값의 첫 번째 항목을 삭제\n",
        "\n",
        "clear : 리스트 모든 항목 삭제\n",
        "\n",
        "index : 값이 같은 첫 번째 항목의 인덱스 반환\n",
        "\n",
        "count : 주어진 항목이 등장하는 횟수\n",
        "\n",
        "sort : 제자리에서 정렬\n",
        "\n",
        "reverse : 제자리에서 뒤집기\n",
        "\n",
        "copy : 리스트의 얕은 사본 반환"
      ],
      "metadata": {
        "id": "xoqA96IQb-XB"
      }
    },
    {
      "cell_type": "code",
      "source": [
        "fruits=['orange','apple','pear','banana','kiwi','apple','banana']"
      ],
      "metadata": {
        "id": "ApnX1hYLTLoX"
      },
      "execution_count": 18,
      "outputs": []
    },
    {
      "cell_type": "markdown",
      "source": [
        "list.count(x)\n",
        "\n",
        "리스트에 x가 등장하는 횟수"
      ],
      "metadata": {
        "id": "I1iw_2iIOsr7"
      }
    },
    {
      "cell_type": "code",
      "source": [
        "# list.count(x) : x가 등장하는 횟수\n",
        "fruits.count('apple')"
      ],
      "metadata": {
        "colab": {
          "base_uri": "https://localhost:8080/"
        },
        "id": "fc3mO_ysOfjk",
        "outputId": "0be9c1ea-4b67-4307-d26e-390b591ccef4"
      },
      "execution_count": 19,
      "outputs": [
        {
          "output_type": "execute_result",
          "data": {
            "text/plain": [
              "2"
            ]
          },
          "metadata": {},
          "execution_count": 19
        }
      ]
    },
    {
      "cell_type": "code",
      "source": [
        "fruits.count('tangerine')"
      ],
      "metadata": {
        "colab": {
          "base_uri": "https://localhost:8080/"
        },
        "id": "pQJGU5GTOmG0",
        "outputId": "68ab5545-bc6a-4644-92b7-08e3410b43ee"
      },
      "execution_count": 20,
      "outputs": [
        {
          "output_type": "execute_result",
          "data": {
            "text/plain": [
              "0"
            ]
          },
          "metadata": {},
          "execution_count": 20
        }
      ]
    },
    {
      "cell_type": "markdown",
      "source": [
        "list.index(x)\n",
        "\n",
        "리스트의 항목 중 값이 x와 동일한 첫 번째 것의 인덱스를 return. 항목이 없을 경우 ValueError"
      ],
      "metadata": {
        "id": "FfLIpcq9O0ji"
      }
    },
    {
      "cell_type": "code",
      "source": [
        "fruits.index('banana')"
      ],
      "metadata": {
        "colab": {
          "base_uri": "https://localhost:8080/"
        },
        "id": "wxlzLtaaOwcG",
        "outputId": "252244e5-cb08-49e0-af48-bf3aa037a695"
      },
      "execution_count": 21,
      "outputs": [
        {
          "output_type": "execute_result",
          "data": {
            "text/plain": [
              "3"
            ]
          },
          "metadata": {},
          "execution_count": 21
        }
      ]
    },
    {
      "cell_type": "code",
      "source": [
        "# Find next banana starting a position 4\n",
        "fruits.index('banana',4)"
      ],
      "metadata": {
        "colab": {
          "base_uri": "https://localhost:8080/"
        },
        "id": "EbjJQUIEO8lM",
        "outputId": "b87ced4c-49e3-4434-a048-7ebee34fe59b"
      },
      "execution_count": 22,
      "outputs": [
        {
          "output_type": "execute_result",
          "data": {
            "text/plain": [
              "6"
            ]
          },
          "metadata": {},
          "execution_count": 22
        }
      ]
    },
    {
      "cell_type": "markdown",
      "source": [
        "list.reverse()\n",
        "\n",
        "리스트의 요소들을 제자리에서 뒤집음"
      ],
      "metadata": {
        "id": "GluBRkGNQA8S"
      }
    },
    {
      "cell_type": "code",
      "source": [
        "fruits.reverse()\n",
        "fruits"
      ],
      "metadata": {
        "colab": {
          "base_uri": "https://localhost:8080/"
        },
        "id": "G6MHZgoxP9Av",
        "outputId": "a8eec0f4-6b82-46fb-b2df-c74f90b42451"
      },
      "execution_count": 23,
      "outputs": [
        {
          "output_type": "execute_result",
          "data": {
            "text/plain": [
              "['banana', 'apple', 'kiwi', 'banana', 'pear', 'apple', 'orange']"
            ]
          },
          "metadata": {},
          "execution_count": 23
        }
      ]
    },
    {
      "cell_type": "markdown",
      "source": [
        "list.sort(*,key=None,reverse=False)\n",
        "\n",
        "리스트 항목을 제자리에서 정렬"
      ],
      "metadata": {
        "id": "d7HefatxQc1H"
      }
    },
    {
      "cell_type": "code",
      "source": [
        "fruits.sort()\n",
        "fruits"
      ],
      "metadata": {
        "colab": {
          "base_uri": "https://localhost:8080/"
        },
        "id": "tuerL_SPQbFT",
        "outputId": "0568eb21-06bd-42bd-d756-e9e1d2ab51d8"
      },
      "execution_count": 24,
      "outputs": [
        {
          "output_type": "execute_result",
          "data": {
            "text/plain": [
              "['apple', 'apple', 'banana', 'banana', 'kiwi', 'orange', 'pear']"
            ]
          },
          "metadata": {},
          "execution_count": 24
        }
      ]
    },
    {
      "cell_type": "markdown",
      "source": [
        "list.append(x)\n",
        "\n",
        "리스트의 끝에 항목을 추가. a[len(a):]=[x]"
      ],
      "metadata": {
        "id": "tyj41MCvQLtF"
      }
    },
    {
      "cell_type": "code",
      "source": [
        "fruits.append('grape')\n",
        "fruits"
      ],
      "metadata": {
        "colab": {
          "base_uri": "https://localhost:8080/"
        },
        "id": "LFrOZwzKQH1j",
        "outputId": "563da612-d2a4-4fb8-d691-aeb8ddac1e7a"
      },
      "execution_count": 25,
      "outputs": [
        {
          "output_type": "execute_result",
          "data": {
            "text/plain": [
              "['apple', 'apple', 'banana', 'banana', 'kiwi', 'orange', 'pear', 'grape']"
            ]
          },
          "metadata": {},
          "execution_count": 25
        }
      ]
    },
    {
      "cell_type": "markdown",
      "source": [
        "list.pop([i])\n",
        "\n",
        "리스트에서 주어진 위치에 있는 항목을 삭제 후 반환. 인덱스를 지정하지 않을 경우 리스트의 마지막 항목을 삭제 후 반환. \n",
        "\n",
        "cf. i를 둘러싼 대괄호([])는 매개변수가 선택적이라는 것을 의미한다. 그 위치에 대괄호를 입력해야한다는 의미가 아님. "
      ],
      "metadata": {
        "id": "jsjW8EYbQsfz"
      }
    },
    {
      "cell_type": "code",
      "source": [
        "fruits.pop()"
      ],
      "metadata": {
        "colab": {
          "base_uri": "https://localhost:8080/",
          "height": 0
        },
        "id": "zB7jdkewQox_",
        "outputId": "411ea9ec-a2ff-435a-cfcb-2b348c5897c7"
      },
      "execution_count": 26,
      "outputs": [
        {
          "output_type": "execute_result",
          "data": {
            "application/vnd.google.colaboratory.intrinsic+json": {
              "type": "string"
            },
            "text/plain": [
              "'grape'"
            ]
          },
          "metadata": {},
          "execution_count": 26
        }
      ]
    },
    {
      "cell_type": "code",
      "source": [
        "fruits.pop(2)"
      ],
      "metadata": {
        "colab": {
          "base_uri": "https://localhost:8080/",
          "height": 0
        },
        "id": "0S-ReIBrREsG",
        "outputId": "d226af41-72b4-471f-8532-e30572db1159"
      },
      "execution_count": 27,
      "outputs": [
        {
          "output_type": "execute_result",
          "data": {
            "application/vnd.google.colaboratory.intrinsic+json": {
              "type": "string"
            },
            "text/plain": [
              "'banana'"
            ]
          },
          "metadata": {},
          "execution_count": 27
        }
      ]
    },
    {
      "cell_type": "code",
      "source": [
        "fruits"
      ],
      "metadata": {
        "colab": {
          "base_uri": "https://localhost:8080/"
        },
        "id": "6DCYRdCNRIJM",
        "outputId": "d6f07afd-7eae-4dac-b750-dc2364d0a3d1"
      },
      "execution_count": 28,
      "outputs": [
        {
          "output_type": "execute_result",
          "data": {
            "text/plain": [
              "['apple', 'apple', 'banana', 'kiwi', 'orange', 'pear']"
            ]
          },
          "metadata": {},
          "execution_count": 28
        }
      ]
    },
    {
      "cell_type": "markdown",
      "source": [
        "list.insert(i,x)\n",
        "\n",
        "주어진 위치에 항목 삽입"
      ],
      "metadata": {
        "id": "-RkNl1FVYr21"
      }
    },
    {
      "cell_type": "code",
      "source": [
        "fruits.insert(3,'melon')\n",
        "fruits"
      ],
      "metadata": {
        "colab": {
          "base_uri": "https://localhost:8080/"
        },
        "id": "c_BI3EXQYv9f",
        "outputId": "4c8c71de-904b-4b1c-865a-35633f92671f"
      },
      "execution_count": 29,
      "outputs": [
        {
          "output_type": "execute_result",
          "data": {
            "text/plain": [
              "['apple', 'apple', 'banana', 'melon', 'kiwi', 'orange', 'pear']"
            ]
          },
          "metadata": {},
          "execution_count": 29
        }
      ]
    },
    {
      "cell_type": "markdown",
      "source": [
        "list.remove(x)\n",
        "\n",
        "값이 x와 같은 첫 번째 항목 삭제\n",
        "없을 경우 ValueError 발생"
      ],
      "metadata": {
        "id": "b4KCNqAVZMCW"
      }
    },
    {
      "cell_type": "code",
      "source": [
        "fruits.remove('apple')\n",
        "fruits"
      ],
      "metadata": {
        "colab": {
          "base_uri": "https://localhost:8080/"
        },
        "id": "0UhtKl_2Y1yc",
        "outputId": "5134372e-67da-43fb-a3bd-4e2114044775"
      },
      "execution_count": 30,
      "outputs": [
        {
          "output_type": "execute_result",
          "data": {
            "text/plain": [
              "['apple', 'banana', 'melon', 'kiwi', 'orange', 'pear']"
            ]
          },
          "metadata": {},
          "execution_count": 30
        }
      ]
    },
    {
      "cell_type": "markdown",
      "source": [
        "list.clear()\n",
        "\n",
        "리스트 모든 항목 삭제"
      ],
      "metadata": {
        "id": "Yi4HtSp3Za3l"
      }
    },
    {
      "cell_type": "code",
      "source": [
        "fruits.clear()\n",
        "fruits"
      ],
      "metadata": {
        "colab": {
          "base_uri": "https://localhost:8080/"
        },
        "id": "ATaRhUDWZeql",
        "outputId": "f5623c4e-7755-4625-f028-a090c90df168"
      },
      "execution_count": 31,
      "outputs": [
        {
          "output_type": "execute_result",
          "data": {
            "text/plain": [
              "[]"
            ]
          },
          "metadata": {},
          "execution_count": 31
        }
      ]
    },
    {
      "cell_type": "markdown",
      "source": [
        "#### 5.1.1 리스트를 스택으로 사용하기"
      ],
      "metadata": {
        "id": "JqjpodfeZjeq"
      }
    },
    {
      "cell_type": "markdown",
      "source": [
        "스택 : LIFO, 마지막에 넣은 요소가 처음으로 꺼내짐.\n",
        "\n",
        "스택 꼭대기에 항목을 넣으려면 append()\n",
        "\n",
        "항목을 꺼내려면 pop()사용"
      ],
      "metadata": {
        "id": "6p5hwKjLc2Da"
      }
    },
    {
      "cell_type": "code",
      "source": [
        "stack = [3,4,5]\n",
        "stack.append(6)\n",
        "stack.append(7)\n",
        "stack"
      ],
      "metadata": {
        "colab": {
          "base_uri": "https://localhost:8080/"
        },
        "id": "mGOfB-FzZr6X",
        "outputId": "4e65710b-f21f-4954-b07c-bb8658558016"
      },
      "execution_count": 32,
      "outputs": [
        {
          "output_type": "execute_result",
          "data": {
            "text/plain": [
              "[3, 4, 5, 6, 7]"
            ]
          },
          "metadata": {},
          "execution_count": 32
        }
      ]
    },
    {
      "cell_type": "code",
      "source": [
        "stack.pop()"
      ],
      "metadata": {
        "colab": {
          "base_uri": "https://localhost:8080/"
        },
        "id": "iqEr-pwVa_nn",
        "outputId": "0806c188-e2cb-44b7-edbd-1992e32b3fb9"
      },
      "execution_count": 33,
      "outputs": [
        {
          "output_type": "execute_result",
          "data": {
            "text/plain": [
              "7"
            ]
          },
          "metadata": {},
          "execution_count": 33
        }
      ]
    },
    {
      "cell_type": "code",
      "source": [
        "stack.pop()"
      ],
      "metadata": {
        "colab": {
          "base_uri": "https://localhost:8080/"
        },
        "id": "2DcM5XpUcHY9",
        "outputId": "14fe04b6-3d99-4138-da7a-0e1912cd7d7b"
      },
      "execution_count": 34,
      "outputs": [
        {
          "output_type": "execute_result",
          "data": {
            "text/plain": [
              "6"
            ]
          },
          "metadata": {},
          "execution_count": 34
        }
      ]
    },
    {
      "cell_type": "code",
      "source": [
        "stack"
      ],
      "metadata": {
        "colab": {
          "base_uri": "https://localhost:8080/"
        },
        "id": "OkQzjy3GcJHz",
        "outputId": "bf164c5f-ed81-4f7a-a988-ea9c5642918a"
      },
      "execution_count": 35,
      "outputs": [
        {
          "output_type": "execute_result",
          "data": {
            "text/plain": [
              "[3, 4, 5]"
            ]
          },
          "metadata": {},
          "execution_count": 35
        }
      ]
    },
    {
      "cell_type": "markdown",
      "source": [
        "####5.1.2 리스트를 큐로 사용하기(비효율)"
      ],
      "metadata": {
        "id": "ZlI_GxUwcMLN"
      }
    },
    {
      "cell_type": "markdown",
      "source": [
        "큐 : FIFO, 처음 넣은 요소가 처음으로 꺼내짐\n",
        "\n",
        "**리스트는 큐에 효율적이지 않다**. 리스트는 끝에 덧붙이거나, 끝에서 꺼내는 것은 빠르지만 머리에 덧붙이거나 꺼내는 것은 느림 (**다른 요소들을 전부 한 칸씩 이동시켜야 하므로**)\n",
        "\n",
        "큐를 구현하려면 양 끝에서 추가,꺼내기가  빠른 ***collections.deque***를 사용할 것\n",
        "\n",
        "*   생성 : deque([x,y,z...])\n",
        "*   추가 : que.append(x)\n",
        "* 꺼내기 : que.popleft()"
      ],
      "metadata": {
        "id": "7eb7gJi5c7Av"
      }
    },
    {
      "cell_type": "code",
      "source": [
        "from collections import deque\n",
        "\n",
        "queue = deque([\"Eric\",\"John\",\"Michael\"])\n",
        "queue.append(\"Terry\")\n",
        "queue.append(\"Graham\")\n",
        "queue"
      ],
      "metadata": {
        "colab": {
          "base_uri": "https://localhost:8080/"
        },
        "id": "XU-r79mBck4Q",
        "outputId": "1b3169ec-7747-4b8d-8db8-f5dbf2395dc1"
      },
      "execution_count": 37,
      "outputs": [
        {
          "output_type": "execute_result",
          "data": {
            "text/plain": [
              "deque(['Eric', 'John', 'Michael', 'Terry', 'Graham'])"
            ]
          },
          "metadata": {},
          "execution_count": 37
        }
      ]
    },
    {
      "cell_type": "code",
      "source": [
        "queue.popleft()"
      ],
      "metadata": {
        "colab": {
          "base_uri": "https://localhost:8080/",
          "height": 0
        },
        "id": "qwJvNcpYdKnC",
        "outputId": "266f0308-b9b7-40dd-8b05-5ff8e081ed6a"
      },
      "execution_count": 38,
      "outputs": [
        {
          "output_type": "execute_result",
          "data": {
            "application/vnd.google.colaboratory.intrinsic+json": {
              "type": "string"
            },
            "text/plain": [
              "'Eric'"
            ]
          },
          "metadata": {},
          "execution_count": 38
        }
      ]
    },
    {
      "cell_type": "code",
      "source": [
        "queue.popleft()"
      ],
      "metadata": {
        "colab": {
          "base_uri": "https://localhost:8080/",
          "height": 0
        },
        "id": "cdXoWN4OddoY",
        "outputId": "259084f5-ba3f-45f2-81a1-23c6244bf1c9"
      },
      "execution_count": 39,
      "outputs": [
        {
          "output_type": "execute_result",
          "data": {
            "application/vnd.google.colaboratory.intrinsic+json": {
              "type": "string"
            },
            "text/plain": [
              "'John'"
            ]
          },
          "metadata": {},
          "execution_count": 39
        }
      ]
    },
    {
      "cell_type": "markdown",
      "source": [
        "#### 5.1.3 리스트 컴프리헨션\n",
        "\n",
        "각 요소가 다른 시퀀스, 이터러블 멤버에 연산을 적용한 결과 리스트를 만들 때\n",
        "\n",
        "어떤 조건을 만족시키는 요소로 구성된 서브 시퀀스를 만들 때"
      ],
      "metadata": {
        "id": "LN4hSvWJeDPa"
      }
    },
    {
      "cell_type": "code",
      "source": [
        "# 제곱수의 리스트\n",
        "# 변수 x가 loop 종료 후에도 남아있게 만든다\n",
        "\n",
        "squares = []\n",
        "for x in range(10):\n",
        "    squares.append(x**2)\n",
        "\n",
        "squares"
      ],
      "metadata": {
        "colab": {
          "base_uri": "https://localhost:8080/"
        },
        "id": "iD4cz35QeQ3y",
        "outputId": "a14620a2-b03f-4f29-d43f-f0020a15782e"
      },
      "execution_count": 40,
      "outputs": [
        {
          "output_type": "execute_result",
          "data": {
            "text/plain": [
              "[0, 1, 4, 9, 16, 25, 36, 49, 64, 81]"
            ]
          },
          "metadata": {},
          "execution_count": 40
        }
      ]
    },
    {
      "cell_type": "markdown",
      "source": [
        "**map(function, iterable)** ... map(적용시킬 함수, 적용시킬 값)\n",
        "\n",
        "function = 적용시킬 함수, 람다함수도 가능\n",
        "\n",
        "iterable = 반복 가능한 자료형(리스트, 튜플 등)\n",
        "* 반환형 : map객체 (리스트,튜플로 변환 필요)\n",
        "* 동작 : 두 번째 인자 반복가능한 자료형을 첫 번째 인자로 들어온 함수에 하나씩 집어넣어 함수 수행."
      ],
      "metadata": {
        "id": "_GV5jqH1ez0z"
      }
    },
    {
      "cell_type": "code",
      "source": [
        "squares = list(map(lambda x:x**2, range(5)))\n",
        "squares"
      ],
      "metadata": {
        "colab": {
          "base_uri": "https://localhost:8080/"
        },
        "id": "UPDw9T0MeYlb",
        "outputId": "2b269c22-dcb7-4a42-a296-1e26deff60a7"
      },
      "execution_count": 43,
      "outputs": [
        {
          "output_type": "execute_result",
          "data": {
            "text/plain": [
              "[0, 1, 4, 9, 16]"
            ]
          },
          "metadata": {},
          "execution_count": 43
        }
      ]
    },
    {
      "cell_type": "code",
      "source": [
        "squares = [x**2 for x in range(7)]\n",
        "squares"
      ],
      "metadata": {
        "colab": {
          "base_uri": "https://localhost:8080/"
        },
        "id": "8tvciVghghBs",
        "outputId": "7dfe7275-fe16-4e28-e7a6-c20cfa5c4cc8"
      },
      "execution_count": 44,
      "outputs": [
        {
          "output_type": "execute_result",
          "data": {
            "text/plain": [
              "[0, 1, 4, 9, 16, 25, 36]"
            ]
          },
          "metadata": {},
          "execution_count": 44
        }
      ]
    },
    {
      "cell_type": "markdown",
      "source": [
        "* 리스트 컴프리헨션의 구성 : for절, for/if절을 감싸는 대괄호\n",
        "\n",
        "* 결과 : 새 리스트"
      ],
      "metadata": {
        "id": "gghJid2Sg1cy"
      }
    },
    {
      "cell_type": "code",
      "source": [
        "[(x,y) for x in [1,2,3] for y in [3,1,4] if x!=y]"
      ],
      "metadata": {
        "colab": {
          "base_uri": "https://localhost:8080/"
        },
        "id": "98IjoR5fgt8d",
        "outputId": "a053d811-4157-4811-bbf5-ba561eb7f30f"
      },
      "execution_count": 45,
      "outputs": [
        {
          "output_type": "execute_result",
          "data": {
            "text/plain": [
              "[(1, 3), (1, 4), (2, 3), (2, 1), (2, 4), (3, 1), (3, 4)]"
            ]
          },
          "metadata": {},
          "execution_count": 45
        }
      ]
    },
    {
      "cell_type": "code",
      "source": [
        "# Same with\n",
        "\n",
        "combs = []\n",
        "for x in [1,2,3]:\n",
        "    for y in [3,1,4]:\n",
        "        if x!=y:\n",
        "            # 표현식이 튜플이므로 (x,y) 괄호를 쳐야 한다\n",
        "            combs.append((x,y))\n",
        "combs"
      ],
      "metadata": {
        "colab": {
          "base_uri": "https://localhost:8080/"
        },
        "id": "R-obsAwOhUe3",
        "outputId": "d7d33426-23a4-4425-dce0-4db9b320afaf"
      },
      "execution_count": 46,
      "outputs": [
        {
          "output_type": "execute_result",
          "data": {
            "text/plain": [
              "[(1, 3), (1, 4), (2, 3), (2, 1), (2, 4), (3, 1), (3, 4)]"
            ]
          },
          "metadata": {},
          "execution_count": 46
        }
      ]
    },
    {
      "cell_type": "code",
      "source": [
        "vec = [-4,-2,0,2,4]\n",
        "\n",
        "#create a new list with the values doubled\n",
        "[x*2 for x in vec]"
      ],
      "metadata": {
        "colab": {
          "base_uri": "https://localhost:8080/"
        },
        "id": "HX6aqea0he0V",
        "outputId": "105f8801-990a-4834-f71e-a35819507dff"
      },
      "execution_count": 47,
      "outputs": [
        {
          "output_type": "execute_result",
          "data": {
            "text/plain": [
              "[-8, -4, 0, 4, 8]"
            ]
          },
          "metadata": {},
          "execution_count": 47
        }
      ]
    },
    {
      "cell_type": "code",
      "source": [
        "#filter the list to exclude negative numbers\n",
        "[x for x in vec if x>=0]"
      ],
      "metadata": {
        "colab": {
          "base_uri": "https://localhost:8080/"
        },
        "id": "aZiCpqLzhvv4",
        "outputId": "2693738a-0643-4850-9444-2333248641a4"
      },
      "execution_count": 48,
      "outputs": [
        {
          "output_type": "execute_result",
          "data": {
            "text/plain": [
              "[0, 2, 4]"
            ]
          },
          "metadata": {},
          "execution_count": 48
        }
      ]
    },
    {
      "cell_type": "code",
      "source": [
        "#apply a function to all the elements\n",
        "[abs(x) for x in vec]"
      ],
      "metadata": {
        "colab": {
          "base_uri": "https://localhost:8080/"
        },
        "id": "6JhVVM8fh5nU",
        "outputId": "78b6153d-bac8-4a84-dccd-0f430ea56a04"
      },
      "execution_count": 49,
      "outputs": [
        {
          "output_type": "execute_result",
          "data": {
            "text/plain": [
              "[4, 2, 0, 2, 4]"
            ]
          },
          "metadata": {},
          "execution_count": 49
        }
      ]
    },
    {
      "cell_type": "code",
      "source": [
        "# call a method on each element\n",
        "freshfruit = ['     banana','   loganberry','   passion fruit']\n",
        "[weapon.strip() for weapon in freshfruit]"
      ],
      "metadata": {
        "colab": {
          "base_uri": "https://localhost:8080/"
        },
        "id": "uS6_ltmzh_j0",
        "outputId": "8c55af70-40c7-460f-f749-a0a39ed5ce3a"
      },
      "execution_count": 51,
      "outputs": [
        {
          "output_type": "execute_result",
          "data": {
            "text/plain": [
              "['banana', 'loganberry', 'passion fruit']"
            ]
          },
          "metadata": {},
          "execution_count": 51
        }
      ]
    },
    {
      "cell_type": "code",
      "source": [
        "# create a list of 2-tuples like (number,square)\n",
        "# the tuple must be parenthesized, otherwise an error is raised\n",
        "[(x,x**2) for x in range(6)]"
      ],
      "metadata": {
        "colab": {
          "base_uri": "https://localhost:8080/"
        },
        "id": "s7_k-ZCKiQB9",
        "outputId": "55924096-f526-416a-d54a-1d199c969418"
      },
      "execution_count": 52,
      "outputs": [
        {
          "output_type": "execute_result",
          "data": {
            "text/plain": [
              "[(0, 0), (1, 1), (2, 4), (3, 9), (4, 16), (5, 25)]"
            ]
          },
          "metadata": {},
          "execution_count": 52
        }
      ]
    },
    {
      "cell_type": "code",
      "source": [
        "#f flatten a list using a listcomp with two 'for'\n",
        "vec = [[1,2,3],[4,5,6],[7,8,9]]\n",
        "[num for elem in vec for num in elem]"
      ],
      "metadata": {
        "colab": {
          "base_uri": "https://localhost:8080/"
        },
        "id": "DFPnfO5AiYO5",
        "outputId": "00d40e43-e486-45f1-ad45-4116b016ba31"
      },
      "execution_count": 53,
      "outputs": [
        {
          "output_type": "execute_result",
          "data": {
            "text/plain": [
              "[1, 2, 3, 4, 5, 6, 7, 8, 9]"
            ]
          },
          "metadata": {},
          "execution_count": 53
        }
      ]
    },
    {
      "cell_type": "code",
      "source": [
        "from math import pi\n",
        "[str(round(pi,i)) for i in range(1,6)]"
      ],
      "metadata": {
        "colab": {
          "base_uri": "https://localhost:8080/"
        },
        "id": "92-JLPfUiu1Z",
        "outputId": "5386b67a-5420-4976-9d4d-34c04f2e379e"
      },
      "execution_count": 54,
      "outputs": [
        {
          "output_type": "execute_result",
          "data": {
            "text/plain": [
              "['3.1', '3.14', '3.142', '3.1416', '3.14159']"
            ]
          },
          "metadata": {},
          "execution_count": 54
        }
      ]
    },
    {
      "cell_type": "markdown",
      "source": [
        "#### 5.1.4 중첩된 리스트 컴프리헨션"
      ],
      "metadata": {
        "id": "1oTkwffFi3ds"
      }
    },
    {
      "cell_type": "code",
      "source": [
        "matrix = [\n",
        "          [1,2,3,4],\n",
        "          [5,6,7,8],\n",
        "          [9,10,11,12]\n",
        "]"
      ],
      "metadata": {
        "id": "765u1rzPi7m0"
      },
      "execution_count": 56,
      "outputs": []
    },
    {
      "cell_type": "code",
      "source": [
        "[ [row[i] for row in matrix] for i in range(4)]"
      ],
      "metadata": {
        "colab": {
          "base_uri": "https://localhost:8080/"
        },
        "id": "6SG4M9jnjXBt",
        "outputId": "c567fe66-593b-4734-8e49-8181a7de4e89"
      },
      "execution_count": 57,
      "outputs": [
        {
          "output_type": "execute_result",
          "data": {
            "text/plain": [
              "[[1, 5, 9], [2, 6, 10], [3, 7, 11], [4, 8, 12]]"
            ]
          },
          "metadata": {},
          "execution_count": 57
        }
      ]
    },
    {
      "cell_type": "code",
      "source": [
        "tranposed = []\n",
        "for i in range(4):\n",
        "    tranposed.append( [row[i] for row in matrix] )\n",
        "tranposed"
      ],
      "metadata": {
        "colab": {
          "base_uri": "https://localhost:8080/"
        },
        "id": "KXp7J6icjh0Y",
        "outputId": "1f5ebf28-b486-4237-fa7d-7eea6585f768"
      },
      "execution_count": 59,
      "outputs": [
        {
          "output_type": "execute_result",
          "data": {
            "text/plain": [
              "[[1, 5, 9], [2, 6, 10], [3, 7, 11], [4, 8, 12]]"
            ]
          },
          "metadata": {},
          "execution_count": 59
        }
      ]
    },
    {
      "cell_type": "markdown",
      "source": [
        "zip(*iterables,strict=False)\n",
        "* Iterate over several iterables in parallel, producing tuples with an item for each one.\n"
      ],
      "metadata": {
        "id": "dIRjtcpToTHY"
      }
    },
    {
      "cell_type": "code",
      "source": [
        "for item in zip([1,2,3],['sugar','spice','everything nice']):\n",
        "    print(item)"
      ],
      "metadata": {
        "colab": {
          "base_uri": "https://localhost:8080/"
        },
        "id": "OAW0p9proxjM",
        "outputId": "79a0e6f2-eae7-4afa-e1a5-a4875ca5df44"
      },
      "execution_count": 61,
      "outputs": [
        {
          "output_type": "stream",
          "name": "stdout",
          "text": [
            "(1, 'sugar')\n",
            "(2, 'spice')\n",
            "(3, 'everything nice')\n"
          ]
        }
      ]
    },
    {
      "cell_type": "code",
      "source": [
        "list(zip(*matrix))"
      ],
      "metadata": {
        "colab": {
          "base_uri": "https://localhost:8080/"
        },
        "id": "Kk4P4reWj_Rl",
        "outputId": "f3069ecc-1eb7-4848-da72-1af34d5f6ebd"
      },
      "execution_count": 60,
      "outputs": [
        {
          "output_type": "execute_result",
          "data": {
            "text/plain": [
              "[(1, 5, 9), (2, 6, 10), (3, 7, 11), (4, 8, 12)]"
            ]
          },
          "metadata": {},
          "execution_count": 60
        }
      ]
    },
    {
      "cell_type": "markdown",
      "source": [
        "#### 5.2 del문"
      ],
      "metadata": {
        "id": "1jEKqJc9q7ok"
      }
    },
    {
      "cell_type": "markdown",
      "source": [
        "리스트에서 값 대신 인덱스를 사용해 항목을 삭제하는 방법. \n",
        "\n",
        "슬라이스 삭제, 전체 리스트를 비울 때도 사용"
      ],
      "metadata": {
        "id": "YaeOOFd8rA3C"
      }
    },
    {
      "cell_type": "code",
      "source": [
        "a = [-1,1,66.25,333,333,1234.5]\n",
        "del a[0]\n",
        "a"
      ],
      "metadata": {
        "colab": {
          "base_uri": "https://localhost:8080/"
        },
        "id": "rw_DRX9Uq94Q",
        "outputId": "809db5a0-28b9-4f48-d162-e249a5725b3f"
      },
      "execution_count": 63,
      "outputs": [
        {
          "output_type": "execute_result",
          "data": {
            "text/plain": [
              "[1, 66.25, 333, 333, 1234.5]"
            ]
          },
          "metadata": {},
          "execution_count": 63
        }
      ]
    },
    {
      "cell_type": "code",
      "source": [
        "del a[2:4]\n",
        "a"
      ],
      "metadata": {
        "colab": {
          "base_uri": "https://localhost:8080/"
        },
        "id": "whfAFVGQrQHX",
        "outputId": "21088177-6428-4e33-c492-c4ef6b248ada"
      },
      "execution_count": 64,
      "outputs": [
        {
          "output_type": "execute_result",
          "data": {
            "text/plain": [
              "[1, 66.25, 1234.5]"
            ]
          },
          "metadata": {},
          "execution_count": 64
        }
      ]
    },
    {
      "cell_type": "code",
      "source": [
        "del a[:]\n",
        "a"
      ],
      "metadata": {
        "colab": {
          "base_uri": "https://localhost:8080/"
        },
        "id": "s_iNGAHFrTj2",
        "outputId": "d279f197-92d9-4a55-94c4-bb2f91b0e036"
      },
      "execution_count": 65,
      "outputs": [
        {
          "output_type": "execute_result",
          "data": {
            "text/plain": [
              "[]"
            ]
          },
          "metadata": {},
          "execution_count": 65
        }
      ]
    },
    {
      "cell_type": "code",
      "source": [
        "# 리스트 항목이 아니라 리스트 자체를 삭제\n",
        "del a"
      ],
      "metadata": {
        "id": "TKy1hjrHrYnv"
      },
      "execution_count": null,
      "outputs": []
    },
    {
      "cell_type": "markdown",
      "source": [
        "#### 5.3 튜플과 시퀀스"
      ],
      "metadata": {
        "id": "_rBOTPHkrgBE"
      }
    },
    {
      "cell_type": "markdown",
      "source": [
        "* 튜플은 쉼표로 구분되는 여러 값으로 구성\n",
        "* 중첩 가능(괄호로 둘러싸임)\n",
        "* 튜플의 값은 **불변** but, 리스트처럼 가변하는 객체를 포함한 튜플은 생성 가능\n",
        "\n",
        "cf. 시퀀스 자료형 : list, tuple, range (추후 추가될 수도 있음)\n"
      ],
      "metadata": {
        "id": "4HElXcaxrtls"
      }
    },
    {
      "cell_type": "code",
      "source": [
        "# 튜플은 쉼표로 구분되는 여러 값으로 구성\n",
        "t = 12345, 54321, 'hello!'\n",
        "t[0]"
      ],
      "metadata": {
        "colab": {
          "base_uri": "https://localhost:8080/"
        },
        "id": "QWSruFUArbNY",
        "outputId": "82ea14c4-ad0b-4b6f-8bca-14d10cf5a955"
      },
      "execution_count": 67,
      "outputs": [
        {
          "output_type": "execute_result",
          "data": {
            "text/plain": [
              "12345"
            ]
          },
          "metadata": {},
          "execution_count": 67
        }
      ]
    },
    {
      "cell_type": "code",
      "source": [
        "t"
      ],
      "metadata": {
        "colab": {
          "base_uri": "https://localhost:8080/"
        },
        "id": "JckpXz0HsFQy",
        "outputId": "92b13c7a-423d-48e5-8763-769468049399"
      },
      "execution_count": 68,
      "outputs": [
        {
          "output_type": "execute_result",
          "data": {
            "text/plain": [
              "(12345, 54321, 'hello!')"
            ]
          },
          "metadata": {},
          "execution_count": 68
        }
      ]
    },
    {
      "cell_type": "code",
      "source": [
        "# Tuples may be nested:\n",
        "u = t, (1,2,3,4,5)\n",
        "u"
      ],
      "metadata": {
        "colab": {
          "base_uri": "https://localhost:8080/"
        },
        "id": "LocaPVwfsGNu",
        "outputId": "6d920974-7f67-4ff1-94df-2cc71194cf12"
      },
      "execution_count": 69,
      "outputs": [
        {
          "output_type": "execute_result",
          "data": {
            "text/plain": [
              "((12345, 54321, 'hello!'), (1, 2, 3, 4, 5))"
            ]
          },
          "metadata": {},
          "execution_count": 69
        }
      ]
    },
    {
      "cell_type": "code",
      "source": [
        "# Tuples are immutable:\n",
        "# t[0] = 88888"
      ],
      "metadata": {
        "id": "5ZzZN7utsMsm"
      },
      "execution_count": 71,
      "outputs": []
    },
    {
      "cell_type": "code",
      "source": [
        "# but they can contain mutable objects:\n",
        "v = ([1,2,3],[3,2,1])\n",
        "v"
      ],
      "metadata": {
        "colab": {
          "base_uri": "https://localhost:8080/"
        },
        "id": "7GXvXZMuslnc",
        "outputId": "f0469715-0792-45d1-da96-32dc50cf2372"
      },
      "execution_count": 72,
      "outputs": [
        {
          "output_type": "execute_result",
          "data": {
            "text/plain": [
              "([1, 2, 3], [3, 2, 1])"
            ]
          },
          "metadata": {},
          "execution_count": 72
        }
      ]
    },
    {
      "cell_type": "markdown",
      "source": [
        "문제 : 비었거나, 하나의 항목만을 갖는 튜플을 만드는 것\n",
        "* 빈 튜플은 빈 괄호 쌍으로 생성\n",
        "* 하나의 항목으로 구성된 튜플은 값 뒤에 쉼표를 붙여 생성"
      ],
      "metadata": {
        "id": "JdRHKczhtUaL"
      }
    },
    {
      "cell_type": "code",
      "source": [
        "empty = ()\n",
        "len(empty)"
      ],
      "metadata": {
        "colab": {
          "base_uri": "https://localhost:8080/"
        },
        "id": "WAQjDbDwtSRb",
        "outputId": "d21f6f43-4bb2-4b12-af0f-a551b5782c9d"
      },
      "execution_count": 73,
      "outputs": [
        {
          "output_type": "execute_result",
          "data": {
            "text/plain": [
              "0"
            ]
          },
          "metadata": {},
          "execution_count": 73
        }
      ]
    },
    {
      "cell_type": "code",
      "source": [
        "singleton = 'hello',\n",
        "len(singleton)"
      ],
      "metadata": {
        "colab": {
          "base_uri": "https://localhost:8080/"
        },
        "id": "EzsAdbZPtk6q",
        "outputId": "e4d21ba6-a119-44c3-87fd-760abd3fe9e6"
      },
      "execution_count": 74,
      "outputs": [
        {
          "output_type": "execute_result",
          "data": {
            "text/plain": [
              "1"
            ]
          },
          "metadata": {},
          "execution_count": 74
        }
      ]
    },
    {
      "cell_type": "code",
      "source": [
        "singleton"
      ],
      "metadata": {
        "colab": {
          "base_uri": "https://localhost:8080/"
        },
        "id": "fvUmR7gQtnRS",
        "outputId": "5996315d-c137-474e-ca4e-180335a0d240"
      },
      "execution_count": 75,
      "outputs": [
        {
          "output_type": "execute_result",
          "data": {
            "text/plain": [
              "('hello',)"
            ]
          },
          "metadata": {},
          "execution_count": 75
        }
      ]
    },
    {
      "cell_type": "markdown",
      "source": [
        "튜플의 패킹-언패킹"
      ],
      "metadata": {
        "id": "orpjwMk9trIJ"
      }
    },
    {
      "cell_type": "code",
      "source": [
        "# 패킹\n",
        "t = 12345, 54321 ,'hello!'\n",
        "t"
      ],
      "metadata": {
        "colab": {
          "base_uri": "https://localhost:8080/"
        },
        "id": "spfyrf-Sts5Z",
        "outputId": "1b95080e-bb90-4383-a3b7-fe80b140c47e"
      },
      "execution_count": 76,
      "outputs": [
        {
          "output_type": "execute_result",
          "data": {
            "text/plain": [
              "(12345, 54321, 'hello!')"
            ]
          },
          "metadata": {},
          "execution_count": 76
        }
      ]
    },
    {
      "cell_type": "code",
      "source": [
        "# 시퀀스 언패킹\n",
        "# 좌변에 시퀀스의 요소 개수만큼의 변수가 필요함\n",
        "x, y, z = t\n",
        "print(x,y,z)"
      ],
      "metadata": {
        "colab": {
          "base_uri": "https://localhost:8080/"
        },
        "id": "nXV4ONC8tw5K",
        "outputId": "887d3f54-c7cd-4299-bbc7-853a62c39de8"
      },
      "execution_count": 77,
      "outputs": [
        {
          "output_type": "stream",
          "name": "stdout",
          "text": [
            "12345 54321 hello!\n"
          ]
        }
      ]
    },
    {
      "cell_type": "markdown",
      "source": [
        "#### 5.4 집합"
      ],
      "metadata": {
        "id": "3Xp77NQit_d1"
      }
    },
    {
      "cell_type": "markdown",
      "source": [
        "**중복 요소, 순서가 없는 컬렉션**\n",
        "* 용도 : 멤버십 겁사, 중복 엔트리 제거\n",
        "* 수학적 연산 지원 (합집합,교집합,차집합,대칭차집합 등...)\n",
        "* 생성 : 중괄호{}, set( )함수(빈 집합을 생성할 때에는 set함수를 써야 함)\n",
        "* 집합 컴프리헨션 지원"
      ],
      "metadata": {
        "id": "cxEEoKsZuImB"
      }
    },
    {
      "cell_type": "code",
      "source": [
        "# show that duplicates have been removed\n",
        "basket = {'apple','orange','apple','pear','orange','banana'}\n",
        "print(basket)"
      ],
      "metadata": {
        "colab": {
          "base_uri": "https://localhost:8080/"
        },
        "id": "ajli0Cd3uDqw",
        "outputId": "10ebbd2a-ee10-4869-bd81-97d3f5ac0ac9"
      },
      "execution_count": 79,
      "outputs": [
        {
          "output_type": "stream",
          "name": "stdout",
          "text": [
            "{'pear', 'banana', 'orange', 'apple'}\n"
          ]
        }
      ]
    },
    {
      "cell_type": "code",
      "source": [
        "# fast membership testing\n",
        "'orange' in basket"
      ],
      "metadata": {
        "colab": {
          "base_uri": "https://localhost:8080/"
        },
        "id": "i24mtofhudsK",
        "outputId": "ff638308-5781-4f2e-deb0-4d3bd732038f"
      },
      "execution_count": 80,
      "outputs": [
        {
          "output_type": "execute_result",
          "data": {
            "text/plain": [
              "True"
            ]
          },
          "metadata": {},
          "execution_count": 80
        }
      ]
    },
    {
      "cell_type": "code",
      "source": [
        "'crabgrass' in basket"
      ],
      "metadata": {
        "colab": {
          "base_uri": "https://localhost:8080/"
        },
        "id": "EBzG-YkOume5",
        "outputId": "ecb6f6d5-0e65-4302-85b5-65853bb4283f"
      },
      "execution_count": 81,
      "outputs": [
        {
          "output_type": "execute_result",
          "data": {
            "text/plain": [
              "False"
            ]
          },
          "metadata": {},
          "execution_count": 81
        }
      ]
    },
    {
      "cell_type": "code",
      "source": [
        "# Demonstrate set operations on unique letters from two words\n",
        "a = set('abracadabra')\n",
        "b = set('alacazam')"
      ],
      "metadata": {
        "id": "bcDRhfOAupcY"
      },
      "execution_count": 82,
      "outputs": []
    },
    {
      "cell_type": "code",
      "source": [
        "#unique letters in a\n",
        "a"
      ],
      "metadata": {
        "colab": {
          "base_uri": "https://localhost:8080/"
        },
        "id": "QriLu3R-vJPh",
        "outputId": "c2611bea-68bd-4efb-9133-736348d6886b"
      },
      "execution_count": 83,
      "outputs": [
        {
          "output_type": "execute_result",
          "data": {
            "text/plain": [
              "{'a', 'b', 'c', 'd', 'r'}"
            ]
          },
          "metadata": {},
          "execution_count": 83
        }
      ]
    },
    {
      "cell_type": "code",
      "source": [
        "# letters in a but not in b\n",
        "a-b"
      ],
      "metadata": {
        "colab": {
          "base_uri": "https://localhost:8080/"
        },
        "id": "ni10_GrZvL3X",
        "outputId": "6f031b5a-d8c7-4aaf-b39c-f0750399981f"
      },
      "execution_count": 84,
      "outputs": [
        {
          "output_type": "execute_result",
          "data": {
            "text/plain": [
              "{'b', 'd', 'r'}"
            ]
          },
          "metadata": {},
          "execution_count": 84
        }
      ]
    },
    {
      "cell_type": "code",
      "source": [
        "# letters in a or b or both\n",
        "a|b"
      ],
      "metadata": {
        "colab": {
          "base_uri": "https://localhost:8080/"
        },
        "id": "PLfIGuGYvO20",
        "outputId": "f7dc455d-bbea-4f3a-f6ba-b304b0bb585f"
      },
      "execution_count": 85,
      "outputs": [
        {
          "output_type": "execute_result",
          "data": {
            "text/plain": [
              "{'a', 'b', 'c', 'd', 'l', 'm', 'r', 'z'}"
            ]
          },
          "metadata": {},
          "execution_count": 85
        }
      ]
    },
    {
      "cell_type": "code",
      "source": [
        "# letters in both a and b\n",
        "a&b"
      ],
      "metadata": {
        "colab": {
          "base_uri": "https://localhost:8080/"
        },
        "id": "NxHyNATDvTTN",
        "outputId": "2bb2904d-ed70-4b25-8bf2-3eb95b83a5b9"
      },
      "execution_count": 86,
      "outputs": [
        {
          "output_type": "execute_result",
          "data": {
            "text/plain": [
              "{'a', 'c'}"
            ]
          },
          "metadata": {},
          "execution_count": 86
        }
      ]
    },
    {
      "cell_type": "code",
      "source": [
        "# letters in a or b but not both\n",
        "a^b"
      ],
      "metadata": {
        "colab": {
          "base_uri": "https://localhost:8080/"
        },
        "id": "mMcWsF4PvY08",
        "outputId": "2d621656-d558-43e1-a6cf-7857e8b75df3"
      },
      "execution_count": 87,
      "outputs": [
        {
          "output_type": "execute_result",
          "data": {
            "text/plain": [
              "{'b', 'd', 'l', 'm', 'r', 'z'}"
            ]
          },
          "metadata": {},
          "execution_count": 87
        }
      ]
    },
    {
      "cell_type": "code",
      "source": [
        "# 집합 컴프리헨션\n",
        "a = {x for x in 'abracadabra' if x not in 'abc'}\n",
        "a"
      ],
      "metadata": {
        "colab": {
          "base_uri": "https://localhost:8080/"
        },
        "id": "c67AUv89vhLg",
        "outputId": "7f7bd8a9-19ab-4cea-cf8c-81b2d40ca5a4"
      },
      "execution_count": 88,
      "outputs": [
        {
          "output_type": "execute_result",
          "data": {
            "text/plain": [
              "{'d', 'r'}"
            ]
          },
          "metadata": {},
          "execution_count": 88
        }
      ]
    },
    {
      "cell_type": "markdown",
      "source": [
        "#### 5.5 딕셔너리"
      ],
      "metadata": {
        "id": "MdsN7Duivs3a"
      }
    },
    {
      "cell_type": "markdown",
      "source": [
        "**매핑**형(dict) 자료형 딕셔너리(dictionary)\n",
        "\n",
        "* **키(Key)**로 인덱싱 (시퀀스는 숫자로 인덱싱)\n",
        "* 문자열, 숫자는 항상 키가 될 수 있음\n",
        "* 튜플이 문자열, 숫자, 튜플만 포함할 경우 키가 될 수 있음(가변객체 포함 시 키 사용 불가)\n",
        "* 리스트는 키로 사용될 수 없음"
      ],
      "metadata": {
        "id": "pUwm_3GRvuk1"
      }
    },
    {
      "cell_type": "markdown",
      "source": [
        "값을 키와 함께 저장, 주어진 키로 값을 추출\n",
        "* del 키워드로  키:값 쌍을 삭제할 수 있음\n",
        "* 이미 사용하고 있는 키로 저장할 경우, 예전 값은 잊혀짐\n",
        "* 존재하지 않는 키로 값을 추출하면 에러 발생\n",
        "* list(d): 딕셔너리에 사용되고 있는 모든 키의 리스트를 삽입 순서대로 반환 (sorted(d)를 사용할 경우 정렬)\n",
        "* in 키워드 : 하나의 키가 딕셔너리에 있는 지 검사"
      ],
      "metadata": {
        "id": "CVjINJ9F1kXk"
      }
    },
    {
      "cell_type": "code",
      "source": [
        "tel = {'jack':4098, 'sape':4139}\n",
        "tel['guido']=4127\n",
        "tel"
      ],
      "metadata": {
        "colab": {
          "base_uri": "https://localhost:8080/"
        },
        "id": "5Q8YEOzOvu2G",
        "outputId": "09c14348-06ea-406f-f011-e9a61d248f10"
      },
      "execution_count": 99,
      "outputs": [
        {
          "output_type": "execute_result",
          "data": {
            "text/plain": [
              "{'guido': 4127, 'jack': 4098, 'sape': 4139}"
            ]
          },
          "metadata": {},
          "execution_count": 99
        }
      ]
    },
    {
      "cell_type": "code",
      "source": [
        "tel['jack']"
      ],
      "metadata": {
        "colab": {
          "base_uri": "https://localhost:8080/"
        },
        "id": "nUBQUpBi2kv1",
        "outputId": "cb115a6d-c176-443e-95fd-b60b9cebe557"
      },
      "execution_count": 100,
      "outputs": [
        {
          "output_type": "execute_result",
          "data": {
            "text/plain": [
              "4098"
            ]
          },
          "metadata": {},
          "execution_count": 100
        }
      ]
    },
    {
      "cell_type": "code",
      "source": [
        "del tel['sape']\n",
        "tel['irv']=4127\n",
        "tel"
      ],
      "metadata": {
        "colab": {
          "base_uri": "https://localhost:8080/"
        },
        "id": "DRJOpNPg2Zax",
        "outputId": "0c816ea7-070e-4c59-9bb1-42a131bf6db8"
      },
      "execution_count": 101,
      "outputs": [
        {
          "output_type": "execute_result",
          "data": {
            "text/plain": [
              "{'guido': 4127, 'irv': 4127, 'jack': 4098}"
            ]
          },
          "metadata": {},
          "execution_count": 101
        }
      ]
    },
    {
      "cell_type": "code",
      "source": [
        "list(tel)"
      ],
      "metadata": {
        "colab": {
          "base_uri": "https://localhost:8080/"
        },
        "id": "n4XQj2N92t8R",
        "outputId": "83b87d53-c9a6-4101-cf56-8c666cd6bd3d"
      },
      "execution_count": 102,
      "outputs": [
        {
          "output_type": "execute_result",
          "data": {
            "text/plain": [
              "['jack', 'guido', 'irv']"
            ]
          },
          "metadata": {},
          "execution_count": 102
        }
      ]
    },
    {
      "cell_type": "code",
      "source": [
        "sorted(tel)"
      ],
      "metadata": {
        "colab": {
          "base_uri": "https://localhost:8080/"
        },
        "id": "qiKF9pTj25jy",
        "outputId": "a54ce48a-62b0-48c5-a478-c59641bc9c3a"
      },
      "execution_count": 103,
      "outputs": [
        {
          "output_type": "execute_result",
          "data": {
            "text/plain": [
              "['guido', 'irv', 'jack']"
            ]
          },
          "metadata": {},
          "execution_count": 103
        }
      ]
    },
    {
      "cell_type": "code",
      "source": [
        "'guido' in tel"
      ],
      "metadata": {
        "colab": {
          "base_uri": "https://localhost:8080/"
        },
        "id": "TjD0eFSg27bb",
        "outputId": "052b8b53-6146-4c32-eea8-9a6c85a36895"
      },
      "execution_count": 104,
      "outputs": [
        {
          "output_type": "execute_result",
          "data": {
            "text/plain": [
              "True"
            ]
          },
          "metadata": {},
          "execution_count": 104
        }
      ]
    },
    {
      "cell_type": "code",
      "source": [
        "'jack' not in tel"
      ],
      "metadata": {
        "colab": {
          "base_uri": "https://localhost:8080/"
        },
        "id": "OnF60nu_2_ao",
        "outputId": "b5362fee-2e21-4ad3-f7db-d5f6ecaf0b6d"
      },
      "execution_count": 105,
      "outputs": [
        {
          "output_type": "execute_result",
          "data": {
            "text/plain": [
              "False"
            ]
          },
          "metadata": {},
          "execution_count": 105
        }
      ]
    },
    {
      "cell_type": "markdown",
      "source": [
        "dict( ) 생성자\n",
        "\n",
        "키-값 쌍들의 시퀀스에서 직접 딕셔너리 구성"
      ],
      "metadata": {
        "id": "UfZ0QMC83B-F"
      }
    },
    {
      "cell_type": "code",
      "source": [
        "dict( [('sape',4139),('guido',4127),('jack',4098)] )"
      ],
      "metadata": {
        "colab": {
          "base_uri": "https://localhost:8080/"
        },
        "id": "FmSyEkCU3BIL",
        "outputId": "9390a941-3fc4-4e5c-d058-4ae854b75009"
      },
      "execution_count": 106,
      "outputs": [
        {
          "output_type": "execute_result",
          "data": {
            "text/plain": [
              "{'guido': 4127, 'jack': 4098, 'sape': 4139}"
            ]
          },
          "metadata": {},
          "execution_count": 106
        }
      ]
    },
    {
      "cell_type": "code",
      "source": [
        "# 딕셔너리 컴프리헨션\n",
        "{x: x**2 for x in (2, 4, 6)}"
      ],
      "metadata": {
        "colab": {
          "base_uri": "https://localhost:8080/"
        },
        "id": "gQl2jPqK3Tp3",
        "outputId": "a8e68219-95ec-4911-9999-a99cb1590f6f"
      },
      "execution_count": 107,
      "outputs": [
        {
          "output_type": "execute_result",
          "data": {
            "text/plain": [
              "{2: 4, 4: 16, 6: 36}"
            ]
          },
          "metadata": {},
          "execution_count": 107
        }
      ]
    },
    {
      "cell_type": "code",
      "source": [
        "dict(sape=4139, gudio=4127, jack=4098)"
      ],
      "metadata": {
        "colab": {
          "base_uri": "https://localhost:8080/"
        },
        "id": "vMIQGfsr3hyK",
        "outputId": "df0fdf5e-8222-43ca-9cf8-0969555f2abf"
      },
      "execution_count": 108,
      "outputs": [
        {
          "output_type": "execute_result",
          "data": {
            "text/plain": [
              "{'gudio': 4127, 'jack': 4098, 'sape': 4139}"
            ]
          },
          "metadata": {},
          "execution_count": 108
        }
      ]
    },
    {
      "cell_type": "markdown",
      "source": [
        "#### 5.6 루프 테크닉"
      ],
      "metadata": {
        "id": "chWxWraP3n4b"
      }
    },
    {
      "cell_type": "code",
      "source": [
        "# 딕셔너리로 루프할 때, items( ) 메서드를 사용\n",
        "# 키에 해당하는 값을 동시에 얻을 수 있음\n",
        "\n",
        "knights = {'gallahad':'the pure','robin':'the brave'}\n",
        "for k, v in knights.items():\n",
        "    print(k,v)"
      ],
      "metadata": {
        "colab": {
          "base_uri": "https://localhost:8080/"
        },
        "id": "f4x8GZYw3pnW",
        "outputId": "8b87d12f-0169-4b91-9014-9be521802f6c"
      },
      "execution_count": 109,
      "outputs": [
        {
          "output_type": "stream",
          "name": "stdout",
          "text": [
            "gallahad the pure\n",
            "robin the brave\n"
          ]
        }
      ]
    },
    {
      "cell_type": "code",
      "source": [
        "# 시퀀스로 루프할 때, enumerate( ) 함수를 사용\n",
        "# 위치 인덱스와 대응값을 동시에 얻을 수 있음\n",
        "\n",
        "for i, v in enumerate(['tic','toc','toe']):\n",
        "    print(i,v)"
      ],
      "metadata": {
        "colab": {
          "base_uri": "https://localhost:8080/"
        },
        "id": "DzGakfil4Ep5",
        "outputId": "f9da9de2-a316-42ad-f8f1-9b4cfd8dc4c4"
      },
      "execution_count": 110,
      "outputs": [
        {
          "output_type": "stream",
          "name": "stdout",
          "text": [
            "0 tic\n",
            "1 toc\n",
            "2 toe\n"
          ]
        }
      ]
    },
    {
      "cell_type": "code",
      "source": [
        "# 둘 이상의 시퀀스를 동시에 루핑하려면\n",
        "# zip( )함수로 엔트리 쌍 생성\n",
        "\n",
        "questions = ['name','quest','favorite color']\n",
        "answers = ['lancelot','the holy grail','blue']\n",
        "for q, a in zip(questions, answers):\n",
        "    print('What is your {0}? It is {1}.'.format(q,a))"
      ],
      "metadata": {
        "colab": {
          "base_uri": "https://localhost:8080/"
        },
        "id": "WhAw035e4Uhw",
        "outputId": "fa24b795-2de7-4e51-95af-743d156192b5"
      },
      "execution_count": 111,
      "outputs": [
        {
          "output_type": "stream",
          "name": "stdout",
          "text": [
            "What is your name? It is lancelot.\n",
            "What is your quest? It is the holy grail.\n",
            "What is your favorite color? It is blue.\n"
          ]
        }
      ]
    },
    {
      "cell_type": "code",
      "source": [
        "# 시퀀스를 거꾸로 루핑 : 정방향으로 지정 후 reversed( )함수 호출\n",
        "\n",
        "for i in reversed(range(1,10,2)):\n",
        "    print(i)"
      ],
      "metadata": {
        "colab": {
          "base_uri": "https://localhost:8080/"
        },
        "id": "PAs616wb4top",
        "outputId": "1437aa43-74a6-468c-f621-3399049f7ce8"
      },
      "execution_count": 112,
      "outputs": [
        {
          "output_type": "stream",
          "name": "stdout",
          "text": [
            "9\n",
            "7\n",
            "5\n",
            "3\n",
            "1\n"
          ]
        }
      ]
    },
    {
      "cell_type": "code",
      "source": [
        "# 정렬된 순서로 시퀀스 루프 : sorted( )함수 사용\n",
        "\n",
        "basket = ['apple','orange','apple','pear','orange','banana']\n",
        "for i in sorted(basket):\n",
        "    print(i)"
      ],
      "metadata": {
        "colab": {
          "base_uri": "https://localhost:8080/"
        },
        "id": "p6FUvD3tEIUj",
        "outputId": "f364ee32-d92b-41a9-9b0b-03518cc04ba6"
      },
      "execution_count": 113,
      "outputs": [
        {
          "output_type": "stream",
          "name": "stdout",
          "text": [
            "apple\n",
            "apple\n",
            "banana\n",
            "orange\n",
            "orange\n",
            "pear\n"
          ]
        }
      ]
    },
    {
      "cell_type": "code",
      "source": [
        "# 시퀀스에 set( ) 사용 : 중복 요소 제거\n",
        "basket = ['apple','orange','apple','pear','orange','banana']\n",
        "for i in sorted(set(basket)):\n",
        "    print(i)"
      ],
      "metadata": {
        "colab": {
          "base_uri": "https://localhost:8080/"
        },
        "id": "XvFV9oX0EVkC",
        "outputId": "8a9daf33-a896-42b8-f375-2e661fae5105"
      },
      "execution_count": 114,
      "outputs": [
        {
          "output_type": "stream",
          "name": "stdout",
          "text": [
            "apple\n",
            "banana\n",
            "orange\n",
            "pear\n"
          ]
        }
      ]
    },
    {
      "cell_type": "code",
      "source": [
        "# 루프를 도는 리스트를 변경하는 것보다 새 리스트를 만드는 게 더 간단할 때도 있음\n",
        "\n",
        "import math\n",
        "raw_data = [56.2,float('NaN'),51.7,55.3,52.5,float('NaN'),47.8]\n",
        "filtered_data = []\n",
        "for value in raw_data:\n",
        "    if not math.isnan(value):\n",
        "        filtered_data.append(value)\n",
        "filtered_data"
      ],
      "metadata": {
        "colab": {
          "base_uri": "https://localhost:8080/"
        },
        "id": "ntTi0vP7Egmn",
        "outputId": "146ae504-ce2b-40e6-c0cc-231b7c02e555"
      },
      "execution_count": 116,
      "outputs": [
        {
          "output_type": "execute_result",
          "data": {
            "text/plain": [
              "[56.2, 51.7, 55.3, 52.5, 47.8]"
            ]
          },
          "metadata": {},
          "execution_count": 116
        }
      ]
    },
    {
      "cell_type": "markdown",
      "source": [
        "#### 5.7 조건 더 보기"
      ],
      "metadata": {
        "id": "Kho3qxTDE8li"
      }
    },
    {
      "cell_type": "code",
      "source": [
        "string1, string2, string3 = '', 'Trondheim', 'Hammaer Dance'\n",
        "non_null = string1 or string2 or string3\n",
        "non_null"
      ],
      "metadata": {
        "colab": {
          "base_uri": "https://localhost:8080/",
          "height": 35
        },
        "id": "aqttelpzE74N",
        "outputId": "629b754e-38e6-4e0c-ea59-dce6ec7c4337"
      },
      "execution_count": 117,
      "outputs": [
        {
          "output_type": "execute_result",
          "data": {
            "application/vnd.google.colaboratory.intrinsic+json": {
              "type": "string"
            },
            "text/plain": [
              "'Trondheim'"
            ]
          },
          "metadata": {},
          "execution_count": 117
        }
      ]
    },
    {
      "cell_type": "markdown",
      "source": [
        "###ch6. 모듈"
      ],
      "metadata": {
        "id": "eJjg5ufmIwr9"
      }
    },
    {
      "cell_type": "markdown",
      "source": [
        "#### 6.0"
      ],
      "metadata": {
        "id": "HKhcSY-OI9vU"
      }
    },
    {
      "cell_type": "markdown",
      "source": [
        "**모듈 : 파이썬의 정의와 문장을 모아** 스크립트, 인터프리터 대화형 모드에서 사용할 수 있게 만드는 파일. 다른 모듈이나 메인 모듈로 임포트 될 수 있음(메인 모듈은 최상위 수준에서 실행되는 스크립트, 계산기 모드에서 엑세스하는 변수들의 컬렉션)\n",
        "* 파일 이름 : 모듈 이름에 확장자 .py\n",
        "* 모듈 이름 : 전역 변수 __name__으로 제공"
      ],
      "metadata": {
        "id": "nN9bDk76JDk3"
      }
    },
    {
      "cell_type": "code",
      "source": [
        "#Google Drive Mount\n",
        "from google.colab import drive\n",
        "drive.mount('/content/gdrive')"
      ],
      "metadata": {
        "colab": {
          "base_uri": "https://localhost:8080/"
        },
        "id": "tk0NnJDKK4ep",
        "outputId": "ec66dbc1-6960-441b-f499-22d6bf9d0ca3"
      },
      "execution_count": 4,
      "outputs": [
        {
          "output_type": "stream",
          "name": "stdout",
          "text": [
            "Mounted at /content/gdrive\n"
          ]
        }
      ]
    },
    {
      "cell_type": "code",
      "source": [
        "import sys\n",
        "sys.path.append('/content/gdrive/MyDrive/Colab Notebooks')\n",
        "print(sys.path)"
      ],
      "metadata": {
        "colab": {
          "base_uri": "https://localhost:8080/"
        },
        "id": "xK8HXTxOLUN0",
        "outputId": "23b4c000-61d5-4cd5-a218-1142314c5080"
      },
      "execution_count": 5,
      "outputs": [
        {
          "output_type": "stream",
          "name": "stdout",
          "text": [
            "['', '/content', '/env/python', '/usr/lib/python37.zip', '/usr/lib/python3.7', '/usr/lib/python3.7/lib-dynload', '/usr/local/lib/python3.7/dist-packages', '/usr/lib/python3/dist-packages', '/usr/local/lib/python3.7/dist-packages/IPython/extensions', '/root/.ipython', '/content/gdrive/MyDrive/Colab Notebooks']\n"
          ]
        }
      ]
    },
    {
      "cell_type": "code",
      "source": [
        "import fibo"
      ],
      "metadata": {
        "id": "6FmoOuiWJvFp"
      },
      "execution_count": 127,
      "outputs": []
    },
    {
      "cell_type": "code",
      "source": [
        "fibo.fib(1000)"
      ],
      "metadata": {
        "colab": {
          "base_uri": "https://localhost:8080/"
        },
        "id": "icyw5Dg7Lt0a",
        "outputId": "175b5b88-e7c1-423f-da55-b47f273e4865"
      },
      "execution_count": 128,
      "outputs": [
        {
          "output_type": "stream",
          "name": "stdout",
          "text": [
            "0 1 1 2 3 5 8 13 21 34 55 89 144 233 377 610 987 \n"
          ]
        }
      ]
    },
    {
      "cell_type": "code",
      "source": [
        "fibo.fib2(100)"
      ],
      "metadata": {
        "colab": {
          "base_uri": "https://localhost:8080/"
        },
        "id": "N9wKVnHvLyRE",
        "outputId": "da1eac25-0eeb-4c93-fa40-d2762de41c35"
      },
      "execution_count": 129,
      "outputs": [
        {
          "output_type": "execute_result",
          "data": {
            "text/plain": [
              "[0, 1, 1, 2, 3, 5, 8, 13, 21, 34, 55, 89]"
            ]
          },
          "metadata": {},
          "execution_count": 129
        }
      ]
    },
    {
      "cell_type": "code",
      "source": [
        "fibo.__name__"
      ],
      "metadata": {
        "colab": {
          "base_uri": "https://localhost:8080/",
          "height": 0
        },
        "id": "9dvQY0TDL1En",
        "outputId": "fa456d0b-b7fd-4eaf-b364-a9e75fef10dd"
      },
      "execution_count": 130,
      "outputs": [
        {
          "output_type": "execute_result",
          "data": {
            "application/vnd.google.colaboratory.intrinsic+json": {
              "type": "string"
            },
            "text/plain": [
              "'fibo'"
            ]
          },
          "metadata": {},
          "execution_count": 130
        }
      ]
    },
    {
      "cell_type": "code",
      "source": [
        "# 자주 사용하는 함수를 지역 이름으로 대입\n",
        "fib = fibo.fib\n",
        "fib(500)"
      ],
      "metadata": {
        "colab": {
          "base_uri": "https://localhost:8080/"
        },
        "id": "vZ8zcIJqL4BE",
        "outputId": "cab25dfa-d5e1-41f3-c576-c8c4ada6daac"
      },
      "execution_count": 131,
      "outputs": [
        {
          "output_type": "stream",
          "name": "stdout",
          "text": [
            "0 1 1 2 3 5 8 13 21 34 55 89 144 233 377 \n"
          ]
        }
      ]
    },
    {
      "cell_type": "markdown",
      "source": [
        "####6.1 모듈 더 보기"
      ],
      "metadata": {
        "id": "qsqoBX_3L9Ye"
      }
    },
    {
      "cell_type": "markdown",
      "source": [
        "* 함수 정의뿐만 아니라 실행 가능한 문장도 모듈에 포함 가능(모듈을 초기화하는 데 사용) import에서 모듈 이름이 처음 등장할 때만 실행(파일이 스크립트로 실행 될 때에도)\n",
        "\n",
        "* 각 모듈은 심볼 테이블을 가짐. 모듈에서 정의된 함수들의 전역 심볼 테이블로 사용됨\n",
        "\n",
        "* 모듈은 다른 모듈을 import 할 수 있음. import된 모듈 이름은 import하는 모듈의 전역 심볼 테이블에 들어감\n",
        "\n"
      ],
      "metadata": {
        "id": "Ueuclz2iMJFJ"
      }
    },
    {
      "cell_type": "code",
      "source": [
        "# 지역 심볼 테이블에 import되는 모듈의 이름을 만들지 않음(fibo가 정의되지 않음)\n",
        "\n",
        "from fibo import fib, fib2\n",
        "fib(500)"
      ],
      "metadata": {
        "colab": {
          "base_uri": "https://localhost:8080/"
        },
        "id": "aUiUP-rGL_SQ",
        "outputId": "fbff1e17-9a66-414c-9529-c2934b273bfa"
      },
      "execution_count": 132,
      "outputs": [
        {
          "output_type": "stream",
          "name": "stdout",
          "text": [
            "0 1 1 2 3 5 8 13 21 34 55 89 144 233 377 \n"
          ]
        }
      ]
    },
    {
      "cell_type": "code",
      "source": [
        "# 모듈이 정의하는 모든 이름을 import\n",
        "# 밑줄(_)로 시작하는 것을 제외하고 모든 이름을 import\n",
        "# 일반적으로 *를 import하지 않음\n",
        "\n",
        "from fibo import *\n",
        "fib(500)"
      ],
      "metadata": {
        "colab": {
          "base_uri": "https://localhost:8080/"
        },
        "id": "CDeWhmGhNYuP",
        "outputId": "54f70062-1ae7-4f92-dc69-23480f43a4d4"
      },
      "execution_count": 133,
      "outputs": [
        {
          "output_type": "stream",
          "name": "stdout",
          "text": [
            "0 1 1 2 3 5 8 13 21 34 55 89 144 233 377 \n"
          ]
        }
      ]
    },
    {
      "cell_type": "code",
      "source": [
        "# 모듈 이름 다음에 as가 올 경우, import한 모듈에 직접 연결\n",
        "# import fibo와 동일하지만, 모듈명을 fib로 사용할 수 있음\n",
        "\n",
        "import fibo as fib\n",
        "fib.fib(500)"
      ],
      "metadata": {
        "colab": {
          "base_uri": "https://localhost:8080/"
        },
        "id": "ERTPchiXNl-2",
        "outputId": "cd1c734d-2e54-4206-c060-bb54222f5ed5"
      },
      "execution_count": 134,
      "outputs": [
        {
          "output_type": "stream",
          "name": "stdout",
          "text": [
            "0 1 1 2 3 5 8 13 21 34 55 89 144 233 377 \n"
          ]
        }
      ]
    },
    {
      "cell_type": "code",
      "source": [
        "from fibo import fib as fibonacci\n",
        "fibonacci(500)"
      ],
      "metadata": {
        "id": "xDrYN64EOGxv"
      },
      "execution_count": null,
      "outputs": []
    },
    {
      "cell_type": "markdown",
      "source": [
        "#### 6.1.1 모듈을 스크립트로 실행"
      ],
      "metadata": {
        "id": "wUJ6CoTnPpHR"
      }
    },
    {
      "cell_type": "markdown",
      "source": [
        "python fibo.py <arguments>\n",
        "를 실행하면 import해서 사용할 때처럼 실행되지만 __name__은 \"__main__\"으로 설정됨.\n",
        "\n",
        "import될 수 있는 모듈만이 아니라 스크립트로도  사용될 수 있도록 만들어졌기 때문. 모듈이 <메인>파일로 실행될 때만 명령행을 파싱하는 코드가 실행됨\n"
      ],
      "metadata": {
        "id": "2cXEGT6BQEL6"
      }
    },
    {
      "cell_type": "markdown",
      "source": [
        "#### 6.1.2 모듈 검색 경로"
      ],
      "metadata": {
        "id": "Fx_I4hnCQqUD"
      }
    },
    {
      "cell_type": "markdown",
      "source": [
        "import spam이 실행될 경우\n",
        "1. 인터프리터는 spam 내장 모듈을 찾음\n",
        "2. 없을 경우, 변수 sys.path로 주어지는 디렉토리에서 spam.py 파일을 찾음\n",
        "\n",
        "cf. sys.path 위치 초기화\n",
        "* 입력 스크립트를 포함하는 디렉토리(지정되지 않았을 경우 현재 디렉토리)\n",
        "* PYTHONPATH(디렉토리 이름 목록, 셸 변수 PATH와 같은 문법)\n",
        "* The installation-dependent default\n",
        "\n",
        "\n"
      ],
      "metadata": {
        "id": "lcjwkc0AQtQl"
      }
    },
    {
      "cell_type": "markdown",
      "source": [
        "#### 6.2 표준 모듈들"
      ],
      "metadata": {
        "id": "XrDYLuLdSBMQ"
      }
    },
    {
      "cell_type": "markdown",
      "source": [
        "sys 모듈 : 모든 파이썬 인터프리터에 내장\n",
        "\n",
        "\n",
        "**sys.path** : 인터프리터 모듈 검색 경로를 결정하는 문자열 리스트. 환경변수 PYTHONPATH에서 취한 기본경로 또는 내장 기본값으로 초기화됨. 표준 리스트 연산으로 수정해서 사용할 수 있음."
      ],
      "metadata": {
        "id": "8BQuM6npSyMH"
      }
    },
    {
      "cell_type": "code",
      "source": [
        "#import sys\n",
        "#sys.path.append('/content/gdrive/MyDrive/Colab Notebooks')\n",
        "print(sys.path)"
      ],
      "metadata": {
        "colab": {
          "base_uri": "https://localhost:8080/"
        },
        "id": "OX9oObhtPcAf",
        "outputId": "7f77fb8f-291f-463a-a866-faaa58180681"
      },
      "execution_count": 136,
      "outputs": [
        {
          "output_type": "stream",
          "name": "stdout",
          "text": [
            "['', '/content', '/env/python', '/usr/lib/python37.zip', '/usr/lib/python3.7', '/usr/lib/python3.7/lib-dynload', '/usr/local/lib/python3.7/dist-packages', '/usr/lib/python3/dist-packages', '/usr/local/lib/python3.7/dist-packages/IPython/extensions', '/root/.ipython', '/content/gdrive/MyDrive/Colab Notebooks', '/content/gdrive/MyDrive/Colab Notebooks']\n"
          ]
        }
      ]
    },
    {
      "cell_type": "markdown",
      "source": [
        "#### 6.3 dir( ) 함수"
      ],
      "metadata": {
        "id": "o--fe79gTTNJ"
      }
    },
    {
      "cell_type": "markdown",
      "source": [
        "* 모듈이 **정의하는 이름**들을 찾는 데 사용\n",
        "* 문자열들의 정렬 리스트 반환\n",
        "* 내장 함수, 변수의 이름은 나열하지 않음(표준 모듈 builtins에 정의)\n",
        "* 인자가 없을 경우 현재 정의한 모든 형의 이름 나열"
      ],
      "metadata": {
        "id": "D1nGGg1qTvum"
      }
    },
    {
      "cell_type": "code",
      "source": [
        "import fibo\n",
        "dir(fibo)"
      ],
      "metadata": {
        "colab": {
          "base_uri": "https://localhost:8080/"
        },
        "id": "MIsKfQusTO2E",
        "outputId": "532a9c05-2c85-4a50-f820-89d9243fc9e0"
      },
      "execution_count": 141,
      "outputs": [
        {
          "output_type": "execute_result",
          "data": {
            "text/plain": [
              "['__builtins__',\n",
              " '__cached__',\n",
              " '__doc__',\n",
              " '__file__',\n",
              " '__loader__',\n",
              " '__name__',\n",
              " '__package__',\n",
              " '__spec__',\n",
              " 'fib',\n",
              " 'fib2']"
            ]
          },
          "metadata": {},
          "execution_count": 141
        }
      ]
    },
    {
      "cell_type": "code",
      "source": [
        "# 인자가 없을 경우 현재 정의한 이름 나열\n",
        "# 변수, 모듈, 함수 등 모든 형의 이름을 나열함\n",
        "\n",
        "a = [1,2,3,4,5]\n",
        "import fibo\n",
        "fib = fibo.fib\n",
        "dir()"
      ],
      "metadata": {
        "id": "QfjDpjipTztt"
      },
      "execution_count": null,
      "outputs": []
    },
    {
      "cell_type": "code",
      "source": [
        "#import builtins\n",
        "#dir(builtins)"
      ],
      "metadata": {
        "id": "O-L2N1LoUDNV"
      },
      "execution_count": 144,
      "outputs": []
    },
    {
      "cell_type": "markdown",
      "source": [
        "####6.4 패키지"
      ],
      "metadata": {
        "id": "VUJQqgyDVzov"
      }
    },
    {
      "cell_type": "markdown",
      "source": [
        "* <점으로 구분된 모듈 이름>을 써서 파이썬의 모듈 공간을 구조화하는 방법\n",
        "* 모듈 이름 A.B = A라는 패키지에 있는 B라는 서브 모듈을 가리킴\n",
        "* 점으로 구분 된 모듈 이름은 서로의 모듈 이름 구분을 걱정할 필요 없게 만든다\n",
        "* 패키지를 import할 때, sys.path에 있는 디렉토리를 검색하며 패키지 서브 디렉토리를 찾음\n",
        "* 디렉토리를 패키지 취급하게 만들기 위해 __init__.py 파일이 필요\n"
      ],
      "metadata": {
        "id": "JavCjs0fV2j2"
      }
    },
    {
      "cell_type": "markdown",
      "source": [
        "**from package import item**을 사용할 때\n",
        "\n",
        "item은 패키지 서브 모듈(서브패키지)일수도 있고 함수, 클래스, 변수 등 패키지에 정의 된 다른 이름일 수도 있음.\n",
        "\n",
        "import문은 먼저 item이 패키지에 정의되어 있는 지 검사, 그렇지 않으면 모듈이라고 가정하고 로드를 시도함. 찾지 못하면 ImportError 발생"
      ],
      "metadata": {
        "id": "tR4CJEGlXSxr"
      }
    },
    {
      "cell_type": "markdown",
      "source": [
        "**import item.subitem.subsubitem** 형식의 문법을 사용할 때\n",
        "\n",
        "마지막 것을 제외한 항목들은 반드시 패키지여야 함. 마지막 항목은 모듈, 패키지가 될 수 있으나 앞의 항목에서 정의된 클래스, 함수, 변수가 될 수 없음"
      ],
      "metadata": {
        "id": "vxtOrxU6Xmqu"
      }
    },
    {
      "cell_type": "code",
      "source": [
        "# 패키지 사용자는 패키지의 개별 모듈을 import 가능\n",
        "\n",
        "# import sound.effects.echo\n",
        "# sound.effects.echo.echofilter(input,output,delay=0.7,atten=4)"
      ],
      "metadata": {
        "id": "8UoIYO6LUPsS"
      },
      "execution_count": null,
      "outputs": []
    },
    {
      "cell_type": "code",
      "source": [
        "# 서브 모듈을 import하는 다른 방법\n",
        "# 패키지 접두어 sound.effects 없이 echo를 사용할 수 있음\n",
        "\n",
        "# from sound.effects import echo\n",
        "# echo.echofilter(input,output,delay=0.7,atten=4)"
      ],
      "metadata": {
        "id": "HGs3L52GWxOb"
      },
      "execution_count": null,
      "outputs": []
    },
    {
      "cell_type": "code",
      "source": [
        "# 원하는 함수, 변수를 직접 import 하는 방식\n",
        "\n",
        "# from sound.effects.echo import echofilter\n",
        "#echofilter(input,output,delay=0.7,atten=4)"
      ],
      "metadata": {
        "id": "zfGQenmBW-jn"
      },
      "execution_count": null,
      "outputs": []
    },
    {
      "cell_type": "markdown",
      "source": [
        "### ch7. 입력과 출력"
      ],
      "metadata": {
        "id": "Zi8y88OXX5kp"
      }
    },
    {
      "cell_type": "markdown",
      "source": [
        "#### 7.1 장식적인 출력 포매팅"
      ],
      "metadata": {
        "id": "yciT3flPPirn"
      }
    },
    {
      "cell_type": "markdown",
      "source": [
        "값을 쓰는 방식\n",
        "* 표현식 문장\n",
        "* print() 함수\n",
        "* 파일 객체 write( )메서드"
      ],
      "metadata": {
        "id": "Fdx7MB5RPoKb"
      }
    },
    {
      "cell_type": "code",
      "source": [
        "# 포맷 문자열 리터럴\n",
        "# 시작 인용 부호 or 삼중 인용 부호 앞에 f or F를 붙여 문자열 시작\n",
        "# { 및 } 문자 사이에 변수, 리터럴 값을 참조하는 표현식 작성 가능\n",
        "\n",
        "year=2016\n",
        "event = 'Referendum'\n",
        "f'Results of the {year} {event}'"
      ],
      "metadata": {
        "colab": {
          "base_uri": "https://localhost:8080/",
          "height": 0
        },
        "id": "FLdW62CWXLZV",
        "outputId": "6ad0518b-0ddb-45fd-8d9d-2a7a5a1fc06b"
      },
      "execution_count": 1,
      "outputs": [
        {
          "output_type": "execute_result",
          "data": {
            "application/vnd.google.colaboratory.intrinsic+json": {
              "type": "string"
            },
            "text/plain": [
              "'Results of the 2016 Referendum'"
            ]
          },
          "metadata": {},
          "execution_count": 1
        }
      ]
    },
    {
      "cell_type": "code",
      "source": [
        "# str.format( ) 메서드\n",
        "# 포맷할 정보도 제공해야 함\n",
        "\n",
        "yes_votes = 42_572_654\n",
        "no_votes = 43_132_495\n",
        "percentage = yes_votes / (yes_votes+no_votes)\n",
        "'{:-9} YES votes    {:2.2%}'.format(yes_votes,percentage)"
      ],
      "metadata": {
        "colab": {
          "base_uri": "https://localhost:8080/",
          "height": 0
        },
        "id": "PAWEWPuMRALL",
        "outputId": "f73af957-a81f-4909-d4fd-e93f5a52bbbe"
      },
      "execution_count": 2,
      "outputs": [
        {
          "output_type": "execute_result",
          "data": {
            "application/vnd.google.colaboratory.intrinsic+json": {
              "type": "string"
            },
            "text/plain": [
              "' 42572654 YES votes    49.67%'"
            ]
          },
          "metadata": {},
          "execution_count": 2
        }
      ]
    },
    {
      "cell_type": "code",
      "source": [
        "# 장식적인 출력 없이 디버깅을 위해 일부 변수를 빠르게 표시하려면\n",
        "# str( ), repr( ) 함수 사용 -> 모든 값을 문자열로 변환\n",
        "# str( ) : 사람이 읽기 적합한 형태로 값을 반환\n",
        "# repr( ) : 인터프리터에 의해 읽힐 수 있는 형태를 생성\n",
        "# 사람이 소비하기 위한 특별한 표현이 없는 객체는 str(), repr() 같은 값 반환"
      ],
      "metadata": {
        "id": "5MOO7B3nZtGJ"
      },
      "execution_count": null,
      "outputs": []
    },
    {
      "cell_type": "code",
      "source": [
        "s = 'Hello, world.'\n",
        "str(s)"
      ],
      "metadata": {
        "colab": {
          "base_uri": "https://localhost:8080/",
          "height": 0
        },
        "id": "KvPhGEdCaaJv",
        "outputId": "18597d03-390b-4df3-bf86-0874fbf49f51"
      },
      "execution_count": 5,
      "outputs": [
        {
          "output_type": "execute_result",
          "data": {
            "application/vnd.google.colaboratory.intrinsic+json": {
              "type": "string"
            },
            "text/plain": [
              "'Hello, world.'"
            ]
          },
          "metadata": {},
          "execution_count": 5
        }
      ]
    },
    {
      "cell_type": "code",
      "source": [
        "repr(s)"
      ],
      "metadata": {
        "colab": {
          "base_uri": "https://localhost:8080/",
          "height": 0
        },
        "id": "F4i3-kHaagtH",
        "outputId": "68a80870-e7a7-4069-8e68-cfccc5fcd26d"
      },
      "execution_count": 6,
      "outputs": [
        {
          "output_type": "execute_result",
          "data": {
            "application/vnd.google.colaboratory.intrinsic+json": {
              "type": "string"
            },
            "text/plain": [
              "\"'Hello, world.'\""
            ]
          },
          "metadata": {},
          "execution_count": 6
        }
      ]
    },
    {
      "cell_type": "code",
      "source": [
        "str(1/7)"
      ],
      "metadata": {
        "colab": {
          "base_uri": "https://localhost:8080/",
          "height": 0
        },
        "id": "EPEQ3L16ahUa",
        "outputId": "23466c31-163f-4fd2-8c72-1ebbce10aeca"
      },
      "execution_count": 7,
      "outputs": [
        {
          "output_type": "execute_result",
          "data": {
            "application/vnd.google.colaboratory.intrinsic+json": {
              "type": "string"
            },
            "text/plain": [
              "'0.14285714285714285'"
            ]
          },
          "metadata": {},
          "execution_count": 7
        }
      ]
    },
    {
      "cell_type": "code",
      "source": [
        "x = 10*3.25\n",
        "y = 200*200\n",
        "s = 'The value of x is '+repr(x)+', and y is '+repr(y)+'...'\n",
        "print(s)"
      ],
      "metadata": {
        "colab": {
          "base_uri": "https://localhost:8080/"
        },
        "id": "qfAXByD6ak-z",
        "outputId": "7809ce2c-39a1-495a-9cd1-ee1fcb1be61c"
      },
      "execution_count": 8,
      "outputs": [
        {
          "output_type": "stream",
          "name": "stdout",
          "text": [
            "The value of x is 32.5, and y is 40000...\n"
          ]
        }
      ]
    },
    {
      "cell_type": "code",
      "source": [
        "#The repr( ) of a string adds string quotes adn backslashes:\n",
        "hello = 'hello, world\\n'\n",
        "hellos = repr(hello)\n",
        "print(hellos)"
      ],
      "metadata": {
        "colab": {
          "base_uri": "https://localhost:8080/"
        },
        "id": "NCA15mzfaurY",
        "outputId": "07a2bc57-0658-4c1d-aa07-a20c596e74b5"
      },
      "execution_count": 9,
      "outputs": [
        {
          "output_type": "stream",
          "name": "stdout",
          "text": [
            "'hello, world\\n'\n"
          ]
        }
      ]
    },
    {
      "cell_type": "code",
      "source": [
        "#The argument to repr() may be any Python object:\n",
        "repr( (x, y, ('spam', 'eggs')))"
      ],
      "metadata": {
        "colab": {
          "base_uri": "https://localhost:8080/",
          "height": 0
        },
        "id": "aQ28C5pAa5eq",
        "outputId": "a6b0a735-410f-4a14-a5e2-68dfb63b1c68"
      },
      "execution_count": 10,
      "outputs": [
        {
          "output_type": "execute_result",
          "data": {
            "application/vnd.google.colaboratory.intrinsic+json": {
              "type": "string"
            },
            "text/plain": [
              "\"(32.5, 40000, ('spam', 'eggs'))\""
            ]
          },
          "metadata": {},
          "execution_count": 10
        }
      ]
    },
    {
      "cell_type": "markdown",
      "source": [
        "#### 7.1.1 포맷 문자열 리터럴"
      ],
      "metadata": {
        "id": "OGwsWSyhbPMj"
      }
    },
    {
      "cell_type": "markdown",
      "source": [
        "**포맷 문자열 리터럴(f-문자열)**\n",
        "* 문자열에 f or F를 붙임\n",
        "* 표현식을 {expression}로 작성 -> 문자열에 파이썬 표현식을 삽입할 수 있음\n",
        "* 선택적인 포맷 지정자가 표현식 뒤에 올 수 있음(더 정교한 제어)"
      ],
      "metadata": {
        "id": "lysO4IYjbTWR"
      }
    },
    {
      "cell_type": "code",
      "source": [
        "import math\n",
        "print(f'The value of pi is approximately {math.pi:.3f}.')"
      ],
      "metadata": {
        "colab": {
          "base_uri": "https://localhost:8080/"
        },
        "id": "IPvbgCEBbRkU",
        "outputId": "b699ffe4-0c99-4112-ca2f-bafbef0ba031"
      },
      "execution_count": 11,
      "outputs": [
        {
          "output_type": "stream",
          "name": "stdout",
          "text": [
            "The value of pi is approximately 3.142.\n"
          ]
        }
      ]
    },
    {
      "cell_type": "code",
      "source": [
        "# ':'뒤에 정수를 전달하면 해당 필드의 최소 문자폭이 됨\n",
        "# 열 줄맞춤 시 편리\n",
        "\n",
        "table = {'Sjored':4127, 'Jack':4098, 'Dcab':7678}\n",
        "for name, phone in table.items():\n",
        "    print(f'{name:10} ==> {phone:10}')"
      ],
      "metadata": {
        "colab": {
          "base_uri": "https://localhost:8080/"
        },
        "id": "vGjgfilubwfl",
        "outputId": "967a159c-2a43-440e-fb3d-bbcfb6d36498"
      },
      "execution_count": 12,
      "outputs": [
        {
          "output_type": "stream",
          "name": "stdout",
          "text": [
            "Sjored     ==>       4127\n",
            "Jack       ==>       4098\n",
            "Dcab       ==>       7678\n"
          ]
        }
      ]
    },
    {
      "cell_type": "code",
      "source": [
        "# '!a' = ascii() 적용\n",
        "# '!s' = str() 적용\n",
        "# '!r' = repr() 적용\n",
        "\n",
        "animals = 'eels'\n",
        "print(f'My hovercraft is full of {animals}.')\n",
        "print(f'My havercraft is full of {animals!r}.')"
      ],
      "metadata": {
        "colab": {
          "base_uri": "https://localhost:8080/"
        },
        "id": "CL7E-A5acHb2",
        "outputId": "ef84ac17-8465-499e-eec3-10c73fc5cc71"
      },
      "execution_count": 14,
      "outputs": [
        {
          "output_type": "stream",
          "name": "stdout",
          "text": [
            "My hovercraft is full of eels.\n",
            "My havercraft is full of 'eels'.\n"
          ]
        }
      ]
    },
    {
      "cell_type": "markdown",
      "source": [
        "#### 7.1.2 문자열 format() 메서드"
      ],
      "metadata": {
        "id": "4eTNrgWHcjkV"
      }
    },
    {
      "cell_type": "code",
      "source": [
        "print('We are the {} who say \"{}!\"'.format('knights','NI'))"
      ],
      "metadata": {
        "colab": {
          "base_uri": "https://localhost:8080/"
        },
        "id": "tOf4RHIGcf38",
        "outputId": "d141498c-d592-4b14-82bf-d3b44886f81c"
      },
      "execution_count": 15,
      "outputs": [
        {
          "output_type": "stream",
          "name": "stdout",
          "text": [
            "We are the knights who say \"NI!\"\n"
          ]
        }
      ]
    },
    {
      "cell_type": "code",
      "source": [
        "# 중괄호는 str.format()메서드로 전달된 객체로 치환됨\n",
        "# 중괄호 내의 숫자는 str.format()메서드로 전달된 객체들의 위치를 가리키는 데 사용\n",
        "print('{0} and {1}'.format('spam','eggs'))\n",
        "print('{1} and {0}'.format('spam','eggs'))"
      ],
      "metadata": {
        "colab": {
          "base_uri": "https://localhost:8080/"
        },
        "id": "anfzFQxQpLwl",
        "outputId": "7b8b8421-fe3b-47e4-d68f-08c4184bbe0c"
      },
      "execution_count": 17,
      "outputs": [
        {
          "output_type": "stream",
          "name": "stdout",
          "text": [
            "spam and eggs\n",
            "eggs and spam\n"
          ]
        }
      ]
    },
    {
      "cell_type": "code",
      "source": [
        "# str.format()메서드에 키워드 인자 사용 -> 인자의 이름을 사용해 값 지정 가능\n",
        "print('This {food} is {adjective}.'.format(food='spam',adjective='absolutely horrible'))"
      ],
      "metadata": {
        "colab": {
          "base_uri": "https://localhost:8080/"
        },
        "id": "1Qf3imJ_pXey",
        "outputId": "a69e8207-91f3-424e-dc6c-ccb075d4439e"
      },
      "execution_count": 19,
      "outputs": [
        {
          "output_type": "stream",
          "name": "stdout",
          "text": [
            "This spam is absolutely horrible.\n"
          ]
        }
      ]
    },
    {
      "cell_type": "code",
      "source": [
        "# 위치, 키워드 인자 조합\n",
        "print('The story of {0},{1} and {other}.'.format('Bill','Manfred',other='Georg'))"
      ],
      "metadata": {
        "colab": {
          "base_uri": "https://localhost:8080/"
        },
        "id": "3Y9zj4P4p4Jd",
        "outputId": "bcc9af08-5673-4c79-b1a5-89b5ad6589e9"
      },
      "execution_count": 20,
      "outputs": [
        {
          "output_type": "stream",
          "name": "stdout",
          "text": [
            "The story of Bill,Manfred and Georg.\n"
          ]
        }
      ]
    },
    {
      "cell_type": "code",
      "source": [
        "# 포맷할 변수들을 위치 대신 이름으로 지정\n",
        "# 키를 엑세스 할 때 대괄호 [] 사용\n",
        "\n",
        "table = {'Sjored':4127, 'Jack':4098, 'Dcab':8637678}\n",
        "print('Jack:{0[Jack]:d}; Sjored:{0[Sjored]:d}; '\n",
        "        'Dcab:{0[Dcab]:d}'.format(table))"
      ],
      "metadata": {
        "colab": {
          "base_uri": "https://localhost:8080/"
        },
        "id": "W4H6SdfjqC1u",
        "outputId": "6cf68c9d-e4e5-4626-8e68-3267eb2f1c80"
      },
      "execution_count": 23,
      "outputs": [
        {
          "output_type": "stream",
          "name": "stdout",
          "text": [
            "Jack:4098; Sjored:4127; Dcab:8637678\n"
          ]
        }
      ]
    },
    {
      "cell_type": "code",
      "source": [
        "# <**> 표기법으로 table을 키워드 인자로 전달\n",
        "# format(table) -> format(**table)\n",
        "# {0[Dcab]:d} -> {Dcab:d}\n",
        "\n",
        "table = {'Sjored':4127, 'Jack':4098, 'Dcab':8637678}\n",
        "print('Jack:{Jack:d}; Sjored:{Sjored:d}; Dcab:{Dcab:d}'.format(**table))"
      ],
      "metadata": {
        "colab": {
          "base_uri": "https://localhost:8080/"
        },
        "id": "jD-X5DXAqjrX",
        "outputId": "a3260589-7d59-4c92-eee9-6e9e1f7a7abf"
      },
      "execution_count": 28,
      "outputs": [
        {
          "output_type": "stream",
          "name": "stdout",
          "text": [
            "Jack:4098; Sjored:4127; Dcab:8637678\n"
          ]
        }
      ]
    },
    {
      "cell_type": "code",
      "source": [
        "for x in range(1,11):\n",
        "    print('{0:2d}  {1:3d}  {2:4d}'.format(x,x*x,x*x*x))"
      ],
      "metadata": {
        "colab": {
          "base_uri": "https://localhost:8080/"
        },
        "id": "h7pUCNrHrZw7",
        "outputId": "65233066-3e48-404e-af2f-696fd4c6fbec"
      },
      "execution_count": 30,
      "outputs": [
        {
          "output_type": "stream",
          "name": "stdout",
          "text": [
            " 1    1     1\n",
            " 2    4     8\n",
            " 3    9    27\n",
            " 4   16    64\n",
            " 5   25   125\n",
            " 6   36   216\n",
            " 7   49   343\n",
            " 8   64   512\n",
            " 9   81   729\n",
            "10  100  1000\n"
          ]
        }
      ]
    },
    {
      "cell_type": "markdown",
      "source": [
        "#### 7.1.3  수동 문자열 포매팅"
      ],
      "metadata": {
        "id": "W-ziCoUAsStq"
      }
    },
    {
      "cell_type": "markdown",
      "source": [
        "str.rjust() 메서드\n",
        "* 왼쪽에 스페이스를 채워 주어진 폭으로 문자열을 우측 줄맞춤\n",
        "* str.ljust(), str.center()도 존재\n",
        "* 단지 새 문자열을 돌려주는 것(출력x)\n",
        "* 문자열이 너무 길어도 변경없이 돌려줌"
      ],
      "metadata": {
        "id": "p8x-ANFJsuSp"
      }
    },
    {
      "cell_type": "code",
      "source": [
        "for x in range(1,11):\n",
        "    print(repr(x).rjust(2), repr(x*x).rjust(3),end=' ')\n",
        "    #Note use of 'end' on previous line\n",
        "    print(repr(x*x*x).rjust(4))"
      ],
      "metadata": {
        "colab": {
          "base_uri": "https://localhost:8080/"
        },
        "id": "9UHq1fTMsR9D",
        "outputId": "a236cb50-9af8-4489-f6ec-c5d329248062"
      },
      "execution_count": 31,
      "outputs": [
        {
          "output_type": "stream",
          "name": "stdout",
          "text": [
            " 1   1    1\n",
            " 2   4    8\n",
            " 3   9   27\n",
            " 4  16   64\n",
            " 5  25  125\n",
            " 6  36  216\n",
            " 7  49  343\n",
            " 8  64  512\n",
            " 9  81  729\n",
            "10 100 1000\n"
          ]
        }
      ]
    },
    {
      "cell_type": "code",
      "source": [
        "# str.zfill() : 숫자 문자열 왼쪽에 0 을 채움\n",
        "'12'.zfill(5)"
      ],
      "metadata": {
        "colab": {
          "base_uri": "https://localhost:8080/",
          "height": 0
        },
        "id": "aGX-3kPxs_Rz",
        "outputId": "6671627f-99a4-4429-bfb9-c3ec2a6db05f"
      },
      "execution_count": 32,
      "outputs": [
        {
          "output_type": "execute_result",
          "data": {
            "application/vnd.google.colaboratory.intrinsic+json": {
              "type": "string"
            },
            "text/plain": [
              "'00012'"
            ]
          },
          "metadata": {},
          "execution_count": 32
        }
      ]
    },
    {
      "cell_type": "markdown",
      "source": [
        "####7.1.4 예전의 문자열 포매팅"
      ],
      "metadata": {
        "id": "a99wQvuYtH_W"
      }
    },
    {
      "cell_type": "code",
      "source": [
        "# %연산자를 문자열 포매팅에 사용\n",
        "\n",
        "import math\n",
        "print('The value of pi is approximately %5.3f.' %math.pi)"
      ],
      "metadata": {
        "colab": {
          "base_uri": "https://localhost:8080/"
        },
        "id": "MQ8lDQUDtKSl",
        "outputId": "a9c0a761-2e88-482a-9215-4adbd8bc2901"
      },
      "execution_count": 33,
      "outputs": [
        {
          "output_type": "stream",
          "name": "stdout",
          "text": [
            "The value of pi is approximately 3.142.\n"
          ]
        }
      ]
    },
    {
      "cell_type": "markdown",
      "source": [
        "#### 7.2 파일 읽고 쓰기"
      ],
      "metadata": {
        "id": "HFLSfP5EtX8C"
      }
    },
    {
      "cell_type": "code",
      "source": [
        "# open(filename, mode) : 파일 객체를 반환\n",
        "\n",
        "f = open('workfile','w')"
      ],
      "metadata": {
        "id": "JcJLqufKtaBY"
      },
      "execution_count": 34,
      "outputs": []
    },
    {
      "cell_type": "markdown",
      "source": [
        "* 읽기만: 'r'\n",
        "* 쓰기만: 'w'(이미 존재하는 파일은 삭제)\n",
        "* 덧붙이기: 'a'\n",
        "* 읽고쓰기 : 'r+'\n",
        "\n",
        "* 텍스트 모드\n",
        "* 바이너리 모드"
      ],
      "metadata": {
        "id": "K9LTuSpotunN"
      }
    },
    {
      "cell_type": "code",
      "source": [
        "# with 키워드 : 예외가 발생해도 파일이 올바르게 닫힘\n",
        "# with를 쓰지 않을 경우, f.closed()로 파일을 닫아 자원을 반납해야\n",
        "# 파일 객체를 닫은 후, fclose()나 with를 호출하면 실패함\n",
        "\n",
        "with open('/content/gdrive/MyDrive/Colab Notebooks/workfile.txt') as f:\n",
        "    read_data = f.read()\n",
        "\n",
        "# We can check that the file has been automatically closed.\n",
        "f.closed"
      ],
      "metadata": {
        "colab": {
          "base_uri": "https://localhost:8080/"
        },
        "id": "rqwqyiW7ALj4",
        "outputId": "35e0459b-d421-4135-d9b0-57a9d36002f1"
      },
      "execution_count": 8,
      "outputs": [
        {
          "output_type": "execute_result",
          "data": {
            "text/plain": [
              "True"
            ]
          },
          "metadata": {},
          "execution_count": 8
        }
      ]
    },
    {
      "cell_type": "markdown",
      "source": [
        "#### 7.2.1 파일 객체 메소드"
      ],
      "metadata": {
        "id": "24xsOLy9CfM2"
      }
    },
    {
      "cell_type": "code",
      "source": [
        "f = open('/content/gdrive/MyDrive/Colab Notebooks/workfile.txt','r+')"
      ],
      "metadata": {
        "id": "TOLaIfBBCdh_"
      },
      "execution_count": 37,
      "outputs": []
    },
    {
      "cell_type": "code",
      "source": [
        "f.read()"
      ],
      "metadata": {
        "colab": {
          "base_uri": "https://localhost:8080/",
          "height": 35
        },
        "id": "_G8NKA_yD1BF",
        "outputId": "ed257150-03f0-43b0-be1f-6479c72b87b0"
      },
      "execution_count": 12,
      "outputs": [
        {
          "output_type": "execute_result",
          "data": {
            "application/vnd.google.colaboratory.intrinsic+json": {
              "type": "string"
            },
            "text/plain": [
              "'This is the first line of the line.\\nSecond  line of the file\\n'"
            ]
          },
          "metadata": {},
          "execution_count": 12
        }
      ]
    },
    {
      "cell_type": "code",
      "source": [
        "# f.readline() : 파일에서 한 줄 읽음\n",
        "# 개행문자는 파일의 마지막 줄에서만 생략됨\n",
        "# 빈 문자열 반환 : 파일의 , 개행문자만 반환 : 빈 줄\n",
        "\n",
        "f.readline()"
      ],
      "metadata": {
        "colab": {
          "base_uri": "https://localhost:8080/",
          "height": 35
        },
        "id": "QXADvrUdD30z",
        "outputId": "a872a7a9-b9c7-4eef-97ca-96e8259d5b44"
      },
      "execution_count": 15,
      "outputs": [
        {
          "output_type": "execute_result",
          "data": {
            "application/vnd.google.colaboratory.intrinsic+json": {
              "type": "string"
            },
            "text/plain": [
              "'This is the first line of the line.\\n'"
            ]
          },
          "metadata": {},
          "execution_count": 15
        }
      ]
    },
    {
      "cell_type": "code",
      "source": [
        "f.readline()"
      ],
      "metadata": {
        "colab": {
          "base_uri": "https://localhost:8080/",
          "height": 35
        },
        "id": "NykE-esqEM-1",
        "outputId": "7706b758-eda4-4f32-de1a-25f77a40a6cf"
      },
      "execution_count": 16,
      "outputs": [
        {
          "output_type": "execute_result",
          "data": {
            "application/vnd.google.colaboratory.intrinsic+json": {
              "type": "string"
            },
            "text/plain": [
              "'Second  line of the file\\n'"
            ]
          },
          "metadata": {},
          "execution_count": 16
        }
      ]
    },
    {
      "cell_type": "code",
      "source": [
        "f.readline()"
      ],
      "metadata": {
        "colab": {
          "base_uri": "https://localhost:8080/",
          "height": 35
        },
        "id": "mDZ5cEZHERbI",
        "outputId": "92d38f61-04ea-4a8d-f69d-21986fe728aa"
      },
      "execution_count": 17,
      "outputs": [
        {
          "output_type": "execute_result",
          "data": {
            "application/vnd.google.colaboratory.intrinsic+json": {
              "type": "string"
            },
            "text/plain": [
              "''"
            ]
          },
          "metadata": {},
          "execution_count": 17
        }
      ]
    },
    {
      "cell_type": "code",
      "source": [
        "for line in f:\n",
        "    print(line,end='')"
      ],
      "metadata": {
        "colab": {
          "base_uri": "https://localhost:8080/"
        },
        "id": "LJzlJUjwEToD",
        "outputId": "59062c1c-8bf8-4641-db81-9baeb80f59c7"
      },
      "execution_count": 20,
      "outputs": [
        {
          "output_type": "stream",
          "name": "stdout",
          "text": [
            "This is the first line of the line.\n",
            "Second  line of the file\n"
          ]
        }
      ]
    },
    {
      "cell_type": "code",
      "source": [
        "# 파일의 모든 줄을 리스트로 읽기 : flist(f), f.readlines()"
      ],
      "metadata": {
        "id": "kawQmNbjF7H2"
      },
      "execution_count": null,
      "outputs": []
    },
    {
      "cell_type": "code",
      "source": [
        "# f.write(string) : string의 내용을 파일에 쓰고, 출력 문자 개수를 반환\n",
        "f.write('This is a test\\n')"
      ],
      "metadata": {
        "colab": {
          "base_uri": "https://localhost:8080/"
        },
        "id": "Gpf05u35GAH6",
        "outputId": "d309eb57-9f6f-4a44-9a0e-1a08ba86bdc0"
      },
      "execution_count": 22,
      "outputs": [
        {
          "output_type": "execute_result",
          "data": {
            "text/plain": [
              "15"
            ]
          },
          "metadata": {},
          "execution_count": 22
        }
      ]
    },
    {
      "cell_type": "code",
      "source": [
        "# 다른 형 객체는 쓰기 전 변환되어야 함\n",
        "value = ('the answer',42)\n",
        "#convert the tuple to string\n",
        "s = str(value)\n",
        "f.write(s)"
      ],
      "metadata": {
        "colab": {
          "base_uri": "https://localhost:8080/"
        },
        "id": "Hmu2b4jkGWD0",
        "outputId": "fa55b22e-a8b9-406a-fa93-cc98279d4050"
      },
      "execution_count": 23,
      "outputs": [
        {
          "output_type": "execute_result",
          "data": {
            "text/plain": [
              "18"
            ]
          },
          "metadata": {},
          "execution_count": 23
        }
      ]
    },
    {
      "cell_type": "code",
      "source": [
        "# f.tell() : 파일의 현재 위치를 가리키는 정수를 반환\n",
        "# f.seek(offset,whence) : 기준점 whence를 기준으로 offset을 더해서 계산\n",
        "# 0(기본값):파일처음, 1:현재파일위치, 2:파일끝"
      ],
      "metadata": {
        "id": "vF-IDGldH12P"
      },
      "execution_count": 24,
      "outputs": []
    },
    {
      "cell_type": "code",
      "source": [
        "f = open('/content/gdrive/MyDrive/Colab Notebooks/workfile.txt','rb+')"
      ],
      "metadata": {
        "id": "FF8XwV7lJVGa"
      },
      "execution_count": 27,
      "outputs": []
    },
    {
      "cell_type": "code",
      "source": [
        "f.write(b'0123456789abcdef')"
      ],
      "metadata": {
        "colab": {
          "base_uri": "https://localhost:8080/"
        },
        "id": "jEm4jzdOJbxq",
        "outputId": "292d5c57-6042-4c7c-9f95-fbf9ed764d58"
      },
      "execution_count": 28,
      "outputs": [
        {
          "output_type": "execute_result",
          "data": {
            "text/plain": [
              "16"
            ]
          },
          "metadata": {},
          "execution_count": 28
        }
      ]
    },
    {
      "cell_type": "code",
      "source": [
        "# Go to the 6th byte in the file\n",
        "f.seek(5)"
      ],
      "metadata": {
        "colab": {
          "base_uri": "https://localhost:8080/"
        },
        "id": "myiUI7LLJfWZ",
        "outputId": "e6c4ccd4-1636-46b5-fcf0-437b3448a4fb"
      },
      "execution_count": 29,
      "outputs": [
        {
          "output_type": "execute_result",
          "data": {
            "text/plain": [
              "5"
            ]
          },
          "metadata": {},
          "execution_count": 29
        }
      ]
    },
    {
      "cell_type": "code",
      "source": [
        "f.read(1)"
      ],
      "metadata": {
        "colab": {
          "base_uri": "https://localhost:8080/"
        },
        "id": "HMuS7dnTJ5mH",
        "outputId": "97ea4e34-ee0e-4423-d32a-3e3e213ea66f"
      },
      "execution_count": 30,
      "outputs": [
        {
          "output_type": "execute_result",
          "data": {
            "text/plain": [
              "b'5'"
            ]
          },
          "metadata": {},
          "execution_count": 30
        }
      ]
    },
    {
      "cell_type": "code",
      "source": [
        "# Go to the 3rd byte before the end\n",
        "f.seek(-3,2)"
      ],
      "metadata": {
        "colab": {
          "base_uri": "https://localhost:8080/"
        },
        "id": "UczcOfKMJ7Kv",
        "outputId": "9a87c261-6b65-4278-8422-de95fea5cef4"
      },
      "execution_count": 31,
      "outputs": [
        {
          "output_type": "execute_result",
          "data": {
            "text/plain": [
              "60"
            ]
          },
          "metadata": {},
          "execution_count": 31
        }
      ]
    },
    {
      "cell_type": "code",
      "source": [
        "f.read(1)"
      ],
      "metadata": {
        "colab": {
          "base_uri": "https://localhost:8080/"
        },
        "id": "Joi0rbkFKGEL",
        "outputId": "4e417b81-26a4-4338-ba0b-69f707442fec"
      },
      "execution_count": 32,
      "outputs": [
        {
          "output_type": "execute_result",
          "data": {
            "text/plain": [
              "b'e'"
            ]
          },
          "metadata": {},
          "execution_count": 32
        }
      ]
    },
    {
      "cell_type": "markdown",
      "source": [
        "#### 7.2.2 json으로 구조적인 데이터 저장하기"
      ],
      "metadata": {
        "id": "2qlLVW8ZKKpg"
      }
    },
    {
      "cell_type": "markdown",
      "source": [
        "JSON(JavaScript Object Notation)\n",
        "* 데이터 교환 형식\n",
        "* 파이썬 데이터 계층을 받아 문자열 표현으로 바꿈(직렬화Serializing)\n",
        "* 문자열표현으로 데이터를 재구성하는 것(역질렬화)"
      ],
      "metadata": {
        "id": "KQ7OjjZlKfr-"
      }
    },
    {
      "cell_type": "code",
      "source": [
        "import json\n",
        "x = [1,'simple','list']\n",
        "json.dumps(x)"
      ],
      "metadata": {
        "colab": {
          "base_uri": "https://localhost:8080/",
          "height": 35
        },
        "id": "i6DyGmFOKID_",
        "outputId": "c660150c-1996-441d-c4ec-dec906fd9d50"
      },
      "execution_count": 36,
      "outputs": [
        {
          "output_type": "execute_result",
          "data": {
            "application/vnd.google.colaboratory.intrinsic+json": {
              "type": "string"
            },
            "text/plain": [
              "'[1, \"simple\", \"list\"]'"
            ]
          },
          "metadata": {},
          "execution_count": 36
        }
      ]
    },
    {
      "cell_type": "code",
      "source": [
        "# dump() : dumps()함수의 변종. 객체를 텍스트 파일로 직렬화\n",
        "\n",
        "json.dump(x,f)"
      ],
      "metadata": {
        "id": "K1_eFZKAK-5Q"
      },
      "execution_count": 38,
      "outputs": []
    },
    {
      "cell_type": "code",
      "source": [
        "# 객체를 다시 디코드\n",
        "# x = json.load(f)"
      ],
      "metadata": {
        "id": "J7-E97smN7KH"
      },
      "execution_count": 40,
      "outputs": []
    },
    {
      "cell_type": "markdown",
      "source": [
        "###ch8.에러와 예외"
      ],
      "metadata": {
        "id": "QB-hY2-NMpT6"
      }
    },
    {
      "cell_type": "markdown",
      "source": [
        "####8.1 문법 에러"
      ],
      "metadata": {
        "id": "iDLgabh1tbuP"
      }
    },
    {
      "cell_type": "markdown",
      "source": [
        "**문법 에러(파싱 에러)**\n",
        "\n",
        "```\n",
        ">>> while True print('Hello world')\n",
        "  File \"<stdin>\", line 1\n",
        "    while True print('Hello world')\n",
        "                   ^\n",
        "SyntaxError: invalid syntax\n",
        "```\n",
        "\n",
        "* 파서는 문제가 되는 줄을 다시 보여줌\n",
        "* 에러가 감지된 가장 앞의 위치를 가리키는 작은 화살표를 표시\n",
        "* 위 예시의 경우, while문의 ':'가 빠져있어 에러가 발생"
      ],
      "metadata": {
        "id": "5jYK5qRjte38"
      }
    },
    {
      "cell_type": "markdown",
      "source": [
        "#### 8.2 예외"
      ],
      "metadata": {
        "id": "wTxhAPENtzf2"
      }
    },
    {
      "cell_type": "markdown",
      "source": [
        "**예외 : 문법적으로 올바르더라도, 실행 중에 감지되는 에러**. \n",
        "\n",
        "대부분의 예외는 프로그램이 처리하지 않으므로 에러 메시지가 발생."
      ],
      "metadata": {
        "id": "VkLdh2Gqt1rZ"
      }
    },
    {
      "cell_type": "markdown",
      "source": [
        "```\n",
        ">>> 10 * (1/0)\n",
        "Traceback (most recent call last):\n",
        "  File \"<stdin>\", line 1, in <module>\n",
        "ZeroDivisionError: division by zero\n",
        ">>> 4 + spam*3\n",
        "Traceback (most recent call last):\n",
        "  File \"<stdin>\", line 1, in <module>\n",
        "NameError: name 'spam' is not defined\n",
        ">>> '2' + 2\n",
        "Traceback (most recent call last):\n",
        "  File \"<stdin>\", line 1, in <module>\n",
        "TypeError: can only concatenate str (not \"int\") to str\n",
        "```"
      ],
      "metadata": {
        "id": "zqrQNEhKumJv"
      }
    },
    {
      "cell_type": "markdown",
      "source": [
        "* 에러메시지 마지막 줄 : 어떤 에러가 발생했는 지 알려줌\n",
        "* 예외는 여러 형으로 발생, 형이 메시지의 일부로 인쇄 (ex: ZeroDivisionError, NameError, TypeError )\n",
        "* 예외 형으로 인쇄된 문자열은 내장 예외의 이름\n",
        "\n",
        "줄의 나머지 부분 : 예외의 형, 원인에 기반을 둔 명세 제공\n",
        "* 앞 부분 : 스택 트레이스 형태로 예외 발생 위치의 문맥을 보여줌\n",
        "\n",
        "cf. 스택 트레이스 : https://en.wikipedia.org/wiki/Stack_trace\n",
        "\n"
      ],
      "metadata": {
        "id": "qhhb-798uunq"
      }
    },
    {
      "cell_type": "markdown",
      "source": [
        "####8.3 예외 처리하기"
      ],
      "metadata": {
        "id": "luHEwWt94oZS"
      }
    },
    {
      "cell_type": "markdown",
      "source": [
        "**선택한 예외를 처리하는 프로그램**\n",
        "\n",
        "\n"
      ],
      "metadata": {
        "id": "8EP1SR2h6Bln"
      }
    },
    {
      "cell_type": "code",
      "source": [
        "# 예시: 올바른 정수를 입력할 때까지 사용자입력을 요청. \n",
        "#사용자가 프로그램을 인터럽트하는 것을 허용\n",
        "\n",
        "while True:\n",
        "    try:\n",
        "        x = int( input(\"Please enter a number:\") )\n",
        "        break\n",
        "    except ValueError:\n",
        "        print(\"Oops! That was no valid number. Try again...\")"
      ],
      "metadata": {
        "colab": {
          "base_uri": "https://localhost:8080/"
        },
        "id": "RzYtC9qF5r-U",
        "outputId": "cc9771a8-8ac2-4449-f95d-c1a9dab32fa2"
      },
      "execution_count": 2,
      "outputs": [
        {
          "name": "stdout",
          "output_type": "stream",
          "text": [
            "Please enter a number:ee\n",
            "Oops! That was no valid number. Try again...\n",
            "Please enter a number:32\n"
          ]
        }
      ]
    },
    {
      "cell_type": "markdown",
      "source": [
        "**try문 동작**\n",
        "* try절(try와 except 사이의 문장) 실행\n",
        "* 예외가 발생하지 않을 경우: except를 건너뛰고 try문 실행 종료\n",
        "* 예외가 발생할 경우: 그 이후의 try문은 실행하지 않고 except로 건너뜀\n",
        "*except의 키워드에 해당할 경우: except를 실행하고 try절 이후를 실행\n",
        "* except에 해당하지 않을 경우(no  handler is found): unhandled exception, 메시지를 띄우고 실행을 정지"
      ],
      "metadata": {
        "id": "EY6ESPpb5K_q"
      }
    },
    {
      "cell_type": "markdown",
      "source": [
        "####8.4 예외 일으키기"
      ],
      "metadata": {
        "id": "OQ3-u-O76vU6"
      }
    },
    {
      "cell_type": "code",
      "source": [
        "# raise문: 지정한 예외가 발생하도록 강제\n",
        "raise NameError('HiThere')"
      ],
      "metadata": {
        "colab": {
          "base_uri": "https://localhost:8080/",
          "height": 190
        },
        "id": "d0lEpeYc9mzp",
        "outputId": "5aef9397-8012-4b55-9756-c5b97d400d38"
      },
      "execution_count": 3,
      "outputs": [
        {
          "output_type": "error",
          "ename": "NameError",
          "evalue": "ignored",
          "traceback": [
            "\u001b[0;31m---------------------------------------------------------------------------\u001b[0m",
            "\u001b[0;31mNameError\u001b[0m                                 Traceback (most recent call last)",
            "\u001b[0;32m<ipython-input-3-9e0e71b35fe9>\u001b[0m in \u001b[0;36m<module>\u001b[0;34m()\u001b[0m\n\u001b[1;32m      1\u001b[0m \u001b[0;31m# raise문: 지정한 예외가 발생하도록 강제\u001b[0m\u001b[0;34m\u001b[0m\u001b[0;34m\u001b[0m\u001b[0;34m\u001b[0m\u001b[0m\n\u001b[0;32m----> 2\u001b[0;31m \u001b[0;32mraise\u001b[0m \u001b[0mNameError\u001b[0m\u001b[0;34m(\u001b[0m\u001b[0;34m'HiThere'\u001b[0m\u001b[0;34m)\u001b[0m\u001b[0;34m\u001b[0m\u001b[0;34m\u001b[0m\u001b[0m\n\u001b[0m",
            "\u001b[0;31mNameError\u001b[0m: HiThere"
          ]
        }
      ]
    },
    {
      "cell_type": "markdown",
      "source": [
        "raise 단일 인자: 발생시킬 예외. \n",
        "* 예외 인스턴스, 예외 클래스(Exception을 계승하는 클래스)여야 함. \n",
        "* 예외 클래스가 전달될 경우, 인자 없이 생성자를 호출해 인스턴스를 생성"
      ],
      "metadata": {
        "id": "2WlGKmoM9wJU"
      }
    },
    {
      "cell_type": "code",
      "source": [
        "# shorthand for 'raise ValueError()'\n",
        "raise ValueError"
      ],
      "metadata": {
        "colab": {
          "base_uri": "https://localhost:8080/",
          "height": 190
        },
        "id": "UsB1u8lI-DOB",
        "outputId": "5fc1b44a-c27f-4088-f859-2d237691247f"
      },
      "execution_count": 4,
      "outputs": [
        {
          "output_type": "error",
          "ename": "ValueError",
          "evalue": "ignored",
          "traceback": [
            "\u001b[0;31m---------------------------------------------------------------------------\u001b[0m",
            "\u001b[0;31mValueError\u001b[0m                                Traceback (most recent call last)",
            "\u001b[0;32m<ipython-input-4-b7bf2434123b>\u001b[0m in \u001b[0;36m<module>\u001b[0;34m()\u001b[0m\n\u001b[1;32m      1\u001b[0m \u001b[0;31m# shorthand for 'raise ValueError()'\u001b[0m\u001b[0;34m\u001b[0m\u001b[0;34m\u001b[0m\u001b[0;34m\u001b[0m\u001b[0m\n\u001b[0;32m----> 2\u001b[0;31m \u001b[0;32mraise\u001b[0m \u001b[0mValueError\u001b[0m\u001b[0;34m\u001b[0m\u001b[0;34m\u001b[0m\u001b[0m\n\u001b[0m",
            "\u001b[0;31mValueError\u001b[0m: "
          ]
        }
      ]
    },
    {
      "cell_type": "code",
      "source": [
        "try:\n",
        "    raise NameError('HiThere')\n",
        "except NameError:\n",
        "    print('An ecxeption flew by!')\n",
        "    raise"
      ],
      "metadata": {
        "colab": {
          "base_uri": "https://localhost:8080/",
          "height": 263
        },
        "id": "99_GAcZ--X55",
        "outputId": "85b1a47e-665f-42f8-a1e6-8814e1e05f17"
      },
      "execution_count": 5,
      "outputs": [
        {
          "output_type": "stream",
          "name": "stdout",
          "text": [
            "An ecxeption flew by!\n"
          ]
        },
        {
          "output_type": "error",
          "ename": "NameError",
          "evalue": "ignored",
          "traceback": [
            "\u001b[0;31m---------------------------------------------------------------------------\u001b[0m",
            "\u001b[0;31mNameError\u001b[0m                                 Traceback (most recent call last)",
            "\u001b[0;32m<ipython-input-5-6d6f547515d9>\u001b[0m in \u001b[0;36m<module>\u001b[0;34m()\u001b[0m\n\u001b[1;32m      1\u001b[0m \u001b[0;32mtry\u001b[0m\u001b[0;34m:\u001b[0m\u001b[0;34m\u001b[0m\u001b[0;34m\u001b[0m\u001b[0m\n\u001b[0;32m----> 2\u001b[0;31m     \u001b[0;32mraise\u001b[0m \u001b[0mNameError\u001b[0m\u001b[0;34m(\u001b[0m\u001b[0;34m'HiThere'\u001b[0m\u001b[0;34m)\u001b[0m\u001b[0;34m\u001b[0m\u001b[0;34m\u001b[0m\u001b[0m\n\u001b[0m\u001b[1;32m      3\u001b[0m \u001b[0;32mexcept\u001b[0m \u001b[0mNameError\u001b[0m\u001b[0;34m:\u001b[0m\u001b[0;34m\u001b[0m\u001b[0;34m\u001b[0m\u001b[0m\n\u001b[1;32m      4\u001b[0m     \u001b[0mprint\u001b[0m\u001b[0;34m(\u001b[0m\u001b[0;34m'An ecxeption flew by!'\u001b[0m\u001b[0;34m)\u001b[0m\u001b[0;34m\u001b[0m\u001b[0;34m\u001b[0m\u001b[0m\n\u001b[1;32m      5\u001b[0m     \u001b[0;32mraise\u001b[0m\u001b[0;34m\u001b[0m\u001b[0;34m\u001b[0m\u001b[0m\n",
            "\u001b[0;31mNameError\u001b[0m: HiThere"
          ]
        }
      ]
    },
    {
      "cell_type": "markdown",
      "source": [
        "#### 8.5 예외 연쇄"
      ],
      "metadata": {
        "id": "3q0DQv8v_7hG"
      }
    },
    {
      "cell_type": "code",
      "source": [
        "#exc must be exception instance or None\n",
        "raise RuntimeError from exc"
      ],
      "metadata": {
        "colab": {
          "base_uri": "https://localhost:8080/",
          "height": 190
        },
        "id": "v9MOJv0w__Gn",
        "outputId": "9790a6d4-bda6-48bc-9cc6-630490fe62ca"
      },
      "execution_count": 16,
      "outputs": [
        {
          "output_type": "error",
          "ename": "NameError",
          "evalue": "ignored",
          "traceback": [
            "\u001b[0;31m---------------------------------------------------------------------------\u001b[0m",
            "\u001b[0;31mNameError\u001b[0m                                 Traceback (most recent call last)",
            "\u001b[0;32m<ipython-input-16-38f164ce9ff7>\u001b[0m in \u001b[0;36m<module>\u001b[0;34m()\u001b[0m\n\u001b[1;32m      1\u001b[0m \u001b[0;31m#exc must be exception instance or None\u001b[0m\u001b[0;34m\u001b[0m\u001b[0;34m\u001b[0m\u001b[0;34m\u001b[0m\u001b[0m\n\u001b[0;32m----> 2\u001b[0;31m \u001b[0;32mraise\u001b[0m \u001b[0mRuntimeError\u001b[0m \u001b[0;32mfrom\u001b[0m \u001b[0mexc\u001b[0m\u001b[0;34m\u001b[0m\u001b[0;34m\u001b[0m\u001b[0m\n\u001b[0m",
            "\u001b[0;31mNameError\u001b[0m: name 'exc' is not defined"
          ]
        }
      ]
    },
    {
      "cell_type": "code",
      "source": [
        "def func():\n",
        "    raise ConnectionError"
      ],
      "metadata": {
        "id": "9OiZYKXXMJEV"
      },
      "execution_count": 12,
      "outputs": []
    },
    {
      "cell_type": "code",
      "source": [
        "try:\n",
        "    func()\n",
        "except ConnectionError as exc:\n",
        "    raise RuntimeError('Failed to open database') from exc"
      ],
      "metadata": {
        "colab": {
          "base_uri": "https://localhost:8080/",
          "height": 414
        },
        "id": "vcqAh23wAF19",
        "outputId": "a699a8a2-dcba-46df-d6e0-62c05938c8d9"
      },
      "execution_count": 17,
      "outputs": [
        {
          "output_type": "error",
          "ename": "RuntimeError",
          "evalue": "ignored",
          "traceback": [
            "\u001b[0;31m---------------------------------------------------------------------------\u001b[0m",
            "\u001b[0;31mConnectionError\u001b[0m                           Traceback (most recent call last)",
            "\u001b[0;32m<ipython-input-17-fe952a84223e>\u001b[0m in \u001b[0;36m<module>\u001b[0;34m()\u001b[0m\n\u001b[1;32m      1\u001b[0m \u001b[0;32mtry\u001b[0m\u001b[0;34m:\u001b[0m\u001b[0;34m\u001b[0m\u001b[0;34m\u001b[0m\u001b[0m\n\u001b[0;32m----> 2\u001b[0;31m     \u001b[0mfunc\u001b[0m\u001b[0;34m(\u001b[0m\u001b[0;34m)\u001b[0m\u001b[0;34m\u001b[0m\u001b[0;34m\u001b[0m\u001b[0m\n\u001b[0m\u001b[1;32m      3\u001b[0m \u001b[0;32mexcept\u001b[0m \u001b[0mConnectionError\u001b[0m \u001b[0;32mas\u001b[0m \u001b[0mexc\u001b[0m\u001b[0;34m:\u001b[0m\u001b[0;34m\u001b[0m\u001b[0;34m\u001b[0m\u001b[0m\n",
            "\u001b[0;32m<ipython-input-12-dc8623248091>\u001b[0m in \u001b[0;36mfunc\u001b[0;34m()\u001b[0m\n\u001b[1;32m      1\u001b[0m \u001b[0;32mdef\u001b[0m \u001b[0mfunc\u001b[0m\u001b[0;34m(\u001b[0m\u001b[0;34m)\u001b[0m\u001b[0;34m:\u001b[0m\u001b[0;34m\u001b[0m\u001b[0;34m\u001b[0m\u001b[0m\n\u001b[0;32m----> 2\u001b[0;31m     \u001b[0;32mraise\u001b[0m \u001b[0mConnectionError\u001b[0m\u001b[0;34m\u001b[0m\u001b[0;34m\u001b[0m\u001b[0m\n\u001b[0m",
            "\u001b[0;31mConnectionError\u001b[0m: ",
            "\nThe above exception was the direct cause of the following exception:\n",
            "\u001b[0;31mRuntimeError\u001b[0m                              Traceback (most recent call last)",
            "\u001b[0;32m<ipython-input-17-fe952a84223e>\u001b[0m in \u001b[0;36m<module>\u001b[0;34m()\u001b[0m\n\u001b[1;32m      2\u001b[0m     \u001b[0mfunc\u001b[0m\u001b[0;34m(\u001b[0m\u001b[0;34m)\u001b[0m\u001b[0;34m\u001b[0m\u001b[0;34m\u001b[0m\u001b[0m\n\u001b[1;32m      3\u001b[0m \u001b[0;32mexcept\u001b[0m \u001b[0mConnectionError\u001b[0m \u001b[0;32mas\u001b[0m \u001b[0mexc\u001b[0m\u001b[0;34m:\u001b[0m\u001b[0;34m\u001b[0m\u001b[0;34m\u001b[0m\u001b[0m\n\u001b[0;32m----> 4\u001b[0;31m     \u001b[0;32mraise\u001b[0m \u001b[0mRuntimeError\u001b[0m\u001b[0;34m(\u001b[0m\u001b[0;34m'Failed to open database'\u001b[0m\u001b[0;34m)\u001b[0m \u001b[0;32mfrom\u001b[0m \u001b[0mexc\u001b[0m\u001b[0;34m\u001b[0m\u001b[0;34m\u001b[0m\u001b[0m\n\u001b[0m",
            "\u001b[0;31mRuntimeError\u001b[0m: Failed to open database"
          ]
        }
      ]
    },
    {
      "cell_type": "markdown",
      "source": [
        "```\n",
        ">>> try:\n",
        "    open('database.sqlite')\n",
        "except OSError:\n",
        "    raise RuntimeError from None\n",
        "\n",
        "Traceback (most recent call last):\n",
        "  File \"<stdin>\", line 4, in <module>\n",
        "RuntimeError\n",
        "```\n",
        "예외가 except에서 raise되거나 혹은 finally 부분에서 발생할 경우 자동적으로 예외 연쇄.\n",
        "from None을 사용하면 막을 수 있음"
      ],
      "metadata": {
        "id": "qaW8kFwUNHLL"
      }
    },
    {
      "cell_type": "markdown",
      "source": [
        "####8.6 사용자 정의 예외"
      ],
      "metadata": {
        "id": "z0rAzqxKIVtM"
      }
    },
    {
      "cell_type": "markdown",
      "source": [
        "새 예외 클래스를 만들어 자신의 예외 이름을 붙일 수 있음. 예외는 직간접적으로 Exception클래스를 계승"
      ],
      "metadata": {
        "id": "m_JrtyfqIYgS"
      }
    },
    {
      "cell_type": "markdown",
      "source": [
        "####8.7 뒷정리 동작 정의: finally"
      ],
      "metadata": {
        "id": "PqH69br9Iht4"
      }
    },
    {
      "cell_type": "code",
      "source": [
        "try:\n",
        "    raise KeyboardInterrupt\n",
        "finally:\n",
        "    print('Goodbye, world!')"
      ],
      "metadata": {
        "colab": {
          "base_uri": "https://localhost:8080/",
          "height": 245
        },
        "id": "wog6C1avIlW0",
        "outputId": "397aacf0-47ec-4ee5-ae6c-0a596e638d33"
      },
      "execution_count": 10,
      "outputs": [
        {
          "output_type": "stream",
          "name": "stdout",
          "text": [
            "Goodbye, world!\n"
          ]
        },
        {
          "output_type": "error",
          "ename": "KeyboardInterrupt",
          "evalue": "ignored",
          "traceback": [
            "\u001b[0;31m---------------------------------------------------------------------------\u001b[0m",
            "\u001b[0;31mKeyboardInterrupt\u001b[0m                         Traceback (most recent call last)",
            "\u001b[0;32m<ipython-input-10-ca8991ac7661>\u001b[0m in \u001b[0;36m<module>\u001b[0;34m()\u001b[0m\n\u001b[1;32m      1\u001b[0m \u001b[0;32mtry\u001b[0m\u001b[0;34m:\u001b[0m\u001b[0;34m\u001b[0m\u001b[0;34m\u001b[0m\u001b[0m\n\u001b[0;32m----> 2\u001b[0;31m     \u001b[0;32mraise\u001b[0m \u001b[0mKeyboardInterrupt\u001b[0m\u001b[0;34m\u001b[0m\u001b[0;34m\u001b[0m\u001b[0m\n\u001b[0m\u001b[1;32m      3\u001b[0m \u001b[0;32mfinally\u001b[0m\u001b[0;34m:\u001b[0m\u001b[0;34m\u001b[0m\u001b[0;34m\u001b[0m\u001b[0m\n\u001b[1;32m      4\u001b[0m     \u001b[0mprint\u001b[0m\u001b[0;34m(\u001b[0m\u001b[0;34m'Goodbye, world!'\u001b[0m\u001b[0;34m)\u001b[0m\u001b[0;34m\u001b[0m\u001b[0;34m\u001b[0m\u001b[0m\n",
            "\u001b[0;31mKeyboardInterrupt\u001b[0m: "
          ]
        }
      ]
    },
    {
      "cell_type": "markdown",
      "source": [
        "**finally절**\n",
        "* try문이 완료되기 전, 마지막 작업으로 실행\n",
        "* try문 예외 생성 여부와 관계없이 실행\n",
        "* 예외가 except에서 처리되지 않으면, finally절이 실행된 후 예외가 다시 발생\n",
        "* try문이 break,continue,return에 도달: finally절이 break,continue,return 실행 직전에 실행\n",
        "* finally에 return이 포함: 반환값은 try의 return이 아니라 finally의 return이 주는 값이 됨"
      ],
      "metadata": {
        "id": "dfN6szmbIuq-"
      }
    },
    {
      "cell_type": "code",
      "source": [
        "def bool_return():\n",
        "    try:\n",
        "        return True\n",
        "    finally:\n",
        "        return False\n",
        "\n",
        "bool_return()"
      ],
      "metadata": {
        "colab": {
          "base_uri": "https://localhost:8080/"
        },
        "id": "MKaU4IDnARKQ",
        "outputId": "11690f51-aad1-4702-ad5f-f53b046d03e7"
      },
      "execution_count": 18,
      "outputs": [
        {
          "output_type": "execute_result",
          "data": {
            "text/plain": [
              "False"
            ]
          },
          "metadata": {},
          "execution_count": 18
        }
      ]
    },
    {
      "cell_type": "code",
      "source": [
        "def divide(x,y):\n",
        "    try:\n",
        "        result = x/y\n",
        "    except ZeroDivisionError:\n",
        "        print(\"division by Zero!\")\n",
        "    else:\n",
        "        print(\"result is\",result)\n",
        "    finally:\n",
        "        print(\"executing  finally clause\")"
      ],
      "metadata": {
        "id": "nwnFGB79OXks"
      },
      "execution_count": 19,
      "outputs": []
    },
    {
      "cell_type": "code",
      "source": [
        "divide(2,1)"
      ],
      "metadata": {
        "colab": {
          "base_uri": "https://localhost:8080/"
        },
        "id": "0AdmhU_HOnTu",
        "outputId": "49773687-dfb6-439d-de52-696bb86a0ad2"
      },
      "execution_count": 20,
      "outputs": [
        {
          "output_type": "stream",
          "name": "stdout",
          "text": [
            "result is 2.0\n",
            "executing  finally clause\n"
          ]
        }
      ]
    },
    {
      "cell_type": "code",
      "source": [
        "divide(2,0)"
      ],
      "metadata": {
        "colab": {
          "base_uri": "https://localhost:8080/"
        },
        "id": "gfzQlM_GOpqD",
        "outputId": "6d875aac-b371-436e-e8a1-e12dbce6bfa0"
      },
      "execution_count": 21,
      "outputs": [
        {
          "output_type": "stream",
          "name": "stdout",
          "text": [
            "division by Zero!\n",
            "executing  finally clause\n"
          ]
        }
      ]
    },
    {
      "cell_type": "code",
      "source": [
        "divide(\"2\",\"1\")"
      ],
      "metadata": {
        "colab": {
          "base_uri": "https://localhost:8080/",
          "height": 318
        },
        "id": "wsJoWy18Orn-",
        "outputId": "005c5839-885c-4f8e-b407-ddc74628765a"
      },
      "execution_count": 22,
      "outputs": [
        {
          "output_type": "stream",
          "name": "stdout",
          "text": [
            "executing  finally clause\n"
          ]
        },
        {
          "output_type": "error",
          "ename": "TypeError",
          "evalue": "ignored",
          "traceback": [
            "\u001b[0;31m---------------------------------------------------------------------------\u001b[0m",
            "\u001b[0;31mTypeError\u001b[0m                                 Traceback (most recent call last)",
            "\u001b[0;32m<ipython-input-22-c4579e894624>\u001b[0m in \u001b[0;36m<module>\u001b[0;34m()\u001b[0m\n\u001b[0;32m----> 1\u001b[0;31m \u001b[0mdivide\u001b[0m\u001b[0;34m(\u001b[0m\u001b[0;34m\"2\"\u001b[0m\u001b[0;34m,\u001b[0m\u001b[0;34m\"1\"\u001b[0m\u001b[0;34m)\u001b[0m\u001b[0;34m\u001b[0m\u001b[0;34m\u001b[0m\u001b[0m\n\u001b[0m",
            "\u001b[0;32m<ipython-input-19-5f400c02722a>\u001b[0m in \u001b[0;36mdivide\u001b[0;34m(x, y)\u001b[0m\n\u001b[1;32m      1\u001b[0m \u001b[0;32mdef\u001b[0m \u001b[0mdivide\u001b[0m\u001b[0;34m(\u001b[0m\u001b[0mx\u001b[0m\u001b[0;34m,\u001b[0m\u001b[0my\u001b[0m\u001b[0;34m)\u001b[0m\u001b[0;34m:\u001b[0m\u001b[0;34m\u001b[0m\u001b[0;34m\u001b[0m\u001b[0m\n\u001b[1;32m      2\u001b[0m     \u001b[0;32mtry\u001b[0m\u001b[0;34m:\u001b[0m\u001b[0;34m\u001b[0m\u001b[0;34m\u001b[0m\u001b[0m\n\u001b[0;32m----> 3\u001b[0;31m         \u001b[0mresult\u001b[0m \u001b[0;34m=\u001b[0m \u001b[0mx\u001b[0m\u001b[0;34m/\u001b[0m\u001b[0my\u001b[0m\u001b[0;34m\u001b[0m\u001b[0;34m\u001b[0m\u001b[0m\n\u001b[0m\u001b[1;32m      4\u001b[0m     \u001b[0;32mexcept\u001b[0m \u001b[0mZeroDivisionError\u001b[0m\u001b[0;34m:\u001b[0m\u001b[0;34m\u001b[0m\u001b[0;34m\u001b[0m\u001b[0m\n\u001b[1;32m      5\u001b[0m         \u001b[0mprint\u001b[0m\u001b[0;34m(\u001b[0m\u001b[0;34m\"division by Zero!\"\u001b[0m\u001b[0;34m)\u001b[0m\u001b[0;34m\u001b[0m\u001b[0;34m\u001b[0m\u001b[0m\n",
            "\u001b[0;31mTypeError\u001b[0m: unsupported operand type(s) for /: 'str' and 'str'"
          ]
        }
      ]
    },
    {
      "cell_type": "markdown",
      "source": [
        "#### 8.8 미리 정의된 뒷정리 동작"
      ],
      "metadata": {
        "id": "xGjViF3DO6do"
      }
    },
    {
      "cell_type": "markdown",
      "source": [
        "```\n",
        "for line in open(\"myfile.txt\"):\n",
        "    print(line, end=\"\")\n",
        "```\n",
        "실행이 끝난 이후에도 파일이 열린 채 있다는 점이 문제가 될 수 있음. \n",
        "```\n",
        "with open(\"myfile.txt\") as f:\n",
        "    for line in f:\n",
        "        print(line, end=\"\")\n",
        "```\n",
        "with문은 파일 같은 객체가 즉시 올바르게 뒷정리 되도록 보장함. 처리할 때 문제가 발생하더라도 파일f는 항상 닫힘."
      ],
      "metadata": {
        "id": "N0SgwzaEQFPR"
      }
    },
    {
      "cell_type": "markdown",
      "source": [
        "###ch9.클래스"
      ],
      "metadata": {
        "id": "9mqF3A2LMrC6"
      }
    },
    {
      "cell_type": "markdown",
      "source": [
        "####9.2.1 스코프와 이름공간"
      ],
      "metadata": {
        "id": "k70JASN9LvZ8"
      }
    },
    {
      "cell_type": "code",
      "source": [
        "def scope_test():\n",
        "    def do_local():\n",
        "        spam = \"local spam\"\n",
        "\n",
        "    def do_nonlocal():\n",
        "        nonlocal spam\n",
        "        spam = \"nonlocal spam\"\n",
        "\n",
        "    def do_global():\n",
        "        global spam\n",
        "        spam = \"global spam\"\n",
        "\n",
        "    spam = \"test spam\"\n",
        "    do_local()\n",
        "    print(\"After local assignment:\",spam)\n",
        "    do_nonlocal()\n",
        "    print(\"After nonlocal assignment:\",spam)\n",
        "    do_global()\n",
        "    print(\"After global assignment:\",spam)\n",
        "\n",
        "scope_test()\n",
        "print(\"In global scope:\",spam)"
      ],
      "metadata": {
        "colab": {
          "base_uri": "https://localhost:8080/"
        },
        "id": "RFwEa3YaLmu8",
        "outputId": "6b29156b-3581-4579-f19f-6cc4e7796b93"
      },
      "execution_count": 81,
      "outputs": [
        {
          "output_type": "stream",
          "name": "stdout",
          "text": [
            "After local assignment: test spam\n",
            "After nonlocal assignment: nonlocal spam\n",
            "After global assignment: nonlocal spam\n",
            "In global scope: global spam\n"
          ]
        }
      ]
    },
    {
      "cell_type": "markdown",
      "source": [
        "####9.3.2 클래스 객체"
      ],
      "metadata": {
        "id": "zDrRgW7aQtpL"
      }
    },
    {
      "cell_type": "markdown",
      "source": [
        "**클래스 객체 연산**\n",
        "* 어트리뷰트 참조\n",
        "* 인스턴스 생성\n",
        "\n"
      ],
      "metadata": {
        "id": "cvk8SP9tRHoX"
      }
    },
    {
      "cell_type": "markdown",
      "source": [
        "**어트리뷰트 참조**\n",
        "\n",
        "* 모든 어트리뷰트 참조에 사용되는 표준 문법 사용: obj.name\n",
        "* MyClass.i: 정수 반환, 대입으로 값 바꿀 수 있음\n",
        "* MyClass.f: 함수 객체 반환\n",
        "* MyClass.__doc__: 클래스에 속하는 독스트링 반환"
      ],
      "metadata": {
        "id": "k8SZfOklRaIj"
      }
    },
    {
      "cell_type": "code",
      "source": [
        " class MyClass:\n",
        "     \"\"\"A simple example class\"\"\"\n",
        "     def __init__(self):\n",
        "         self.data=[]\n",
        "         \n",
        "     i = 12345\n",
        "\n",
        "     def f(self):\n",
        "         return 'hello world'"
      ],
      "metadata": {
        "id": "cbnqChumQ49D"
      },
      "execution_count": 87,
      "outputs": []
    },
    {
      "cell_type": "code",
      "source": [
        "MyClass.i"
      ],
      "metadata": {
        "colab": {
          "base_uri": "https://localhost:8080/"
        },
        "id": "WzyuWkW8RZjB",
        "outputId": "7796f107-77e0-452a-e250-c27dfc9f0235"
      },
      "execution_count": 88,
      "outputs": [
        {
          "output_type": "execute_result",
          "data": {
            "text/plain": [
              "12345"
            ]
          },
          "metadata": {},
          "execution_count": 88
        }
      ]
    },
    {
      "cell_type": "code",
      "source": [
        "MyClass.f"
      ],
      "metadata": {
        "colab": {
          "base_uri": "https://localhost:8080/"
        },
        "id": "u5qtHsjsU51D",
        "outputId": "b1eb96f0-9254-4e4f-eb46-de26354fffc3"
      },
      "execution_count": 89,
      "outputs": [
        {
          "output_type": "execute_result",
          "data": {
            "text/plain": [
              "<function __main__.MyClass.f>"
            ]
          },
          "metadata": {},
          "execution_count": 89
        }
      ]
    },
    {
      "cell_type": "code",
      "source": [
        "MyClass.__doc__"
      ],
      "metadata": {
        "colab": {
          "base_uri": "https://localhost:8080/",
          "height": 35
        },
        "id": "4a47F0QMU3gU",
        "outputId": "da954680-154c-48a4-9245-0a284297ff70"
      },
      "execution_count": 90,
      "outputs": [
        {
          "output_type": "execute_result",
          "data": {
            "application/vnd.google.colaboratory.intrinsic+json": {
              "type": "string"
            },
            "text/plain": [
              "'A simple example class'"
            ]
          },
          "metadata": {},
          "execution_count": 90
        }
      ]
    },
    {
      "cell_type": "code",
      "source": [
        "# 클래스 인스턴스 생성\n",
        "x = MyClass()"
      ],
      "metadata": {
        "id": "nKklB-1nU8hk"
      },
      "execution_count": 96,
      "outputs": []
    },
    {
      "cell_type": "code",
      "source": [
        "class Complex:\n",
        "    def __init__(self,realpart,imagpart):\n",
        "        self.r = realpart\n",
        "        self.i = imagpart\n",
        "\n",
        "x = Complex(3.0,-4.5)\n",
        "print(x.r,x.i)"
      ],
      "metadata": {
        "colab": {
          "base_uri": "https://localhost:8080/"
        },
        "id": "9hNIdzTCVB2p",
        "outputId": "66be8d72-be92-4738-ddc2-6e2ca99e2e88"
      },
      "execution_count": 93,
      "outputs": [
        {
          "output_type": "stream",
          "name": "stdout",
          "text": [
            "3.0 -4.5\n"
          ]
        }
      ]
    },
    {
      "cell_type": "markdown",
      "source": [
        "####9.3.3 인스턴스 객체"
      ],
      "metadata": {
        "id": "tCbZmtUuVeVy"
      }
    },
    {
      "cell_type": "code",
      "source": [
        "x.counter = 1\n",
        "while x.counter<10:\n",
        "    x.counter = x.counter*2\n",
        "print(x.counter)\n",
        "\n",
        "del x.counter"
      ],
      "metadata": {
        "colab": {
          "base_uri": "https://localhost:8080/"
        },
        "id": "WCiaNchPVgOi",
        "outputId": "0dbd1e3a-1a2d-44af-9d18-5203bb68a78c"
      },
      "execution_count": 97,
      "outputs": [
        {
          "output_type": "stream",
          "name": "stdout",
          "text": [
            "16\n"
          ]
        }
      ]
    },
    {
      "cell_type": "markdown",
      "source": [
        "####9.3.4 메서드 객체"
      ],
      "metadata": {
        "id": "veE87NGGW_wx"
      }
    },
    {
      "cell_type": "code",
      "source": [
        "x = MyClass()\n",
        "\n",
        "x.f()"
      ],
      "metadata": {
        "colab": {
          "base_uri": "https://localhost:8080/",
          "height": 35
        },
        "id": "8cd4ngqTW-4X",
        "outputId": "ac25b10b-46a9-425f-e72b-3b9449971c55"
      },
      "execution_count": 98,
      "outputs": [
        {
          "output_type": "execute_result",
          "data": {
            "application/vnd.google.colaboratory.intrinsic+json": {
              "type": "string"
            },
            "text/plain": [
              "'hello world'"
            ]
          },
          "metadata": {},
          "execution_count": 98
        }
      ]
    },
    {
      "cell_type": "code",
      "source": [
        "# x.f는 메서드 객체, 저장된 후에 호출될 수 있음\n",
        "xf = x.f\n",
        "#while  True:\n",
        "#    print(xf())"
      ],
      "metadata": {
        "id": "wFDfzkmnXUKN"
      },
      "execution_count": 102,
      "outputs": []
    },
    {
      "cell_type": "markdown",
      "source": [
        "####9.3.5 클래스와 인스턴스 변수"
      ],
      "metadata": {
        "id": "fN5sQA0_XuMV"
      }
    },
    {
      "cell_type": "code",
      "source": [
        "class Dog:\n",
        "    kind='canine'       #class variable shared by all instance\n",
        "\n",
        "    def __init__(self,name):\n",
        "        self.name=name  # instance variable u nique to eash instance\n",
        "\n",
        "d = Dog('Fido')\n",
        "e = Dog('Buddy')\n",
        "\n",
        "print(d.kind, e.kind)       #shared by all dogs\n",
        "print(d.name)   # unique to d\n",
        "print(e.name)   # unique to e"
      ],
      "metadata": {
        "colab": {
          "base_uri": "https://localhost:8080/"
        },
        "id": "9xVEx09pXk4q",
        "outputId": "74e2821a-082e-47c1-ef55-819fda02e83d"
      },
      "execution_count": 104,
      "outputs": [
        {
          "output_type": "stream",
          "name": "stdout",
          "text": [
            "canine canine\n",
            "Fido\n",
            "Buddy\n"
          ]
        }
      ]
    },
    {
      "cell_type": "code",
      "source": [
        "class Dog:\n",
        "    tricks = []       # mistaken use of a class variable\n",
        "\n",
        "    def __init__(self,name):\n",
        "        self.name=name  # instance variable u nique to eash instance\n",
        "\n",
        "    def add_trick(self,trick):\n",
        "        self.tricks.append(trick)\n",
        "\n",
        "d = Dog('Fido')\n",
        "e = Dog('Buddy')\n",
        "d.add_trick('roll over')\n",
        "e.add_trick('play dead')\n",
        "\n",
        "d.tricks"
      ],
      "metadata": {
        "colab": {
          "base_uri": "https://localhost:8080/"
        },
        "id": "KHifvlZXZqot",
        "outputId": "5726028f-4ec6-474e-e230-f0df35466a05"
      },
      "execution_count": 106,
      "outputs": [
        {
          "output_type": "execute_result",
          "data": {
            "text/plain": [
              "['roll over', 'play dead']"
            ]
          },
          "metadata": {},
          "execution_count": 106
        }
      ]
    },
    {
      "cell_type": "code",
      "source": [
        "class Dog:\n",
        "    def __init__(self,name):\n",
        "        self.name=name\n",
        "        self.tricks=[]  # creates a new empty list for each doe class instance\n",
        "\n",
        "    def add_trick(self,trick):\n",
        "        self.tricks.append(trick)\n",
        "\n",
        "d = Dog('Fido')\n",
        "e = Dog('Buddy')\n",
        "d.add_trick('roll over')\n",
        "e.add_trick('play dead')\n",
        "print(d.tricks)\n",
        "print(e.tricks)"
      ],
      "metadata": {
        "colab": {
          "base_uri": "https://localhost:8080/"
        },
        "id": "2LlXAcyQaBHP",
        "outputId": "4607f85c-41d3-4a23-cf20-424ebc8cc45d"
      },
      "execution_count": 107,
      "outputs": [
        {
          "output_type": "stream",
          "name": "stdout",
          "text": [
            "['roll over']\n",
            "['play dead']\n"
          ]
        }
      ]
    },
    {
      "cell_type": "markdown",
      "source": [
        "####9.4 주의사항"
      ],
      "metadata": {
        "id": "mxu8NdJNaTOF"
      }
    },
    {
      "cell_type": "code",
      "source": [
        "# 인스턴스, 클래스에 같은 어트리뷰트가 등장 > 인스턴스 우선\n",
        "\n",
        "class Warehouse:\n",
        "    purpose = 'storage'\n",
        "    region='west'\n",
        "\n",
        "w1 = Warehouse()\n",
        "print(w1.purpose,w1.region)\n",
        "w2=Warehouse()\n",
        "w2.region='east'\n",
        "print(w2.purpose,w2.region)"
      ],
      "metadata": {
        "colab": {
          "base_uri": "https://localhost:8080/"
        },
        "id": "sYL5RuPralKs",
        "outputId": "af43708f-41b4-4dd3-ab06-218a2e7b89b6"
      },
      "execution_count": 108,
      "outputs": [
        {
          "output_type": "stream",
          "name": "stdout",
          "text": [
            "storage west\n",
            "storage east\n"
          ]
        }
      ]
    },
    {
      "cell_type": "code",
      "source": [
        "# 함수 정의가 클래스 정의에 둘러싸일 필요 없음\n",
        "# 함수 객체를 클래스의 지역 변수로 대입 가능\n",
        "#Function defined outside the class\n",
        "\n",
        "def f1(self,x,y):\n",
        "    return min(x,x+y)\n",
        "\n",
        "class C:\n",
        "    f=f1\n",
        "    \n",
        "    def g(self):\n",
        "        return 'hello world'\n",
        "\n",
        "    h=g"
      ],
      "metadata": {
        "id": "RDf0n0PwgyrE"
      },
      "execution_count": 110,
      "outputs": []
    },
    {
      "cell_type": "code",
      "source": [
        "# self인자의 메서드 어트리뷰트를 이용해 다른 메서드 호출\n",
        "\n",
        "class Bag:\n",
        "    def __init__(self):\n",
        "        self.data = []\n",
        "    \n",
        "    def add(self,x):\n",
        "        self.data.append(x)\n",
        "\n",
        "    def addtwice(self,x):\n",
        "        self.add(x)\n",
        "        self.add(x)"
      ],
      "metadata": {
        "id": "pLfxoLpahdC0"
      },
      "execution_count": 112,
      "outputs": []
    },
    {
      "cell_type": "markdown",
      "source": [
        "### ch10. 표준 라이브러리 둘러보기"
      ],
      "metadata": {
        "id": "NLoDp3SxOYIN"
      }
    },
    {
      "cell_type": "markdown",
      "source": [
        "####10.1 운영체제 인터페이스"
      ],
      "metadata": {
        "id": "hRXTQOf7PmwZ"
      }
    },
    {
      "cell_type": "markdown",
      "source": [
        "os모듈\n",
        "* 운영체제와 상호 작용하기 위한 함수 제공\n",
        "\n",
        "from os import* 대신 import os 스타일을 사용해야 함 (os.poen()이 내장 open()를 가리키는 것을 피하기 위해)"
      ],
      "metadata": {
        "id": "MTGkpcPoQLIj"
      }
    },
    {
      "cell_type": "code",
      "source": [
        "import os\n",
        "# Return the current working directory\n",
        "os.getcwd()"
      ],
      "metadata": {
        "colab": {
          "base_uri": "https://localhost:8080/",
          "height": 35
        },
        "id": "_nbOl7jgOaod",
        "outputId": "b9919b85-70e3-48b1-ba55-6af46828770c"
      },
      "execution_count": 41,
      "outputs": [
        {
          "output_type": "execute_result",
          "data": {
            "application/vnd.google.colaboratory.intrinsic+json": {
              "type": "string"
            },
            "text/plain": [
              "'/content'"
            ]
          },
          "metadata": {},
          "execution_count": 41
        }
      ]
    },
    {
      "cell_type": "code",
      "source": [
        "# os.chdir() : Change current working directory\n",
        "# os.system() : Run the command akdir in the system shell"
      ],
      "metadata": {
        "id": "PKFl8BxaP37i"
      },
      "execution_count": null,
      "outputs": []
    },
    {
      "cell_type": "code",
      "source": [
        "# return a list of all module functions\n",
        "#dir(os)\n",
        "# returns an extensive manual page created from the module's docstings\n",
        "#help(os)"
      ],
      "metadata": {
        "id": "DORnqSZtQSr4"
      },
      "execution_count": 45,
      "outputs": []
    },
    {
      "cell_type": "code",
      "source": [
        "# shutil모듈: 일상적인 파일과 디렉토리 작업관리를 위해 쉬운 인터페이스 제공\n",
        "#import shutil\n",
        "#shutil.copyfile('data.db','archive.db')"
      ],
      "metadata": {
        "id": "Iox_t-jnQlGD"
      },
      "execution_count": null,
      "outputs": []
    },
    {
      "cell_type": "markdown",
      "source": [
        "####10.2 파일 와일드카드"
      ],
      "metadata": {
        "id": "9dXoZHemRUgV"
      }
    },
    {
      "cell_type": "code",
      "source": [
        "# glob 모듈: 디렉토리 와일드카드 검색으로 파일 목록을 만드는 함수 제공\n",
        "import glob\n",
        "glob.glob('*.py')"
      ],
      "metadata": {
        "id": "SWwBEpseRWgM"
      },
      "execution_count": null,
      "outputs": []
    },
    {
      "cell_type": "markdown",
      "source": [
        "####10.3 명령행 인자"
      ],
      "metadata": {
        "id": "5HQLXMwPRsBP"
      }
    },
    {
      "cell_type": "code",
      "source": [
        "import sys\n",
        "print(sys.argv)"
      ],
      "metadata": {
        "colab": {
          "base_uri": "https://localhost:8080/"
        },
        "id": "bDh9V8qqRlOn",
        "outputId": "b1505294-c5a7-469b-8484-666f4ae05658"
      },
      "execution_count": 49,
      "outputs": [
        {
          "output_type": "stream",
          "name": "stdout",
          "text": [
            "['/usr/local/lib/python3.7/dist-packages/ipykernel_launcher.py', '-f', '/root/.local/share/jupyter/runtime/kernel-87eda8ea-4632-4f9a-aed5-f239f5cd6ca8.json']\n"
          ]
        }
      ]
    },
    {
      "cell_type": "code",
      "source": [
        "# argparse모듈: 명령줄 인자를 처리하는 정교한 메커니즘 제공\n",
        "#import argparse"
      ],
      "metadata": {
        "id": "O-Pm8W1ZVLRE"
      },
      "execution_count": 53,
      "outputs": []
    },
    {
      "cell_type": "markdown",
      "source": [
        "####10.4 에러출력 리디렉션, 프로그램 종료"
      ],
      "metadata": {
        "id": "DetZbzT7Vlpv"
      }
    },
    {
      "cell_type": "code",
      "source": [
        "# sys모듈은 stdin, stdout, stderr을 갖고 있음\n",
        "\n",
        "sys.stderr.write('Warning, log file not found starting a new one\\n')"
      ],
      "metadata": {
        "colab": {
          "base_uri": "https://localhost:8080/"
        },
        "id": "zxUOvwJGVjN3",
        "outputId": "560842e6-eae0-486b-8b3c-2fe1cd19216a"
      },
      "execution_count": 54,
      "outputs": [
        {
          "output_type": "stream",
          "name": "stderr",
          "text": [
            "Warning, log file not found starting a new one\n"
          ]
        }
      ]
    },
    {
      "cell_type": "code",
      "source": [
        "#스크립트를 종료하는 직접적인 방법 : sys.exit()"
      ],
      "metadata": {
        "id": "GKpmYNlJV0Xn"
      },
      "execution_count": null,
      "outputs": []
    },
    {
      "cell_type": "markdown",
      "source": [
        "####10.5 문자열 패턴 매칭"
      ],
      "metadata": {
        "id": "9MvnOgxoW__H"
      }
    },
    {
      "cell_type": "code",
      "source": [
        "import re\n",
        "re.findall(r'\\bf[a-z]*', 'which foot or hand fell fastest')"
      ],
      "metadata": {
        "colab": {
          "base_uri": "https://localhost:8080/"
        },
        "id": "yMr7fAo_XDAb",
        "outputId": "cec4de63-ed2c-41b6-d51e-efff553252e6"
      },
      "execution_count": 55,
      "outputs": [
        {
          "output_type": "execute_result",
          "data": {
            "text/plain": [
              "['foot', 'fell', 'fastest']"
            ]
          },
          "metadata": {},
          "execution_count": 55
        }
      ]
    },
    {
      "cell_type": "code",
      "source": [
        "re.sub(r'(\\b[a-z]+) \\1', r'\\1', 'cat in the the hat')"
      ],
      "metadata": {
        "colab": {
          "base_uri": "https://localhost:8080/",
          "height": 35
        },
        "id": "hYJOT5kBXMfp",
        "outputId": "3d2f771c-13fa-4025-bb92-2ccc8d88bc78"
      },
      "execution_count": 56,
      "outputs": [
        {
          "output_type": "execute_result",
          "data": {
            "application/vnd.google.colaboratory.intrinsic+json": {
              "type": "string"
            },
            "text/plain": [
              "'cat in the hat'"
            ]
          },
          "metadata": {},
          "execution_count": 56
        }
      ]
    },
    {
      "cell_type": "code",
      "source": [
        "'tea for too'.replace('too', 'two')"
      ],
      "metadata": {
        "colab": {
          "base_uri": "https://localhost:8080/",
          "height": 35
        },
        "id": "k33IldFqYsB8",
        "outputId": "d4292b3a-68c8-4e75-f50f-a798edc50a69"
      },
      "execution_count": 57,
      "outputs": [
        {
          "output_type": "execute_result",
          "data": {
            "application/vnd.google.colaboratory.intrinsic+json": {
              "type": "string"
            },
            "text/plain": [
              "'tea for two'"
            ]
          },
          "metadata": {},
          "execution_count": 57
        }
      ]
    },
    {
      "cell_type": "markdown",
      "source": [
        "####10.6 수학"
      ],
      "metadata": {
        "id": "k0cYy230Ytwo"
      }
    },
    {
      "cell_type": "code",
      "source": [
        "import math\n",
        "math.cos(math.pi/4)"
      ],
      "metadata": {
        "colab": {
          "base_uri": "https://localhost:8080/"
        },
        "id": "MZaRc3WeYvoF",
        "outputId": "b32f411a-8560-43dc-ccdb-9099ab69b9d1"
      },
      "execution_count": 58,
      "outputs": [
        {
          "output_type": "execute_result",
          "data": {
            "text/plain": [
              "0.7071067811865476"
            ]
          },
          "metadata": {},
          "execution_count": 58
        }
      ]
    },
    {
      "cell_type": "code",
      "source": [
        "math.log(1024,2)"
      ],
      "metadata": {
        "colab": {
          "base_uri": "https://localhost:8080/"
        },
        "id": "vRwPY0OHY4gY",
        "outputId": "3408a03f-66c6-4fd9-fd5b-d43c0b740197"
      },
      "execution_count": 59,
      "outputs": [
        {
          "output_type": "execute_result",
          "data": {
            "text/plain": [
              "10.0"
            ]
          },
          "metadata": {},
          "execution_count": 59
        }
      ]
    },
    {
      "cell_type": "code",
      "source": [
        "import random\n",
        "random.choice(['apple','pear','banana'])"
      ],
      "metadata": {
        "colab": {
          "base_uri": "https://localhost:8080/",
          "height": 35
        },
        "id": "kAi-tSQpY87M",
        "outputId": "f749683b-8af5-42e3-a354-e0ecede2616d"
      },
      "execution_count": 60,
      "outputs": [
        {
          "output_type": "execute_result",
          "data": {
            "application/vnd.google.colaboratory.intrinsic+json": {
              "type": "string"
            },
            "text/plain": [
              "'banana'"
            ]
          },
          "metadata": {},
          "execution_count": 60
        }
      ]
    },
    {
      "cell_type": "code",
      "source": [
        "# sampling without replacement\n",
        "random.sample(range(100),10)"
      ],
      "metadata": {
        "colab": {
          "base_uri": "https://localhost:8080/"
        },
        "id": "1cQYUL9vZHge",
        "outputId": "71bb923f-955b-412d-f8a6-e61a7758288c"
      },
      "execution_count": 61,
      "outputs": [
        {
          "output_type": "execute_result",
          "data": {
            "text/plain": [
              "[55, 23, 25, 60, 64, 47, 22, 29, 35, 99]"
            ]
          },
          "metadata": {},
          "execution_count": 61
        }
      ]
    },
    {
      "cell_type": "code",
      "source": [
        "# random float\n",
        "random.random()"
      ],
      "metadata": {
        "colab": {
          "base_uri": "https://localhost:8080/"
        },
        "id": "VmWlhvetZOR9",
        "outputId": "e3f85834-ff27-4053-d782-68976d5360a2"
      },
      "execution_count": 62,
      "outputs": [
        {
          "output_type": "execute_result",
          "data": {
            "text/plain": [
              "0.2796900183703317"
            ]
          },
          "metadata": {},
          "execution_count": 62
        }
      ]
    },
    {
      "cell_type": "code",
      "source": [
        "# random integer chosen from range(6)\n",
        "random.randrange(6)"
      ],
      "metadata": {
        "colab": {
          "base_uri": "https://localhost:8080/"
        },
        "id": "tYKj66DSZodl",
        "outputId": "0a12ee6b-c66d-49c7-b42a-c0276ff70a48"
      },
      "execution_count": 63,
      "outputs": [
        {
          "output_type": "execute_result",
          "data": {
            "text/plain": [
              "4"
            ]
          },
          "metadata": {},
          "execution_count": 63
        }
      ]
    },
    {
      "cell_type": "code",
      "source": [
        "import statistics\n",
        "data = [2.75,1.75,1.25,0.25,0.5,1.25,3.5]\n",
        "statistics.mean(data)"
      ],
      "metadata": {
        "colab": {
          "base_uri": "https://localhost:8080/"
        },
        "id": "WhcVSI6dZuC8",
        "outputId": "ff127c5f-6d50-4dcb-f309-e280d9bceed6"
      },
      "execution_count": 65,
      "outputs": [
        {
          "output_type": "execute_result",
          "data": {
            "text/plain": [
              "1.6071428571428572"
            ]
          },
          "metadata": {},
          "execution_count": 65
        }
      ]
    },
    {
      "cell_type": "code",
      "source": [
        "statistics.median(data)"
      ],
      "metadata": {
        "colab": {
          "base_uri": "https://localhost:8080/"
        },
        "id": "j1d5z-sTaWQs",
        "outputId": "a4d5004b-59fc-44fa-e8b1-ae92af4b768b"
      },
      "execution_count": 66,
      "outputs": [
        {
          "output_type": "execute_result",
          "data": {
            "text/plain": [
              "1.25"
            ]
          },
          "metadata": {},
          "execution_count": 66
        }
      ]
    },
    {
      "cell_type": "code",
      "source": [
        "statistics.variance(data)"
      ],
      "metadata": {
        "colab": {
          "base_uri": "https://localhost:8080/"
        },
        "id": "PvUH6vftaYZ5",
        "outputId": "65299d54-6302-4978-ada2-377ccb0d9674"
      },
      "execution_count": 67,
      "outputs": [
        {
          "output_type": "execute_result",
          "data": {
            "text/plain": [
              "1.3720238095238095"
            ]
          },
          "metadata": {},
          "execution_count": 67
        }
      ]
    },
    {
      "cell_type": "markdown",
      "source": [
        "####10.7 인터넷 엑세스"
      ],
      "metadata": {
        "id": "yn_tqfB_abUw"
      }
    },
    {
      "cell_type": "code",
      "source": [
        "# urllib.request : URL에서 데이터를 읽어옴\n",
        "\n",
        "from urllib.request import urlopen\n",
        "with urlopen('http://worldtimeapi.org/api/timezone/etc/UTC.txt') as response:\n",
        "    for line in response:\n",
        "        line = line.decode()    #Convert bytes to a str\n",
        "        if line.startswith('datetime'):\n",
        "            print(line.rstrip())    # Remove trailing newline"
      ],
      "metadata": {
        "colab": {
          "base_uri": "https://localhost:8080/"
        },
        "id": "ERfYy0K7ae6c",
        "outputId": "ad4a7c51-d452-4515-9d51-fed88355e293"
      },
      "execution_count": 69,
      "outputs": [
        {
          "output_type": "stream",
          "name": "stdout",
          "text": [
            "datetime: 2022-02-04T06:31:39.453447+00:00\n"
          ]
        }
      ]
    },
    {
      "cell_type": "markdown",
      "source": [
        "smtplib : 메일을 보냄\n",
        "```\n",
        "import smtplib\n",
        "server = smtplib.SMTP('localhost')\n",
        "server.sendmail('soothsayer@example.org', 'jcaesar@example.org',\n",
        " \"\"\"To: jcaesar@example.org\n",
        " From: soothsayer@example.org\n",
        "\n",
        " Beware the Ides of March.\n",
        "\"\"\")\n",
        "server.quit()\n",
        "\n",
        "```"
      ],
      "metadata": {
        "id": "DALICPPdby5f"
      }
    },
    {
      "cell_type": "markdown",
      "source": [
        "#### 10.8 날짜와 시간"
      ],
      "metadata": {
        "id": "a_yXaerfcJKh"
      }
    },
    {
      "cell_type": "code",
      "source": [
        "# dates are easily constructed and formatted\n",
        "\n",
        "from datetime import date\n",
        "now=date.today()\n",
        "now"
      ],
      "metadata": {
        "colab": {
          "base_uri": "https://localhost:8080/"
        },
        "id": "904-lXDbbimi",
        "outputId": "4ea86bfc-7a6d-4882-8f4d-c5bf1e15cda4"
      },
      "execution_count": 70,
      "outputs": [
        {
          "output_type": "execute_result",
          "data": {
            "text/plain": [
              "datetime.date(2022, 2, 4)"
            ]
          },
          "metadata": {},
          "execution_count": 70
        }
      ]
    },
    {
      "cell_type": "code",
      "source": [
        "now.strftime(\"%m-%d-%y. %d %b %Y is a %A on the %d day of %B\")"
      ],
      "metadata": {
        "colab": {
          "base_uri": "https://localhost:8080/",
          "height": 35
        },
        "id": "QERS90rgdhTp",
        "outputId": "aa2d8d61-2c3a-4caa-e51b-14761adbeaec"
      },
      "execution_count": 71,
      "outputs": [
        {
          "output_type": "execute_result",
          "data": {
            "application/vnd.google.colaboratory.intrinsic+json": {
              "type": "string"
            },
            "text/plain": [
              "'02-04-22. 04 Feb 2022 is a Friday on the 04 day of February'"
            ]
          },
          "metadata": {},
          "execution_count": 71
        }
      ]
    },
    {
      "cell_type": "code",
      "source": [
        "# dates support calendar arithmetic\n",
        "birthday = date(1964,7,31)\n",
        "age = now - birthday\n",
        "age.days"
      ],
      "metadata": {
        "colab": {
          "base_uri": "https://localhost:8080/"
        },
        "id": "4GYhHAkVduy6",
        "outputId": "061e3a52-db0b-49d6-9c51-198912d4aa5e"
      },
      "execution_count": 72,
      "outputs": [
        {
          "output_type": "execute_result",
          "data": {
            "text/plain": [
              "21007"
            ]
          },
          "metadata": {},
          "execution_count": 72
        }
      ]
    },
    {
      "cell_type": "markdown",
      "source": [
        "####10.9 데이터 압축"
      ],
      "metadata": {
        "id": "69u1nzptd357"
      }
    },
    {
      "cell_type": "code",
      "source": [
        "import zlib\n",
        "\n",
        "s=b'witch which ahs which witches wrist watch'\n",
        "len(s)"
      ],
      "metadata": {
        "colab": {
          "base_uri": "https://localhost:8080/"
        },
        "id": "AeiLBC3Od6v_",
        "outputId": "0a02a42a-51f4-4207-dc9e-b562725a5fb4"
      },
      "execution_count": 73,
      "outputs": [
        {
          "output_type": "execute_result",
          "data": {
            "text/plain": [
              "41"
            ]
          },
          "metadata": {},
          "execution_count": 73
        }
      ]
    },
    {
      "cell_type": "code",
      "source": [
        "t = zlib.compress(s)\n",
        "len(t)"
      ],
      "metadata": {
        "colab": {
          "base_uri": "https://localhost:8080/"
        },
        "id": "YAHqXy8ceJcz",
        "outputId": "1b1a0608-4a11-4754-f6fe-e5e500d034a1"
      },
      "execution_count": 74,
      "outputs": [
        {
          "output_type": "execute_result",
          "data": {
            "text/plain": [
              "37"
            ]
          },
          "metadata": {},
          "execution_count": 74
        }
      ]
    },
    {
      "cell_type": "code",
      "source": [
        "zlib.decompress(t)"
      ],
      "metadata": {
        "colab": {
          "base_uri": "https://localhost:8080/"
        },
        "id": "F50cH4t8egnS",
        "outputId": "dd9730d2-b64d-491e-9848-dd3ab39da6a3"
      },
      "execution_count": 75,
      "outputs": [
        {
          "output_type": "execute_result",
          "data": {
            "text/plain": [
              "b'witch which ahs which witches wrist watch'"
            ]
          },
          "metadata": {},
          "execution_count": 75
        }
      ]
    },
    {
      "cell_type": "code",
      "source": [
        "zlib.crc32(s)"
      ],
      "metadata": {
        "colab": {
          "base_uri": "https://localhost:8080/"
        },
        "id": "01RQiHxJejGL",
        "outputId": "892dfc8b-1fa6-43ce-d2b4-4d276fd96e21"
      },
      "execution_count": 77,
      "outputs": [
        {
          "output_type": "execute_result",
          "data": {
            "text/plain": [
              "3427123624"
            ]
          },
          "metadata": {},
          "execution_count": 77
        }
      ]
    },
    {
      "cell_type": "markdown",
      "source": [
        "####10.10 성능 측정"
      ],
      "metadata": {
        "id": "shfAShMweplX"
      }
    },
    {
      "cell_type": "code",
      "source": [
        "from timeit import Timer\n",
        "Timer('t=a; a=b; b=t', 'a=1; b=2').timeit()"
      ],
      "metadata": {
        "colab": {
          "base_uri": "https://localhost:8080/"
        },
        "id": "XOf-kaiRerc_",
        "outputId": "833e85ca-af94-40be-a527-e8e01452656e"
      },
      "execution_count": 78,
      "outputs": [
        {
          "output_type": "execute_result",
          "data": {
            "text/plain": [
              "0.041529242998876725"
            ]
          },
          "metadata": {},
          "execution_count": 78
        }
      ]
    },
    {
      "cell_type": "code",
      "source": [
        "Timer('a,b=b,a', 'a=1; b=2').timeit()"
      ],
      "metadata": {
        "colab": {
          "base_uri": "https://localhost:8080/"
        },
        "id": "EHPCbqIXe9ui",
        "outputId": "ea47fcce-2a6a-46f9-bf54-9626a8231213"
      },
      "execution_count": 79,
      "outputs": [
        {
          "output_type": "execute_result",
          "data": {
            "text/plain": [
              "0.03722960199957015"
            ]
          },
          "metadata": {},
          "execution_count": 79
        }
      ]
    },
    {
      "cell_type": "markdown",
      "source": [
        "####10.11 품질 관리"
      ],
      "metadata": {
        "id": "CB4lxCidfHB3"
      }
    },
    {
      "cell_type": "code",
      "source": [
        "def average(values):\n",
        "    \"\"\"Computes the arithmetic mean of a list of nubmers.\n",
        "\n",
        "    >>> print(average([20, 30, 70]))\n",
        "    40.0\n",
        "    \"\"\"\n",
        "    return sum(values)/len(values)\n",
        "\n",
        "#import doctest\n",
        "#doctest.testmod()   # automatically validate the embedded tests"
      ],
      "metadata": {
        "id": "jOrxZC7SfFhm"
      },
      "execution_count": 1,
      "outputs": []
    },
    {
      "cell_type": "markdown",
      "source": [
        "###ch11. 표준라이브러리 둘러보기 2"
      ],
      "metadata": {
        "id": "FmAOJeBJHIgs"
      }
    },
    {
      "cell_type": "markdown",
      "source": [
        "####11.1 출력 포매팅"
      ],
      "metadata": {
        "id": "XAKGdxB2HLbw"
      }
    },
    {
      "cell_type": "code",
      "source": [
        "# reprlib 모듈\n",
        "# 커스터마이즈 된  repr()를 제공\n",
        "\n",
        "import reprlib\n",
        "reprlib.repr(set('supercalifragilisticexpialidocious'))"
      ],
      "metadata": {
        "colab": {
          "base_uri": "https://localhost:8080/",
          "height": 35
        },
        "id": "Ib03RHDdHC5M",
        "outputId": "f1fc9023-1226-410f-8fe4-2f61c239eb27"
      },
      "execution_count": 23,
      "outputs": [
        {
          "output_type": "execute_result",
          "data": {
            "application/vnd.google.colaboratory.intrinsic+json": {
              "type": "string"
            },
            "text/plain": [
              "\"{'a', 'c', 'd', 'e', 'f', 'g', ...}\""
            ]
          },
          "metadata": {},
          "execution_count": 23
        }
      ]
    },
    {
      "cell_type": "code",
      "source": [
        "# pprint 모듈\n",
        "# 결과가 한 줄 보다 길 경우 > 줄바꿈, 들여쓰기 추가\n",
        "\n",
        "import pprint\n",
        "t = [[[['black','cyan'],'white',['green','red']],[['magenta','yellow'],'blue']]]\n",
        "pprint.pprint(t,width=30)"
      ],
      "metadata": {
        "colab": {
          "base_uri": "https://localhost:8080/"
        },
        "id": "FQanppoyHnRB",
        "outputId": "f007b468-2eda-4240-edad-162c93138c79"
      },
      "execution_count": 24,
      "outputs": [
        {
          "output_type": "stream",
          "name": "stdout",
          "text": [
            "[[[['black', 'cyan'],\n",
            "   'white',\n",
            "   ['green', 'red']],\n",
            "  [['magenta', 'yellow'],\n",
            "   'blue']]]\n"
          ]
        }
      ]
    },
    {
      "cell_type": "code",
      "source": [
        "# textwrap모듈\n",
        "# 텍스트 문단을 주어진 화면 너비에 맞게 포맷\n",
        "\n",
        "import textwrap\n",
        "\n",
        "doc = \"\"\"The wrap() method is just like fill() except that it returns\n",
        "a list of strings instead of one big string with newlines to separate\n",
        "the wrapped lines.\"\"\"\n",
        "\n",
        "print(textwrap.fill(doc,width=40))"
      ],
      "metadata": {
        "colab": {
          "base_uri": "https://localhost:8080/"
        },
        "id": "219ABUlsIigC",
        "outputId": "51906194-48eb-4b90-8b20-32b1c0749aa4"
      },
      "execution_count": 25,
      "outputs": [
        {
          "output_type": "stream",
          "name": "stdout",
          "text": [
            "The wrap() method is just like fill()\n",
            "except that it returns a list of strings\n",
            "instead of one big string with newlines\n",
            "to separate the wrapped lines.\n"
          ]
        }
      ]
    },
    {
      "cell_type": "code",
      "source": [
        "# locale모듈\n",
        "# 문화권 특정 데이터 포맷이 데이터베이스에 엑세스\n",
        "\n",
        "import locale\n",
        "locale.setlocale(locale.LC_ALL, '')\n",
        "#locale.setlocale(locale.LC_ALL, 'English_United States.1252')\n",
        "conv = locale.localeconv()\n",
        "x = 1234567.8\n",
        "locale.format_string(\"%d\",x,grouping=True)"
      ],
      "metadata": {
        "colab": {
          "base_uri": "https://localhost:8080/",
          "height": 35
        },
        "id": "Ad4CFTxvI7wh",
        "outputId": "d028b6ec-a714-438d-c940-d8462475084e"
      },
      "execution_count": 36,
      "outputs": [
        {
          "output_type": "execute_result",
          "data": {
            "application/vnd.google.colaboratory.intrinsic+json": {
              "type": "string"
            },
            "text/plain": [
              "'1,234,567'"
            ]
          },
          "metadata": {},
          "execution_count": 36
        }
      ]
    },
    {
      "cell_type": "code",
      "source": [
        "locale.format_string(\"%s%.*f\", (conv['currency_symbol'],\n",
        "                                conv['frac_digits'], x), grouping=True)"
      ],
      "metadata": {
        "colab": {
          "base_uri": "https://localhost:8080/",
          "height": 35
        },
        "id": "eKsjuAwuJlGD",
        "outputId": "b0aefee9-1260-41a8-bcf5-a9409083b6e9"
      },
      "execution_count": 38,
      "outputs": [
        {
          "output_type": "execute_result",
          "data": {
            "application/vnd.google.colaboratory.intrinsic+json": {
              "type": "string"
            },
            "text/plain": [
              "'$1,234,567.80'"
            ]
          },
          "metadata": {},
          "execution_count": 38
        }
      ]
    },
    {
      "cell_type": "markdown",
      "source": [
        "####11.2 템플릿"
      ],
      "metadata": {
        "id": "KCmwYWvjJwtF"
      }
    },
    {
      "cell_type": "markdown",
      "source": [
        "**string 모듈**\n",
        "\n",
        "\n",
        "Template 클래스 포함(편집하기 적절한 단순한 문법). 응용 프로그램 변경없이 응용 프로그램을 커스터마이즈 할 수 있음\n",
        "\n",
        "형식: \n",
        "* `'$'`와 유효한 파이썬 식별자(영숫자,밑줄)로 만들어진 자리표시자 이름을 사용\n",
        "* 중괄호로 {자리표시자} : 공백없이 영숫자 연결\n",
        "* `'$$'`를 쓰면 이스케이프 된 $를 만든다"
      ],
      "metadata": {
        "id": "ixrBxn4BSr07"
      }
    },
    {
      "cell_type": "code",
      "source": [
        "from string import Template\n",
        "t = Template('${village}folk send $$10 to $cause.')\n",
        "t.substitute(village='Nottingham',cause='the ditch fund')"
      ],
      "metadata": {
        "colab": {
          "base_uri": "https://localhost:8080/",
          "height": 35
        },
        "id": "VYvFr4yPJyU_",
        "outputId": "5502f1d7-2841-430f-f5eb-31283066f38a"
      },
      "execution_count": 40,
      "outputs": [
        {
          "output_type": "execute_result",
          "data": {
            "application/vnd.google.colaboratory.intrinsic+json": {
              "type": "string"
            },
            "text/plain": [
              "'Nottinghamfolk send $10 to the ditch fund.'"
            ]
          },
          "metadata": {},
          "execution_count": 40
        }
      ]
    },
    {
      "cell_type": "code",
      "source": [
        "# substitute() 메서드\n",
        "# 딕셔너리가 키워드 인자로 제공 안 될 경우 : KeyError\n",
        "\n",
        "t = Template('Return the $item to $owner')\n",
        "d = dict(item='unladen swallow')\n",
        "t.substitute(d)"
      ],
      "metadata": {
        "colab": {
          "base_uri": "https://localhost:8080/",
          "height": 360
        },
        "id": "VJL9RaI7TpOg",
        "outputId": "f89eba9f-6062-4c1b-9a5b-f1ceb98f4edd"
      },
      "execution_count": 42,
      "outputs": [
        {
          "output_type": "error",
          "ename": "KeyError",
          "evalue": "ignored",
          "traceback": [
            "\u001b[0;31m---------------------------------------------------------------------------\u001b[0m",
            "\u001b[0;31mKeyError\u001b[0m                                  Traceback (most recent call last)",
            "\u001b[0;32m<ipython-input-42-b905e92b563d>\u001b[0m in \u001b[0;36m<module>\u001b[0;34m()\u001b[0m\n\u001b[1;32m      4\u001b[0m \u001b[0mt\u001b[0m \u001b[0;34m=\u001b[0m \u001b[0mTemplate\u001b[0m\u001b[0;34m(\u001b[0m\u001b[0;34m'Return the $item to $owner'\u001b[0m\u001b[0;34m)\u001b[0m\u001b[0;34m\u001b[0m\u001b[0;34m\u001b[0m\u001b[0m\n\u001b[1;32m      5\u001b[0m \u001b[0md\u001b[0m \u001b[0;34m=\u001b[0m \u001b[0mdict\u001b[0m\u001b[0;34m(\u001b[0m\u001b[0mitem\u001b[0m\u001b[0;34m=\u001b[0m\u001b[0;34m'unladen swallow'\u001b[0m\u001b[0;34m)\u001b[0m\u001b[0;34m\u001b[0m\u001b[0;34m\u001b[0m\u001b[0m\n\u001b[0;32m----> 6\u001b[0;31m \u001b[0mt\u001b[0m\u001b[0;34m.\u001b[0m\u001b[0msubstitute\u001b[0m\u001b[0;34m(\u001b[0m\u001b[0md\u001b[0m\u001b[0;34m)\u001b[0m\u001b[0;34m\u001b[0m\u001b[0;34m\u001b[0m\u001b[0m\n\u001b[0m",
            "\u001b[0;32m/usr/lib/python3.7/string.py\u001b[0m in \u001b[0;36msubstitute\u001b[0;34m(*args, **kws)\u001b[0m\n\u001b[1;32m    130\u001b[0m             raise ValueError('Unrecognized named group in pattern',\n\u001b[1;32m    131\u001b[0m                              self.pattern)\n\u001b[0;32m--> 132\u001b[0;31m         \u001b[0;32mreturn\u001b[0m \u001b[0mself\u001b[0m\u001b[0;34m.\u001b[0m\u001b[0mpattern\u001b[0m\u001b[0;34m.\u001b[0m\u001b[0msub\u001b[0m\u001b[0;34m(\u001b[0m\u001b[0mconvert\u001b[0m\u001b[0;34m,\u001b[0m \u001b[0mself\u001b[0m\u001b[0;34m.\u001b[0m\u001b[0mtemplate\u001b[0m\u001b[0;34m)\u001b[0m\u001b[0;34m\u001b[0m\u001b[0;34m\u001b[0m\u001b[0m\n\u001b[0m\u001b[1;32m    133\u001b[0m \u001b[0;34m\u001b[0m\u001b[0m\n\u001b[1;32m    134\u001b[0m     \u001b[0;32mdef\u001b[0m \u001b[0msafe_substitute\u001b[0m\u001b[0;34m(\u001b[0m\u001b[0;34m*\u001b[0m\u001b[0margs\u001b[0m\u001b[0;34m,\u001b[0m \u001b[0;34m**\u001b[0m\u001b[0mkws\u001b[0m\u001b[0;34m)\u001b[0m\u001b[0;34m:\u001b[0m\u001b[0;34m\u001b[0m\u001b[0;34m\u001b[0m\u001b[0m\n",
            "\u001b[0;32m/usr/lib/python3.7/string.py\u001b[0m in \u001b[0;36mconvert\u001b[0;34m(mo)\u001b[0m\n\u001b[1;32m    123\u001b[0m             \u001b[0mnamed\u001b[0m \u001b[0;34m=\u001b[0m \u001b[0mmo\u001b[0m\u001b[0;34m.\u001b[0m\u001b[0mgroup\u001b[0m\u001b[0;34m(\u001b[0m\u001b[0;34m'named'\u001b[0m\u001b[0;34m)\u001b[0m \u001b[0;32mor\u001b[0m \u001b[0mmo\u001b[0m\u001b[0;34m.\u001b[0m\u001b[0mgroup\u001b[0m\u001b[0;34m(\u001b[0m\u001b[0;34m'braced'\u001b[0m\u001b[0;34m)\u001b[0m\u001b[0;34m\u001b[0m\u001b[0;34m\u001b[0m\u001b[0m\n\u001b[1;32m    124\u001b[0m             \u001b[0;32mif\u001b[0m \u001b[0mnamed\u001b[0m \u001b[0;32mis\u001b[0m \u001b[0;32mnot\u001b[0m \u001b[0;32mNone\u001b[0m\u001b[0;34m:\u001b[0m\u001b[0;34m\u001b[0m\u001b[0;34m\u001b[0m\u001b[0m\n\u001b[0;32m--> 125\u001b[0;31m                 \u001b[0;32mreturn\u001b[0m \u001b[0mstr\u001b[0m\u001b[0;34m(\u001b[0m\u001b[0mmapping\u001b[0m\u001b[0;34m[\u001b[0m\u001b[0mnamed\u001b[0m\u001b[0;34m]\u001b[0m\u001b[0;34m)\u001b[0m\u001b[0;34m\u001b[0m\u001b[0;34m\u001b[0m\u001b[0m\n\u001b[0m\u001b[1;32m    126\u001b[0m             \u001b[0;32mif\u001b[0m \u001b[0mmo\u001b[0m\u001b[0;34m.\u001b[0m\u001b[0mgroup\u001b[0m\u001b[0;34m(\u001b[0m\u001b[0;34m'escaped'\u001b[0m\u001b[0;34m)\u001b[0m \u001b[0;32mis\u001b[0m \u001b[0;32mnot\u001b[0m \u001b[0;32mNone\u001b[0m\u001b[0;34m:\u001b[0m\u001b[0;34m\u001b[0m\u001b[0;34m\u001b[0m\u001b[0m\n\u001b[1;32m    127\u001b[0m                 \u001b[0;32mreturn\u001b[0m \u001b[0mself\u001b[0m\u001b[0;34m.\u001b[0m\u001b[0mdelimiter\u001b[0m\u001b[0;34m\u001b[0m\u001b[0;34m\u001b[0m\u001b[0m\n",
            "\u001b[0;31mKeyError\u001b[0m: 'owner'"
          ]
        }
      ]
    },
    {
      "cell_type": "code",
      "source": [
        "# safe_substitute() : 데이터가 누락될 경우 자리표시자 변경 x\n",
        "t.safe_substitute(d)"
      ],
      "metadata": {
        "colab": {
          "base_uri": "https://localhost:8080/",
          "height": 35
        },
        "id": "7FSFwLr4JvJZ",
        "outputId": "b6ee1676-eb4f-46e7-b51a-bb385fdcee15"
      },
      "execution_count": 43,
      "outputs": [
        {
          "output_type": "execute_result",
          "data": {
            "application/vnd.google.colaboratory.intrinsic+json": {
              "type": "string"
            },
            "text/plain": [
              "'Return the unladen swallow to $owner'"
            ]
          },
          "metadata": {},
          "execution_count": 43
        }
      ]
    },
    {
      "cell_type": "markdown",
      "source": [
        "####11.3 바이너리 데이터 레코드 배치"
      ],
      "metadata": {
        "id": "h26W1vbBZ8cg"
      }
    },
    {
      "cell_type": "code",
      "source": [
        "# struct 모듈\n",
        "# pack(), unpack() : 가변길이 바이너리 레코드 형식으로 작업"
      ],
      "metadata": {
        "id": "xdvmGXlCZi42"
      },
      "execution_count": null,
      "outputs": []
    },
    {
      "cell_type": "markdown",
      "source": [
        "```\n",
        "import struct\n",
        "\n",
        "with open('myfile.zip', 'rb') as f:\n",
        "    data = f.read()\n",
        "\n",
        "start = 0\n",
        "for i in range(3):                      # show the first 3 file headers\n",
        "    start += 14\n",
        "    fields = struct.unpack('<IIIHH', data[start:start+16])\n",
        "    crc32, comp_size, uncomp_size, filenamesize, extra_size = fields\n",
        "\n",
        "    start += 16\n",
        "    filename = data[start:start+filenamesize]\n",
        "    start += filenamesize\n",
        "    extra = data[start:start+extra_size]\n",
        "    print(filename, hex(crc32), comp_size, uncomp_size)\n",
        "\n",
        "    start += extra_size + comp_size     # skip to the next header\n",
        "```"
      ],
      "metadata": {
        "id": "UrEtDr9Y_wro"
      }
    },
    {
      "cell_type": "markdown",
      "source": [
        "####11.5 로깅"
      ],
      "metadata": {
        "id": "8xPAV62XaUnS"
      }
    },
    {
      "cell_type": "code",
      "source": [
        "# logging 모듈\n",
        "\n",
        "import logging\n",
        "logging.debug('Debugging information')\n",
        "logging.info('Informational message')\n",
        "logging.warning('Warning:config file %s not found','server.conf')\n",
        "logging.error('Error occured')\n",
        "logging.critical('Critical error -- shutting down')"
      ],
      "metadata": {
        "colab": {
          "base_uri": "https://localhost:8080/"
        },
        "id": "zATREP4caW9l",
        "outputId": "dbab202b-c6fc-4217-8e3a-db7f813a112b"
      },
      "execution_count": 45,
      "outputs": [
        {
          "output_type": "stream",
          "name": "stderr",
          "text": [
            "WARNING:root:Warning:config file server.conf not found\n",
            "ERROR:root:Error occured\n",
            "CRITICAL:root:Critical error -- shutting down\n"
          ]
        }
      ]
    },
    {
      "cell_type": "markdown",
      "source": [
        "* 기본적으로 debug, info 는 표시되지 않음\n",
        "* 출력은 표준에러로 보내짐\n",
        "* 메시지 우선 순위에 따라 다른 라우팅 선택 가능"
      ],
      "metadata": {
        "id": "BCfxzJoyaprg"
      }
    },
    {
      "cell_type": "markdown",
      "source": [
        "####11.6 약한 참조"
      ],
      "metadata": {
        "id": "h-uQUqpPa7-X"
      }
    },
    {
      "cell_type": "markdown",
      "source": [
        "파이썬은 자동 메모리 관리 수행. 메모리는 마지막 참조가 제거된 직후 해제\n",
        "\n",
        "객체를 추적하는 행위 -> 영구적으로 만드는 참조"
      ],
      "metadata": {
        "id": "Ed_cpZWIbPcf"
      }
    },
    {
      "cell_type": "code",
      "source": [
        "# weakref 모듈\n",
        "# 참조를 만들지 않고 객체를 추적할 수 있는 도구 제공\n",
        "# 객체가 필요하지 않을 경우 weakref테이블에서 자동 제거, 객체에 대한 콜백 트리거\n",
        "\n",
        "import weakref\n",
        "import gc\n",
        "\n",
        "class A:\n",
        "    def __init__(self,value):\n",
        "        self.value = value\n",
        "    def __repr__(self):\n",
        "        return str(self.value)\n",
        "\n",
        "a = A(10)   #create a reference\n",
        "d = weakref.WeakValueDictionary()\n",
        "d['primary'] = a        #does not create a reference\n",
        "d['primary']            # fetch the object if it is still alive"
      ],
      "metadata": {
        "colab": {
          "base_uri": "https://localhost:8080/"
        },
        "id": "bRza0ZDdbF3a",
        "outputId": "3697a25e-0f62-48aa-b9de-7378bba7ae15"
      },
      "execution_count": 60,
      "outputs": [
        {
          "output_type": "execute_result",
          "data": {
            "text/plain": [
              "10"
            ]
          },
          "metadata": {},
          "execution_count": 60
        }
      ]
    },
    {
      "cell_type": "code",
      "source": [
        "del a   #remove the one reference\n",
        "gc.collect()    #run garbage collection right away"
      ],
      "metadata": {
        "colab": {
          "base_uri": "https://localhost:8080/"
        },
        "id": "mcPJYAUecDws",
        "outputId": "5f2c837c-3ef3-4a37-aabe-9ea656f117cf"
      },
      "execution_count": 61,
      "outputs": [
        {
          "output_type": "execute_result",
          "data": {
            "text/plain": [
              "129"
            ]
          },
          "metadata": {},
          "execution_count": 61
        }
      ]
    },
    {
      "cell_type": "markdown",
      "source": [
        "####11.7 리스트 작업 도구"
      ],
      "metadata": {
        "id": "qSnyF3NScuXr"
      }
    },
    {
      "cell_type": "code",
      "source": [
        "# array 모듈\n",
        "# array() 객체 제공\n",
        "# 2바이트의 부호 없는 이진숫자(형:'H)로 저장된 숫자 배열\n",
        "\n",
        "from array import array\n",
        "a = array('H',[4000,10,700,22222])\n",
        "sum(a)"
      ],
      "metadata": {
        "colab": {
          "base_uri": "https://localhost:8080/"
        },
        "id": "yVPrcyGMcwD1",
        "outputId": "43d18368-0d33-4ce1-f2aa-9c67d8ff0bb2"
      },
      "execution_count": 64,
      "outputs": [
        {
          "output_type": "execute_result",
          "data": {
            "text/plain": [
              "26932"
            ]
          },
          "metadata": {},
          "execution_count": 64
        }
      ]
    },
    {
      "cell_type": "code",
      "source": [
        "a[1:3]"
      ],
      "metadata": {
        "colab": {
          "base_uri": "https://localhost:8080/"
        },
        "id": "OvPADrphdAss",
        "outputId": "20149bb8-f03b-4064-d054-b4898de8f416"
      },
      "execution_count": 65,
      "outputs": [
        {
          "output_type": "execute_result",
          "data": {
            "text/plain": [
              "array('H', [10, 700])"
            ]
          },
          "metadata": {},
          "execution_count": 65
        }
      ]
    },
    {
      "cell_type": "markdown",
      "source": [
        "**collections 모듈 - deque() 객체**\n",
        "* 왼쪽에서 더 빠르게 추가, 팝\n",
        "* 중간 조회는 더 느려진 리스트\n",
        "* 대기열 및 넓이 우선 트리 검색 구현에 적합"
      ],
      "metadata": {
        "id": "MkO-Ag9SdUZZ"
      }
    },
    {
      "cell_type": "code",
      "source": [
        "from collections import deque\n",
        "d = deque([\"task1\",\"task2\",\"task3\"])\n",
        "d.append(\"task4\")\n",
        "print(\"Handling\",d.popleft())"
      ],
      "metadata": {
        "colab": {
          "base_uri": "https://localhost:8080/"
        },
        "id": "hWGc7vr8dK0Y",
        "outputId": "648d86d4-8b02-4957-b5bc-9fb576dbf805"
      },
      "execution_count": 66,
      "outputs": [
        {
          "output_type": "stream",
          "name": "stdout",
          "text": [
            "Handling task1\n"
          ]
        }
      ]
    },
    {
      "cell_type": "code",
      "source": [
        "unsearched = deque([starting_node])\n",
        "def breadth_first_search(unsearched):\n",
        "    node = unsearched.popleft()\n",
        "    for m in gen_moves(node):\n",
        "        if is_goal(m):\n",
        "            return m\n",
        "        unsearched.append(m)"
      ],
      "metadata": {
        "id": "Aie0M0ymdnF6"
      },
      "execution_count": null,
      "outputs": []
    },
    {
      "cell_type": "code",
      "source": [
        "# bisection 모듈 : 정렬된 리스트를 조작하는 함수 존재\n",
        "\n",
        "import bisect\n",
        "scores = [(100, 'perl'), (200, 'tcl'), (400, 'lua'), (500, 'python')]\n",
        "bisect.insort(scores,(300,'ruby'))\n",
        "scores"
      ],
      "metadata": {
        "colab": {
          "base_uri": "https://localhost:8080/"
        },
        "id": "rZMG_i6td387",
        "outputId": "c56ce2a1-32e3-4e8b-b6a8-fde4a9ab3151"
      },
      "execution_count": 68,
      "outputs": [
        {
          "output_type": "execute_result",
          "data": {
            "text/plain": [
              "[(100, 'perl'), (200, 'tcl'), (300, 'ruby'), (400, 'lua'), (500, 'python')]"
            ]
          },
          "metadata": {},
          "execution_count": 68
        }
      ]
    },
    {
      "cell_type": "code",
      "source": [
        "# headpq 모듈: 일반 리스트를 기반으로 힙을 구현하는 함수 제공\n",
        "# 가장 값이 작은 항목은 항상 0에 유지 \n",
        "# 가장 작은 요소에 반복적 엑세스, 전체 목록 정렬을 실행하지 않음\n",
        "\n",
        "from heapq import heapify, heappop, heappush\n",
        "data = [1,3,5,7,9,2,4,6,8,0]\n",
        "heapify(data)       #rearrange the list into heap order\n",
        "heappush(data,-5)       # add a new entry\n",
        "[heappop(data) for i in range(3)]   #fetch the three smallest entries"
      ],
      "metadata": {
        "colab": {
          "base_uri": "https://localhost:8080/"
        },
        "id": "Dxi-g5yzeJQ1",
        "outputId": "421224a9-7233-4e8d-86ca-db4c4fd10c8c"
      },
      "execution_count": 70,
      "outputs": [
        {
          "output_type": "execute_result",
          "data": {
            "text/plain": [
              "[-5, 0, 1]"
            ]
          },
          "metadata": {},
          "execution_count": 70
        }
      ]
    },
    {
      "cell_type": "markdown",
      "source": [
        "####11.8 부동 소수점 산술"
      ],
      "metadata": {
        "id": "dOh_hl4qy2j5"
      }
    },
    {
      "cell_type": "code",
      "source": [
        "#decimal 모듈: 10진 부동 소수점 산술을 위한 decimal 데이터형 제공\n",
        "from decimal import*\n",
        "round(Decimal('0.70')*Decimal('1.05'),2)"
      ],
      "metadata": {
        "colab": {
          "base_uri": "https://localhost:8080/"
        },
        "id": "-L-z68Tyy2P8",
        "outputId": "90a7994a-72bf-47b4-d184-d6eac2b3ec51"
      },
      "execution_count": 71,
      "outputs": [
        {
          "output_type": "execute_result",
          "data": {
            "text/plain": [
              "Decimal('0.74')"
            ]
          },
          "metadata": {},
          "execution_count": 71
        }
      ]
    },
    {
      "cell_type": "code",
      "source": [
        "round(.70*1.05,2)"
      ],
      "metadata": {
        "colab": {
          "base_uri": "https://localhost:8080/"
        },
        "id": "TcPZbwaR-x2l",
        "outputId": "617393d8-73c7-498e-a8bd-a0b2430ef59c"
      },
      "execution_count": 72,
      "outputs": [
        {
          "output_type": "execute_result",
          "data": {
            "text/plain": [
              "0.73"
            ]
          },
          "metadata": {},
          "execution_count": 72
        }
      ]
    },
    {
      "cell_type": "code",
      "source": [
        "Decimal('1.00')% Decimal('.10')"
      ],
      "metadata": {
        "colab": {
          "base_uri": "https://localhost:8080/"
        },
        "id": "9-xx5VY__QwI",
        "outputId": "b2a37b92-7f06-4d09-a62d-edab16501cda"
      },
      "execution_count": 76,
      "outputs": [
        {
          "output_type": "execute_result",
          "data": {
            "text/plain": [
              "Decimal('0.00')"
            ]
          },
          "metadata": {},
          "execution_count": 76
        }
      ]
    },
    {
      "cell_type": "code",
      "source": [
        "1.00%0.10"
      ],
      "metadata": {
        "colab": {
          "base_uri": "https://localhost:8080/"
        },
        "id": "OgKMFkyA_W25",
        "outputId": "2e6335ec-8f83-40ac-ef36-72e025995b95"
      },
      "execution_count": 75,
      "outputs": [
        {
          "output_type": "execute_result",
          "data": {
            "text/plain": [
              "0.09999999999999995"
            ]
          },
          "metadata": {},
          "execution_count": 75
        }
      ]
    },
    {
      "cell_type": "code",
      "source": [
        "sum([Decimal('0.1')]*10)==Decimal('1.0')"
      ],
      "metadata": {
        "colab": {
          "base_uri": "https://localhost:8080/"
        },
        "id": "bTg93pIq_cIO",
        "outputId": "d7f88c2b-b441-45b3-bcb1-c94684401838"
      },
      "execution_count": 77,
      "outputs": [
        {
          "output_type": "execute_result",
          "data": {
            "text/plain": [
              "True"
            ]
          },
          "metadata": {},
          "execution_count": 77
        }
      ]
    },
    {
      "cell_type": "code",
      "source": [
        "sum([0.1]*10)==1.0"
      ],
      "metadata": {
        "colab": {
          "base_uri": "https://localhost:8080/"
        },
        "id": "4OKOU6Ge_ijP",
        "outputId": "f22a713b-8b8f-4bfa-845f-e9c31fcbf58a"
      },
      "execution_count": 78,
      "outputs": [
        {
          "output_type": "execute_result",
          "data": {
            "text/plain": [
              "False"
            ]
          },
          "metadata": {},
          "execution_count": 78
        }
      ]
    },
    {
      "cell_type": "code",
      "source": [
        "getcontext().prec=36\n",
        "Decimal(1)/Decimal(7)"
      ],
      "metadata": {
        "colab": {
          "base_uri": "https://localhost:8080/"
        },
        "id": "YwGbqP-e_l-m",
        "outputId": "5eac995a-45a5-437f-fb06-ca5aa9984ebf"
      },
      "execution_count": 79,
      "outputs": [
        {
          "output_type": "execute_result",
          "data": {
            "text/plain": [
              "Decimal('0.142857142857142857142857142857142857')"
            ]
          },
          "metadata": {},
          "execution_count": 79
        }
      ]
    }
  ]
}