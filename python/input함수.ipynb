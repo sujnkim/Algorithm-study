{
  "nbformat": 4,
  "nbformat_minor": 0,
  "metadata": {
    "colab": {
      "name": "input함수.ipynb",
      "provenance": [],
      "authorship_tag": "ABX9TyOPHH7AZ1jhXFLmbzPz1ILJ",
      "include_colab_link": true
    },
    "kernelspec": {
      "name": "python3",
      "display_name": "Python 3"
    },
    "language_info": {
      "name": "python"
    }
  },
  "cells": [
    {
      "cell_type": "markdown",
      "metadata": {
        "id": "view-in-github",
        "colab_type": "text"
      },
      "source": [
        "<a href=\"https://colab.research.google.com/github/sujnkim/Algorithm-study/blob/main/python/input%ED%95%A8%EC%88%98.ipynb\" target=\"_parent\"><img src=\"https://colab.research.google.com/assets/colab-badge.svg\" alt=\"Open In Colab\"/></a>"
      ]
    },
    {
      "cell_type": "markdown",
      "source": [
        "### **input() 함수**\n",
        "```\n",
        "input([prompt])\n",
        "```\n",
        "참고: https://docs.python.org/ko/3/library/functions.html#input\n",
        "\n",
        "* 사용자 입력을 받는 함수\n",
        "* prompt 인자: 입력을 받을 때 사용자에게 보여줄 메시지\n",
        "* **한 줄을 읽고 \"문자열\"로 반환**\n",
        "    * 엔터 치기 전까지\n",
        "* 줄 끝의 **줄바꿈 문자는 제거**됨\n",
        "* 문자열이 아닌 다른 타입으로 저장하고 싶으면 데이터 타입 변환이 필요\n",
        "    * 정수: int()\n",
        "    * 실수: float()\n",
        "* split, map과 함께 사용\n",
        "    * split: 한 번에 여러 개 입력\n",
        "    * map: 한 번에 데이터타입 변환"
      ],
      "metadata": {
        "id": "inuZzFXvYTKd"
      }
    },
    {
      "cell_type": "code",
      "execution_count": 1,
      "metadata": {
        "colab": {
          "base_uri": "https://localhost:8080/"
        },
        "id": "5w1TguM7YNlz",
        "outputId": "19041850-c564-4298-b80f-d78ece234bb3"
      },
      "outputs": [
        {
          "output_type": "stream",
          "name": "stdout",
          "text": [
            "hello, world!\n",
            "hello, world!\n"
          ]
        }
      ],
      "source": [
        "# 한 줄 읽기\n",
        "\n",
        "x = input()\n",
        "print(x)"
      ]
    },
    {
      "cell_type": "code",
      "source": [
        "# prompt 인자가 있을 경우\n",
        "\n",
        "x = input('prompt parameter')\n",
        "print(x)"
      ],
      "metadata": {
        "colab": {
          "base_uri": "https://localhost:8080/"
        },
        "id": "uzPvSh23Zncv",
        "outputId": "37e7dbdb-85ee-462b-dc5d-63d80c6b3d05"
      },
      "execution_count": 3,
      "outputs": [
        {
          "output_type": "stream",
          "name": "stdout",
          "text": [
            "prompt parameter...\n",
            "...\n"
          ]
        }
      ]
    },
    {
      "cell_type": "code",
      "source": [
        "# 숫자를 입력해도 문자열로 취급\n",
        "\n",
        "x = input('enter the number: ')\n",
        "x"
      ],
      "metadata": {
        "colab": {
          "base_uri": "https://localhost:8080/",
          "height": 54
        },
        "id": "0f7S5Gm8aGZf",
        "outputId": "3975df28-b5d4-4b5c-951c-ff81ecf669af"
      },
      "execution_count": 4,
      "outputs": [
        {
          "name": "stdout",
          "output_type": "stream",
          "text": [
            "enter the number: 32\n"
          ]
        },
        {
          "output_type": "execute_result",
          "data": {
            "application/vnd.google.colaboratory.intrinsic+json": {
              "type": "string"
            },
            "text/plain": [
              "'32'"
            ]
          },
          "metadata": {},
          "execution_count": 4
        }
      ]
    },
    {
      "cell_type": "code",
      "source": [
        "# 정수로 저장하기\n",
        "# int() 함수 사용\n",
        "\n",
        "x = int(input('enter the number: '))\n",
        "x"
      ],
      "metadata": {
        "colab": {
          "base_uri": "https://localhost:8080/"
        },
        "id": "c7Wd4J7UaQ9-",
        "outputId": "d6ddd1a9-23fe-4d31-d9b8-17a8940cacba"
      },
      "execution_count": 5,
      "outputs": [
        {
          "name": "stdout",
          "output_type": "stream",
          "text": [
            "enter the number: 32\n"
          ]
        },
        {
          "output_type": "execute_result",
          "data": {
            "text/plain": [
              "32"
            ]
          },
          "metadata": {},
          "execution_count": 5
        }
      ]
    },
    {
      "cell_type": "code",
      "source": [
        "# 실수로 저장하기\n",
        "# float() 함수 사용\n",
        "\n",
        "x = float(input('enter the number: '))\n",
        "x"
      ],
      "metadata": {
        "colab": {
          "base_uri": "https://localhost:8080/"
        },
        "id": "kT7FVtCmaeso",
        "outputId": "290d2151-a6d3-46be-c8bd-417ada82e84a"
      },
      "execution_count": 6,
      "outputs": [
        {
          "name": "stdout",
          "output_type": "stream",
          "text": [
            "enter the number: 32\n"
          ]
        },
        {
          "output_type": "execute_result",
          "data": {
            "text/plain": [
              "32.0"
            ]
          },
          "metadata": {},
          "execution_count": 6
        }
      ]
    },
    {
      "cell_type": "markdown",
      "source": [
        "#### **한 번에 여러 데이터를 입력 받기**\n",
        "* **split()** 사용\n",
        "\n",
        "```\n",
        "arg1, arg2 = input([prompt]).split()\n",
        "arg1, arg2 = input([prompt]).split('기준문자')\n",
        "```"
      ],
      "metadata": {
        "id": "uZncxqjidS8L"
      }
    },
    {
      "cell_type": "code",
      "source": [
        "# 공백을 기준으로 두 인자 구분\n",
        "\n",
        "a, b = input('문자열 두 개 입력: ').split()\n",
        "print(a)\n",
        "print(b)"
      ],
      "metadata": {
        "colab": {
          "base_uri": "https://localhost:8080/"
        },
        "id": "TX5nUpDNeYu0",
        "outputId": "bcffd0d9-5f83-42fa-abeb-11278335a380"
      },
      "execution_count": 8,
      "outputs": [
        {
          "output_type": "stream",
          "name": "stdout",
          "text": [
            "문자열 두 개 입력: hello world\n",
            "hello\n",
            "world\n"
          ]
        }
      ]
    },
    {
      "cell_type": "code",
      "source": [
        "# 다른 문자(,콤마)를 기준으로 두 인자 구분\n",
        "\n",
        "a, b = input('문자열 두 개 입력: ').split(',')\n",
        "print(a)\n",
        "print(b)"
      ],
      "metadata": {
        "colab": {
          "base_uri": "https://localhost:8080/"
        },
        "id": "K6tBvpRGf5le",
        "outputId": "3a14cd94-55a4-4b62-d95d-1f1577dea53f"
      },
      "execution_count": 10,
      "outputs": [
        {
          "output_type": "stream",
          "name": "stdout",
          "text": [
            "문자열 두 개 입력: hello, world\n",
            "hello\n",
            " world\n"
          ]
        }
      ]
    },
    {
      "cell_type": "markdown",
      "source": [
        "#### **한 번에 입력 받은 데이터 타입변환**\n",
        "* **map()** 사용\n",
        "```\n",
        "arg1, arg2 = map(int, input([prompt]).split())\n",
        "arg1, arg2 = map(int, input([prompt]).split('기준문자')\n",
        "```"
      ],
      "metadata": {
        "id": "tkVYbOfBfQkN"
      }
    },
    {
      "cell_type": "code",
      "source": [
        "a, b = map(int, input('정수 두 개 입력: ').split())\n",
        "print(a+b)"
      ],
      "metadata": {
        "colab": {
          "base_uri": "https://localhost:8080/"
        },
        "id": "DHnDXrF4euWo",
        "outputId": "5c0f126a-30bb-4e6e-aea8-f5950145efcc"
      },
      "execution_count": 9,
      "outputs": [
        {
          "output_type": "stream",
          "name": "stdout",
          "text": [
            "정수 두 개 입력: 5 8\n",
            "13\n"
          ]
        }
      ]
    },
    {
      "cell_type": "markdown",
      "source": [
        "#### 요약\n",
        "\n",
        "* 사용자 입력을 받을 때: input()함수\n",
        "* 한 번에 여러 개의 입력을 받을 때: input().split()\n",
        "* 받은 입력을 다른 타입으로 한 번에 바꿀 때: map(int, input().split())"
      ],
      "metadata": {
        "id": "TOl3oBj8gH_G"
      }
    }
  ]
}