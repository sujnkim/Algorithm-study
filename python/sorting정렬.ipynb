{
  "nbformat": 4,
  "nbformat_minor": 0,
  "metadata": {
    "colab": {
      "name": "sorting정렬.ipynb",
      "provenance": [],
      "collapsed_sections": [],
      "authorship_tag": "ABX9TyMKhdeQaT5A4YVdd8K0Zck8",
      "include_colab_link": true
    },
    "kernelspec": {
      "name": "python3",
      "display_name": "Python 3"
    },
    "language_info": {
      "name": "python"
    }
  },
  "cells": [
    {
      "cell_type": "markdown",
      "metadata": {
        "id": "view-in-github",
        "colab_type": "text"
      },
      "source": [
        "<a href=\"https://colab.research.google.com/github/sujnkim/Algorithm-study/blob/main/python/sorting%EC%A0%95%EB%A0%AC.ipynb\" target=\"_parent\"><img src=\"https://colab.research.google.com/assets/colab-badge.svg\" alt=\"Open In Colab\"/></a>"
      ]
    },
    {
      "cell_type": "markdown",
      "source": [
        "### **정렬 알고리즘**\n",
        "\n",
        "참고자료:\n",
        "\n",
        "1) <이것이 취업을 위한 코딩 테스트다> p.156~177\n"
      ],
      "metadata": {
        "id": "KOF0BjDaZBdI"
      }
    },
    {
      "cell_type": "markdown",
      "source": [
        "---\n",
        "**정렬sorting** : 데이터를 **특정한 기준에 따라 순서대로** 나열하는 행위\n",
        "* **이진 탐색의 전처리** 과정\n",
        "* **선택, 삽입, 퀵, 계수** 정렬"
      ],
      "metadata": {
        "id": "kex49s2nb0Ml"
      }
    },
    {
      "cell_type": "markdown",
      "source": [
        "---\n",
        "**1. 선택정렬Selection sorting**\n",
        "* 가장 작은 것을 선택한다는 의미\n",
        "* 가장 작은 데이터를 맨 앞의 데이터와 교환, 그 다음 작은 데이터를 앞에서 두 번째 데이터와 교환\n",
        "* 데이터 개수가 N개일 때, **가장 작은 데이터를 앞으로 보내는 과정을 N-1번** 수행하면 정렬이 완료됨\n"
      ],
      "metadata": {
        "id": "BlVBJNJhZiGw"
      }
    },
    {
      "cell_type": "code",
      "execution_count": null,
      "metadata": {
        "colab": {
          "base_uri": "https://localhost:8080/"
        },
        "id": "NlL24EIgY9qr",
        "outputId": "b247f610-61e4-4d6e-e88d-702b4b1d26d3"
      },
      "outputs": [
        {
          "output_type": "stream",
          "name": "stdout",
          "text": [
            "[0, 1, 2, 3, 4, 5, 6, 7, 8, 9]\n"
          ]
        }
      ],
      "source": [
        "#6-1: 선택 정렬 소스코드\n",
        "\n",
        "array = [7,5,9,0,3,1,6,2,4,8]\n",
        "\n",
        "for i in range(len(array)):\n",
        "    min_index = i   #가장 작은 원소의 인덱스\n",
        "    for j in range(i+1, len(array)):\n",
        "        if array[min_index]>array[j]:\n",
        "            min_index = j\n",
        "\n",
        "    array[i], array[min_index] = array[min_index], array[i]     #swap\n",
        "\n",
        "print(array)"
      ]
    },
    {
      "cell_type": "code",
      "source": [
        "#6-2: 파이썬 swap 소스코드\n",
        "# swap : 두 변수의 위치를 변경하는 작업\n",
        "\n",
        "# 인덱스0과 인덱스1의 원소 교체하기\n",
        "array = [3,5]\n",
        "array[0], array[1] = array[1], array[0]\n",
        "print(array)"
      ],
      "metadata": {
        "colab": {
          "base_uri": "https://localhost:8080/"
        },
        "id": "bZ_InhCLdt6c",
        "outputId": "aaf46de2-a426-43d2-bcf2-999873968b1b"
      },
      "execution_count": null,
      "outputs": [
        {
          "output_type": "stream",
          "name": "stdout",
          "text": [
            "[5, 3]\n"
          ]
        }
      ]
    },
    {
      "cell_type": "markdown",
      "source": [
        "**선택정렬 시간복잡도 : O(N^2)**\n",
        "* **N-1번 만큼 가장 작은 수를 찾아** 앞의 값과 교환해야 함\n",
        "* 매번 가장 **작은 수를 찾기 위해 비교 연산**이 필요\n",
        "* 연산횟수: N + (N-1) + (N-2) + ... + 2 = N*(N-1)/2 = (N^2+N)/2 => O(N^2)\n",
        "* 정렬해야 하는 데이터 개수가 100배 증가하면, 수행 시간은 10,000배 증가\n",
        "\n",
        "\n",
        "**특징**\n",
        "* 파이썬 기본정렬 라이브러리 및 다른 정렬 알고리즘에 비해 비효율적\n",
        "* 특정 리스트에서 가장 작은 데이터를 찾는 일이 코테에서 잦음 -> 익숙할 필요가 있음"
      ],
      "metadata": {
        "id": "tUJN7M2Ho5DE"
      }
    },
    {
      "cell_type": "markdown",
      "source": [
        "---\n",
        "**2. 삽입 정렬Insertion sorting**\n",
        "* 특정한 데이터를 리스트의 **적절한 위치에 삽입**\n",
        "* 그 **앞의 데이터는 이미 정렬되어 있다고 가정**\n",
        "    * 이전 단계에서 삽입이 끝난 데이터 리스트는 항상 정렬이 되어 있음\n",
        "* 필요할 때 위치를 바꾸므로 **'데이터가 거의 정렬되어 있을 때' 유용**\n",
        "* 한 칸씩 왼쪽으로 삽입 위치를 바꾸면서, 자신보다 작은 데이터가 나오면 그 위치에 정지\n",
        "\n",
        "\n"
      ],
      "metadata": {
        "id": "n__foabNdavj"
      }
    },
    {
      "cell_type": "code",
      "source": [
        "#6-3: 삽입정렬 소스코드\n",
        "\n",
        "array = [7,5,9,0,3,1,6,2,4,8]\n",
        "\n",
        "for i in range(1, len(array)):  #첫 번째 원소(인덱스0)는 이미 그 자체로 정렬되어 있다고 가정\n",
        "    for j in range(i, 0, -1):   #인덱스 i부터 1까지 감소하며 반복\n",
        "        if array[j] < array[j-1]:   #한 칸씩 왼쪽으로 이동하면서 비교\n",
        "            array[j], array[j-1] = array[j-1], array[j]\n",
        "        else:   #자기보다 작은 데이터를 만나면 그 위치에서 멈춤\n",
        "            break\n",
        "    \n",
        "print(array)"
      ],
      "metadata": {
        "colab": {
          "base_uri": "https://localhost:8080/"
        },
        "id": "96el5fTeec3U",
        "outputId": "e516667a-645e-4e44-9af1-a94ee0c33d0d"
      },
      "execution_count": null,
      "outputs": [
        {
          "output_type": "stream",
          "name": "stdout",
          "text": [
            "[0, 1, 2, 3, 4, 5, 6, 7, 8, 9]\n"
          ]
        }
      ]
    },
    {
      "cell_type": "markdown",
      "source": [
        "**삽입 정렬 시간복잡도 : 최악의 경우 O(N^2)**\n",
        "* 이중 반복문\n",
        "* 현재 리스트의 데이터가 거의 정렬된 상태... 최선의 경우 O(N)"
      ],
      "metadata": {
        "id": "eiG18-RCo8HQ"
      }
    },
    {
      "cell_type": "markdown",
      "source": [
        "---\n",
        "**3. 퀵 정렬Quick sorting**\n",
        "* 가장 많이 사용되는 정렬 알고리즘\n",
        "* 기준을 설정하고 그 기준보다 큰 데이터/작은 데이터의 위치를 교환\n",
        "    * **피벗pivot** : 교환하기 위한 기준\n",
        "    * 정렬을 수행하기 전 피벗을 어떻게 설정할 것인지 명시 필요\n",
        "* **피벗 설정 -> 큰/작은 데이터 교환 -> 리스트 분할(파티션)**\n",
        "    * 피벗 왼쪽: 피벗보다 작은 데이터 위치\n",
        "    * 피벗 오른쪽: 피벗보다 큰 데이터 위치\n",
        "    * 왼쪽, 오른쪽 **각각 다시 퀵 정렬 수행 ( 재귀함수**로 구현 )\n",
        "* 퀵 정렬 **종료 조건: 현재 리스트에 데이터가 1개** 일 때\n",
        "* 피벗과 리스트 분할 방법에 따라 여러가지 퀵 정렬로 구분됨\n"
      ],
      "metadata": {
        "id": "tTd9h5t83rBJ"
      }
    },
    {
      "cell_type": "markdown",
      "source": [
        "**호어분할Hoare Partition 방식**\n",
        "\n",
        "* 피벗: 첫 번째 데이터\n",
        "* 왼쪽에서부터 피벗보다 큰/ 오른쪽에서부터 피벗보다 작은 수를 찾음 -> 교환\n",
        "* 찾는 위치가 엇갈릴 경우 -> 작은 데이터와 피벗 위치 변경\n",
        "    "
      ],
      "metadata": {
        "id": "RoUvq_i35Ww1"
      }
    },
    {
      "cell_type": "code",
      "source": [
        " #6-4: 퀵 정렬 소스코드\n",
        "\n",
        "array = [7,5,9,0,3,1,6,2,4,8]\n",
        "\n",
        "def quick_sort(array, start, end):\n",
        "    if start >= end:  # 원소가 1개인 경우 종료\n",
        "        return\n",
        "\n",
        "    pivot = start   # 피벗 = 첫 번째 원소\n",
        "    left = start + 1\n",
        "    right = end\n",
        "\n",
        "    while left <= right:\n",
        "        #피벗보다 큰 데이터를 찾을 때까지\n",
        "        while left<=end and array[left]<=array[pivot]:\n",
        "            left += 1\n",
        "        #피벗보다 작은 데이터를 찾을 때까지\n",
        "        while right>start and array[right]>=array[pivot]:\n",
        "            right -= 1\n",
        "\n",
        "        if left > right:    #엇갈렸다면 작은 데이터-피벗 교체\n",
        "            array[right], array[pivot] = array[pivot], array[right]\n",
        "        else:   #엇갈리지 않앟다면 작은데이터-큰 데이터 교체\n",
        "            array[left], array[right] = array[right], array[left]\n",
        "\n",
        "        #분할 이후 왼쪽/오른쪽 부분에서 각각 퀵정렬 수행\n",
        "        quick_sort(array,start,right-1)\n",
        "        quick_sort(array,right+1,end)\n",
        "\n",
        "\n",
        "quick_sort(array, 0, len(array)-1)\n",
        "print(array)"
      ],
      "metadata": {
        "colab": {
          "base_uri": "https://localhost:8080/"
        },
        "id": "k5Zne68dpEum",
        "outputId": "a0009a2a-ad3e-4847-9e20-15d4b64a72c4"
      },
      "execution_count": null,
      "outputs": [
        {
          "output_type": "stream",
          "name": "stdout",
          "text": [
            "[0, 1, 2, 3, 4, 5, 6, 7, 8, 9]\n"
          ]
        }
      ]
    },
    {
      "cell_type": "markdown",
      "source": [
        "**퀵 정렬 시간복잡도: O(NlogN) ... 평균시간복잡도**\n",
        "* 최선의 경우, 분할 할때마다 리스트가 정확히 절반으로 분할됨\n",
        "* 데이터가 N개일때, 높이가 NlogN이 됨 -> 분할이 이루어지는 횟수가 기하급수적으로 감소\n",
        "* 데이터가 무작위로 입력되는 경우 빠르게 동작할 확률이 높음\n",
        "* **최악의 경우, O(N^2)** : 이미 데이터가 정렬된 경우에는 매우 느리게 동작\n",
        "    * 삽입 정렬의 경우와 반대"
      ],
      "metadata": {
        "id": "oJAVV0hweDaK"
      }
    },
    {
      "cell_type": "markdown",
      "source": [
        "---\n",
        "**4. 계수 정렬Count Sort**\n",
        "\n",
        "* **특정한 조건이 부합할 때만 사용**할 수 있는 매우 빠른 정렬 알고리즘\n",
        "    * ex) 모든 데이터가 양의 정수, 데이터개수 N개, 최대값이 K라고 가정\n",
        "    * 최악의 경우에도 O(N+K) 보장\n",
        "* 특정한 조건: **데이터의 크기 범위가 제한되어 정수형태로 표현할 수 있을 때**\n",
        "    * 일반적으로 큰/작은 데이터 차이가 1,000,000을 넘지 않을 때 효과적\n",
        "    * **모든 범위를 담을 수 있는 크기의 리스트를 선언**해야 하기 때문\n",
        "* 비교기반 정렬 알고리즘이 아님 (선택,삽입,퀵과는 달리)\n",
        "* 주어진 데이터를 하나씩 확인하며 데이터 값과 동일한 인덱스의 데이터를 1씩 증가\n",
        "    * 결과: 리스트에 각 **데이터의 등장 횟수가 기록**\n",
        "    * 결과 리스트의 인덱스를 그 값만큼 출력하면 정렬 완료"
      ],
      "metadata": {
        "id": "3ih37EBhfPNN"
      }
    },
    {
      "cell_type": "code",
      "source": [
        "# 계수정렬Count sort 소스코드\n",
        "\n",
        "#모든 원소의 값이 0보다 크거나 같다고 가정\n",
        "array = [7,5,9,0,3,1,6,2,9,1,4,8,0,5,2]\n",
        "\n",
        "\n",
        "#모든 범위를 포함하는 리스트 선언(모든 값은 0으로 초기화)\n",
        "count = [0] * (max(array) + 1)\n",
        "\n",
        "for i in range(len(array)):\n",
        "    count[array[i]] += 1    #각 데이터에 해당하는 인덱스 값 증가\n",
        "\n",
        "print(count)\n",
        "\n",
        "for i in range(len(count)):\n",
        "    for j in range(count[i]):\n",
        "        print(i, end=' ')\n"
      ],
      "metadata": {
        "colab": {
          "base_uri": "https://localhost:8080/"
        },
        "id": "Q6bMKQ2HeAbp",
        "outputId": "d54b76f6-a083-4ca1-e987-f566190d690f"
      },
      "execution_count": null,
      "outputs": [
        {
          "output_type": "stream",
          "name": "stdout",
          "text": [
            "[2, 2, 2, 1, 1, 2, 1, 1, 1, 2]\n",
            "0 0 1 1 2 2 3 4 5 5 6 7 8 9 9 "
          ]
        }
      ]
    },
    {
      "cell_type": "markdown",
      "source": [
        "**계수 정렬의 시간 복잡도**\n",
        "* 모든 데이터가 양의 정수, 데이터개수N, 최대값K : O(N+K)\n",
        "* 데이터크기만큼 반복1회 + 최대값 크기만큼 반복 1회 \n",
        "\n",
        "**계수 정렬의 공간 복잡도**\n",
        "* 공간복잡도: O(N+K)\n",
        "* 경우에 따라 심각하게 비효율적이 됨\n",
        "    * ex) 데이터가 0, 999999 두 개만 존재한다고 가정\n",
        "    * 리스트 크기가 100만개가 되도록 선언해야 함\n",
        "**동일한 값을 가진 데이터가 여러 개** 존재할 때 적합\n",
        "\n",
        "**결론**\n",
        "* 데이터의 크기가 한정되어 있을 때\n",
        "* 데이터가 많이 중복되어 있을 때\n",
        "효과적이다"
      ],
      "metadata": {
        "id": "XGCxv-Uhks6K"
      }
    },
    {
      "cell_type": "markdown",
      "source": [
        "---\n",
        "5. 파이썬 기본 정렬 라이브러리\n",
        "```\n",
        "sorted()\n",
        "sort()\n",
        "```\n",
        "* 퀵 정렬과 동작 방식이 비슷한 **병합 정렬 기반**으로 만들어짐\n",
        "    * 정확히는 병합 + 삽입 정렬\n",
        "* 일반적으로는 퀵 정렬보다 느림\n",
        "* 최악의 경우에도 **시간복잡도 O(NlogN) 보장**"
      ],
      "metadata": {
        "id": "1vrZhmXCGu8e"
      }
    },
    {
      "cell_type": "code",
      "source": [
        "#6-7: sorted 소스코드\n",
        "\n",
        "array = [7,5,9,0,3,1,6,2,4,8]\n",
        "\n",
        "result = sorted(array)      # 정렬시킨 결과 리스트를 반환\n",
        "print(result)"
      ],
      "metadata": {
        "colab": {
          "base_uri": "https://localhost:8080/"
        },
        "id": "DSV4cn1-Go1Y",
        "outputId": "5e6311bd-d089-4e15-dd49-02baabf3513f"
      },
      "execution_count": null,
      "outputs": [
        {
          "output_type": "stream",
          "name": "stdout",
          "text": [
            "[0, 1, 2, 3, 4, 5, 6, 7, 8, 9]\n"
          ]
        }
      ]
    },
    {
      "cell_type": "code",
      "source": [
        "#6-8: sort 소스코드\n",
        "\n",
        "array = [7,5,9,0,3,1,6,2,4,8]\n",
        "\n",
        "array.sort()            # 리스트의 내부 원소를 바로 정렬\n",
        "print(array)"
      ],
      "metadata": {
        "colab": {
          "base_uri": "https://localhost:8080/"
        },
        "id": "5Gz03ovRHVAw",
        "outputId": "498bd6f4-0c3a-4ab5-9d14-0715185aea3c"
      },
      "execution_count": null,
      "outputs": [
        {
          "output_type": "stream",
          "name": "stdout",
          "text": [
            "[0, 1, 2, 3, 4, 5, 6, 7, 8, 9]\n"
          ]
        }
      ]
    },
    {
      "cell_type": "code",
      "source": [
        "#6-9: 정렬 라이브러리에서 key를 활용한 소스코드\n",
        "\n",
        "array = [('바나나',2), ('사과',5), ('당근',3)]\n",
        "\n",
        "def setting(data):\n",
        "    return data[1]\n",
        "\n",
        "result = sorted(array, key=setting)\n",
        "print(result)"
      ],
      "metadata": {
        "colab": {
          "base_uri": "https://localhost:8080/"
        },
        "id": "NuWdjmMiHyb5",
        "outputId": "b6468986-a6e0-4fa2-f528-3409f6ffe93b"
      },
      "execution_count": null,
      "outputs": [
        {
          "output_type": "stream",
          "name": "stdout",
          "text": [
            "[('바나나', 2), ('당근', 3), ('사과', 5)]\n"
          ]
        }
      ]
    },
    {
      "cell_type": "markdown",
      "source": [
        "**코딩 테스트에서 정렬 알고리즘이 사용되는 일반적인 경우** 3가지\n",
        "\n",
        "1) 정렬 라이브러리로 풀 수 있는 문제\n",
        "* 단순히 정렬 기법을 알고 있는지 물어보는 목적\n",
        "\n",
        "2) 정렬 알고리즘의 원리에 대해 물어보는 문제\n",
        "* 선택, 삽입, 퀵 정렬 등의 원리 숙지 필요\n",
        "\n",
        "3) 더 빠른 정렬이 필요한 문제\n",
        "* 퀵 정렬 기반의 기법으로 풀 수 없음\n",
        "* 계수 정렬 등 다른 정렬 알고리즘 이용\n",
        "* 문제에서 기존에 알려진 알고리즘의 구조적인 개선을 거쳐야 함"
      ],
      "metadata": {
        "id": "-01sCF-DIQxU"
      }
    }
  ]
}