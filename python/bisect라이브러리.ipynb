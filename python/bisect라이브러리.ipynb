{
  "nbformat": 4,
  "nbformat_minor": 0,
  "metadata": {
    "colab": {
      "name": "bisect라이브러리.ipynb",
      "provenance": [],
      "collapsed_sections": [],
      "authorship_tag": "ABX9TyN9Vej2Tx+h8Diud9n3JK47",
      "include_colab_link": true
    },
    "kernelspec": {
      "name": "python3",
      "display_name": "Python 3"
    },
    "language_info": {
      "name": "python"
    }
  },
  "cells": [
    {
      "cell_type": "markdown",
      "metadata": {
        "id": "view-in-github",
        "colab_type": "text"
      },
      "source": [
        "<a href=\"https://colab.research.google.com/github/sujnkim/Algorithm-study/blob/main/python/bisect%EB%9D%BC%EC%9D%B4%EB%B8%8C%EB%9F%AC%EB%A6%AC.ipynb\" target=\"_parent\"><img src=\"https://colab.research.google.com/assets/colab-badge.svg\" alt=\"Open In Colab\"/></a>"
      ]
    },
    {
      "cell_type": "markdown",
      "source": [
        "### **bisect 라이브러리**\n",
        "참고자료:\n",
        "\n",
        "1) <이것이 취업을 위한 코딩 테스트다> Appendix A, p.456-457\n",
        "\n",
        "---\n",
        "이진탐색 구현을 도와주는 **bisect 라이브러리**\n",
        "* **정렬된 배열**에서 특정한 원소를 찾아야 할 때 효과적\n",
        "\n",
        "---\n",
        "**bisect_left(), bisect_right() 함수**\n",
        "* bisect_left(iterable, x) : 정렬된 순서를 유지하며 iterable에 데이터x를 삽입할 가장 왼쪽 인덱스를 찾는 메서드\n",
        "* bisect_right(iterable, x) : 정렬된 순서를 유지하며 iterable에 데이터x를 삽입할 가장 오른쪽 인덱스를 찾는 메서드\n",
        "* 함수 시간복잡도 : O(logN)\n",
        "\n"
      ],
      "metadata": {
        "id": "UeQaAWUCw9c9"
      }
    },
    {
      "cell_type": "code",
      "execution_count": null,
      "metadata": {
        "colab": {
          "base_uri": "https://localhost:8080/"
        },
        "id": "uP7xjq-cpuZ9",
        "outputId": "f287188f-e8c8-4295-b75c-56ac4c781715"
      },
      "outputs": [
        {
          "output_type": "stream",
          "name": "stdout",
          "text": [
            "2\n",
            "4\n"
          ]
        }
      ],
      "source": [
        "from bisect import bisect_left, bisect_right\n",
        "\n",
        "a = [1,2,4,4,8]\n",
        "x = 4\n",
        "\n",
        "print(bisect_left(a,x))     #리스트a 내에 존재하는 4의 제일 왼쪽\n",
        "print(bisect_right(a,x))    #리스트a 내에 존재하는 4의 제일 오른쪽"
      ]
    },
    {
      "cell_type": "code",
      "source": [
        "a = [1,2,4,4,8]\n",
        "\n",
        "x = 9\n",
        "print(bisect_left(a,x))     # 찾는 수가 존재하지 않을 경우 오름차순으로 삽입될 위치의 인덱스 반환"
      ],
      "metadata": {
        "colab": {
          "base_uri": "https://localhost:8080/"
        },
        "id": "a9pVrJIgDQrX",
        "outputId": "2cbe9f83-f9d0-4075-f94b-f6be371bc8be"
      },
      "execution_count": 3,
      "outputs": [
        {
          "output_type": "stream",
          "name": "stdout",
          "text": [
            "5\n"
          ]
        }
      ]
    },
    {
      "cell_type": "markdown",
      "source": [
        "---\n",
        "bisect_left(), bisect_right()함수는 \n",
        "\n",
        "정렬된 리스트에서 **특정 범위값에 속하는 원소의 개수**를 구할 때 효과적\n",
        "* count_by_range(a, left_val, right_val) : 정렬된 리스트에서 값이 [left_val, right_val]에 속하는 데이터 개수를 반환\n",
        "* 원소의 값이 x일때, (left_val<=x<=right_val)인 원소의 개수\n",
        "* O(logN)"
      ],
      "metadata": {
        "id": "I2DfIA10bDJr"
      }
    },
    {
      "cell_type": "code",
      "source": [
        "from bisect import bisect_left, bisect_right\n",
        "\n",
        "# 값이 [left_value, right_value]인 데이터 개수를 반환하는 함수\n",
        "def count_by_range(a, left_value, right_value):\n",
        "    right_idx = bisect_right(a, right_value)\n",
        "    left_idx = bisect_left(a, left_value)\n",
        "    return right_idx - left_idx\n",
        "\n",
        "#리스트 선언\n",
        "a = [1,2,3,3,3,3,4,4,8,9]\n",
        "\n",
        "# 값이 4인 데이터 출력\n",
        "print(count_by_range(a, 4, 4))\n",
        "\n",
        "# 값이 [-1,3] 범위에 있는 데이터 출력\n",
        "print(count_by_range(a, -1, 3))"
      ],
      "metadata": {
        "colab": {
          "base_uri": "https://localhost:8080/"
        },
        "id": "-nH35_ZTyPvD",
        "outputId": "3eb807a1-2bc1-4771-e852-83058cd87b12"
      },
      "execution_count": null,
      "outputs": [
        {
          "output_type": "stream",
          "name": "stdout",
          "text": [
            "2\n",
            "6\n"
          ]
        }
      ]
    }
  ]
}